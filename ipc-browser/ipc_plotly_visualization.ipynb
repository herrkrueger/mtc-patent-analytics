{
 "cells": [
  {
   "cell_type": "markdown",
   "metadata": {},
   "source": [
    "# IPC Browser - Plotly Visualization\n",
    "\n",
    "This notebook refactors the Flask-based IPC browser to use Plotly for interactive patent classification visualization.\n",
    "\n",
    "## Overview\n",
    "- **Original**: Flask app with D3.js tree visualization\n",
    "- **Refactored**: Jupyter notebook with Plotly interactive visualizations\n",
    "- **Database**: SQLite database with hierarchical IPC classification data\n",
    "\n",
    "## Features\n",
    "1. Interactive tree/sunburst visualization\n",
    "2. Color coding by technology evolution (creation dates)\n",
    "3. Node sizing based on group statistics\n",
    "4. Hover tooltips with detailed information\n",
    "5. Multiple visualization modes (tree, sunburst, treemap)\n"
   ]
  },
  {
   "cell_type": "code",
   "execution_count": 4,
   "metadata": {},
   "outputs": [
    {
     "data": {
      "text/html": [
       "        <script type=\"text/javascript\">\n",
       "        window.PlotlyConfig = {MathJaxConfig: 'local'};\n",
       "        if (window.MathJax && window.MathJax.Hub && window.MathJax.Hub.Config) {window.MathJax.Hub.Config({SVG: {font: \"STIX-Web\"}});}\n",
       "        </script>\n",
       "        <script type=\"module\">import \"https://cdn.plot.ly/plotly-3.0.1.min\"</script>\n",
       "        "
      ]
     },
     "metadata": {},
     "output_type": "display_data"
    }
   ],
   "source": [
    "#!/usr/bin/env python3\n",
    "\"\"\"\n",
    "IPC Browser - Plotly Visualization\n",
    "\n",
    "This notebook refactors the Flask-based IPC browser to use Plotly for interactive patent classification visualization.\n",
    "\n",
    "Features:\n",
    "1. Interactive sunburst visualization\n",
    "2. Treemap visualization \n",
    "3. Network tree visualization\n",
    "4. Statistics dashboard\n",
    "5. Classification browser functionality\n",
    "\n",
    "Author: Claude Code Assistant\n",
    "\"\"\"\n",
    "\n",
    "import sqlite3\n",
    "import pandas as pd\n",
    "import plotly.express as px\n",
    "import plotly.graph_objects as go\n",
    "from plotly.subplots import make_subplots\n",
    "import plotly.offline as pyo\n",
    "import numpy as np\n",
    "import warnings\n",
    "import math\n",
    "warnings.filterwarnings('ignore')\n",
    "\n",
    "# Set up Plotly for Jupyter\n",
    "pyo.init_notebook_mode(connected=True)"
   ]
  },
  {
   "cell_type": "markdown",
   "metadata": {},
   "source": [
    "## Data Loading and Preparation"
   ]
  },
  {
   "cell_type": "code",
   "execution_count": 5,
   "metadata": {},
   "outputs": [
    {
     "name": "stdout",
     "output_type": "stream",
     "text": [
      "✓ Loaded 79833 IPC classification entries\n",
      "✓ Database columns: ['symbol', 'kind', 'parent', 'level', 'symbol_short', 'parent_short', 'title_en', 'title_fr', 'size', 'size_percent', 'size_normalised', 'creation_date']\n",
      "✓ Classification levels: [np.int64(2), np.int64(3), np.int64(4), np.int64(5), np.int64(6), np.int64(7), np.int64(8), np.int64(9), np.int64(10), np.int64(11), np.int64(12), np.int64(13), np.int64(14)]\n",
      "Database connection successful!\n"
     ]
    },
    {
     "data": {
      "text/html": [
       "<div>\n",
       "<style scoped>\n",
       "    .dataframe tbody tr th:only-of-type {\n",
       "        vertical-align: middle;\n",
       "    }\n",
       "\n",
       "    .dataframe tbody tr th {\n",
       "        vertical-align: top;\n",
       "    }\n",
       "\n",
       "    .dataframe thead th {\n",
       "        text-align: right;\n",
       "    }\n",
       "</style>\n",
       "<table border=\"1\" class=\"dataframe\">\n",
       "  <thead>\n",
       "    <tr style=\"text-align: right;\">\n",
       "      <th></th>\n",
       "      <th>symbol</th>\n",
       "      <th>kind</th>\n",
       "      <th>parent</th>\n",
       "      <th>level</th>\n",
       "      <th>symbol_short</th>\n",
       "      <th>parent_short</th>\n",
       "      <th>title_en</th>\n",
       "      <th>title_fr</th>\n",
       "      <th>size</th>\n",
       "      <th>size_percent</th>\n",
       "      <th>size_normalised</th>\n",
       "      <th>creation_date</th>\n",
       "    </tr>\n",
       "  </thead>\n",
       "  <tbody>\n",
       "    <tr>\n",
       "      <th>0</th>\n",
       "      <td>A</td>\n",
       "      <td>s</td>\n",
       "      <td>IPC</td>\n",
       "      <td>2</td>\n",
       "      <td>A</td>\n",
       "      <td>IPC</td>\n",
       "      <td>HUMAN NECESSITIES</td>\n",
       "      <td>None</td>\n",
       "      <td>9863</td>\n",
       "      <td>12.356</td>\n",
       "      <td>7.347221</td>\n",
       "      <td>19680901</td>\n",
       "    </tr>\n",
       "    <tr>\n",
       "      <th>1</th>\n",
       "      <td>A01</td>\n",
       "      <td>c</td>\n",
       "      <td>A</td>\n",
       "      <td>3</td>\n",
       "      <td>A01</td>\n",
       "      <td>A</td>\n",
       "      <td>AGRICULTURE; FORESTRY; ANIMAL HUSBANDRY; HUNTI...</td>\n",
       "      <td>None</td>\n",
       "      <td>1656</td>\n",
       "      <td>2.075</td>\n",
       "      <td>8.765075</td>\n",
       "      <td>19680901</td>\n",
       "    </tr>\n",
       "    <tr>\n",
       "      <th>2</th>\n",
       "      <td>A01B</td>\n",
       "      <td>u</td>\n",
       "      <td>A01</td>\n",
       "      <td>4</td>\n",
       "      <td>A01B</td>\n",
       "      <td>A01</td>\n",
       "      <td>SOIL WORKING IN AGRICULTURE OR FORESTRY; PARTS...</td>\n",
       "      <td>None</td>\n",
       "      <td>224</td>\n",
       "      <td>0.281</td>\n",
       "      <td>9.852459</td>\n",
       "      <td>19680901</td>\n",
       "    </tr>\n",
       "    <tr>\n",
       "      <th>3</th>\n",
       "      <td>A01B0001000000</td>\n",
       "      <td>m</td>\n",
       "      <td>A01B</td>\n",
       "      <td>5</td>\n",
       "      <td>A01B1/00</td>\n",
       "      <td>A01B</td>\n",
       "      <td>Hand tools</td>\n",
       "      <td>None</td>\n",
       "      <td>12</td>\n",
       "      <td>0.015</td>\n",
       "      <td>6.157895</td>\n",
       "      <td>19680901</td>\n",
       "    </tr>\n",
       "    <tr>\n",
       "      <th>4</th>\n",
       "      <td>A01B0001020000</td>\n",
       "      <td>1</td>\n",
       "      <td>A01B0001000000</td>\n",
       "      <td>6</td>\n",
       "      <td>A01B1/02</td>\n",
       "      <td>A01B1/00</td>\n",
       "      <td>Spades; Shovels</td>\n",
       "      <td>None</td>\n",
       "      <td>1</td>\n",
       "      <td>0.001</td>\n",
       "      <td>5.500000</td>\n",
       "      <td>19680901</td>\n",
       "    </tr>\n",
       "  </tbody>\n",
       "</table>\n",
       "</div>"
      ],
      "text/plain": [
       "           symbol kind          parent  level symbol_short parent_short  \\\n",
       "0               A    s             IPC      2            A          IPC   \n",
       "1             A01    c               A      3          A01            A   \n",
       "2            A01B    u             A01      4         A01B          A01   \n",
       "3  A01B0001000000    m            A01B      5     A01B1/00         A01B   \n",
       "4  A01B0001020000    1  A01B0001000000      6     A01B1/02     A01B1/00   \n",
       "\n",
       "                                            title_en title_fr  size  \\\n",
       "0                                  HUMAN NECESSITIES     None  9863   \n",
       "1  AGRICULTURE; FORESTRY; ANIMAL HUSBANDRY; HUNTI...     None  1656   \n",
       "2  SOIL WORKING IN AGRICULTURE OR FORESTRY; PARTS...     None   224   \n",
       "3                                         Hand tools     None    12   \n",
       "4                                    Spades; Shovels     None     1   \n",
       "\n",
       "   size_percent  size_normalised  creation_date  \n",
       "0        12.356         7.347221       19680901  \n",
       "1         2.075         8.765075       19680901  \n",
       "2         0.281         9.852459       19680901  \n",
       "3         0.015         6.157895       19680901  \n",
       "4         0.001         5.500000       19680901  "
      ]
     },
     "metadata": {},
     "output_type": "display_data"
    }
   ],
   "source": [
    "# Initialize the IPCVisualization class\n",
    "class IPCVisualization:\n",
    "    \"\"\"Main class for IPC patent classification visualization using Plotly\"\"\"\n",
    "    \n",
    "    def __init__(self, db_path='patent-classification-2025.db'):\n",
    "        \"\"\"Initialize the visualization class with database connection\"\"\"\n",
    "        self.db_path = db_path\n",
    "        self.conn = None\n",
    "        self.ipc_df = None\n",
    "        self.viz_data = None\n",
    "        \n",
    "    def connect_database(self):\n",
    "        \"\"\"Connect to the SQLite database and load IPC data\"\"\"\n",
    "        try:\n",
    "            self.conn = sqlite3.connect(self.db_path)\n",
    "            self.ipc_df = pd.read_sql_query(\"SELECT * FROM ipc\", self.conn)\n",
    "            print(f\"✓ Loaded {len(self.ipc_df)} IPC classification entries\")\n",
    "            print(f\"✓ Database columns: {list(self.ipc_df.columns)}\")\n",
    "            print(f\"✓ Classification levels: {sorted(self.ipc_df['level'].unique())}\")\n",
    "            return True\n",
    "        except Exception as e:\n",
    "            print(f\"✗ Error connecting to database: {e}\")\n",
    "            return False\n",
    "\n",
    "# Connect to database and prepare data\n",
    "viz = IPCVisualization()\n",
    "if viz.connect_database():\n",
    "    print(\"Database connection successful!\")\n",
    "else:\n",
    "    print(\"Failed to connect to database!\")\n",
    "\n",
    "# Show sample data\n",
    "display(viz.ipc_df.head())"
   ]
  },
  {
   "cell_type": "code",
   "execution_count": 6,
   "metadata": {},
   "outputs": [
    {
     "name": "stdout",
     "output_type": "stream",
     "text": [
      "✓ Prepared 794 entries for visualization\n",
      "✓ Creation years range: 1968 - 2025\n",
      "Data preparation successful!\n"
     ]
    }
   ],
   "source": [
    "# Add data preparation method to the class\n",
    "def prepare_data(self, max_level=4):\n",
    "    \"\"\"Prepare IPC data for visualization by filtering levels and adding display information\"\"\"\n",
    "    if self.ipc_df is None:\n",
    "        print(\"✗ No data loaded. Please run connect_database() first.\")\n",
    "        return False\n",
    "        \n",
    "    try:\n",
    "        # Filter to main structural levels (sections, classes, subclasses, main groups)\n",
    "        self.viz_data = self.ipc_df[self.ipc_df['level'] <= max_level].copy()\n",
    "        \n",
    "        # Clean and prepare data\n",
    "        self.viz_data['symbol_display'] = self.viz_data['symbol_short'].fillna(self.viz_data['symbol'])\n",
    "        self.viz_data['title_display'] = self.viz_data['title_en'].fillna('No title available')\n",
    "        self.viz_data['creation_year'] = self.viz_data['creation_date'].astype(str).str[:4].astype(int)\n",
    "        \n",
    "        # Handle missing size data\n",
    "        self.viz_data['size'] = self.viz_data['size'].fillna(1)\n",
    "        self.viz_data['size_percent'] = self.viz_data['size_percent'].fillna(0.001)\n",
    "        \n",
    "        # Create hierarchy paths for sunburst/treemap\n",
    "        def get_hierarchy_path(row):\n",
    "            symbol = row['symbol_display']\n",
    "            level = row['level']\n",
    "            \n",
    "            if level == 2:  # Section\n",
    "                return [symbol]\n",
    "            elif level == 3:  # Class\n",
    "                return [symbol[0], symbol]\n",
    "            elif level == 4:  # Subclass\n",
    "                return [symbol[0], symbol[:3], symbol]\n",
    "            elif level == 5:  # Main group\n",
    "                return [symbol[0], symbol[:3], symbol[:4], symbol]\n",
    "            else:\n",
    "                return [symbol]\n",
    "        \n",
    "        self.viz_data['hierarchy_path'] = self.viz_data.apply(get_hierarchy_path, axis=1)\n",
    "        \n",
    "        print(f\"✓ Prepared {len(self.viz_data)} entries for visualization\")\n",
    "        print(f\"✓ Creation years range: {self.viz_data['creation_year'].min()} - {self.viz_data['creation_year'].max()}\")\n",
    "        return True\n",
    "        \n",
    "    except Exception as e:\n",
    "        print(f\"✗ Error preparing data: {e}\")\n",
    "        return False\n",
    "\n",
    "# Add method to class\n",
    "IPCVisualization.prepare_data = prepare_data\n",
    "\n",
    "# Prepare data for visualization\n",
    "if viz.prepare_data():\n",
    "    print(\"Data preparation successful!\")"
   ]
  },
  {
   "cell_type": "markdown",
   "metadata": {},
   "source": [
    "## Visualization 1: Sunburst Chart\n",
    "\n",
    "Interactive sunburst chart showing the hierarchical structure of IPC classifications with color coding by creation date."
   ]
  },
  {
   "cell_type": "code",
   "execution_count": 7,
   "metadata": {},
   "outputs": [
    {
     "name": "stdout",
     "output_type": "stream",
     "text": [
      "Creating Sunburst Chart...\n"
     ]
    },
    {
     "data": {
      "application/vnd.plotly.v1+json": {
       "config": {
        "plotlyServerURL": "https://plot.ly"
       },
       "data": [
        {
         "branchvalues": "total",
         "customdata": [
          [
           1968,
           9863,
           12.356,
           "HUMAN NECESSITIES"
          ],
          [
           1968,
           1656,
           2.075,
           "AGRICULTURE; FORESTRY; ANIMAL HUSBANDRY; HUNTING; TRAPPING; FISHING"
          ],
          [
           1968,
           224,
           0.281,
           "SOIL WORKING IN AGRICULTURE OR FORESTRY; PARTS, DETAILS, OR ACCESSORIES OF AGRICULTURAL MACHINES OR IMPLEMENTS, IN GENERAL"
          ],
          [
           1968,
           54,
           0.068,
           "PLANTING; SOWING; FERTILISING"
          ],
          [
           1968,
           320,
           0.401,
           "HARVESTING; MOWING"
          ],
          [
           1968,
           88,
           0.11,
           "THRESHING; BALING OF STRAW, HAY OR THE LIKE; STATIONARY APPARATUS OR HAND TOOLS FOR FORMING OR BINDING STRAW, HAY OR THE LIKE INTO BUNDLES; CUTTING OF STRAW, HAY OR THE LIKE; STORING AGRICULTURAL OR HORTICULTURAL PRODUCE"
          ],
          [
           1968,
           177,
           0.222,
           "HORTICULTURE; CULTIVATION OF VEGETABLES, FLOWERS, RICE, FRUIT, VINES, HOPS OR SEAWEED; FORESTRY; WATERING"
          ],
          [
           1990,
           67,
           0.084,
           "NEW PLANTS OR PROCESSES FOR OBTAINING THEM; PLANT REPRODUCTION BY TISSUE CULTURE TECHNIQUES"
          ],
          [
           1968,
           71,
           0.089,
           "MANUFACTURE OF DAIRY PRODUCTS"
          ],
          [
           1968,
           244,
           0.306,
           "ANIMAL HUSBANDRY; AVICULTURE; APICULTURE; PISCICULTURE; FISHING; REARING OR BREEDING ANIMALS, NOT OTHERWISE PROVIDED FOR; NEW BREEDS OF ANIMALS"
          ],
          [
           1968,
           18,
           0.023,
           "SHOEING OF ANIMALS"
          ],
          [
           1968,
           74,
           0.093,
           "CATCHING, TRAPPING OR SCARING OF ANIMALS; APPARATUS FOR THE DESTRUCTION OF NOXIOUS ANIMALS OR NOXIOUS PLANTS"
          ],
          [
           1968,
           292,
           0.366,
           "PRESERVATION OF BODIES OF HUMANS OR ANIMALS OR PLANTS OR PARTS THEREOF; BIOCIDES, e.g. AS DISINFECTANTS, AS PESTICIDES OR AS HERBICIDES; PEST REPELLANTS OR ATTRACTANTS; PLANT GROWTH REGULATORS"
          ],
          [
           2006,
           15,
           0.019,
           "BIOCIDAL, PEST REPELLANT, PEST ATTRACTANT OR PLANT GROWTH REGULATORY ACTIVITY OF CHEMICAL COMPOUNDS OR PREPARATIONS"
          ],
          [
           1968,
           168,
           0.21,
           "BAKING; EQUIPMENT FOR MAKING OR PROCESSING DOUGHS; DOUGHS FOR BAKING"
          ],
          [
           1968,
           37,
           0.046,
           "BAKERS' OVENS; MACHINES OR EQUIPMENT FOR BAKING"
          ],
          [
           1968,
           48,
           0.06,
           "MACHINES OR EQUIPMENT FOR MAKING OR PROCESSING DOUGHS; HANDLING BAKED ARTICLES MADE FROM DOUGH"
          ],
          [
           1968,
           80,
           0.1,
           "TREATMENT OF FLOUR OR DOUGH FOR BAKING, e.g. BY ADDITION OF MATERIALS; BAKING; BAKERY PRODUCTS"
          ],
          [
           1968,
           65,
           0.081,
           "BUTCHERING; MEAT TREATMENT; PROCESSING POULTRY OR FISH"
          ],
          [
           1968,
           20,
           0.025,
           "SLAUGHTERING"
          ],
          [
           1968,
           43,
           0.054,
           "PROCESSING MEAT, POULTRY, OR FISH"
          ],
          [
           1968,
           834,
           1.045,
           "FOODS, FOODSTUFFS OR NON-ALCOHOLIC BEVERAGES; PREPARATION, TREATMENT OR PRESERVATION THEREOF"
          ],
          [
           1968,
           215,
           0.269,
           "PRESERVATION OF FOODS, FOODSTUFFS OR NON-ALCOHOLIC BEVERAGES; CHEMICAL RIPENING OF FRUIT OR VEGETABLES"
          ],
          [
           1968,
           84,
           0.105,
           "DAIRY PRODUCTS, e.g. MILK, BUTTER OR CHEESE; MILK OR CHEESE SUBSTITUTES; MAKING OR TREATMENT THEREOF"
          ],
          [
           1968,
           13,
           0.016,
           "EDIBLE OILS OR FATS, e.g. MARGARINES, SHORTENINGS OR COOKING OILS"
          ],
          [
           1968,
           46,
           0.058,
           "COFFEE; TEA; THEIR SUBSTITUTES; MANUFACTURE, PREPARATION, OR INFUSION THEREOF"
          ],
          [
           1968,
           97,
           0.122,
           "COCOA; COCOA PRODUCTS, e.g. CHOCOLATE; SUBSTITUTES FOR COCOA OR COCOA PRODUCTS; CONFECTIONERY; CHEWING GUM; ICE-CREAM; PREPARATION THEREOF"
          ],
          [
           1985,
           31,
           0.039,
           "PROTEIN COMPOSITIONS FOR FOODSTUFFS; WORKING-UP PROTEINS FOR FOODSTUFFS; PHOSPHATIDE COMPOSITIONS FOR FOODSTUFFS"
          ],
          [
           1968,
           70,
           0.088,
           "FEEDING-STUFFS SPECIALLY ADAPTED FOR ANIMALS; METHODS SPECIALLY ADAPTED FOR PRODUCTION THEREOF"
          ],
          [
           1985,
           191,
           0.239,
           "FOODS, FOODSTUFFS OR NON-ALCOHOLIC BEVERAGES, NOT OTHERWISE PROVIDED FOR; PREPARATION OR TREATMENT THEREOF"
          ],
          [
           1968,
           47,
           0.059,
           "MACHINES OR APPARATUS FOR TREATING HARVESTED FRUIT, VEGETABLES, OR FLOWER BULBS IN BULK, NOT OTHERWISE PROVIDED FOR; PEELING VEGETABLES OR FRUIT IN BULK; APPARATUS FOR PREPARING ANIMAL FEEDING-STUFFS"
          ],
          [
           1968,
           30,
           0.038,
           "SHAPING OR WORKING OF FOODSTUFFS, NOT FULLY COVERED BY A SINGLE OTHER SUBCLASS"
          ],
          [
           1968,
           278,
           0.348,
           "TOBACCO; CIGARS; CIGARETTES; SIMULATED SMOKING DEVICES; SMOKERS' REQUISITES"
          ],
          [
           1968,
           57,
           0.071,
           "MANUFACTURE OR PREPARATION OF TOBACCO FOR SMOKING OR CHEWING; TOBACCO; SNUFF"
          ],
          [
           1968,
           63,
           0.079,
           "MACHINES FOR MAKING CIGARS OR CIGARETTES"
          ],
          [
           1968,
           22,
           0.028,
           "CIGARS; CIGARETTES; TOBACCO SMOKE FILTERS; MOUTHPIECES FOR CIGARS OR CIGARETTES; MANUFACTURE OF TOBACCO SMOKE FILTERS OR MOUTHPIECES"
          ],
          [
           1968,
           132,
           0.165,
           "SMOKERS’ REQUISITES; MATCH BOXES; SIMULATED SMOKING DEVICES"
          ],
          [
           1968,
           259,
           0.324,
           "WEARING APPAREL"
          ],
          [
           1968,
           56,
           0.07,
           "SHIRTS; UNDERWEAR; BABY LINEN; HANDKERCHIEFS"
          ],
          [
           1968,
           20,
           0.025,
           "CORSETS; BRASSIÈRES"
          ],
          [
           1968,
           96,
           0.12,
           "OUTERWEAR; PROTECTIVE GARMENTS; ACCESSORIES"
          ],
          [
           1968,
           31,
           0.039,
           "GARMENT FASTENINGS; SUSPENDERS"
          ],
          [
           1968,
           11,
           0.014,
           "ARTIFICIAL FLOWERS; WIGS; MASKS; FEATHERS"
          ],
          [
           1968,
           39,
           0.049,
           "APPLIANCES OR METHODS FOR MAKING CLOTHES, e.g. FOR DRESS-MAKING OR FOR TAILORING, NOT OTHERWISE PROVIDED FOR"
          ],
          [
           1968,
           85,
           0.106,
           "HEADWEAR"
          ],
          [
           1968,
           69,
           0.086,
           "HATS; HEAD COVERINGS"
          ],
          [
           1968,
           14,
           0.018,
           "MANUFACTURING OR TRIMMING HEAD COVERINGS, e.g. HATS"
          ],
          [
           1968,
           422,
           0.529,
           "FOOTWEAR"
          ],
          [
           1968,
           191,
           0.239,
           "CHARACTERISTIC FEATURES OF FOOTWEAR; PARTS OF FOOTWEAR"
          ],
          [
           1968,
           55,
           0.069,
           "FASTENINGS OR ATTACHMENTS FOR FOOTWEAR; LACES IN GENERAL"
          ],
          [
           1995,
           173,
           0.217,
           "MACHINES, TOOLS, EQUIPMENT OR METHODS FOR MANUFACTURING OR REPAIRING FOOTWEAR"
          ],
          [
           1968,
           130,
           0.163,
           "HABERDASHERY; JEWELLERY"
          ],
          [
           1968,
           98,
           0.123,
           "BUTTONS, PINS, BUCKLES, SLIDE FASTENERS, OR THE LIKE"
          ],
          [
           1968,
           30,
           0.038,
           "PERSONAL ADORNMENTS, e.g. JEWELLERY; COINS"
          ],
          [
           1968,
           410,
           0.514,
           "HAND OR TRAVELLING ARTICLES"
          ],
          [
           1968,
           51,
           0.064,
           "WALKING STICKS; UMBRELLAS; LADIES' OR LIKE FANS"
          ],
          [
           1968,
           70,
           0.088,
           "PURSES; LUGGAGE; HAND CARRIED BAGS"
          ],
          [
           1968,
           249,
           0.312,
           "HAIRDRESSING OR SHAVING EQUIPMENT; EQUIPMENT FOR COSMETICS OR COSMETIC TREATMENTS, e.g. FOR MANICURING OR PEDICURING"
          ],
          [
           1968,
           36,
           0.045,
           "TRAVELLING OR CAMP EQUIPMENT; SACKS OR PACKS CARRIED ON THE BODY"
          ],
          [
           1968,
           69,
           0.086,
           "BRUSHWARE"
          ],
          [
           1968,
           46,
           0.058,
           "BRUSHES"
          ],
          [
           1968,
           21,
           0.026,
           "MANUFACTURE OF BRUSHES"
          ],
          [
           1968,
           1399,
           1.753,
           "FURNITURE; DOMESTIC ARTICLES OR APPLIANCES; COFFEE MILLS; SPICE MILLS; SUCTION CLEANERS IN GENERAL"
          ],
          [
           1968,
           267,
           0.334,
           "TABLES; DESKS; OFFICE FURNITURE; CABINETS; DRAWERS; GENERAL DETAILS OF FURNITURE"
          ],
          [
           1968,
           263,
           0.329,
           "CHAIRS; SOFAS; BEDS"
          ],
          [
           1968,
           26,
           0.033,
           "FURNITURE SPECIALLY ADAPTED FOR CHILDREN"
          ],
          [
           1968,
           77,
           0.096,
           "SPECIAL FURNITURE, FITTINGS, OR ACCESSORIES FOR SHOPS, STOREHOUSES, BARS, RESTAURANTS, OR THE LIKE; PAYING COUNTERS"
          ],
          [
           1968,
           152,
           0.19,
           "HOUSEHOLD OR TABLE EQUIPMENT"
          ],
          [
           1968,
           70,
           0.088,
           "FURNISHINGS FOR WINDOWS OR DOORS"
          ],
          [
           1995,
           194,
           0.243,
           "KITCHEN EQUIPMENT; COFFEE MILLS; SPICE MILLS; APPARATUS FOR MAKING BEVERAGES"
          ],
          [
           1968,
           113,
           0.142,
           "SANITARY EQUIPMENT NOT OTHERWISE PROVIDED FOR; TOILET ACCESSORIES"
          ],
          [
           1968,
           228,
           0.286,
           "DOMESTIC WASHING OR CLEANING; SUCTION CLEANERS IN GENERAL"
          ],
          [
           1968,
           2871,
           3.597,
           "MEDICAL OR VETERINARY SCIENCE; HYGIENE"
          ],
          [
           1968,
           424,
           0.531,
           "DIAGNOSIS; SURGERY; IDENTIFICATION"
          ],
          [
           1968,
           153,
           0.192,
           "DENTISTRY; APPARATUS OR METHODS FOR ORAL OR DENTAL HYGIENE"
          ],
          [
           1968,
           23,
           0.029,
           "VETERINARY INSTRUMENTS, IMPLEMENTS, TOOLS, OR METHODS"
          ],
          [
           1995,
           223,
           0.279,
           "FILTERS IMPLANTABLE INTO BLOOD VESSELS; PROSTHESES; DEVICES PROVIDING PATENCY TO, OR PREVENTING COLLAPSING OF, TUBULAR STRUCTURES OF THE BODY, e.g. STENTS; ORTHOPAEDIC, NURSING OR CONTRACEPTIVE DEVICES; FOMENTATION; TREATMENT OR PROTECTION OF EYES OR EARS; BANDAGES, DRESSINGS OR ABSORBENT PADS; FIRST-AID KITS"
          ],
          [
           1968,
           81,
           0.101,
           "TRANSPORT, PERSONAL CONVEYANCES, OR ACCOMMODATION SPECIALLY ADAPTED FOR PATIENTS OR DISABLED PERSONS; OPERATING TABLES OR CHAIRS; CHAIRS FOR DENTISTRY; FUNERAL DEVICES"
          ],
          [
           1968,
           41,
           0.051,
           "PHYSICAL THERAPY APPARATUS, e.g. DEVICES FOR LOCATING OR STIMULATING REFLEX POINTS IN THE BODY; ARTIFICIAL RESPIRATION; MASSAGE; BATHING DEVICES FOR SPECIAL THERAPEUTIC OR HYGIENIC PURPOSES OR SPECIFIC PARTS OF THE BODY"
          ],
          [
           1968,
           37,
           0.046,
           "CONTAINERS SPECIALLY ADAPTED FOR MEDICAL OR PHARMACEUTICAL PURPOSES; DEVICES OR METHODS SPECIALLY ADAPTED FOR BRINGING PHARMACEUTICAL PRODUCTS INTO PARTICULAR PHYSICAL OR ADMINISTERING FORMS; DEVICES FOR ADMINISTERING FOOD OR MEDICINES ORALLY; BABY COMFORTERS; DEVICES FOR RECEIVING SPITTLE"
          ],
          [
           1968,
           1150,
           1.441,
           "PREPARATIONS FOR MEDICAL, DENTAL OR TOILETRY PURPOSES"
          ],
          [
           1985,
           184,
           0.231,
           "METHODS OR APPARATUS FOR STERILISING MATERIALS OR OBJECTS IN GENERAL; DISINFECTION, STERILISATION OR DEODORISATION OF AIR; CHEMICAL ASPECTS OF BANDAGES, DRESSINGS, ABSORBENT PADS OR SURGICAL ARTICLES; MATERIALS FOR BANDAGES, DRESSINGS, ABSORBENT PADS OR SURGICAL ARTICLES"
          ],
          [
           1985,
           286,
           0.358,
           "DEVICES FOR INTRODUCING MEDIA INTO, OR ONTO, THE BODY; DEVICES FOR TRANSDUCING BODY MEDIA OR FOR TAKING MEDIA FROM THE BODY; DEVICES FOR PRODUCING OR ENDING SLEEP OR STUPOR"
          ],
          [
           1995,
           48,
           0.06,
           "ELECTROTHERAPY; MAGNETOTHERAPY; RADIATION THERAPY; ULTRASOUND THERAPY"
          ],
          [
           2000,
           171,
           0.214,
           "SPECIFIC THERAPEUTIC ACTIVITY OF CHEMICAL COMPOUNDS OR MEDICINAL PREPARATIONS"
          ],
          [
           2006,
           37,
           0.046,
           "SPECIFIC USE OF COSMETICS OR SIMILAR TOILETRY PREPARATIONS"
          ],
          [
           1968,
           212,
           0.266,
           "LIFE-SAVING; FIRE-FIGHTING"
          ],
          [
           1968,
           53,
           0.066,
           "DEVICES, APPARATUS OR METHODS FOR LIFE-SAVING"
          ],
          [
           1968,
           108,
           0.135,
           "FIRE-FIGHTING"
          ],
          [
           1968,
           48,
           0.06,
           "CHEMICAL MEANS FOR EXTINGUISHING FIRES; PROCESSES FOR MAKING HARMFUL CHEMICAL SUBSTANCES HARMLESS, OR LESS HARMFUL, BY EFFECTING A CHEMICAL CHANGE; COMPOSITION OF MATERIALS FOR COVERINGS OR CLOTHING FOR PROTECTING AGAINST HARMFUL CHEMICAL AGENTS; COMPOSITION OF MATERIALS FOR TRANSPARENT PARTS OF GAS-MASKS, RESPIRATORS, BREATHING BAGS OR HELMETS; COMPOSITION OF CHEMICAL MATERIALS FOR USE IN BREATHING APPARATUS"
          ],
          [
           1968,
           987,
           1.236,
           "SPORTS; GAMES; AMUSEMENTS"
          ],
          [
           1968,
           330,
           0.413,
           "APPARATUS FOR PHYSICAL TRAINING, GYMNASTICS, SWIMMING, CLIMBING, OR FENCING; BALL GAMES; TRAINING EQUIPMENT"
          ],
          [
           1990,
           130,
           0.163,
           "SKATES; SKIS; ROLLER SKATES; DESIGN OR LAYOUT OF COURTS, RINKS OR THE LIKE"
          ],
          [
           1968,
           27,
           0.034,
           "BOWLING GAMES, e.g. SKITTLES, BOCCE OR BOWLS; INSTALLATIONS THEREFOR; BAGATELLE OR SIMILAR GAMES; BILLIARDS"
          ],
          [
           1990,
           160,
           0.2,
           "CARD, BOARD OR ROULETTE GAMES; INDOOR GAMES USING SMALL MOVING PLAYING BODIES; VIDEO GAMES; GAMES NOT OTHERWISE PROVIDED FOR"
          ],
          [
           1968,
           97,
           0.122,
           "MERRY-GO-ROUNDS; SWINGS; ROCKING-HORSES; CHUTES; SWITCHBACKS; SIMILAR DEVICES FOR PUBLIC AMUSEMENT"
          ],
          [
           1968,
           211,
           0.264,
           "TOYS, e.g. TOPS, DOLLS, HOOPS OR BUILDING BLOCKS"
          ],
          [
           1968,
           18,
           0.023,
           "DEVICES FOR THEATRES, CIRCUSES, OR THE LIKE; CONJURING APPLIANCES OR THE LIKE"
          ],
          [
           1968,
           6,
           0.008,
           "RACING; RIDING SPORTS; EQUIPMENT OR ACCESSORIES THEREFOR"
          ],
          [
           2006,
           2,
           0.003,
           "SUBJECT MATTER NOT OTHERWISE PROVIDED FOR IN THIS SECTION"
          ],
          [
           2006,
           1,
           0.001,
           "SUBJECT MATTER NOT OTHERWISE PROVIDED FOR IN THIS SECTION"
          ],
          [
           1968,
           18397,
           23.047,
           "PERFORMING OPERATIONS; TRANSPORTING"
          ],
          [
           1968,
           1480,
           1.854,
           "PHYSICAL OR CHEMICAL PROCESSES OR APPARATUS IN GENERAL"
          ],
          [
           1968,
           5,
           0.006,
           "BOILING; BOILING APPARATUS"
          ],
          [
           1990,
           568,
           0.712,
           "SEPARATION"
          ],
          [
           1968,
           376,
           0.471,
           "MIXING, e.g. DISSOLVING, EMULSIFYING OR DISPERSING"
          ],
          [
           1974,
           502,
           0.629,
           "CHEMICAL OR PHYSICAL PROCESSES, e.g. CATALYSIS OR COLLOID CHEMISTRY; THEIR RELEVANT APPARATUS"
          ],
          [
           1968,
           24,
           0.03,
           "CHEMICAL OR PHYSICAL LABORATORY APPARATUS FOR GENERAL USE"
          ],
          [
           1968,
           176,
           0.22,
           "CRUSHING, PULVERISING, OR DISINTEGRATING; PREPARATORY TREATMENT OF GRAIN FOR MILLING"
          ],
          [
           1968,
           17,
           0.021,
           "PREPARING GRAIN FOR MILLING; REFINING GRANULAR FRUIT TO COMMERCIAL PRODUCTS BY WORKING THE SURFACE"
          ],
          [
           1968,
           157,
           0.197,
           "CRUSHING, PULVERISING, OR DISINTEGRATING IN GENERAL; MILLING GRAIN"
          ],
          [
           1990,
           192,
           0.241,
           "SEPARATION OF SOLID MATERIALS USING LIQUIDS OR USING PNEUMATIC TABLES OR JIGS; MAGNETIC OR ELECTROSTATIC SEPARATION OF SOLID MATERIALS FROM SOLID MATERIALS OR FLUIDS; SEPARATION BY HIGH-VOLTAGE ELECTRIC FIELDS"
          ],
          [
           1968,
           56,
           0.07,
           "SEPARATING SOLID MATERIALS USING LIQUIDS OR USING PNEUMATIC TABLES OR JIGS"
          ],
          [
           1990,
           95,
           0.119,
           "MAGNETIC OR ELECTROSTATIC SEPARATION OF SOLID MATERIALS FROM SOLID MATERIALS OR FLUIDS; SEPARATION BY HIGH-VOLTAGE ELECTRIC FIELDS"
          ],
          [
           1968,
           38,
           0.048,
           "FLOTATION; DIFFERENTIAL SEDIMENTATION"
          ],
          [
           1968,
           92,
           0.115,
           "CENTRIFUGAL APPARATUS OR MACHINES FOR CARRYING-OUT PHYSICAL OR CHEMICAL PROCESSES"
          ],
          [
           1968,
           55,
           0.069,
           "CENTRIFUGES"
          ],
          [
           1968,
           35,
           0.044,
           "APPARATUS USING FREE VORTEX FLOW, e.g. CYCLONES"
          ],
          [
           1974,
           285,
           0.357,
           "SPRAYING OR ATOMISING IN GENERAL; APPLYING FLUENT MATERIALS TO SURFACES, IN GENERAL"
          ],
          [
           1974,
           161,
           0.202,
           "SPRAYING APPARATUS; ATOMISING APPARATUS; NOZZLES"
          ],
          [
           1974,
           70,
           0.088,
           "APPARATUS FOR APPLYING FLUENT MATERIALS TO SURFACES, IN GENERAL"
          ],
          [
           1974,
           51,
           0.064,
           "PROCESSES FOR APPLYING FLUENT MATERIALS TO SURFACES, IN GENERAL"
          ],
          [
           1968,
           15,
           0.019,
           "GENERATING OR TRANSMITTING MECHANICAL VIBRATIONS IN GENERAL"
          ],
          [
           1974,
           14,
           0.018,
           "GENERATING OR TRANSMITTING MECHANICAL VIBRATIONS IN GENERAL"
          ],
          [
           1968,
           122,
           0.153,
           "SEPARATING SOLIDS FROM SOLIDS; SORTING"
          ],
          [
           1968,
           71,
           0.089,
           "SEPARATING SOLIDS FROM SOLIDS BY SIEVING, SCREENING, SIFTING OR BY USING GAS CURRENTS; SEPARATING BY OTHER DRY METHODS APPLICABLE TO BULK MATERIAL, e.g. LOOSE ARTICLES FIT TO BE HANDLED LIKE BULK MATERIAL"
          ],
          [
           1968,
           49,
           0.061,
           "POSTAL SORTING; SORTING INDIVIDUAL ARTICLES, OR BULK MATERIAL FIT TO BE SORTED PIECE-MEAL, e.g. BY PICKING"
          ],
          [
           1968,
           73,
           0.091,
           "CLEANING"
          ],
          [
           1968,
           72,
           0.09,
           "CLEANING IN GENERAL; PREVENTION OF FOULING IN GENERAL"
          ],
          [
           1980,
           58,
           0.073,
           "DISPOSAL OF SOLID WASTE; RECLAMATION OF CONTAMINATED SOIL"
          ],
          [
           1980,
           50,
           0.063,
           "DISPOSAL OF SOLID WASTE NOT OTHERWISE PROVIDED FOR"
          ],
          [
           1995,
           6,
           0.008,
           "RECLAMATION OF CONTAMINATED SOIL"
          ],
          [
           1968,
           985,
           1.234,
           "MECHANICAL METAL-WORKING WITHOUT ESSENTIALLY REMOVING MATERIAL; PUNCHING METAL"
          ],
          [
           1968,
           195,
           0.244,
           "ROLLING OF METAL"
          ],
          [
           1968,
           120,
           0.15,
           "MANUFACTURE OF METAL SHEETS, WIRE, RODS, TUBES, PROFILES OR LIKE SEMI-MANUFACTURED PRODUCTS OTHERWISE THAN BY ROLLING; AUXILIARY OPERATIONS USED IN CONNECTION WITH METAL-WORKING WITHOUT ESSENTIALLY REMOVING MATERIAL"
          ],
          [
           1968,
           308,
           0.386,
           "WORKING OR PROCESSING OF SHEET METAL OR METAL TUBES, RODS OR PROFILES WITHOUT ESSENTIALLY REMOVING MATERIAL; PUNCHING METAL"
          ],
          [
           1968,
           71,
           0.089,
           "WORKING OR PROCESSING OF METAL WIRE"
          ],
          [
           1968,
           31,
           0.039,
           "MAKING NEEDLES, PINS OR NAILS OF METAL"
          ],
          [
           1968,
           36,
           0.045,
           "MAKING PARTICULAR METAL OBJECTS BY ROLLING, e.g. SCREWS, WHEELS, RINGS, BARRELS, BALLS"
          ],
          [
           1968,
           88,
           0.11,
           "FORGING; HAMMERING; PRESSING METAL; RIVETING; FORGE FURNACES"
          ],
          [
           1968,
           99,
           0.124,
           "MAKING FORGED OR PRESSED METAL PRODUCTS, e.g. HORSE-SHOES, RIVETS, BOLTS OR WHEELS"
          ],
          [
           1968,
           28,
           0.035,
           "MAKING METAL CHAINS"
          ],
          [
           1968,
           447,
           0.56,
           "CASTING; POWDER METALLURGY"
          ],
          [
           1968,
           113,
           0.142,
           "FOUNDRY MOULDING"
          ],
          [
           1968,
           182,
           0.228,
           "CASTING OF METALS; CASTING OF OTHER SUBSTANCES BY THE SAME PROCESSES OR DEVICES"
          ],
          [
           1968,
           149,
           0.187,
           "WORKING METALLIC POWDER; MANUFACTURE OF ARTICLES FROM METALLIC POWDER; MAKING METALLIC POWDER; APPARATUS OR DEVICES SPECIALLY ADAPTED FOR METALLIC POWDER"
          ],
          [
           1968,
           1215,
           1.522,
           "MACHINE TOOLS; METAL-WORKING NOT OTHERWISE PROVIDED FOR"
          ],
          [
           1968,
           220,
           0.276,
           "TURNING; BORING"
          ],
          [
           1968,
           54,
           0.068,
           "MILLING"
          ],
          [
           1968,
           240,
           0.301,
           "PLANING; SLOTTING; SHEARING; BROACHING; SAWING; FILING; SCRAPING; LIKE OPERATIONS FOR WORKING METAL BY REMOVING MATERIAL, NOT OTHERWISE PROVIDED FOR"
          ],
          [
           1968,
           75,
           0.094,
           "MAKING GEARS OR TOOTHED RACKS"
          ],
          [
           1968,
           50,
           0.063,
           "THREAD CUTTING; WORKING OF SCREWS, BOLT HEADS OR NUTS, IN CONJUNCTION THEREWITH"
          ],
          [
           1985,
           51,
           0.064,
           "WORKING OF METAL BY THE ACTION OF A HIGH CONCENTRATION OF ELECTRIC CURRENT ON A WORKPIECE USING AN ELECTRODE WHICH TAKES THE PLACE OF A TOOL; SUCH WORKING COMBINED WITH OTHER FORMS OF WORKING OF METAL"
          ],
          [
           1968,
           282,
           0.353,
           "SOLDERING OR UNSOLDERING; WELDING; CLADDING OR PLATING BY SOLDERING OR WELDING; CUTTING BY APPLYING HEAT LOCALLY, e.g. FLAME CUTTING; WORKING BY LASER BEAM"
          ],
          [
           1968,
           58,
           0.073,
           "METAL-WORKING NOT OTHERWISE PROVIDED FOR; COMBINED OPERATIONS; UNIVERSAL MACHINE TOOLS"
          ],
          [
           1968,
           176,
           0.22,
           "DETAILS, COMPONENTS, OR ACCESSORIES FOR MACHINE TOOLS, e.g. ARRANGEMENTS FOR COPYING OR CONTROLLING; MACHINE TOOLS IN GENERAL, CHARACTERISED BY THE CONSTRUCTION OF PARTICULAR DETAILS OR COMPONENTS; COMBINATIONS OR ASSOCIATIONS OF METAL-WORKING MACHINES, NOT DIRECTED TO A PARTICULAR RESULT"
          ],
          [
           1968,
           394,
           0.494,
           "GRINDING; POLISHING"
          ],
          [
           1974,
           292,
           0.366,
           "MACHINES, DEVICES, OR PROCESSES FOR GRINDING OR POLISHING; DRESSING OR CONDITIONING OF ABRADING SURFACES; FEEDING OF GRINDING, POLISHING, OR LAPPING AGENTS"
          ],
          [
           1968,
           32,
           0.04,
           "ABRASIVE OR RELATED BLASTING WITH PARTICULATE MATERIAL"
          ],
          [
           1968,
           67,
           0.084,
           "TOOLS FOR GRINDING, BUFFING OR SHARPENING"
          ],
          [
           1968,
           319,
           0.4,
           "HAND TOOLS; PORTABLE POWER-DRIVEN TOOLS; HANDLES FOR HAND IMPLEMENTS; WORKSHOP EQUIPMENT; MANIPULATORS"
          ],
          [
           1968,
           124,
           0.155,
           "TOOLS OR BENCH DEVICES NOT OTHERWISE PROVIDED FOR, FOR FASTENING, CONNECTING, DISENGAGING, OR HOLDING"
          ],
          [
           1968,
           26,
           0.033,
           "HAND-HELD NAILING OR STAPLING TOOLS; MANUALLY-OPERATED PORTABLE STAPLING TOOLS"
          ],
          [
           1974,
           57,
           0.071,
           "PERCUSSIVE TOOLS"
          ],
          [
           1985,
           6,
           0.008,
           "COMBINATION OR MULTI-PURPOSE TOOLS NOT OTHERWISE PROVIDED FOR; DETAILS OR COMPONENTS OF PORTABLE POWER-DRIVEN TOOLS NOT PARTICULARLY RELATED TO THE OPERATIONS PERFORMED AND NOT OTHERWISE PROVIDED FOR"
          ],
          [
           1968,
           28,
           0.035,
           "HANDLES FOR HAND IMPLEMENTS"
          ],
          [
           1968,
           19,
           0.024,
           "WORKSHOP EQUIPMENT, e.g. FOR MARKING-OUT WORK; STORAGE MEANS FOR WORKSHOPS"
          ],
          [
           1990,
           52,
           0.065,
           "MANIPULATORS; CHAMBERS PROVIDED WITH MANIPULATION DEVICES"
          ],
          [
           1968,
           238,
           0.298,
           "HAND CUTTING TOOLS; CUTTING; SEVERING"
          ],
          [
           1968,
           98,
           0.123,
           "HAND-HELD CUTTING TOOLS NOT OTHERWISE PROVIDED FOR"
          ],
          [
           1974,
           105,
           0.132,
           "CUTTING; DETAILS COMMON TO MACHINES FOR PERFORATING, PUNCHING, CUTTING-OUT, STAMPING-OUT OR SEVERING"
          ],
          [
           1974,
           32,
           0.04,
           "PERFORATING; PUNCHING; CUTTING-OUT; STAMPING-OUT; SEVERING BY MEANS OTHER THAN CUTTING"
          ],
          [
           1968,
           367,
           0.46,
           "WORKING OR PRESERVING WOOD OR SIMILAR MATERIAL; NAILING OR STAPLING MACHINES IN GENERAL"
          ],
          [
           1990,
           128,
           0.16,
           "SAWS FOR WOOD OR SIMILAR MATERIAL; COMPONENTS OR ACCESSORIES THEREFOR"
          ],
          [
           1968,
           26,
           0.033,
           "PLANING, DRILLING, MILLING, TURNING OR UNIVERSAL MACHINES FOR WOOD OR SIMILAR MATERIAL"
          ],
          [
           1968,
           10,
           0.013,
           "WORKING VENEER OR PLYWOOD"
          ],
          [
           1968,
           37,
           0.046,
           "DOVETAILED WORK; TENONS; SLOTTING MACHINES FOR WOOD OR SIMILAR MATERIAL; NAILING OR STAPLING MACHINES"
          ],
          [
           1968,
           31,
           0.039,
           "ACCESSORY MACHINES OR APPARATUS FOR WORKING WOOD OR SIMILAR MATERIALS; TOOLS FOR WORKING WOOD OR SIMILAR MATERIALS; SAFETY DEVICES FOR WOOD WORKING MACHINES OR TOOLS"
          ],
          [
           1968,
           11,
           0.014,
           "BENDING WOOD OR SIMILAR MATERIAL; COOPERAGE; MAKING WHEELS FROM WOOD OR SIMILAR MATERIAL"
          ],
          [
           1968,
           5,
           0.006,
           "MECHANICAL WORKING OF CANE, CORK, OR SIMILAR MATERIALS"
          ],
          [
           1974,
           36,
           0.045,
           "PROCESSES, APPARATUS OR SELECTION OF SUBSTANCES FOR IMPREGNATING, STAINING, DYEING OR BLEACHING OF WOOD, OR FOR TREATING OF WOOD WITH PERMEANT LIQUIDS, NOT OTHERWISE PROVIDED FOR; CHEMICAL OR PHYSICAL TREATMENT OF CORK, CANE, REED, STRAW OR SIMILAR MATERIALS"
          ],
          [
           1968,
           26,
           0.033,
           "REMOVING BARK OR VESTIGES OF BRANCHES; SPLITTING WOOD; MANUFACTURE OF VENEER, WOODEN STICKS, WOOD SHAVINGS, WOOD FIBRES OR WOOD POWDER"
          ],
          [
           1968,
           25,
           0.031,
           "WORKING OF WOOD NOT PROVIDED FOR IN SUBCLASSES; MANUFACTURE OF SPECIFIC WOODEN ARTICLES"
          ],
          [
           1985,
           21,
           0.026,
           "MANUFACTURE BY DRY PROCESSES OF ARTICLES, WITH OR WITHOUT ORGANIC BINDING AGENTS, MADE FROM PARTICLES OR FIBRES CONSISTING OF WOOD OR OTHER LIGNOCELLULOSIC OR LIKE ORGANIC MATERIAL"
          ],
          [
           1968,
           232,
           0.291,
           "WORKING CEMENT, CLAY, OR STONE"
          ],
          [
           1968,
           153,
           0.192,
           "SHAPING CLAY OR OTHER CERAMIC COMPOSITIONS; SHAPING SLAG; SHAPING MIXTURES CONTAINING CEMENTITIOUS MATERIAL, e.g. PLASTER"
          ],
          [
           1968,
           50,
           0.063,
           "PREPARING CLAY; PRODUCING MIXTURES CONTAINING CLAY OR CEMENTITIOUS MATERIAL, e.g. PLASTER"
          ],
          [
           1968,
           26,
           0.033,
           "WORKING STONE OR STONE-LIKE MATERIALS"
          ],
          [
           1968,
           1238,
           1.551,
           "WORKING OF PLASTICS; WORKING OF SUBSTANCES IN A PLASTIC STATE IN GENERAL"
          ],
          [
           1985,
           83,
           0.104,
           "PREPARATION OR PRETREATMENT OF THE MATERIAL TO BE SHAPED; MAKING GRANULES OR PREFORMS; RECOVERY OF PLASTICS OR OTHER CONSTITUENTS OF WASTE MATERIAL CONTAINING PLASTICS"
          ],
          [
           1985,
           718,
           0.899,
           "SHAPING OR JOINING OF PLASTICS; SHAPING OF MATERIAL IN A PLASTIC STATE, NOT OTHERWISE PROVIDED FOR; AFTER-TREATMENT OF THE SHAPED PRODUCTS, e.g. REPAIRING"
          ],
          [
           1985,
           85,
           0.106,
           "PRODUCING PARTICULAR ARTICLES FROM PLASTICS OR FROM SUBSTANCES IN A PLASTIC STATE"
          ],
          [
           1985,
           294,
           0.368,
           "INDEXING SCHEME ASSOCIATED WITH SUBCLASSES"
          ],
          [
           1985,
           53,
           0.066,
           "INDEXING SCHEME ASSOCIATED WITH SUBCLASS"
          ],
          [
           1968,
           89,
           0.111,
           "PRESSES"
          ],
          [
           1974,
           88,
           0.11,
           "PRESSES IN GENERAL; PRESSES NOT OTHERWISE PROVIDED FOR"
          ],
          [
           1968,
           175,
           0.219,
           "MAKING ARTICLES OF PAPER, CARDBOARD OR MATERIAL WORKED IN A MANNER ANALOGOUS TO PAPER; WORKING PAPER, CARDBOARD OR MATERIAL WORKED IN A MANNER ANALOGOUS TO PAPER"
          ],
          [
           1968,
           115,
           0.144,
           "MAKING CONTAINERS OF PAPER, CARDBOARD OR MATERIAL WORKED IN A MANNER ANALOGOUS TO PAPER"
          ],
          [
           1968,
           21,
           0.026,
           "MAKING WOUND ARTICLES, e.g. WOUND TUBES, OF PAPER, CARDBOARD OR MATERIAL WORKED IN A MANNER ANALOGOUS TO PAPER"
          ],
          [
           1968,
           11,
           0.014,
           "MAKING ARTICLES OF PAPER, CARDBOARD OR MATERIAL WORKED IN A MANNER ANALOGOUS TO PAPER, NOT PROVIDED FOR IN SUBCLASSES"
          ],
          [
           1968,
           24,
           0.03,
           "MECHANICAL WORKING OR DEFORMATION OF PAPER, CARDBOARD OR MATERIAL WORKED IN A MANNER ANALOGOUS TO PAPER"
          ],
          [
           1968,
           194,
           0.243,
           "LAYERED PRODUCTS"
          ],
          [
           1968,
           193,
           0.242,
           "LAYERED PRODUCTS, i.e. PRODUCTS BUILT-UP OF STRATA OF FLAT OR NON-FLAT, e.g. CELLULAR OR HONEYCOMB, FORM"
          ],
          [
           2015,
           12,
           0.015,
           "ADDITIVE MANUFACTURING TECHNOLOGY"
          ],
          [
           2015,
           11,
           0.014,
           "ADDITIVE MANUFACTURING, i.e. MANUFACTURING OF THREE-DIMENSIONAL [3D] OBJECTS BY ADDITIVE DEPOSITION, ADDITIVE AGGLOMERATION OR ADDITIVE LAYERING, e.g. BY 3D PRINTING, STEREOLITHOGRAPHY OR SELECTIVE LASER SINTERING"
          ],
          [
           1985,
           1594,
           1.997,
           "PRINTING; LINING MACHINES; TYPEWRITERS; STAMPS"
          ],
          [
           1968,
           217,
           0.272,
           "MACHINES OR ACCESSORIES FOR MAKING, SETTING, OR DISTRIBUTING TYPE; TYPE; PHOTOGRAPHIC OR PHOTOELECTRONIC COMPOSING DEVICES"
          ],
          [
           1968,
           18,
           0.023,
           "PROCESSES FOR THE MANUFACTURE OR REPRODUCTION OF PRINTING SURFACES"
          ],
          [
           1968,
           31,
           0.039,
           "APPARATUS FOR THE MECHANICAL REPRODUCTION OF PRINTING SURFACES FOR STEREOTYPE PRINTING; SHAPING ELASTIC OR DEFORMABLE MATERIAL TO FORM PRINTING SURFACES"
          ],
          [
           1985,
           290,
           0.363,
           "PRINTING MACHINES OR PRESSES"
          ],
          [
           1968,
           6,
           0.008,
           "APPARATUS FOR BRONZE PRINTING, LINE PRINTING, OR FOR BORDERING OR EDGING SHEETS OR LIKE ARTICLES; AUXILIARY APPARATUS FOR PERFORATING IN CONJUNCTION WITH PRINTING"
          ],
          [
           1968,
           591,
           0.74,
           "TYPEWRITERS; SELECTIVE PRINTING MECHANISMS, i.e. MECHANISMS PRINTING OTHERWISE THAN FROM A FORME; CORRECTION OF TYPOGRAPHICAL ERRORS"
          ],
          [
           1968,
           71,
           0.089,
           "STAMPS; STAMPING OR NUMBERING APPARATUS OR DEVICES"
          ],
          [
           1968,
           250,
           0.313,
           "APPARATUS OR DEVICES FOR MANIFOLDING, DUPLICATING OR PRINTING FOR OFFICE OR OTHER COMMERCIAL PURPOSES; ADDRESSING MACHINES OR LIKE SERIES-PRINTING MACHINES"
          ],
          [
           1968,
           80,
           0.1,
           "PRINTING, DUPLICATING, MARKING, OR COPYING PROCESSES; COLOUR PRINTING"
          ],
          [
           1968,
           30,
           0.038,
           "PRINTING PLATES OR FOILS; MATERIALS FOR SURFACES USED IN PRINTING MACHINES FOR PRINTING, INKING, DAMPING, OR THE LIKE; PREPARING SUCH SURFACES FOR USE OR CONSERVING THEM"
          ],
          [
           1968,
           216,
           0.271,
           "BOOKBINDING; ALBUMS; FILES; SPECIAL PRINTED MATTER"
          ],
          [
           1968,
           20,
           0.025,
           "PERMANENTLY ATTACHING TOGETHER SHEETS, QUIRES, OR SIGNATURES, OR PERMANENTLY ATTACHING OBJECTS THERETO"
          ],
          [
           1968,
           24,
           0.03,
           "BOOKBINDING"
          ],
          [
           1968,
           86,
           0.108,
           "BOOKS; BOOK COVERS; LOOSE LEAVES; PRINTED MATTER CHARACTERISED BY IDENTIFICATION OR SECURITY FEATURES; PRINTED MATTER OF SPECIAL FORMAT OR STYLE NOT OTHERWISE PROVIDED FOR; DEVICES FOR USE THEREWITH AND NOT OTHERWISE PROVIDED FOR; MOVABLE-STRIP WRITING OR READING APPARATUS"
          ],
          [
           1968,
           82,
           0.103,
           "SHEETS TEMPORARILY ATTACHED TOGETHER; FILING APPLIANCES; FILE CARDS; INDEXING"
          ],
          [
           1968,
           232,
           0.291,
           "WRITING OR DRAWING IMPLEMENTS; BUREAU ACCESSORIES"
          ],
          [
           1968,
           127,
           0.159,
           "IMPLEMENTS FOR WRITING OR DRAWING"
          ],
          [
           1968,
           83,
           0.104,
           "ARTICLES FOR WRITING OR DRAWING UPON; ACCESSORIES FOR WRITING OR DRAWING"
          ],
          [
           1968,
           19,
           0.024,
           "BUREAU ACCESSORIES NOT OTHERWISE PROVIDED FOR"
          ],
          [
           1968,
           91,
           0.114,
           "DECORATIVE ARTS"
          ],
          [
           1968,
           16,
           0.02,
           "MACHINES, APPARATUS OR TOOLS FOR ARTISTIC WORK, e.g. FOR SCULPTURING, GUILLOCHING, CARVING, BRANDING OR INLAYING"
          ],
          [
           1974,
           32,
           0.04,
           "PRODUCING DECORATIVE EFFECTS; MOSAICS; TARSIA WORK; PAPERHANGING"
          ],
          [
           1974,
           17,
           0.021,
           "PAINTING OR ARTISTIC DRAWING, NOT OTHERWISE PROVIDED FOR; PRESERVING PAINTINGS; SURFACE TREATMENT TO OBTAIN SPECIAL ARTISTIC SURFACE EFFECTS OR FINISHES"
          ],
          [
           1968,
           22,
           0.028,
           "SPECIAL DESIGNS OR PICTURES"
          ],
          [
           1968,
           1876,
           2.35,
           "VEHICLES IN GENERAL"
          ],
          [
           1968,
           149,
           0.187,
           "VEHICLE WHEELS; CASTORS; AXLES FOR WHEELS OR CASTORS; INCREASING WHEEL ADHESION"
          ],
          [
           1990,
           140,
           0.175,
           "VEHICLE TYRES; TYRE INFLATION; TYRE CHANGING; CONNECTING VALVES TO INFLATABLE ELASTIC BODIES IN GENERAL; DEVICES OR ARRANGEMENTS RELATED TO TYRES"
          ],
          [
           1968,
           37,
           0.046,
           "VEHICLE CONNECTIONS"
          ],
          [
           1968,
           6,
           0.008,
           "VEHICLES FOR USE BOTH ON RAIL AND ON ROAD; VEHICLES CAPABLE OF TRAVELLING IN OR ON DIFFERENT MEDIA, e.g. AMPHIBIOUS VEHICLES"
          ],
          [
           1990,
           123,
           0.154,
           "VEHICLE SUSPENSION ARRANGEMENTS"
          ],
          [
           1968,
           22,
           0.028,
           "ARRANGEMENTS OF HEATING, COOLING, VENTILATING OR OTHER AIR-TREATING DEVICES SPECIALLY ADAPTED FOR PASSENGER OR GOODS SPACES OF VEHICLES"
          ],
          [
           1968,
           101,
           0.127,
           "WINDOWS, WINDSCREENS, NON-FIXED ROOFS, DOORS, OR SIMILAR DEVICES FOR VEHICLES; REMOVABLE EXTERNAL PROTECTIVE COVERINGS SPECIALLY ADAPTED FOR VEHICLES"
          ],
          [
           1968,
           162,
           0.203,
           "ARRANGEMENT OR MOUNTING OF PROPULSION UNITS OR OF TRANSMISSIONS IN VEHICLES; ARRANGEMENT OR MOUNTING OF PLURAL DIVERSE PRIME-MOVERS IN VEHICLES; AUXILIARY DRIVES FOR VEHICLES; INSTRUMENTATION OR DASHBOARDS FOR VEHICLES; ARRANGEMENTS IN CONNECTION WITH COOLING, AIR INTAKE, GAS EXHAUST OR FUEL SUPPLY OF PROPULSION UNITS IN VEHICLES"
          ],
          [
           1985,
           186,
           0.233,
           "PROPULSION OF ELECTRICALLY-PROPELLED VEHICLES; SUPPLYING ELECTRIC POWER FOR AUXILIARY EQUIPMENT OF ELECTRICALLY-PROPELLED VEHICLES; ELECTRODYNAMIC BRAKE SYSTEMS FOR VEHICLES IN GENERAL; MAGNETIC SUSPENSION OR LEVITATION FOR VEHICLES; MONITORING OPERATING VARIABLES OF ELECTRICALLY-PROPELLED VEHICLES; ELECTRIC SAFETY DEVICES FOR ELECTRICALLY-PROPELLED VEHICLES"
          ],
          [
           1968,
           30,
           0.038,
           "POWER SUPPLY LINES, OR DEVICES ALONG RAILS, FOR ELECTRICALLY-PROPELLED VEHICLES"
          ],
          [
           1968,
           92,
           0.115,
           "SEATS SPECIALLY ADAPTED FOR VEHICLES; VEHICLE PASSENGER ACCOMMODATION NOT OTHERWISE PROVIDED FOR"
          ],
          [
           1968,
           97,
           0.122,
           "VEHICLES ADAPTED FOR LOAD TRANSPORTATION OR TO TRANSPORT, TO CARRY, OR TO COMPRISE SPECIAL LOADS OR OBJECTS"
          ],
          [
           1985,
           94,
           0.118,
           "ARRANGEMENT OF SIGNALLING OR LIGHTING DEVICES, THE MOUNTING OR SUPPORTING THEREOF OR CIRCUITS THEREFOR, FOR VEHICLES IN GENERAL"
          ],
          [
           1968,
           238,
           0.298,
           "VEHICLES, VEHICLE FITTINGS, OR VEHICLE PARTS, NOT OTHERWISE PROVIDED FOR"
          ],
          [
           1968,
           60,
           0.075,
           "SERVICING, CLEANING, REPAIRING, SUPPORTING, LIFTING, OR MANOEUVRING OF VEHICLES, NOT OTHERWISE PROVIDED FOR"
          ],
          [
           1968,
           195,
           0.244,
           "VEHICLE BRAKE CONTROL SYSTEMS OR PARTS THEREOF; BRAKE CONTROL SYSTEMS OR PARTS THEREOF, IN GENERAL; ARRANGEMENT OF BRAKING ELEMENTS ON VEHICLES IN GENERAL; PORTABLE DEVICES FOR PREVENTING UNWANTED MOVEMENT OF VEHICLES; VEHICLE MODIFICATIONS TO FACILITATE COOLING OF BRAKES"
          ],
          [
           1968,
           19,
           0.024,
           "AIR-CUSHION VEHICLES"
          ],
          [
           2006,
           107,
           0.134,
           "CONJOINT CONTROL OF VEHICLE SUB-UNITS OF DIFFERENT TYPE OR DIFFERENT FUNCTION; CONTROL SYSTEMS SPECIALLY ADAPTED FOR HYBRID VEHICLES; ROAD VEHICLE DRIVE CONTROL SYSTEMS FOR PURPOSES NOT RELATED TO THE CONTROL OF A PARTICULAR SUB-UNIT"
          ],
          [
           1968,
           576,
           0.722,
           "RAILWAYS"
          ],
          [
           1985,
           30,
           0.038,
           "RAILWAY SYSTEMS; EQUIPMENT THEREFOR NOT OTHERWISE PROVIDED FOR"
          ],
          [
           1968,
           68,
           0.085,
           "LOCOMOTIVES; MOTOR RAILCARS"
          ],
          [
           1968,
           89,
           0.111,
           "BODY DETAILS OR KINDS OF RAILWAY VEHICLES"
          ],
          [
           1968,
           89,
           0.111,
           "RAIL VEHICLE SUSPENSIONS, e.g. UNDERFRAMES, BOGIES OR ARRANGEMENTS OF WHEEL AXLES; RAIL VEHICLES FOR USE ON TRACKS OF DIFFERENT WIDTH; PREVENTING DERAILING OF RAIL VEHICLES; WHEEL GUARDS, OBSTRUCTION REMOVERS OR THE LIKE FOR RAIL VEHICLES"
          ],
          [
           1968,
           75,
           0.094,
           "COUPLINGS SPECIALLY ADAPTED FOR RAILWAY VEHICLES; DRAUGHT OR BUFFING APPLIANCES SPECIALLY ADAPTED FOR RAILWAY VEHICLES"
          ],
          [
           1968,
           37,
           0.046,
           "BRAKES OR OTHER RETARDING DEVICES SPECIALLY ADAPTED FOR RAIL VEHICLES; ARRANGEMENT OR DISPOSITION THEREOF IN RAIL VEHICLES"
          ],
          [
           1968,
           15,
           0.019,
           "SHIFTING OR SHUNTING OF RAIL VEHICLES"
          ],
          [
           1968,
           32,
           0.04,
           "AUXILIARY EQUIPMENT SPECIALLY ADAPTED FOR RAILWAYS, NOT OTHERWISE PROVIDED FOR"
          ],
          [
           1968,
           132,
           0.165,
           "GUIDING RAILWAY TRAFFIC; ENSURING THE SAFETY OF RAILWAY TRAFFIC"
          ],
          [
           1968,
           824,
           1.032,
           "LAND VEHICLES FOR TRAVELLING OTHERWISE THAN ON RAILS"
          ],
          [
           1968,
           73,
           0.091,
           "HAND-PROPELLED VEHICLES, e.g. HAND CARTS OR PERAMBULATORS; SLEDGES"
          ],
          [
           1968,
           18,
           0.023,
           "VEHICLES DRAWN BY ANIMALS"
          ],
          [
           1968,
           286,
           0.358,
           "MOTOR VEHICLES; TRAILERS"
          ],
          [
           1968,
           27,
           0.034,
           "CYCLE STANDS; SUPPORTS OR HOLDERS FOR PARKING OR STORING CYCLES; APPLIANCES PREVENTING OR INDICATING UNAUTHORISED USE OR THEFT OF CYCLES; LOCKS INTEGRAL WITH CYCLES; DEVICES FOR LEARNING TO RIDE CYCLES"
          ],
          [
           1968,
           164,
           0.205,
           "CYCLE SADDLES OR SEATS; AUXILIARY DEVICES OR ACCESSORIES SPECIALLY ADAPTED TO CYCLES AND NOT OTHERWISE PROVIDED FOR, e.g. ARTICLE CARRIERS OR CYCLE PROTECTORS"
          ],
          [
           1968,
           112,
           0.14,
           "CYCLES; CYCLE FRAMES; CYCLE STEERING DEVICES; RIDER-OPERATED TERMINAL CONTROLS SPECIALLY ADAPTED FOR CYCLES; CYCLE AXLE SUSPENSIONS; CYCLE SIDECARS, FORECARS, OR THE LIKE"
          ],
          [
           1968,
           25,
           0.031,
           "BRAKES SPECIALLY ADAPTED FOR CYCLES"
          ],
          [
           1968,
           111,
           0.139,
           "RIDER PROPULSION OF WHEELED VEHICLES OR SLEDGES; POWERED PROPULSION OF SLEDGES OR CYCLES; TRANSMISSIONS SPECIALLY ADAPTED FOR SUCH VEHICLES"
          ],
          [
           1968,
           742,
           0.93,
           "SHIPS OR OTHER WATERBORNE VESSELS; RELATED EQUIPMENT"
          ],
          [
           1974,
           393,
           0.492,
           "SHIPS OR OTHER WATERBORNE VESSELS; EQUIPMENT FOR SHIPPING"
          ],
          [
           1968,
           90,
           0.113,
           "LAUNCHING, HAULING-OUT, OR DRY-DOCKING OF VESSELS; LIFE-SAVING IN WATER; EQUIPMENT FOR DWELLING OR WORKING UNDER WATER; MEANS FOR SALVAGING OR SEARCHING FOR UNDERWATER OBJECTS"
          ],
          [
           1968,
           43,
           0.054,
           "OFFENSIVE OR DEFENSIVE ARRANGEMENTS ON VESSELS; MINE-LAYING; MINE-SWEEPING; SUBMARINES; AIRCRAFT CARRIERS"
          ],
          [
           1968,
           197,
           0.247,
           "MARINE PROPULSION OR STEERING"
          ],
          [
           1968,
           14,
           0.018,
           "AUXILIARIES ON VESSELS"
          ],
          [
           1968,
           732,
           0.917,
           "AIRCRAFT; AVIATION; COSMONAUTICS"
          ],
          [
           1968,
           36,
           0.045,
           "LIGHTER-THAN-AIR AIRCRAFT"
          ],
          [
           1968,
           259,
           0.324,
           "AEROPLANES; HELICOPTERS"
          ],
          [
           1968,
           199,
           0.249,
           "EQUIPMENT FOR FITTING IN OR TO AIRCRAFT; FLIGHT SUITS; PARACHUTES; ARRANGEMENT OR MOUNTING OF POWER PLANTS OR PROPULSION TRANSMISSIONS IN AIRCRAFT"
          ],
          [
           1968,
           41,
           0.051,
           "GROUND OR AIRCRAFT-CARRIER-DECK INSTALLATIONS SPECIALLY ADAPTED FOR USE IN CONNECTION WITH AIRCRAFT; DESIGNING, MANUFACTURING, ASSEMBLING, CLEANING, MAINTAINING OR REPAIRING AIRCRAFT, NOT OTHERWISE PROVIDED FOR; HANDLING, TRANSPORTING, TESTING OR INSPECTING AIRCRAFT COMPONENTS, NOT OTHERWISE PROVIDED FOR"
          ],
          [
           1968,
           34,
           0.043,
           "COSMONAUTICS; VEHICLES OR EQUIPMENT THEREFOR"
          ],
          [
           2023,
           157,
           0.197,
           "UNMANNED AERIAL VEHICLES [UAV]; EQUIPMENT THEREFOR"
          ],
          [
           1968,
           2330,
           2.919,
           "CONVEYING; PACKING; STORING; HANDLING THIN OR FILAMENTARY MATERIAL"
          ],
          [
           1968,
           415,
           0.52,
           "MACHINES, APPARATUS OR DEVICES FOR, OR METHODS OF, PACKAGING ARTICLES OR MATERIALS; UNPACKING"
          ],
          [
           1968,
           51,
           0.064,
           "LABELLING OR TAGGING MACHINES, APPARATUS, OR PROCESSES"
          ],
          [
           1968,
           829,
           1.039,
           "CONTAINERS FOR STORAGE OR TRANSPORT OF ARTICLES OR MATERIALS, e.g. BAGS, BARRELS, BOTTLES, BOXES, CANS, CARTONS, CRATES, DRUMS, JARS, TANKS, HOPPERS, FORWARDING CONTAINERS; ACCESSORIES, CLOSURES, OR FITTINGS THEREFOR; PACKAGING ELEMENTS; PACKAGES"
          ],
          [
           1968,
           27,
           0.034,
           "GATHERING OR REMOVAL OF DOMESTIC OR LIKE REFUSE"
          ],
          [
           1968,
           496,
           0.621,
           "TRANSPORT OR STORAGE DEVICES, e.g. CONVEYORS FOR LOADING OR TIPPING, SHOP CONVEYOR SYSTEMS OR PNEUMATIC TUBE CONVEYORS"
          ],
          [
           1968,
           506,
           0.634,
           "HANDLING THIN OR FILAMENTARY MATERIAL, e.g. SHEETS, WEBS, CABLES"
          ],
          [
           1968,
           485,
           0.608,
           "HOISTING; LIFTING; HAULING"
          ],
          [
           1985,
           140,
           0.175,
           "ELEVATORS; ESCALATORS OR MOVING WALKWAYS"
          ],
          [
           1968,
           193,
           0.242,
           "CRANES; LOAD-ENGAGING ELEMENTS OR DEVICES FOR CRANES, CAPSTANS, WINCHES, OR TACKLES"
          ],
          [
           1968,
           75,
           0.094,
           "CAPSTANS; WINCHES; TACKLES, e.g. PULLEY BLOCKS; HOISTS"
          ],
          [
           1968,
           73,
           0.091,
           "HOISTING, LIFTING, HAULING, OR PUSHING, NOT OTHERWISE PROVIDED FOR, e.g. DEVICES WHICH APPLY A LIFTING OR PUSHING FORCE DIRECTLY TO THE SURFACE OF A LOAD"
          ],
          [
           1968,
           154,
           0.193,
           "OPENING OR CLOSING BOTTLES, JARS OR SIMILAR CONTAINERS; LIQUID HANDLING"
          ],
          [
           1968,
           67,
           0.084,
           "APPLYING CLOSURE MEMBERS TO BOTTLES, JARS, OR SIMILAR CONTAINERS; OPENING CLOSED CONTAINERS"
          ],
          [
           1968,
           24,
           0.03,
           "FILLING WITH LIQUIDS OR SEMILIQUIDS, OR EMPTYING, OF BOTTLES, JARS, CANS, CASKS, BARRELS, OR SIMILAR CONTAINERS, NOT OTHERWISE PROVIDED FOR; FUNNELS"
          ],
          [
           1990,
           60,
           0.075,
           "DISPENSING, DELIVERING, OR TRANSFERRING LIQUIDS, NOT OTHERWISE PROVIDED FOR"
          ],
          [
           1968,
           83,
           0.104,
           "SADDLERY; UPHOLSTERY"
          ],
          [
           1968,
           30,
           0.038,
           "HARNESS; DEVICES USED IN CONNECTION THEREWITH; WHIPS OR THE LIKE"
          ],
          [
           1968,
           14,
           0.018,
           "SADDLES; STIRRUPS"
          ],
          [
           1968,
           4,
           0.005,
           "MAKING ARTICLES FROM LEATHER, CANVAS, OR THE LIKE"
          ],
          [
           1968,
           31,
           0.039,
           "METHODS, EQUIPMENT, OR MACHINES FOR USE IN UPHOLSTERING; UPHOLSTERY NOT OTHERWISE PROVIDED FOR"
          ],
          [
           2000,
           11,
           0.014,
           "MICROSTRUCTURAL TECHNOLOGY"
          ],
          [
           2000,
           6,
           0.008,
           "MICROSTRUCTURAL DEVICES OR SYSTEMS, e.g. MICROMECHANICAL DEVICES"
          ],
          [
           2000,
           3,
           0.004,
           "PROCESSES OR APPARATUS SPECIALLY ADAPTED FOR THE MANUFACTURE OR TREATMENT OF MICROSTRUCTURAL DEVICES OR SYSTEMS"
          ],
          [
           2000,
           13,
           0.016,
           "NANOTECHNOLOGY"
          ],
          [
           2000,
           2,
           0.003,
           "NANOSTRUCTURES FORMED BY MANIPULATION OF INDIVIDUAL ATOMS, MOLECULES, OR LIMITED COLLECTIONS OF ATOMS OR MOLECULES AS DISCRETE UNITS; MANUFACTURE OR TREATMENT THEREOF"
          ],
          [
           2011,
           9,
           0.011,
           "SPECIFIC USES OR APPLICATIONS OF NANOSTRUCTURES; MEASUREMENT OR ANALYSIS OF NANOSTRUCTURES; MANUFACTURE  OR TREATMENT OF NANOSTRUCTURES"
          ],
          [
           2006,
           2,
           0.003,
           "SUBJECT MATTER NOT OTHERWISE PROVIDED FOR IN THIS SECTION"
          ],
          [
           2006,
           1,
           0.001,
           "SUBJECT MATTER NOT OTHERWISE PROVIDED FOR IN THIS SECTION"
          ],
          [
           1968,
           15147,
           18.975,
           "CHEMISTRY; METALLURGY"
          ],
          [
           1968,
           938,
           1.175,
           "INORGANIC CHEMISTRY"
          ],
          [
           1968,
           442,
           0.554,
           "NON-METALLIC ELEMENTS; COMPOUNDS THEREOF"
          ],
          [
           1968,
           33,
           0.041,
           "AMMONIA; CYANOGEN; COMPOUNDS THEREOF"
          ],
          [
           1968,
           82,
           0.103,
           "COMPOUNDS OF ALKALI METALS, i.e. LITHIUM, SODIUM, POTASSIUM, RUBIDIUM, CAESIUM, OR FRANCIUM"
          ],
          [
           1968,
           182,
           0.228,
           "COMPOUNDS OF THE METALS BERYLLIUM, MAGNESIUM, ALUMINIUM, CALCIUM, STRONTIUM, BARIUM, RADIUM, THORIUM, OR OF THE RARE EARTH METALS"
          ],
          [
           1968,
           194,
           0.243,
           "COMPOUNDS CONTAINING METALS NOT COVERED BY SUBCLASSES"
          ],
          [
           1968,
           136,
           0.17,
           "TREATMENT OF WATER, WASTE WATER, SEWAGE, OR SLUDGE"
          ],
          [
           1980,
           135,
           0.169,
           "TREATMENT OF WATER, WASTE WATER, SEWAGE, OR SLUDGE"
          ],
          [
           1968,
           511,
           0.64,
           "GLASS; MINERAL OR SLAG WOOL"
          ],
          [
           1968,
           307,
           0.385,
           "MANUFACTURE OR SHAPING OF GLASS, OR OF MINERAL OR SLAG WOOL; SUPPLEMENTARY PROCESSES IN THE MANUFACTURE OR SHAPING OF GLASS, OR OF MINERAL OR SLAG WOOL"
          ],
          [
           1968,
           202,
           0.253,
           "CHEMICAL COMPOSITION OF GLASSES, GLAZES OR VITREOUS ENAMELS; SURFACE TREATMENT OF GLASS; SURFACE TREATMENT OF FIBRES OR FILAMENTS MADE FROM GLASS, MINERALS OR SLAGS; JOINING GLASS TO GLASS OR OTHER MATERIALS"
          ],
          [
           1985,
           449,
           0.562,
           "CEMENTS; CONCRETE; ARTIFICIAL STONE; CERAMICS; REFRACTORIES"
          ],
          [
           1985,
           448,
           0.561,
           "LIME; MAGNESIA; SLAG; CEMENTS; COMPOSITIONS THEREOF, e.g. MORTARS, CONCRETE OR LIKE BUILDING MATERIALS; ARTIFICIAL STONE; CERAMICS; REFRACTORIES; TREATMENT OF NATURAL STONE"
          ],
          [
           1985,
           127,
           0.159,
           "FERTILISERS; MANUFACTURE THEREOF"
          ],
          [
           1968,
           28,
           0.035,
           "PHOSPHATIC FERTILISERS"
          ],
          [
           1968,
           12,
           0.015,
           "NITROGENOUS FERTILISERS"
          ],
          [
           1968,
           11,
           0.014,
           "INORGANIC FERTILISERS NOT COVERED BY SUBCLASSES; FERTILISERS PRODUCING CARBON DIOXIDE"
          ],
          [
           1968,
           44,
           0.055,
           "ORGANIC FERTILISERS NOT COVERED BY SUBCLASSES"
          ],
          [
           1985,
           27,
           0.034,
           "MIXTURES OF FERTILISERS COVERED INDIVIDUALLY BY DIFFERENT SUBCLASSES OF CLASS; MIXTURES OF ONE OR MORE FERTILISERS WITH ADDITIVES NOT HAVING A SPECIFIC FERTILISING ACTIVITY; FERTILISERS CHARACTERISED BY THEIR FORM"
          ],
          [
           1968,
           158,
           0.198,
           "EXPLOSIVES; MATCHES"
          ],
          [
           1974,
           117,
           0.147,
           "EXPLOSIVE OR THERMIC COMPOSITIONS; MANUFACTURE THEREOF; USE OF SINGLE SUBSTANCES AS EXPLOSIVES"
          ],
          [
           1974,
           8,
           0.01,
           "DETONATING OR PRIMING DEVICES; FUSES; CHEMICAL LIGHTERS; PYROPHORIC COMPOSITIONS"
          ],
          [
           1974,
           8,
           0.01,
           "MEANS FOR GENERATING SMOKE OR MIST; GAS-ATTACK COMPOSITIONS; GENERATION OF GAS FOR BLASTING OR PROPULSION (CHEMICAL PART)"
          ],
          [
           1968,
           21,
           0.026,
           "MATCHES; MANUFACTURE OF MATCHES"
          ],
          [
           1974,
           5291,
           6.628,
           "ORGANIC CHEMISTRY"
          ],
          [
           1968,
           45,
           0.056,
           "GENERAL METHODS OF ORGANIC CHEMISTRY; APPARATUS THEREFOR"
          ],
          [
           1968,
           2979,
           3.732,
           "ACYCLIC OR CARBOCYCLIC COMPOUNDS"
          ],
          [
           1974,
           1685,
           2.111,
           "HETEROCYCLIC COMPOUNDS"
          ],
          [
           1968,
           156,
           0.195,
           "ACYCLIC, CARBOCYCLIC, OR HETEROCYCLIC COMPOUNDS CONTAINING ELEMENTS OTHER THAN CARBON, HYDROGEN, HALOGEN, OXYGEN, NITROGEN, SULFUR, SELENIUM OR TELLURIUM"
          ],
          [
           1968,
           8,
           0.01,
           "COMPOUNDS OF UNKNOWN CONSTITUTION"
          ],
          [
           1974,
           105,
           0.132,
           "SUGARS; DERIVATIVES THEREOF; NUCLEOSIDES; NUCLEOTIDES; NUCLEIC ACIDS"
          ],
          [
           1974,
           25,
           0.031,
           "STEROIDS"
          ],
          [
           1985,
           280,
           0.351,
           "PEPTIDES"
          ],
          [
           1968,
           1951,
           2.444,
           "ORGANIC MACROMOLECULAR COMPOUNDS; THEIR PREPARATION OR CHEMICAL WORKING-UP; COMPOSITIONS BASED THEREON"
          ],
          [
           1985,
           109,
           0.137,
           "POLYSACCHARIDES; DERIVATIVES THEREOF"
          ],
          [
           1968,
           44,
           0.055,
           "TREATMENT OR CHEMICAL MODIFICATION OF RUBBERS"
          ],
          [
           1974,
           741,
           0.928,
           "MACROMOLECULAR COMPOUNDS OBTAINED BY REACTIONS ONLY INVOLVING CARBON-TO-CARBON UNSATURATED BONDS"
          ],
          [
           1974,
           462,
           0.579,
           "MACROMOLECULAR COMPOUNDS OBTAINED OTHERWISE THAN BY REACTIONS ONLY INVOLVING CARBON-TO-CARBON UNSATURATED BONDS"
          ],
          [
           1968,
           8,
           0.01,
           "DERIVATIVES OF NATURAL MACROMOLECULAR COMPOUNDS"
          ],
          [
           1974,
           93,
           0.117,
           "WORKING-UP; GENERAL PROCESSES OF COMPOUNDING; AFTER-TREATMENT NOT COVERED BY SUBCLASSES"
          ],
          [
           1974,
           199,
           0.249,
           "USE OF INORGANIC OR NON-MACROMOLECULAR ORGANIC SUBSTANCES AS COMPOUNDING INGREDIENTS"
          ],
          [
           1974,
           287,
           0.36,
           "COMPOSITIONS OF MACROMOLECULAR COMPOUNDS"
          ],
          [
           1968,
           1650,
           2.067,
           "DYES; PAINTS; POLISHES; NATURAL RESINS; ADHESIVES; COMPOSITIONS NOT OTHERWISE PROVIDED FOR; APPLICATIONS OF MATERIALS NOT OTHERWISE PROVIDED FOR"
          ],
          [
           1968,
           612,
           0.767,
           "ORGANIC DYES OR CLOSELY-RELATED COMPOUNDS FOR PRODUCING DYES; MORDANTS; LAKES"
          ],
          [
           1985,
           41,
           0.051,
           "TREATMENT OF INORGANIC MATERIALS, OTHER THAN FIBROUS FILLERS, TO ENHANCE THEIR PIGMENTING OR FILLING PROPERTIES; PREPARATION OF CARBON BLACK"
          ],
          [
           1990,
           373,
           0.467,
           "COATING COMPOSITIONS, e.g. PAINTS, VARNISHES OR LACQUERS; FILLING PASTES; CHEMICAL PAINT OR INK REMOVERS; INKS; CORRECTING FLUIDS; WOODSTAINS; PASTES OR SOLIDS FOR COLOURING OR PRINTING; USE OF MATERIALS THEREFOR"
          ],
          [
           1968,
           21,
           0.026,
           "NATURAL RESINS; FRENCH POLISH; DRYING-OILS; OIL DRYING AGENTS, i.e. SICCATIVES; TURPENTINE"
          ],
          [
           1968,
           11,
           0.014,
           "POLISHING COMPOSITIONS; SKI WAXES"
          ],
          [
           1968,
           10,
           0.013,
           "PREPARATION OF GLUE OR GELATINE"
          ],
          [
           1990,
           308,
           0.386,
           "ADHESIVES; NON-MECHANICAL ASPECTS OF ADHESIVE PROCESSES IN GENERAL; ADHESIVE PROCESSES NOT PROVIDED FOR ELSEWHERE; USE OF MATERIALS AS ADHESIVES"
          ],
          [
           1968,
           266,
           0.333,
           "MATERIALS FOR APPLICATIONS NOT OTHERWISE PROVIDED FOR; APPLICATIONS OF MATERIALS NOT OTHERWISE PROVIDED FOR"
          ],
          [
           1968,
           1197,
           1.5,
           "PETROLEUM, GAS OR COKE INDUSTRIES; TECHNICAL GASES CONTAINING CARBON MONOXIDE; FUELS; LUBRICANTS; PEAT"
          ],
          [
           1990,
           176,
           0.22,
           "DESTRUCTIVE DISTILLATION OF CARBONACEOUS MATERIALS FOR PRODUCTION OF GAS, COKE, TAR, OR SIMILAR MATERIALS"
          ],
          [
           1968,
           23,
           0.029,
           "WORKING-UP TAR, PITCH, ASPHALT, BITUMEN; PYROLIGNEOUS ACID"
          ],
          [
           1990,
           9,
           0.011,
           "DRYING OR WORKING-UP OF PEAT"
          ],
          [
           1995,
           315,
           0.395,
           "CRACKING HYDROCARBON OILS; PRODUCTION OF LIQUID HYDROCARBON MIXTURES, e.g. BY DESTRUCTIVE HYDROGENATION, OLIGOMERISATION, POLYMERISATION; RECOVERY OF HYDROCARBON OILS FROM OIL-SHALE, OIL-SAND, OR GASES; REFINING MIXTURES MAINLY CONSISTING OF HYDROCARBONS; REFORMING OF NAPHTHA; MINERAL WAXES"
          ],
          [
           1990,
           54,
           0.068,
           "PRODUCTION OF ACETYLENE BY WET METHODS"
          ],
          [
           1990,
           60,
           0.075,
           "PRODUCTION OF GASES CONTAINING CARBON MONOXIDE AND HYDROGEN FROM SOLID CARBONACEOUS MATERIALS BY PARTIAL OXIDATION PROCESSES INVOLVING OXYGEN OR STEAM; CARBURETTING AIR OR OTHER GASES"
          ],
          [
           1968,
           22,
           0.028,
           "PURIFYING OR MODIFYING THE CHEMICAL COMPOSITION OF COMBUSTIBLE GASES CONTAINING CARBON MONOXIDE"
          ],
          [
           1990,
           99,
           0.124,
           "FUELS NOT OTHERWISE PROVIDED FOR; NATURAL GAS; SYNTHETIC NATURAL GAS OBTAINED BY PROCESSES NOT COVERED BY SUBCLASSES; LIQUEFIED PETROLEUM GAS; USE OF ADDITIVES TO FUELS OR FIRES; FIRE-LIGHTERS"
          ],
          [
           1985,
           368,
           0.461,
           "LUBRICATING COMPOSITIONS; USE OF CHEMICAL SUBSTANCES EITHER ALONE OR AS LUBRICATING INGREDIENTS IN A LUBRICATING COMPOSITION"
          ],
          [
           1985,
           61,
           0.076,
           "INDEXING SCHEME ASSOCIATED WITH SUBCLASS"
          ],
          [
           1968,
           232,
           0.291,
           "ANIMAL OR VEGETABLE OILS, FATS, FATTY SUBSTANCES OR WAXES; FATTY ACIDS THEREFROM; DETERGENTS; CANDLES"
          ],
          [
           1968,
           27,
           0.034,
           "PRODUCING, e.g. BY PRESSING RAW MATERIALS OR BY EXTRACTION FROM WASTE MATERIALS, REFINING OR PRESERVING FATS, FATTY SUBSTANCES, e.g. LANOLIN, FATTY OILS OR WAXES; ESSENTIAL OILS; PERFUMES"
          ],
          [
           1968,
           16,
           0.02,
           "FATTY ACIDS OBTAINED FROM FATS, OILS OR WAXES; CANDLES; FATS, OILS OR FATTY ACIDS OBTAINED BY CHEMICAL MODIFICATION OF FATS, OILS OR FATTY ACIDS"
          ],
          [
           1968,
           186,
           0.233,
           "DETERGENT COMPOSITIONS; USE OF SINGLE SUBSTANCES AS DETERGENTS; SOAP OR SOAP-MAKING; RESIN SOAPS; RECOVERY OF GLYCEROL"
          ],
          [
           1968,
           769,
           0.963,
           "BIOCHEMISTRY; BEER; SPIRITS; WINE; VINEGAR; MICROBIOLOGY; ENZYMOLOGY; MUTATION OR GENETIC ENGINEERING"
          ],
          [
           1968,
           56,
           0.07,
           "BEER; PREPARATION OF BEER BY FERMENTATION; PREPARATION OF MALT FOR MAKING BEER; PREPARATION OF HOPS FOR MAKING BEER"
          ],
          [
           1995,
           7,
           0.009,
           "RECOVERY OF BY-PRODUCTS OF FERMENTED SOLUTIONS; DENATURED ALCOHOL; PREPARATION THEREOF"
          ],
          [
           1968,
           32,
           0.04,
           "WINE; PREPARATION THEREOF; ALCOHOLIC BEVERAGES; PREPARATION OF ALCOHOLIC BEVERAGES NOT PROVIDED FOR IN SUBCLASSES"
          ],
          [
           1995,
           26,
           0.033,
           "PASTEURISATION, STERILISATION, PRESERVATION, PURIFICATION, CLARIFICATION OR AGEING OF ALCOHOLIC BEVERAGES; METHODS FOR ALTERING THE ALCOHOL CONTENT OF FERMENTED SOLUTIONS OR ALCOHOLIC BEVERAGES"
          ],
          [
           1968,
           6,
           0.008,
           "VINEGAR; PREPARATION OR PURIFICATION THEREOF"
          ],
          [
           1968,
           3,
           0.004,
           "PITCHING OR DEPITCHING MACHINES; CELLAR TOOLS"
          ],
          [
           1980,
           33,
           0.041,
           "APPARATUS FOR ENZYMOLOGY OR MICROBIOLOGY"
          ],
          [
           1980,
           238,
           0.298,
           "MICROORGANISMS OR ENZYMES; COMPOSITIONS THEREOF; PROPAGATING, PRESERVING, OR MAINTAINING MICROORGANISMS; MUTATION OR GENETIC ENGINEERING; CULTURE MEDIA"
          ],
          [
           1980,
           147,
           0.184,
           "FERMENTATION OR ENZYME-USING PROCESSES TO SYNTHESISE A DESIRED CHEMICAL COMPOUND OR COMPOSITION OR TO SEPARATE OPTICAL ISOMERS FROM A RACEMIC MIXTURE"
          ],
          [
           1980,
           80,
           0.1,
           "MEASURING OR TESTING PROCESSES INVOLVING ENZYMES, NUCLEIC ACIDS OR MICROORGANISMS; COMPOSITIONS OR TEST PAPERS THEREFOR; PROCESSES OF PREPARING SUCH COMPOSITIONS; CONDITION-RESPONSIVE CONTROL IN MICROBIOLOGICAL OR ENZYMOLOGICAL PROCESSES"
          ],
          [
           1980,
           130,
           0.163,
           "INDEXING SCHEME ASSOCIATED WITH SUBCLASSES"
          ],
          [
           1985,
           61,
           0.076,
           "SUGAR INDUSTRY"
          ],
          [
           2011,
           48,
           0.06,
           "PRODUCTION OF SUCROSE; APPARATUS SPECIALLY ADAPTED THEREFOR"
          ],
          [
           1968,
           11,
           0.014,
           "SACCHARIDES OBTAINED FROM NATURAL SOURCES OR BY HYDROLYSIS OF NATURALLY OCCURRING DISACCHARIDES, OLIGOSACCHARIDES OR POLYSACCHARIDES"
          ],
          [
           1968,
           96,
           0.12,
           "SKINS; HIDES; PELTS OR LEATHER"
          ],
          [
           1968,
           62,
           0.078,
           "MECHANICAL TREATMENT OR PROCESSING OF SKINS, HIDES, OR LEATHER IN GENERAL; PELT-SHEARING MACHINES; INTESTINE-SPLITTING MACHINES"
          ],
          [
           1968,
           32,
           0.04,
           "TREATING SKINS, HIDES OR LEATHER WITH CHEMICALS, ENZYMES OR MICROORGANISMS, e.g. TANNING, IMPREGNATING OR FINISHING; APPARATUS THEREFOR; COMPOSITIONS FOR TANNING"
          ],
          [
           1968,
           215,
           0.269,
           "METALLURGY OF IRON"
          ],
          [
           1968,
           48,
           0.06,
           "MANUFACTURE OF IRON OR STEEL"
          ],
          [
           1968,
           35,
           0.044,
           "PROCESSING OF PIG-IRON, e.g. REFINING, MANUFACTURE OF WROUGHT-IRON OR STEEL; TREATMENT IN MOLTEN STATE OF FERROUS ALLOYS"
          ],
          [
           1968,
           129,
           0.162,
           "MODIFYING THE PHYSICAL STRUCTURE OF FERROUS METALS; GENERAL DEVICES FOR HEAT TREATMENT OF FERROUS OR NON-FERROUS METALS OR ALLOYS; MAKING METAL MALLEABLE, e.g. BY DECARBURISATION OR TEMPERING"
          ],
          [
           1968,
           353,
           0.442,
           "METALLURGY; FERROUS OR NON-FERROUS ALLOYS; TREATMENT OF ALLOYS OR NON-FERROUS METALS"
          ],
          [
           1968,
           155,
           0.194,
           "PRODUCTION OR REFINING OF METALS; PRETREATMENT OF RAW MATERIALS"
          ],
          [
           1968,
           177,
           0.222,
           "ALLOYS"
          ],
          [
           1968,
           18,
           0.023,
           "CHANGING THE PHYSICAL STRUCTURE OF NON-FERROUS METALS OR NON-FERROUS ALLOYS"
          ],
          [
           1974,
           414,
           0.519,
           "COATING METALLIC MATERIAL; COATING MATERIAL WITH METALLIC MATERIAL; CHEMICAL SURFACE TREATMENT; DIFFUSION TREATMENT OF METALLIC MATERIAL; COATING BY VACUUM EVAPORATION, BY SPUTTERING, BY ION IMPLANTATION OR BY CHEMICAL VAPOUR DEPOSITION, IN GENERAL; INHIBITING CORROSION OF METALLIC MATERIAL OR INCRUSTATION IN GENERAL"
          ],
          [
           1985,
           299,
           0.375,
           "COATING METALLIC MATERIAL; COATING MATERIAL WITH METALLIC MATERIAL; SURFACE TREATMENT OF METALLIC MATERIAL BY DIFFUSION INTO THE SURFACE, BY CHEMICAL CONVERSION OR SUBSTITUTION; COATING BY VACUUM EVAPORATION, BY SPUTTERING, BY ION IMPLANTATION OR BY CHEMICAL VAPOUR DEPOSITION, IN GENERAL"
          ],
          [
           1968,
           20,
           0.025,
           "ENAMELLING OF, OR APPLYING A VITREOUS LAYER TO, METALS"
          ],
          [
           1985,
           60,
           0.075,
           "NON-MECHANICAL REMOVAL OF METALLIC MATERIAL FROM SURFACES; INHIBITING CORROSION OF METALLIC MATERIAL; INHIBITING INCRUSTATION IN GENERAL; MULTI-STEP PROCESSES FOR SURFACE TREATMENT OF METALLIC MATERIAL INVOLVING AT LEAST ONE PROCESS PROVIDED FOR IN CLASS"
          ],
          [
           1968,
           31,
           0.039,
           "CLEANING OR DEGREASING OF METALLIC MATERIAL BY CHEMICAL METHODS OTHER THAN ELECTROLYSIS"
          ],
          [
           1985,
           363,
           0.455,
           "ELECTROLYTIC OR ELECTROPHORETIC PROCESSES; APPARATUS THEREFOR"
          ],
          [
           1974,
           136,
           0.17,
           "ELECTROLYTIC OR ELECTROPHORETIC PROCESSES FOR THE PRODUCTION OF COMPOUNDS OR NON- METALS; APPARATUS THEREFOR"
          ],
          [
           1974,
           40,
           0.05,
           "PROCESSES FOR THE ELECTROLYTIC PRODUCTION, RECOVERY OR REFINING OF METALS; APPARATUS THEREFOR"
          ],
          [
           1974,
           154,
           0.193,
           "PROCESSES FOR THE ELECTROLYTIC OR ELECTROPHORETIC PRODUCTION OF COATINGS; ELECTROFORMING; JOINING WORKPIECES BY ELECTROLYSIS; APPARATUS THEREFOR"
          ],
          [
           1974,
           29,
           0.036,
           "PROCESSES FOR THE ELECTROLYTIC REMOVAL OF MATERIALS FROM OBJECTS; APPARATUS THEREFOR"
          ],
          [
           1980,
           171,
           0.214,
           "CRYSTAL GROWTH"
          ],
          [
           1980,
           170,
           0.213,
           "SINGLE-CRYSTAL GROWTH; UNIDIRECTIONAL SOLIDIFICATION OF EUTECTIC MATERIAL OR UNIDIRECTIONAL DEMIXING OF EUTECTOID MATERIAL; REFINING BY ZONE-MELTING OF MATERIAL; PRODUCTION OF A HOMOGENEOUS POLYCRYSTALLINE MATERIAL WITH DEFINED STRUCTURE; SINGLE CRYSTALS OR HOMOGENEOUS POLYCRYSTALLINE MATERIAL WITH DEFINED STRUCTURE; AFTER-TREATMENT OF SINGLE CRYSTALS OR A HOMOGENEOUS POLYCRYSTALLINE MATERIAL WITH DEFINED STRUCTURE; APPARATUS THEREFOR"
          ],
          [
           2006,
           42,
           0.053,
           "COMBINATORIAL TECHNOLOGY"
          ],
          [
           2006,
           41,
           0.051,
           "COMBINATORIAL CHEMISTRY; LIBRARIES, e.g. CHEMICAL LIBRARIES"
          ],
          [
           2006,
           2,
           0.003,
           "SUBJECT MATTER NOT OTHERWISE PROVIDED FOR IN THIS SECTION"
          ],
          [
           2006,
           1,
           0.001,
           "SUBJECT MATTER NOT OTHERWISE PROVIDED FOR IN THIS SECTION"
          ],
          [
           1968,
           3300,
           4.134,
           "TEXTILES; PAPER"
          ],
          [
           1968,
           541,
           0.678,
           "NATURAL OR MAN-MADE THREADS OR FIBRES; SPINNING"
          ],
          [
           1968,
           46,
           0.058,
           "MECHANICAL TREATMENT OF NATURAL FIBROUS OR FILAMENTARY MATERIAL TO OBTAIN FIBRES OR FILAMENTS, e.g. FOR SPINNING"
          ],
          [
           1968,
           6,
           0.008,
           "CHEMICAL OR BIOLOGICAL TREATMENT OF NATURAL FILAMENTARY OR FIBROUS MATERIAL TO OBTAIN FILAMENTS OR FIBRES FOR SPINNING; CARBONISING RAGS TO RECOVER ANIMAL FIBRES"
          ],
          [
           1968,
           54,
           0.068,
           "MECHANICAL METHODS OR APPARATUS IN THE MANUFACTURE OF MAN-MADE FILAMENTS, THREADS, FIBRES, BRISTLES OR RIBBONS"
          ],
          [
           1974,
           122,
           0.153,
           "CHEMICAL FEATURES IN THE MANUFACTURE OF MAN-MADE FILAMENTS, THREADS, FIBRES, BRISTLES OR RIBBONS; APPARATUS SPECIALLY ADAPTED FOR THE MANUFACTURE OF CARBON FILAMENTS"
          ],
          [
           1968,
           114,
           0.143,
           "PRELIMINARY TREATMENT OF FIBRES, e.g. FOR SPINNING"
          ],
          [
           1968,
           193,
           0.242,
           "SPINNING OR TWISTING"
          ],
          [
           1968,
           91,
           0.114,
           "YARNS; MECHANICAL FINISHING OF YARNS OR ROPES; WARPING OR BEAMING"
          ],
          [
           1968,
           36,
           0.045,
           "CRIMPING OR CURLING FIBRES, FILAMENTS, YARNS, OR THREADS; YARNS OR THREADS"
          ],
          [
           1968,
           28,
           0.035,
           "WARPING, BEAMING, OR LEASING"
          ],
          [
           1968,
           24,
           0.03,
           "FINISHING OR DRESSING OF FILAMENTS, YARNS, THREADS, CORDS, ROPES, OR THE LIKE"
          ],
          [
           1968,
           322,
           0.403,
           "WEAVING"
          ],
          [
           1968,
           67,
           0.084,
           "SHEDDING MECHANISMS; PATTERN CARDS OR CHAINS; PUNCHING OF CARDS; DESIGNING PATTERNS"
          ],
          [
           1968,
           222,
           0.278,
           "WOVEN FABRICS; METHODS OF WEAVING; LOOMS"
          ],
          [
           1968,
           30,
           0.038,
           "AUXILIARY WEAVING APPARATUS; WEAVERS' TOOLS; SHUTTLES"
          ],
          [
           1968,
           449,
           0.562,
           "BRAIDING; LACE-MAKING; KNITTING; TRIMMINGS; NON-WOVEN FABRICS"
          ],
          [
           1968,
           227,
           0.284,
           "KNITTING"
          ],
          [
           1968,
           47,
           0.059,
           "BRAIDING OR MANUFACTURE OF LACE, INCLUDING BOBBIN-NET OR CARBONISED LACE; BRAIDING MACHINES; BRAID; LACE"
          ],
          [
           1968,
           16,
           0.02,
           "TRIMMINGS; RIBBONS, TAPES, OR BANDS, NOT OTHERWISE PROVIDED FOR"
          ],
          [
           1968,
           9,
           0.011,
           "MAKING NETS BY KNOTTING OF FILAMENTARY MATERIAL; MAKING KNOTTED CARPETS OR TAPESTRIES; KNOTTING NOT OTHERWISE PROVIDED FOR"
          ],
          [
           1968,
           145,
           0.182,
           "MAKING TEXTILE FABRICS, e.g. FROM FIBRES OR FILAMENTARY MATERIAL; FABRICS MADE BY SUCH PROCESSES OR APPARATUS, e.g. FELTS, NON-WOVEN FABRICS; COTTON-WOOL; WADDING"
          ],
          [
           1968,
           287,
           0.36,
           "SEWING; EMBROIDERING; TUFTING"
          ],
          [
           1968,
           215,
           0.269,
           "SEWING"
          ],
          [
           1968,
           70,
           0.088,
           "EMBROIDERING; TUFTING"
          ],
          [
           1968,
           1070,
           1.34,
           "TREATMENT OF TEXTILES OR THE LIKE; LAUNDERING; FLEXIBLE MATERIALS NOT OTHERWISE PROVIDED FOR"
          ],
          [
           1974,
           86,
           0.108,
           "TREATING TEXTILE MATERIALS USING LIQUIDS, GASES OR VAPOURS"
          ],
          [
           1974,
           40,
           0.05,
           "FINISHING, DRESSING, TENTERING OR STRETCHING TEXTILE FABRICS"
          ],
          [
           1968,
           384,
           0.481,
           "LAUNDERING, DRYING, IRONING, PRESSING OR FOLDING TEXTILE ARTICLES"
          ],
          [
           1968,
           5,
           0.006,
           "MECHANICAL OR PRESSURE CLEANING OF CARPETS, RUGS, SACKS, HIDES, OR OTHER SKIN OR TEXTILE ARTICLES OR FABRICS; TURNING INSIDE-OUT FLEXIBLE TUBULAR OR OTHER HOLLOW ARTICLES"
          ],
          [
           1968,
           26,
           0.033,
           "MARKING, INSPECTING, SEAMING OR SEVERING TEXTILE MATERIALS"
          ],
          [
           1968,
           7,
           0.009,
           "PLEATING, KILTING OR GOFFERING TEXTILE FABRICS OR WEARING APPAREL"
          ],
          [
           1968,
           48,
           0.06,
           "DRY-CLEANING, WASHING OR BLEACHING FIBRES, FILAMENTS, THREADS, YARNS, FABRICS, FEATHERS OR MADE-UP FIBROUS GOODS; BLEACHING LEATHER OR FURS"
          ],
          [
           1968,
           315,
           0.395,
           "TREATMENT, NOT PROVIDED FOR ELSEWHERE IN CLASS"
          ],
          [
           1968,
           16,
           0.02,
           "WALL, FLOOR, OR LIKE COVERING MATERIALS, e.g. LINOLEUM, OILCLOTH, ARTIFICIAL LEATHER, ROOFING FELT, CONSISTING OF A FIBROUS WEB COATED WITH A LAYER OF MACROMOLECULAR MATERIAL; FLEXIBLE SHEET MATERIAL NOT OTHERWISE PROVIDED FOR"
          ],
          [
           1968,
           124,
           0.155,
           "DYEING OR PRINTING TEXTILES; DYEING LEATHER, FURS OR SOLID MACROMOLECULAR SUBSTANCES IN ANY FORM"
          ],
          [
           1990,
           8,
           0.01,
           "DECORATING TEXTILES"
          ],
          [
           1968,
           39,
           0.049,
           "ROPES; CABLES OTHER THAN ELECTRIC"
          ],
          [
           1968,
           38,
           0.048,
           "ROPES OR CABLES IN GENERAL"
          ],
          [
           1968,
           490,
           0.614,
           "PAPER-MAKING; PRODUCTION OF CELLULOSE"
          ],
          [
           1968,
           20,
           0.025,
           "FIBROUS RAW MATERIALS OR THEIR MECHANICAL TREATMENT"
          ],
          [
           1968,
           52,
           0.065,
           "PRODUCTION OF CELLULOSE BY REMOVING NON-CELLULOSE SUBSTANCES FROM CELLULOSE- CONTAINING MATERIALS; REGENERATION OF PULPING LIQUORS; APPARATUS THEREFOR"
          ],
          [
           1990,
           37,
           0.046,
           "TREATMENT OF THE MATERIALS BEFORE PASSING TO THE PAPER-MAKING MACHINE"
          ],
          [
           1968,
           86,
           0.108,
           "PAPER-MAKING MACHINES; METHODS OF PRODUCING PAPER THEREON"
          ],
          [
           1968,
           8,
           0.01,
           "CALENDERS; ACCESSORIES FOR PAPER-MAKING MACHINES"
          ],
          [
           1990,
           260,
           0.326,
           "PULP COMPOSITIONS; PREPARATION THEREOF NOT COVERED BY SUBCLASSES; IMPREGNATING OR COATING OF PAPER; TREATMENT OF FINISHED PAPER NOT COVERED BY CLASS; PAPER NOT OTHERWISE PROVIDED FOR"
          ],
          [
           1968,
           20,
           0.025,
           "FIBREBOARD; MANUFACTURE OF ARTICLES FROM CELLULOSIC FIBROUS SUSPENSIONS OR FROM PAPIER-MÂCHÉ"
          ],
          [
           2006,
           2,
           0.003,
           "SUBJECT MATTER NOT OTHERWISE PROVIDED FOR IN THIS SECTION"
          ],
          [
           2006,
           1,
           0.001,
           "SUBJECT MATTER NOT OTHERWISE PROVIDED FOR IN THIS SECTION"
          ],
          [
           1968,
           3484,
           4.365,
           "FIXED CONSTRUCTIONS"
          ],
          [
           1968,
           517,
           0.648,
           "CONSTRUCTION OF ROADS, RAILWAYS, OR BRIDGES"
          ],
          [
           1968,
           227,
           0.284,
           "PERMANENT WAY; PERMANENT-WAY TOOLS; MACHINES FOR MAKING RAILWAYS OF ALL KINDS"
          ],
          [
           1968,
           127,
           0.159,
           "CONSTRUCTION OF, OR SURFACES FOR, ROADS, SPORTS GROUNDS, OR THE LIKE; MACHINES OR AUXILIARY TOOLS FOR CONSTRUCTION OR REPAIR"
          ],
          [
           1968,
           51,
           0.064,
           "BRIDGES"
          ],
          [
           1968,
           72,
           0.09,
           "ADDITIONAL WORK, SUCH AS EQUIPPING ROADS OR THE CONSTRUCTION OF PLATFORMS, HELICOPTER LANDING STAGES, SIGNS, SNOW FENCES, OR THE LIKE"
          ],
          [
           1985,
           35,
           0.044,
           "STREET CLEANING; CLEANING OF PERMANENT WAYS; CLEANING BEACHES; CLEANING LAND; DISPERSING FOG IN GENERAL"
          ],
          [
           1968,
           361,
           0.452,
           "HYDRAULIC ENGINEERING; FOUNDATIONS; SOIL-SHIFTING"
          ],
          [
           1968,
           74,
           0.093,
           "HYDRAULIC ENGINEERING"
          ],
          [
           1968,
           9,
           0.011,
           "SHIP-LIFTING DEVICES OR MECHANISMS"
          ],
          [
           1995,
           180,
           0.225,
           "FOUNDATIONS; EXCAVATIONS; EMBANKMENTS; UNDERGROUND OR UNDERWATER STRUCTURES"
          ],
          [
           1968,
           94,
           0.118,
           "DREDGING; SOIL-SHIFTING"
          ],
          [
           1968,
           225,
           0.282,
           "WATER SUPPLY; SEWERAGE"
          ],
          [
           1968,
           60,
           0.075,
           "INSTALLATIONS OR METHODS FOR OBTAINING, COLLECTING, OR DISTRIBUTING WATER"
          ],
          [
           1968,
           57,
           0.071,
           "DOMESTIC PLUMBING INSTALLATIONS FOR FRESH WATER OR WASTE WATER; SINKS"
          ],
          [
           1968,
           74,
           0.093,
           "WATER-CLOSETS OR URINALS WITH FLUSHING DEVICES; FLUSHING VALVES THEREFOR"
          ],
          [
           1968,
           30,
           0.038,
           "SEWERS; CESSPOOLS"
          ],
          [
           1968,
           719,
           0.901,
           "BUILDING"
          ],
          [
           1968,
           161,
           0.202,
           "GENERAL BUILDING CONSTRUCTIONS; WALLS, e.g. PARTITIONS; ROOFS; FLOORS; CEILINGS; INSULATION OR OTHER PROTECTION OF BUILDINGS"
          ],
          [
           1968,
           78,
           0.098,
           "STRUCTURAL ELEMENTS; BUILDING MATERIALS"
          ],
          [
           1968,
           85,
           0.106,
           "ROOF COVERINGS; SKY-LIGHTS; GUTTERS; ROOF-WORKING TOOLS"
          ],
          [
           1968,
           98,
           0.123,
           "FINISHING WORK ON BUILDINGS, e.g. STAIRS, FLOORS"
          ],
          [
           1968,
           142,
           0.178,
           "SCAFFOLDING; FORMS; SHUTTERING; BUILDING IMPLEMENTS OR AIDS, OR THEIR USE; HANDLING BUILDING MATERIALS ON THE SITE; REPAIRING, BREAKING-UP OR OTHER WORK ON EXISTING BUILDINGS"
          ],
          [
           1985,
           149,
           0.187,
           "BUILDINGS OR LIKE STRUCTURES FOR PARTICULAR PURPOSES; SWIMMING OR SPLASH BATHS OR POOLS; MASTS; FENCING; TENTS OR CANOPIES, IN GENERAL"
          ],
          [
           1968,
           654,
           0.819,
           "LOCKS; KEYS; WINDOW OR DOOR FITTINGS; SAFES"
          ],
          [
           1968,
           333,
           0.417,
           "LOCKS; ACCESSORIES THEREFOR; HANDCUFFS"
          ],
          [
           1968,
           93,
           0.117,
           "BOLTS OR FASTENING DEVICES FOR WINGS, SPECIALLY FOR DOORS OR WINDOWS"
          ],
          [
           1968,
           79,
           0.099,
           "HINGES OR SUSPENSION DEVICES FOR DOORS, WINDOWS OR WINGS"
          ],
          [
           1968,
           131,
           0.164,
           "DEVICES FOR MOVING WINGS INTO OPEN OR CLOSED POSITION; CHECKS FOR WINGS; WING FITTINGS NOT OTHERWISE PROVIDED FOR, CONCERNED WITH THE FUNCTIONING OF THE WING"
          ],
          [
           1974,
           13,
           0.016,
           "SAFES OR STRONG-ROOMS FOR VALUABLES; BANK PROTECTION DEVICES; SAFETY TRANSACTION PARTITIONS"
          ],
          [
           1968,
           297,
           0.372,
           "DOORS, WINDOWS, SHUTTERS, OR ROLLER BLINDS, IN GENERAL; LADDERS"
          ],
          [
           1968,
           220,
           0.276,
           "FIXED OR MOVABLE CLOSURES FOR OPENINGS IN BUILDINGS, VEHICLES, FENCES, OR LIKE ENCLOSURES, IN GENERAL, e.g. DOORS, WINDOWS, BLINDS, GATES"
          ],
          [
           1990,
           75,
           0.094,
           "LADDERS"
          ],
          [
           1968,
           701,
           0.878,
           "EARTH OR ROCK DRILLING; MINING"
          ],
          [
           1990,
           369,
           0.462,
           "EARTH OR ROCK DRILLING; OBTAINING OIL, GAS, WATER, SOLUBLE OR MELTABLE MATERIALS OR A SLURRY OF MINERALS FROM WELLS"
          ],
          [
           1968,
           140,
           0.175,
           "MINING OR QUARRYING"
          ],
          [
           1974,
           138,
           0.173,
           "SHAFTS; TUNNELS; GALLERIES; LARGE UNDERGROUND CHAMBERS"
          ],
          [
           1974,
           50,
           0.063,
           "SAFETY DEVICES, TRANSPORT, FILLING-UP, RESCUE, VENTILATION, OR DRAINAGE IN OR OF MINES OR TUNNELS"
          ],
          [
           2006,
           2,
           0.003,
           "SUBJECT MATTER NOT OTHERWISE PROVIDED FOR IN THIS SECTION"
          ],
          [
           2006,
           1,
           0.001,
           "SUBJECT MATTER NOT OTHERWISE PROVIDED FOR IN THIS SECTION"
          ],
          [
           1968,
           9605,
           12.033,
           "MECHANICAL ENGINEERING; LIGHTING; HEATING; WEAPONS; BLASTING"
          ],
          [
           1968,
           711,
           0.891,
           "MACHINES OR ENGINES IN GENERAL; ENGINE PLANTS IN GENERAL; STEAM ENGINES"
          ],
          [
           1968,
           105,
           0.132,
           "MACHINES OR ENGINES, IN GENERAL OR OF POSITIVE-DISPLACEMENT TYPE, e.g. STEAM ENGINES"
          ],
          [
           1968,
           88,
           0.11,
           "ROTARY-PISTON OR OSCILLATING-PISTON MACHINES OR ENGINES"
          ],
          [
           1968,
           117,
           0.147,
           "NON-POSITIVE-DISPLACEMENT MACHINES OR ENGINES, e.g. STEAM TURBINES"
          ],
          [
           1968,
           95,
           0.119,
           "STEAM ENGINE PLANTS; STEAM ACCUMULATORS; ENGINE PLANTS NOT OTHERWISE PROVIDED FOR; ENGINES USING SPECIAL WORKING FLUIDS OR CYCLES"
          ],
          [
           1968,
           145,
           0.182,
           "CYCLICALLY OPERATING VALVES FOR MACHINES OR ENGINES"
          ],
          [
           1974,
           41,
           0.051,
           "LUBRICATING OF MACHINES OR ENGINES IN GENERAL; LUBRICATING INTERNAL-COMBUSTION ENGINES; CRANKCASE VENTILATING"
          ],
          [
           1968,
           62,
           0.078,
           "GAS-FLOW SILENCERS OR EXHAUST APPARATUS FOR MACHINES OR ENGINES IN GENERAL; GAS-FLOW SILENCERS OR EXHAUST APPARATUS FOR INTERNAL-COMBUSTION ENGINES"
          ],
          [
           1968,
           50,
           0.063,
           "COOLING OF MACHINES OR ENGINES IN GENERAL; COOLING OF INTERNAL-COMBUSTION ENGINES"
          ],
          [
           1968,
           1190,
           1.491,
           "COMBUSTION ENGINES; HOT-GAS OR COMBUSTION-PRODUCT ENGINE PLANTS"
          ],
          [
           1968,
           240,
           0.301,
           "INTERNAL-COMBUSTION PISTON ENGINES; COMBUSTION ENGINES IN GENERAL"
          ],
          [
           1968,
           115,
           0.144,
           "GAS-TURBINE PLANTS; AIR INTAKES FOR JET-PROPULSION PLANTS; CONTROLLING FUEL SUPPLY IN AIR-BREATHING JET-PROPULSION PLANTS"
          ],
          [
           1985,
           105,
           0.132,
           "CONTROLLING COMBUSTION ENGINES"
          ],
          [
           1974,
           40,
           0.05,
           "CYLINDERS, PISTONS, OR CASINGS FOR COMBUSTION ENGINES; ARRANGEMENTS OF SEALINGS IN COMBUSTION ENGINES"
          ],
          [
           1968,
           17,
           0.021,
           "HOT-GAS OR COMBUSTION-PRODUCT POSITIVE-DISPLACEMENT ENGINE PLANTS; USE OF WASTE HEAT OF COMBUSTION ENGINES, NOT OTHERWISE PROVIDED FOR"
          ],
          [
           1968,
           120,
           0.15,
           "JET-PROPULSION PLANTS"
          ],
          [
           1968,
           429,
           0.537,
           "SUPPLYING COMBUSTION ENGINES IN GENERAL WITH COMBUSTIBLE MIXTURES OR CONSTITUENTS THEREOF"
          ],
          [
           1968,
           42,
           0.053,
           "STARTING OF COMBUSTION ENGINES; STARTING AIDS FOR SUCH ENGINES, NOT OTHERWISE PROVIDED FOR"
          ],
          [
           1968,
           73,
           0.091,
           "IGNITION, OTHER THAN COMPRESSION IGNITION, FOR INTERNAL-COMBUSTION ENGINES; TESTING OF IGNITION TIMING IN COMPRESSION-IGNITION ENGINES"
          ],
          [
           1968,
           187,
           0.234,
           "MACHINES OR ENGINES FOR LIQUIDS; WIND, SPRING, OR WEIGHT MOTORS; PRODUCING MECHANICAL POWER OR A REACTIVE PROPULSIVE THRUST, NOT OTHERWISE PROVIDED FOR"
          ],
          [
           1968,
           51,
           0.064,
           "MACHINES OR ENGINES FOR LIQUIDS"
          ],
          [
           1968,
           36,
           0.045,
           "POSITIVE-DISPLACEMENT ENGINES DRIVEN BY LIQUIDS"
          ],
          [
           1968,
           62,
           0.078,
           "WIND MOTORS"
          ],
          [
           1968,
           30,
           0.038,
           "SPRING, WEIGHT, INERTIA, OR LIKE MOTORS; MECHANICAL-POWER-PRODUCING DEVICES OR MECHANISMS, NOT OTHERWISE PROVIDED FOR OR USING ENERGY SOURCES NOT OTHERWISE PROVIDED FOR"
          ],
          [
           1968,
           3,
           0.004,
           "PRODUCING A REACTIVE PROPULSIVE THRUST, NOT OTHERWISE PROVIDED FOR"
          ],
          [
           1968,
           580,
           0.727,
           "POSITIVE-DISPLACEMENT MACHINES FOR LIQUIDS; PUMPS FOR LIQUIDS OR ELASTIC FLUIDS"
          ],
          [
           1968,
           272,
           0.341,
           "POSITIVE-DISPLACEMENT MACHINES FOR LIQUIDS; PUMPS"
          ],
          [
           1968,
           138,
           0.173,
           "ROTARY-PISTON, OR OSCILLATING-PISTON, POSITIVE-DISPLACEMENT MACHINES FOR LIQUIDS; ROTARY-PISTON, OR OSCILLATING-PISTON, POSITIVE-DISPLACEMENT PUMPS"
          ],
          [
           1968,
           115,
           0.144,
           "NON-POSITIVE-DISPLACEMENT PUMPS"
          ],
          [
           1974,
           51,
           0.064,
           "PUMPING OF FLUID BY DIRECT CONTACT OF ANOTHER FLUID OR BY USING INERTIA OF FLUID TO BE PUMPED; SIPHONS"
          ],
          [
           1968,
           150,
           0.188,
           "FLUID-PRESSURE ACTUATORS; HYDRAULICS OR PNEUMATICS IN GENERAL"
          ],
          [
           1968,
           115,
           0.144,
           "SYSTEMS ACTING BY MEANS OF FLUIDS IN GENERAL; FLUID-PRESSURE ACTUATORS, e.g. SERVOMOTORS; DETAILS OF FLUID-PRESSURE SYSTEMS, NOT OTHERWISE PROVIDED FOR"
          ],
          [
           1968,
           24,
           0.03,
           "FLUID-CIRCUIT ELEMENTS PREDOMINANTLY USED FOR COMPUTING OR CONTROL PURPOSES"
          ],
          [
           1968,
           8,
           0.01,
           "FLUID DYNAMICS, i.e. METHODS OR MEANS FOR INFLUENCING THE FLOW OF GASES OR LIQUIDS"
          ],
          [
           1968,
           2693,
           3.374,
           "ENGINEERING ELEMENTS OR UNITS; GENERAL MEASURES FOR PRODUCING AND MAINTAINING EFFECTIVE FUNCTIONING OF MACHINES OR INSTALLATIONS; THERMAL INSULATION IN GENERAL"
          ],
          [
           1968,
           175,
           0.219,
           "DEVICES FOR FASTENING OR SECURING CONSTRUCTIONAL ELEMENTS OR MACHINE PARTS TOGETHER, e.g. NAILS, BOLTS, CIRCLIPS, CLAMPS, CLIPS OR WEDGES; JOINTS OR JOINTING"
          ],
          [
           1990,
           205,
           0.257,
           "SHAFTS; FLEXIBLE SHAFTS; MECHANICAL MEANS FOR TRANSMITTING MOVEMENT IN A FLEXIBLE SHEATHING; ELEMENTS OF CRANKSHAFT MECHANISMS; PIVOTS; PIVOTAL CONNECTIONS; ROTARY ENGINEERING ELEMENTS OTHER THAN GEARING, COUPLING, CLUTCH OR BRAKE ELEMENTS; BEARINGS"
          ],
          [
           1974,
           512,
           0.641,
           "COUPLINGS FOR TRANSMITTING ROTATION; CLUTCHES; BRAKES"
          ],
          [
           1968,
           174,
           0.218,
           "SPRINGS; SHOCK-ABSORBERS; MEANS FOR DAMPING VIBRATION"
          ],
          [
           1968,
           81,
           0.101,
           "BELTS, CABLES, OR ROPES, PREDOMINANTLY USED FOR DRIVING PURPOSES; CHAINS; FITTINGS PREDOMINANTLY USED THEREFOR"
          ],
          [
           1968,
           515,
           0.645,
           "GEARING"
          ],
          [
           1968,
           109,
           0.137,
           "PISTONS; CYLINDERS; PRESSURE VESSELS IN GENERAL; SEALINGS"
          ],
          [
           1968,
           270,
           0.338,
           "VALVES; TAPS; COCKS; ACTUATING-FLOATS; DEVICES FOR VENTING OR AERATING"
          ],
          [
           1968,
           453,
           0.567,
           "PIPES; JOINTS OR FITTINGS FOR PIPES; SUPPORTS FOR PIPES, CABLES OR PROTECTIVE TUBING; MEANS FOR THERMAL INSULATION IN GENERAL"
          ],
          [
           1968,
           41,
           0.051,
           "FRAMES, CASINGS OR BEDS OF ENGINES, MACHINES OR APPARATUS, NOT SPECIFIC TO ENGINES, MACHINES OR APPARATUS PROVIDED FOR ELSEWHERE; STANDS; SUPPORTS"
          ],
          [
           1968,
           86,
           0.108,
           "LUBRICATING"
          ],
          [
           1968,
           20,
           0.025,
           "SAFETY DEVICES IN GENERAL"
          ],
          [
           1968,
           14,
           0.018,
           "CONSTRUCTIONAL ELEMENTS IN GENERAL; STRUCTURES BUILT-UP FROM SUCH ELEMENTS, IN GENERAL"
          ],
          [
           1968,
           24,
           0.03,
           "STEAM TRAPS OR LIKE APPARATUS FOR DRAINING-OFF LIQUIDS FROM ENCLOSURES PREDOMINANTLY CONTAINING GASES OR VAPOURS"
          ],
          [
           1968,
           85,
           0.106,
           "STORING OR DISTRIBUTING GASES OR LIQUIDS"
          ],
          [
           1968,
           16,
           0.02,
           "GAS-HOLDERS OF VARIABLE CAPACITY"
          ],
          [
           1968,
           35,
           0.044,
           "VESSELS FOR CONTAINING OR STORING COMPRESSED, LIQUEFIED, OR SOLIDIFIED GASES; FIXED-CAPACITY GAS-HOLDERS; FILLING VESSELS WITH, OR DISCHARGING FROM VESSELS, COMPRESSED, LIQUEFIED, OR SOLIDIFIED GASES"
          ],
          [
           1968,
           31,
           0.039,
           "PIPE-LINE SYSTEMS; PIPE-LINES"
          ],
          [
           1968,
           522,
           0.654,
           "LIGHTING"
          ],
          [
           1968,
           5,
           0.006,
           "INCANDESCENT MANTLES; OTHER INCANDESCENT BODIES HEATED BY COMBUSTION"
          ],
          [
           1968,
           37,
           0.046,
           "NON-ELECTRIC LIGHT SOURCES USING LUMINESCENCE; LIGHT SOURCES USING ELECTROCHEMILUMINESCENCE; LIGHT SOURCES USING CHARGES OF COMBUSTIBLE MATERIAL; LIGHT SOURCES USING SEMICONDUCTOR DEVICES AS LIGHT-GENERATING ELEMENTS; LIGHT SOURCES NOT OTHERWISE PROVIDED FOR"
          ],
          [
           1968,
           20,
           0.025,
           "LIGHTING DEVICES OR SYSTEMS THEREOF, BEING PORTABLE OR SPECIALLY ADAPTED FOR TRANSPORTATION"
          ],
          [
           1968,
           141,
           0.177,
           "NON-PORTABLE LIGHTING DEVICES; SYSTEMS THEREOF; VEHICLE LIGHTING DEVICES SPECIALLY ADAPTED FOR VEHICLE EXTERIORS"
          ],
          [
           1968,
           198,
           0.248,
           "FUNCTIONAL FEATURES OR DETAILS OF LIGHTING DEVICES OR SYSTEMS THEREOF; STRUCTURAL COMBINATIONS OF LIGHTING DEVICES WITH OTHER ARTICLES, NOT OTHERWISE PROVIDED FOR"
          ],
          [
           2000,
           79,
           0.099,
           "INDEXING SCHEME ASSOCIATED WITH SUBCLASSES"
          ],
          [
           2000,
           35,
           0.044,
           "INDEXING SCHEME ASSOCIATED WITH SUBCLASSES"
          ],
          [
           1968,
           273,
           0.342,
           "STEAM GENERATION"
          ],
          [
           1968,
           178,
           0.223,
           "METHODS OF STEAM GENERATION; STEAM BOILERS"
          ],
          [
           1968,
           63,
           0.079,
           "PREHEATING, OR ACCUMULATING PREHEATED, FEED-WATER FOR STEAM GENERATION; FEED-WATER SUPPLY FOR STEAM GENERATION; CONTROLLING WATER LEVEL FOR STEAM GENERATION; AUXILIARY DEVICES FOR PROMOTING WATER CIRCULATION WITHIN STEAM BOILERS"
          ],
          [
           1968,
           29,
           0.036,
           "SUPERHEATING OF STEAM"
          ],
          [
           1968,
           549,
           0.688,
           "COMBUSTION APPARATUS; COMBUSTION PROCESSES"
          ],
          [
           1968,
           36,
           0.045,
           "METHODS OR APPARATUS FOR COMBUSTION USING ONLY SOLID FUEL"
          ],
          [
           1968,
           53,
           0.066,
           "METHODS OR APPARATUS FOR COMBUSTION USING FLUID FUEL OR SOLID FUEL SUSPENDED IN AIR"
          ],
          [
           1968,
           107,
           0.134,
           "BURNERS"
          ],
          [
           1968,
           39,
           0.049,
           "CREMATION FURNACES; CONSUMING WASTE OR LOW GRADE FUELS BY COMBUSTION"
          ],
          [
           1968,
           54,
           0.068,
           "GRATES; CLEANING OR RAKING GRATES"
          ],
          [
           1968,
           29,
           0.036,
           "REMOVAL OR TREATMENT OF COMBUSTION PRODUCTS OR COMBUSTION RESIDUES; FLUES"
          ],
          [
           1968,
           27,
           0.034,
           "FEEDING FUEL TO COMBUSTION APPARATUS"
          ],
          [
           1968,
           32,
           0.04,
           "SUPPLYING AIR OR NON-COMBUSTIBLE LIQUIDS OR GASES TO COMBUSTION APPARATUS IN GENERAL; VALVES OR DAMPERS SPECIALLY ADAPTED FOR CONTROLLING AIR SUPPLY OR DRAUGHT IN COMBUSTION APPARATUS; INDUCING DRAUGHT IN COMBUSTION APPARATUS; TOPS FOR CHIMNEYS OR VENTILATING SHAFTS; TERMINALS FOR FLUES"
          ],
          [
           1968,
           30,
           0.038,
           "CASINGS, LININGS, WALLS OR DOORS SPECIALLY ADAPTED FOR COMBUSTION CHAMBERS, e.g. FIREBRIDGES; DEVICES FOR DEFLECTING AIR, FLAMES OR COMBUSTION PRODUCTS IN COMBUSTION CHAMBERS; SAFETY ARRANGEMENTS SPECIALLY ADAPTED FOR COMBUSTION APPARATUS; DETAILS OF COMBUSTION CHAMBERS, NOT OTHERWISE PROVIDED FOR"
          ],
          [
           1968,
           25,
           0.031,
           "REGULATING OR CONTROLLING COMBUSTION"
          ],
          [
           1968,
           72,
           0.09,
           "IGNITION; EXTINGUISHING DEVICES"
          ],
          [
           1968,
           33,
           0.041,
           "GENERATING COMBUSTION PRODUCTS OF HIGH PRESSURE OR HIGH VELOCITY, e.g. GAS-TURBINE COMBUSTION CHAMBERS"
          ],
          [
           1968,
           761,
           0.953,
           "HEATING; RANGES; VENTILATING"
          ],
          [
           1995,
           51,
           0.064,
           "DOMESTIC STOVES OR RANGES FOR SOLID FUELS; IMPLEMENTS FOR USE IN CONNECTION WITH STOVES OR RANGES"
          ],
          [
           1968,
           58,
           0.073,
           "DOMESTIC STOVES OR RANGES; DETAILS OF DOMESTIC STOVES OR RANGES, OF GENERAL APPLICATION"
          ],
          [
           1968,
           61,
           0.076,
           "DOMESTIC- OR SPACE-HEATING SYSTEMS, e.g. CENTRAL HEATING SYSTEMS; DOMESTIC HOT-WATER SUPPLY SYSTEMS; ELEMENTS OR COMPONENTS THEREFOR"
          ],
          [
           1968,
           275,
           0.345,
           "AIR-CONDITIONING; AIR-HUMIDIFICATION; VENTILATION; USE OF AIR CURRENTS FOR SCREENING"
          ],
          [
           1968,
           155,
           0.194,
           "FLUID HEATERS, e.g. WATER OR AIR HEATERS, HAVING HEAT-GENERATING MEANS, e.g. HEAT PUMPS, IN GENERAL"
          ],
          [
           2018,
           139,
           0.174,
           "SOLAR HEAT COLLECTORS; SOLAR HEAT SYSTEMS"
          ],
          [
           2018,
           9,
           0.011,
           "GEOTHERMAL COLLECTORS; GEOTHERMAL SYSTEMS"
          ],
          [
           2018,
           5,
           0.006,
           "COLLECTION, PRODUCTION OR USE OF HEAT NOT OTHERWISE PROVIDED FOR"
          ],
          [
           1968,
           213,
           0.267,
           "REFRIGERATION OR COOLING; COMBINED HEATING AND REFRIGERATION SYSTEMS; HEAT PUMP SYSTEMS; MANUFACTURE OR STORAGE OF ICE; LIQUEFACTION OR SOLIDIFICATION OF GASES"
          ],
          [
           1968,
           112,
           0.14,
           "REFRIGERATION MACHINES, PLANTS OR SYSTEMS; COMBINED HEATING AND REFRIGERATION SYSTEMS; HEAT PUMP SYSTEMS"
          ],
          [
           1974,
           36,
           0.045,
           "PRODUCING, WORKING OR HANDLING ICE"
          ],
          [
           1968,
           53,
           0.066,
           "REFRIGERATORS; COLD ROOMS; ICE-BOXES; COOLING OR FREEZING APPARATUS NOT OTHERWISE PROVIDED FOR"
          ],
          [
           1968,
           8,
           0.01,
           "LIQUEFACTION, SOLIDIFICATION, OR SEPARATION OF GASES OR GASEOUS MIXTURES BY PRESSURE AND COLD TREATMENT"
          ],
          [
           1968,
           131,
           0.164,
           "DRYING"
          ],
          [
           1968,
           130,
           0.163,
           "DRYING SOLID MATERIALS OR OBJECTS BY REMOVING LIQUID THEREFROM"
          ],
          [
           1985,
           193,
           0.242,
           "FURNACES; KILNS, OVENS OR RETORTS"
          ],
          [
           1968,
           135,
           0.169,
           "FURNACES, KILNS, OVENS OR RETORTS IN GENERAL; OPEN SINTERING OR LIKE APPARATUS"
          ],
          [
           1968,
           56,
           0.07,
           "DETAILS OR ACCESSORIES OF FURNACES, KILNS, OVENS OR RETORTS, IN SO FAR AS THEY ARE OF KINDS OCCURRING IN MORE THAN ONE KIND OF FURNACE"
          ],
          [
           1968,
           205,
           0.257,
           "HEAT EXCHANGE IN GENERAL"
          ],
          [
           1968,
           19,
           0.024,
           "STEAM OR VAPOUR CONDENSERS"
          ],
          [
           1968,
           19,
           0.024,
           "HEAT-EXCHANGE APPARATUS, NOT PROVIDED FOR IN ANOTHER SUBCLASS, IN WHICH THE HEAT-EXCHANGE MEDIA COME INTO DIRECT CONTACT WITHOUT CHEMICAL INTERACTION"
          ],
          [
           1985,
           43,
           0.054,
           "HEAT-EXCHANGE APPARATUS, NOT PROVIDED FOR IN ANOTHER SUBCLASS, IN WHICH THE HEAT-EXCHANGE MEDIA DO NOT COME INTO DIRECT CONTACT; HEAT STORAGE PLANTS OR APPARATUS IN GENERAL"
          ],
          [
           1968,
           90,
           0.113,
           "DETAILS OF HEAT-EXCHANGE OR HEAT-TRANSFER APPARATUS, OF GENERAL APPLICATION"
          ],
          [
           1968,
           29,
           0.036,
           "CLEANING OF INTERNAL OR EXTERNAL SURFACES OF HEAT-EXCHANGE OR HEAT-TRANSFER CONDUITS, e.g. WATER TUBES OF BOILERS"
          ],
          [
           1968,
           737,
           0.923,
           "WEAPONS"
          ],
          [
           1990,
           402,
           0.504,
           "FUNCTIONAL FEATURES OR DETAILS COMMON TO BOTH SMALLARMS AND ORDNANCE, e.g. CANNONS; MOUNTINGS FOR SMALLARMS OR ORDNANCE"
          ],
          [
           1968,
           73,
           0.091,
           "WEAPONS FOR PROJECTING MISSILES WITHOUT USE OF EXPLOSIVE OR COMBUSTIBLE PROPELLANT CHARGE; WEAPONS NOT OTHERWISE PROVIDED FOR"
          ],
          [
           1990,
           43,
           0.054,
           "SMALLARMS, e.g. PISTOLS OR RIFLES; ACCESSORIES THEREFOR"
          ],
          [
           1990,
           22,
           0.028,
           "APPARATUS FOR LAUNCHING PROJECTILES OR MISSILES FROM BARRELS, e.g. CANNONS; LAUNCHERS FOR ROCKETS OR TORPEDOES; HARPOON GUNS"
          ],
          [
           1968,
           81,
           0.101,
           "WEAPON SIGHTS; AIMING"
          ],
          [
           1968,
           59,
           0.074,
           "ARMOUR; ARMOURED TURRETS; ARMOURED OR ARMED VEHICLES; MEANS OF ATTACK OR DEFENCE, e.g. CAMOUFLAGE, IN GENERAL"
          ],
          [
           1968,
           50,
           0.063,
           "TARGETS; TARGET RANGES; BULLET CATCHERS"
          ],
          [
           1968,
           405,
           0.507,
           "AMMUNITION; BLASTING"
          ],
          [
           1974,
           285,
           0.357,
           "EXPLOSIVE CHARGES, e.g. FOR BLASTING; FIREWORKS; AMMUNITION"
          ],
          [
           1990,
           87,
           0.109,
           "AMMUNITION FUZES; ARMING OR SAFETY MEANS THEREFOR"
          ],
          [
           1968,
           30,
           0.038,
           "BLASTING"
          ],
          [
           2006,
           2,
           0.003,
           "SUBJECT MATTER NOT OTHERWISE PROVIDED FOR IN THIS SECTION"
          ],
          [
           2006,
           1,
           0.001,
           "SUBJECT MATTER NOT OTHERWISE PROVIDED FOR IN THIS SECTION"
          ],
          [
           1968,
           9560,
           11.976,
           "PHYSICS"
          ],
          [
           1968,
           3135,
           3.927,
           "MEASURING; TESTING"
          ],
          [
           1968,
           185,
           0.232,
           "MEASURING LENGTH, THICKNESS OR SIMILAR LINEAR DIMENSIONS; MEASURING ANGLES; MEASURING AREAS; MEASURING IRREGULARITIES OF SURFACES OR CONTOURS"
          ],
          [
           1968,
           186,
           0.233,
           "MEASURING DISTANCES, LEVELS OR BEARINGS; SURVEYING; NAVIGATION; GYROSCOPIC INSTRUMENTS; PHOTOGRAMMETRY OR VIDEOGRAMMETRY"
          ],
          [
           1968,
           158,
           0.198,
           "MEASURING NOT SPECIALLY ADAPTED FOR A SPECIFIC VARIABLE; ARRANGEMENTS FOR MEASURING TWO OR MORE VARIABLES NOT COVERED BY A SINGLE OTHER SUBCLASS; TARIFF METERING APPARATUS; TRANSFERRING OR TRANSDUCING ARRANGEMENTS NOT SPECIALLY ADAPTED FOR A SPECIFIC VARIABLE; MEASURING OR TESTING NOT OTHERWISE PROVIDED FOR"
          ],
          [
           1974,
           179,
           0.224,
           "MEASURING VOLUME, VOLUME FLOW, MASS FLOW, OR LIQUID LEVEL; METERING BY VOLUME"
          ],
          [
           1968,
           177,
           0.222,
           "WEIGHING"
          ],
          [
           1985,
           26,
           0.033,
           "MEASUREMENT OF MECHANICAL VIBRATIONS OR ULTRASONIC, SONIC OR INFRASONIC WAVES"
          ],
          [
           1974,
           121,
           0.152,
           "MEASUREMENT OF INTENSITY, VELOCITY, SPECTRAL CONTENT, POLARISATION, PHASE OR PULSE CHARACTERISTICS OF INFRARED, VISIBLE OR ULTRAVIOLET LIGHT; COLORIMETRY; RADIATION PYROMETRY"
          ],
          [
           1968,
           136,
           0.17,
           "MEASURING TEMPERATURE; MEASURING QUANTITY OF HEAT; THERMALLY-SENSITIVE ELEMENTS NOT OTHERWISE PROVIDED FOR"
          ],
          [
           1985,
           146,
           0.183,
           "MEASURING FORCE, STRESS, TORQUE, WORK, MECHANICAL POWER, MECHANICAL EFFICIENCY, OR FLUID PRESSURE"
          ],
          [
           1968,
           92,
           0.115,
           "TESTING STATIC OR DYNAMIC BALANCE OF MACHINES OR STRUCTURES; TESTING OF STRUCTURES OR APPARATUS, NOT OTHERWISE PROVIDED FOR"
          ],
          [
           1968,
           590,
           0.739,
           "INVESTIGATING OR ANALYSING MATERIALS BY DETERMINING THEIR CHEMICAL OR PHYSICAL PROPERTIES"
          ],
          [
           1968,
           102,
           0.128,
           "MEASURING LINEAR OR ANGULAR SPEED, ACCELERATION, DECELERATION OR SHOCK; INDICATING PRESENCE OR ABSENCE OF MOVEMENT; INDICATING DIRECTION OF MOVEMENT"
          ],
          [
           2010,
           63,
           0.079,
           "SCANNING-PROBE TECHNIQUES OR APPARATUS; APPLICATIONS OF SCANNING-PROBE TECHNIQUES, e.g. SCANNING-PROBE MICROSCOPY [SPM]"
          ],
          [
           1968,
           394,
           0.494,
           "MEASURING ELECTRIC VARIABLES; MEASURING MAGNETIC VARIABLES"
          ],
          [
           1968,
           377,
           0.472,
           "RADIO DIRECTION-FINDING; RADIO NAVIGATION; DETERMINING DISTANCE OR VELOCITY BY USE OF RADIO WAVES; LOCATING OR PRESENCE-DETECTING BY USE OF THE REFLECTION OR RERADIATION OF RADIO WAVES; ANALOGOUS ARRANGEMENTS USING OTHER WAVES"
          ],
          [
           1968,
           62,
           0.078,
           "MEASUREMENT OF NUCLEAR OR X-RADIATION"
          ],
          [
           1985,
           111,
           0.139,
           "GEOPHYSICS; GRAVITATIONAL MEASUREMENTS; DETECTING MASSES OR OBJECTS; TAGS"
          ],
          [
           1968,
           12,
           0.015,
           "METEOROLOGY"
          ],
          [
           1968,
           449,
           0.562,
           "OPTICS"
          ],
          [
           1968,
           314,
           0.393,
           "OPTICAL ELEMENTS, SYSTEMS OR APPARATUS"
          ],
          [
           1968,
           38,
           0.048,
           "SPECTACLES; SUNGLASSES OR GOGGLES INSOFAR AS THEY HAVE THE SAME FEATURES AS SPECTACLES; CONTACT LENSES"
          ],
          [
           1974,
           94,
           0.118,
           "OPTICAL DEVICES OR ARRANGEMENTS FOR THE CONTROL OF LIGHT BY MODIFICATION OF THE OPTICAL PROPERTIES OF THE MEDIA OF THE ELEMENTS INVOLVED THEREIN; NON-LINEAR OPTICS; FREQUENCY-CHANGING OF LIGHT; OPTICAL LOGIC ELEMENTS; OPTICAL ANALOGUE/DIGITAL CONVERTERS"
          ],
          [
           1985,
           830,
           1.04,
           "PHOTOGRAPHY; CINEMATOGRAPHY; ANALOGOUS TECHNIQUES USING WAVES OTHER THAN OPTICAL WAVES; ELECTROGRAPHY; HOLOGRAPHY"
          ],
          [
           1985,
           348,
           0.436,
           "APPARATUS OR ARRANGEMENTS FOR TAKING PHOTOGRAPHS OR FOR PROJECTING OR VIEWING THEM; APPARATUS OR ARRANGEMENTS EMPLOYING ANALOGOUS TECHNIQUES USING WAVES OTHER THAN OPTICAL WAVES; ACCESSORIES THEREFOR"
          ],
          [
           1968,
           197,
           0.247,
           "PHOTOSENSITIVE MATERIALS FOR PHOTOGRAPHIC PURPOSES; PHOTOGRAPHIC PROCESSES, e.g. CINE, X-RAY, COLOUR OR STEREO-PHOTOGRAPHIC PROCESSES; AUXILIARY PROCESSES IN PHOTOGRAPHY"
          ],
          [
           1968,
           33,
           0.041,
           "APPARATUS FOR PROCESSING EXPOSED PHOTOGRAPHIC MATERIALS; ACCESSORIES THEREFOR"
          ],
          [
           1968,
           108,
           0.135,
           "PHOTOMECHANICAL PRODUCTION OF TEXTURED OR PATTERNED SURFACES, e.g. FOR PRINTING, FOR PROCESSING OF SEMICONDUCTOR DEVICES; MATERIALS THEREFOR; ORIGINALS THEREFOR; APPARATUS SPECIALLY ADAPTED THEREFOR"
          ],
          [
           1968,
           118,
           0.148,
           "ELECTROGRAPHY; ELECTROPHOTOGRAPHY; MAGNETOGRAPHY"
          ],
          [
           1974,
           20,
           0.025,
           "HOLOGRAPHIC PROCESSES OR APPARATUS"
          ],
          [
           1968,
           397,
           0.497,
           "HOROLOGY"
          ],
          [
           1968,
           171,
           0.214,
           "MECHANICALLY-DRIVEN CLOCKS OR WATCHES; MECHANICAL PARTS OF CLOCKS OR WATCHES IN GENERAL; TIME-PIECES USING THE POSITION OF THE SUN, MOON, OR STARS"
          ],
          [
           1968,
           95,
           0.119,
           "ELECTROMECHANICAL CLOCKS OR WATCHES"
          ],
          [
           1968,
           21,
           0.026,
           "APPARATUS OR TOOLS SPECIALLY DESIGNED FOR MAKING OR MAINTAINING CLOCKS OR WATCHES"
          ],
          [
           1974,
           40,
           0.05,
           "TIME-INTERVAL MEASURING"
          ],
          [
           1980,
           36,
           0.045,
           "ELECTRONIC TIME-PIECES"
          ],
          [
           2013,
           28,
           0.035,
           "RADIO-CONTROLLED TIME-PIECES"
          ],
          [
           1968,
           524,
           0.656,
           "CONTROLLING; REGULATING"
          ],
          [
           1968,
           119,
           0.149,
           "CONTROL OR REGULATING SYSTEMS IN GENERAL; FUNCTIONAL ELEMENTS OF SUCH SYSTEMS; MONITORING OR TESTING ARRANGEMENTS FOR SUCH SYSTEMS OR ELEMENTS"
          ],
          [
           1968,
           236,
           0.296,
           "SYSTEMS FOR CONTROLLING OR REGULATING NON-ELECTRIC VARIABLES"
          ],
          [
           1985,
           83,
           0.104,
           "SYSTEMS FOR REGULATING ELECTRIC OR MAGNETIC VARIABLES"
          ],
          [
           1968,
           82,
           0.103,
           "CONTROL DEVICES OR SYSTEMS INSOFAR AS CHARACTERISED BY MECHANICAL FEATURES ONLY"
          ],
          [
           1968,
           1537,
           1.925,
           "COMPUTING; CALCULATING OR COUNTING"
          ],
          [
           1985,
           65,
           0.081,
           "DIGITAL COMPUTERS IN WHICH ALL THE COMPUTATION IS EFFECTED MECHANICALLY"
          ],
          [
           1968,
           10,
           0.013,
           "DIGITAL FLUID-PRESSURE COMPUTING DEVICES"
          ],
          [
           1990,
           5,
           0.006,
           "OPTICAL COMPUTING DEVICES"
          ],
          [
           1968,
           752,
           0.942,
           "ELECTRIC DIGITAL DATA PROCESSING"
          ],
          [
           1968,
           73,
           0.091,
           "ANALOGUE COMPUTERS"
          ],
          [
           1968,
           3,
           0.004,
           "HYBRID COMPUTING ARRANGEMENTS"
          ],
          [
           1968,
           89,
           0.111,
           "GRAPHICAL DATA READING; PRESENTATION OF DATA; RECORD CARRIERS; HANDLING RECORD CARRIERS"
          ],
          [
           1968,
           44,
           0.055,
           "COUNTING MECHANISMS; COUNTING OF OBJECTS NOT OTHERWISE PROVIDED FOR"
          ],
          [
           2000,
           67,
           0.084,
           "COMPUTING ARRANGEMENTS BASED ON SPECIFIC COMPUTATIONAL MODELS"
          ],
          [
           2006,
           120,
           0.15,
           "INFORMATION AND COMMUNICATION TECHNOLOGY [ICT] SPECIALLY ADAPTED FOR ADMINISTRATIVE, COMMERCIAL, FINANCIAL, MANAGERIAL OR SUPERVISORY PURPOSES; SYSTEMS OR METHODS SPECIALLY ADAPTED FOR ADMINISTRATIVE, COMMERCIAL, FINANCIAL, MANAGERIAL OR SUPERVISORY PURPOSES, NOT OTHERWISE PROVIDED FOR"
          ],
          [
           1995,
           155,
           0.194,
           "IMAGE DATA PROCESSING OR GENERATION, IN GENERAL"
          ],
          [
           2022,
           142,
           0.178,
           "IMAGE OR VIDEO RECOGNITION OR UNDERSTANDING"
          ],
          [
           1968,
           300,
           0.376,
           "CHECKING-DEVICES"
          ],
          [
           1968,
           38,
           0.048,
           "TICKET-ISSUING APPARATUS; TAXIMETERS; ARRANGEMENTS OR APPARATUS FOR COLLECTING FARES, TOLLS OR ENTRANCE FEES AT ONE OR MORE CONTROL POINTS; FRANKING APPARATUS"
          ],
          [
           1968,
           56,
           0.07,
           "TIME OR ATTENDANCE REGISTERS; REGISTERING OR INDICATING THE WORKING OF MACHINES; GENERATING RANDOM NUMBERS; VOTING OR LOTTERY APPARATUS; ARRANGEMENTS, SYSTEMS OR APPARATUS FOR CHECKING NOT PROVIDED FOR ELSEWHERE"
          ],
          [
           1974,
           88,
           0.11,
           "HANDLING OF COINS OR OF VALUABLE PAPERS, e.g. TESTING, SORTING BY DENOMINATIONS, COUNTING, DISPENSING, CHANGING OR DEPOSITING"
          ],
          [
           1968,
           104,
           0.13,
           "COIN-FREED OR LIKE APPARATUS"
          ],
          [
           1985,
           9,
           0.011,
           "REGISTERING THE RECEIPT OF CASH, VALUABLES, OR TOKENS"
          ],
          [
           1968,
           250,
           0.313,
           "SIGNALLING"
          ],
          [
           1968,
           125,
           0.157,
           "SIGNALLING OR CALLING SYSTEMS; ORDER TELEGRAPHS; ALARM SYSTEMS"
          ],
          [
           1985,
           46,
           0.058,
           "TRANSMISSION SYSTEMS FOR MEASURED VALUES, CONTROL OR SIMILAR SIGNALS"
          ],
          [
           1974,
           76,
           0.095,
           "TRAFFIC CONTROL SYSTEMS"
          ],
          [
           1968,
           405,
           0.507,
           "EDUCATING; CRYPTOGRAPHY; DISPLAY; ADVERTISING; SEALS"
          ],
          [
           1968,
           154,
           0.193,
           "EDUCATIONAL OR DEMONSTRATION APPLIANCES; APPLIANCES FOR TEACHING, OR COMMUNICATING WITH, THE BLIND, DEAF OR MUTE; MODELS; PLANETARIA; GLOBES; MAPS; DIAGRAMS"
          ],
          [
           1968,
           15,
           0.019,
           "CIPHERING OR DECIPHERING APPARATUS FOR CRYPTOGRAPHIC OR OTHER PURPOSES INVOLVING THE NEED FOR SECRECY"
          ],
          [
           1968,
           8,
           0.01,
           "RAILWAY OR LIKE TIME OR FARE TABLES; PERPETUAL CALENDARS"
          ],
          [
           1968,
           130,
           0.163,
           "DISPLAYING; ADVERTISING; SIGNS; LABELS OR NAME-PLATES; SEALS"
          ],
          [
           1980,
           93,
           0.117,
           "ARRANGEMENTS OR CIRCUITS FOR CONTROL OF INDICATING DEVICES USING STATIC MEANS TO PRESENT VARIABLE INFORMATION"
          ],
          [
           1968,
           458,
           0.574,
           "MUSICAL INSTRUMENTS; ACOUSTICS"
          ],
          [
           1968,
           18,
           0.023,
           "ORGANS, HARMONIUMS OR SIMILAR WIND MUSICAL INSTRUMENTS WITH ASSOCIATED BLOWING APPARATUS"
          ],
          [
           1968,
           32,
           0.04,
           "PIANOS, HARPSICHORDS, SPINETS OR SIMILAR STRINGED MUSICAL INSTRUMENTS WITH ONE OR MORE KEYBOARDS"
          ],
          [
           1968,
           81,
           0.101,
           "STRINGED MUSICAL INSTRUMENTS; WIND MUSICAL INSTRUMENTS; ACCORDIONS OR CONCERTINAS; PERCUSSION MUSICAL INSTRUMENTS; AEOLIAN HARPS; SINGING-FLAME MUSICAL INSTRUMENTS; MUSICAL INSTRUMENTS NOT OTHERWISE PROVIDED FOR"
          ],
          [
           1968,
           17,
           0.021,
           "AUTOMATIC MUSICAL INSTRUMENTS"
          ],
          [
           1968,
           9,
           0.011,
           "REPRESENTATION OF MUSIC; RECORDING MUSIC IN NOTATION FORM; ACCESSORIES FOR MUSIC OR MUSICAL INSTRUMENTS NOT OTHERWISE PROVIDED FOR, e.g. SUPPORTS"
          ],
          [
           1968,
           62,
           0.078,
           "ELECTROPHONIC MUSICAL INSTRUMENTS; INSTRUMENTS IN WHICH THE TONES ARE GENERATED BY ELECTROMECHANICAL MEANS OR ELECTRONIC GENERATORS, OR IN WHICH THE TONES ARE SYNTHESISED FROM A DATA STORE"
          ],
          [
           1995,
           76,
           0.095,
           "SOUND-PRODUCING DEVICES; METHODS OR DEVICES FOR PROTECTING AGAINST, OR FOR DAMPING, NOISE OR OTHER ACOUSTIC WAVES IN GENERAL; ACOUSTICS NOT OTHERWISE PROVIDED FOR"
          ],
          [
           1985,
           155,
           0.194,
           "SPEECH ANALYSIS TECHNIQUES OR SPEECH SYNTHESIS; SPEECH RECOGNITION; SPEECH OR VOICE PROCESSING TECHNIQUES; SPEECH OR AUDIO CODING OR DECODING"
          ],
          [
           1968,
           718,
           0.899,
           "INFORMATION STORAGE"
          ],
          [
           1968,
           520,
           0.651,
           "INFORMATION STORAGE BASED ON RELATIVE MOVEMENT BETWEEN RECORD CARRIER AND TRANSDUCER"
          ],
          [
           1968,
           196,
           0.246,
           "STATIC STORES"
          ],
          [
           1968,
           31,
           0.039,
           "INSTRUMENT DETAILS"
          ],
          [
           1968,
           30,
           0.038,
           "CONSTRUCTIONAL DETAILS OF INSTRUMENTS, OR COMPARABLE DETAILS OF OTHER APPARATUS, NOT OTHERWISE PROVIDED FOR"
          ],
          [
           2018,
           126,
           0.158,
           "INFORMATION AND COMMUNICATION TECHNOLOGY [ICT] SPECIALLY ADAPTED FOR SPECIFIC APPLICATION FIELDS"
          ],
          [
           2019,
           37,
           0.046,
           "BIOINFORMATICS, i.e. INFORMATION AND COMMUNICATION TECHNOLOGY [ICT] SPECIALLY ADAPTED FOR GENETIC OR PROTEIN-RELATED DATA PROCESSING IN COMPUTATIONAL MOLECULAR BIOLOGY"
          ],
          [
           2019,
           15,
           0.019,
           "COMPUTATIONAL CHEMISTRY; CHEMOINFORMATICS; COMPUTATIONAL MATERIALS SCIENCE"
          ],
          [
           2018,
           35,
           0.044,
           "HEALTHCARE INFORMATICS, i.e. INFORMATION AND COMMUNICATION TECHNOLOGY [ICT] SPECIALLY ADAPTED FOR THE HANDLING OR PROCESSING OF MEDICAL OR HEALTHCARE DATA"
          ],
          [
           2020,
           33,
           0.041,
           "INFORMATION AND COMMUNICATION TECHNOLOGY SPECIALLY ADAPTED FOR THE INTERNET OF THINGS [IoT]"
          ],
          [
           2019,
           1,
           0.001,
           "INFORMATION AND COMMUNICATION TECHNOLOGY [ICT] SPECIALLY ADAPTED FOR SPECIFIC APPLICATION FIELDS, NOT OTHERWISE PROVIDED FOR"
          ],
          [
           1968,
           383,
           0.48,
           "NUCLEAR PHYSICS; NUCLEAR ENGINEERING"
          ],
          [
           1968,
           13,
           0.016,
           "FUSION REACTORS"
          ],
          [
           1968,
           230,
           0.288,
           "NUCLEAR REACTORS"
          ],
          [
           1968,
           26,
           0.033,
           "NUCLEAR POWER PLANT"
          ],
          [
           1968,
           56,
           0.07,
           "PROTECTION AGAINST X-RADIATION, GAMMA RADIATION, CORPUSCULAR RADIATION OR PARTICLE BOMBARDMENT; TREATING RADIOACTIVELY CONTAMINATED MATERIAL; DECONTAMINATION ARRANGEMENTS THEREFOR"
          ],
          [
           1974,
           15,
           0.019,
           "CONVERSION OF CHEMICAL ELEMENTS; RADIOACTIVE SOURCES"
          ],
          [
           1968,
           12,
           0.015,
           "OBTAINING ENERGY FROM RADIOACTIVE SOURCES; APPLICATIONS OF RADIATION FROM RADIOACTIVE SOURCES, NOT OTHERWISE PROVIDED FOR; UTILISING COSMIC RADIATION"
          ],
          [
           1968,
           4,
           0.005,
           "NUCLEAR EXPLOSIVES; APPLICATIONS THEREOF"
          ],
          [
           1974,
           19,
           0.024,
           "TECHNIQUES FOR HANDLING PARTICLES OR IONISING RADIATION NOT OTHERWISE PROVIDED FOR; IRRADIATION DEVICES; GAMMA RAY OR X-RAY MICROSCOPES"
          ],
          [
           2006,
           2,
           0.003,
           "SUBJECT MATTER NOT OTHERWISE PROVIDED FOR IN THIS SECTION"
          ],
          [
           2006,
           1,
           0.001,
           "SUBJECT MATTER NOT OTHERWISE PROVIDED FOR IN THIS SECTION"
          ],
          [
           1968,
           10469,
           13.115,
           "ELECTRICITY"
          ],
          [
           1968,
           3995,
           5.005,
           "ELECTRIC ELEMENTS"
          ],
          [
           1968,
           164,
           0.205,
           "CABLES; CONDUCTORS; INSULATORS; SELECTION OF MATERIALS FOR THEIR CONDUCTIVE, INSULATING OR DIELECTRIC PROPERTIES"
          ],
          [
           1968,
           111,
           0.139,
           "RESISTORS"
          ],
          [
           1974,
           222,
           0.278,
           "MAGNETS; INDUCTANCES; TRANSFORMERS; SELECTION OF MATERIALS FOR THEIR MAGNETIC PROPERTIES"
          ],
          [
           1968,
           154,
           0.193,
           "CAPACITORS; CAPACITORS, RECTIFIERS, DETECTORS, SWITCHING DEVICES, LIGHT-SENSITIVE OR TEMPERATURE-SENSITIVE DEVICES OF THE ELECTROLYTIC TYPE"
          ],
          [
           1968,
           825,
           1.034,
           "ELECTRIC SWITCHES; RELAYS; SELECTORS; EMERGENCY PROTECTIVE DEVICES"
          ],
          [
           1968,
           734,
           0.92,
           "ELECTRIC DISCHARGE TUBES OR DISCHARGE LAMPS"
          ],
          [
           1968,
           69,
           0.086,
           "ELECTRIC INCANDESCENT LAMPS"
          ],
          [
           1974,
           191,
           0.239,
           "SEMICONDUCTOR DEVICES NOT COVERED BY CLASS"
          ],
          [
           1974,
           587,
           0.735,
           "PROCESSES OR MEANS, e.g. BATTERIES, FOR THE DIRECT CONVERSION OF CHEMICAL ENERGY INTO ELECTRICAL ENERGY"
          ],
          [
           1968,
           90,
           0.113,
           "WAVEGUIDES; RESONATORS, LINES OR OTHER DEVICES OF THE WAVEGUIDE TYPE"
          ],
          [
           1968,
           195,
           0.244,
           "ANTENNAS, i.e. RADIO AERIALS"
          ],
          [
           1968,
           394,
           0.494,
           "ELECTRICALLY-CONDUCTIVE CONNECTIONS; STRUCTURAL ASSOCIATIONS OF A PLURALITY OF MUTUALLY-INSULATED ELECTRICAL CONNECTING ELEMENTS; COUPLING DEVICES; CURRENT COLLECTORS"
          ],
          [
           1968,
           171,
           0.214,
           "DEVICES USING THE PROCESS OF LIGHT AMPLIFICATION BY STIMULATED EMISSION OF RADIATION [LASER] TO AMPLIFY OR GENERATE LIGHT; DEVICES USING STIMULATED EMISSION OF ELECTROMAGNETIC RADIATION IN WAVE RANGES OTHER THAN OPTICAL"
          ],
          [
           1968,
           74,
           0.093,
           "SPARK GAPS; OVERVOLTAGE ARRESTERS USING SPARK GAPS; SPARKING PLUGS; CORONA DEVICES; GENERATING IONS TO BE INTRODUCED INTO NON-ENCLOSED GASES"
          ],
          [
           1968,
           1341,
           1.68,
           "GENERATION, CONVERSION, OR DISTRIBUTION OF ELECTRIC POWER"
          ],
          [
           1968,
           73,
           0.091,
           "BOARDS, SUBSTATIONS OR SWITCHING ARRANGEMENTS FOR THE SUPPLY OR DISTRIBUTION OF ELECTRIC POWER"
          ],
          [
           1968,
           93,
           0.117,
           "INSTALLATION OF ELECTRIC CABLES OR LINES, OR OF COMBINED OPTICAL AND ELECTRIC CABLES OR LINES"
          ],
          [
           1968,
           81,
           0.101,
           "EMERGENCY PROTECTIVE CIRCUIT ARRANGEMENTS"
          ],
          [
           1968,
           81,
           0.101,
           "CIRCUIT ARRANGEMENTS OR SYSTEMS FOR SUPPLYING OR DISTRIBUTING ELECTRIC POWER; SYSTEMS FOR STORING ELECTRIC ENERGY"
          ],
          [
           1968,
           455,
           0.57,
           "DYNAMO-ELECTRIC MACHINES"
          ],
          [
           1985,
           201,
           0.252,
           "APPARATUS FOR CONVERSION BETWEEN AC AND AC, BETWEEN AC AND DC, OR BETWEEN DC AND DC, AND FOR USE WITH MAINS OR SIMILAR POWER SUPPLY SYSTEMS; CONVERSION OF DC OR AC INPUT POWER INTO SURGE OUTPUT POWER; CONTROL OR REGULATION THEREOF"
          ],
          [
           1968,
           24,
           0.03,
           "ELECTRIC MACHINES NOT OTHERWISE PROVIDED FOR"
          ],
          [
           1985,
           287,
           0.36,
           "CONTROL OR REGULATION OF ELECTRIC MOTORS, ELECTRIC GENERATORS OR DYNAMO-ELECTRIC CONVERTERS; CONTROLLING TRANSFORMERS, REACTORS OR CHOKE COILS"
          ],
          [
           2014,
           37,
           0.046,
           "GENERATION OF ELECTRIC POWER BY CONVERSION OF INFRARED RADIATION, VISIBLE LIGHT OR ULTRAVIOLET LIGHT, e.g. USING PHOTOVOLTAIC [PV] MODULES"
          ],
          [
           1968,
           1107,
           1.387,
           "ELECTRONIC CIRCUITRY"
          ],
          [
           1968,
           71,
           0.089,
           "GENERATION OF OSCILLATIONS, DIRECTLY OR BY FREQUENCY-CHANGING, BY CIRCUITS EMPLOYING ACTIVE ELEMENTS WHICH OPERATE IN A NON-SWITCHING MANNER; GENERATION OF NOISE BY SUCH CIRCUITS"
          ],
          [
           1968,
           63,
           0.079,
           "MODULATION"
          ],
          [
           1968,
           57,
           0.071,
           "DEMODULATION OR TRANSFERENCE OF MODULATION FROM ONE CARRIER TO ANOTHER"
          ],
          [
           1968,
           103,
           0.129,
           "AMPLIFIERS"
          ],
          [
           1968,
           63,
           0.079,
           "CONTROL OF AMPLIFICATION"
          ],
          [
           1968,
           121,
           0.152,
           "IMPEDANCE NETWORKS, e.g. RESONANT CIRCUITS; RESONATORS"
          ],
          [
           1968,
           67,
           0.084,
           "TUNING RESONANT CIRCUITS; SELECTING RESONANT CIRCUITS"
          ],
          [
           1985,
           377,
           0.472,
           "PULSE TECHNIQUE"
          ],
          [
           1980,
           45,
           0.056,
           "AUTOMATIC CONTROL, STARTING, SYNCHRONISATION OR STABILISATION OF GENERATORS OF ELECTRONIC OSCILLATIONS OR PULSES"
          ],
          [
           1985,
           130,
           0.163,
           "CODING, DECODING OR CODE CONVERSION, IN GENERAL"
          ],
          [
           1968,
           2914,
           3.65,
           "ELECTRIC COMMUNICATION TECHNIQUE"
          ],
          [
           1985,
           284,
           0.356,
           "TRANSMISSION"
          ],
          [
           1968,
           149,
           0.187,
           "BROADCAST COMMUNICATION"
          ],
          [
           1968,
           47,
           0.059,
           "MULTIPLEX COMMUNICATION"
          ],
          [
           1968,
           7,
           0.009,
           "SECRET COMMUNICATION; JAMMING OF COMMUNICATION"
          ],
          [
           1985,
           751,
           0.941,
           "TRANSMISSION OF DIGITAL INFORMATION, e.g. TELEGRAPHIC COMMUNICATION"
          ],
          [
           1968,
           233,
           0.292,
           "TELEPHONIC COMMUNICATION"
          ],
          [
           1985,
           866,
           1.085,
           "PICTORIAL COMMUNICATION, e.g. TELEVISION"
          ],
          [
           1968,
           108,
           0.135,
           "SELECTING"
          ],
          [
           1995,
           99,
           0.124,
           "LOUDSPEAKERS, MICROPHONES, GRAMOPHONE PICK-UPS OR LIKE ACOUSTIC ELECTROMECHANICAL TRANSDUCERS; DEAF-AID SETS; PUBLIC ADDRESS SYSTEMS"
          ],
          [
           1980,
           6,
           0.008,
           "STEREOPHONIC SYSTEMS"
          ],
          [
           2009,
           353,
           0.442,
           "WIRELESS COMMUNICATION NETWORKS"
          ],
          [
           1968,
           466,
           0.584,
           "ELECTRIC TECHNIQUES NOT OTHERWISE PROVIDED FOR"
          ],
          [
           1968,
           281,
           0.352,
           "ELECTRIC HEATING; ELECTRIC LIGHT SOURCES NOT OTHERWISE PROVIDED FOR; CIRCUIT ARRANGEMENTS FOR ELECTRIC LIGHT SOURCES, IN GENERAL"
          ],
          [
           1968,
           5,
           0.006,
           "ELECTRIC CIRCUITS OR APPARATUS SPECIALLY DESIGNED FOR USE IN EQUIPMENT FOR KILLING, STUNNING, ENCLOSING OR GUIDING LIVING BEINGS"
          ],
          [
           1968,
           7,
           0.009,
           "STATIC ELECTRICITY; NATURALLY-OCCURRING ELECTRICITY"
          ],
          [
           1968,
           38,
           0.048,
           "X-RAY TECHNIQUE"
          ],
          [
           1968,
           66,
           0.083,
           "PLASMA TECHNIQUE; PRODUCTION OF ACCELERATED ELECTRICALLY-CHARGED PARTICLES OR OF NEUTRONS; PRODUCTION OR ACCELERATION OF NEUTRAL MOLECULAR OR ATOMIC BEAMS"
          ],
          [
           1968,
           63,
           0.079,
           "PRINTED CIRCUITS; CASINGS OR CONSTRUCTIONAL DETAILS OF ELECTRIC APPARATUS; MANUFACTURE OF ASSEMBLAGES OF ELECTRICAL COMPONENTS"
          ],
          [
           2023,
           637,
           0.798,
           "SEMICONDUCTOR DEVICES; ELECTRIC SOLID-STATE DEVICES NOT OTHERWISE PROVIDED FOR"
          ],
          [
           2023,
           54,
           0.068,
           "ELECTRONIC MEMORY DEVICES"
          ],
          [
           2025,
           146,
           0.183,
           "INORGANIC ELECTRIC SEMICONDUCTOR DEVICES"
          ],
          [
           2025,
           99,
           0.124,
           "INORGANIC SEMICONDUCTOR DEVICES SENSITIVE TO INFRARED RADIATION, LIGHT, ELECTROMAGNETIC RADIATION OF SHORTER WAVELENGTH OR CORPUSCULAR RADIATION"
          ],
          [
           2025,
           60,
           0.075,
           "INORGANIC LIGHT-EMITTING SEMICONDUCTOR DEVICES HAVING POTENTIAL BARRIERS"
          ],
          [
           2023,
           164,
           0.205,
           "ORGANIC ELECTRIC SOLID-STATE DEVICES"
          ],
          [
           2023,
           108,
           0.135,
           "ELECTRIC SOLID-STATE DEVICES NOT OTHERWISE PROVIDED FOR"
          ],
          [
           2006,
           2,
           0.003,
           "SUBJECT MATTER NOT OTHERWISE PROVIDED FOR IN THIS SECTION"
          ],
          [
           2006,
           1,
           0.001,
           "SUBJECT MATTER NOT OTHERWISE PROVIDED FOR IN THIS SECTION"
          ]
         ],
         "hovertemplate": "<b>%{label}</b><br>Created: %{customdata[0]}<br>Groups: %{customdata[1]}<br>Percentage: %{customdata[2]:.3f}%<br>Title: %{customdata[3]}<extra></extra>",
         "ids": [
          "A",
          "A - A01",
          "A - A01 - A01B",
          "A - A01 - A01C",
          "A - A01 - A01D",
          "A - A01 - A01F",
          "A - A01 - A01G",
          "A - A01 - A01H",
          "A - A01 - A01J",
          "A - A01 - A01K",
          "A - A01 - A01L",
          "A - A01 - A01M",
          "A - A01 - A01N",
          "A - A01 - A01P",
          "A - A21",
          "A - A21 - A21B",
          "A - A21 - A21C",
          "A - A21 - A21D",
          "A - A22",
          "A - A22 - A22B",
          "A - A22 - A22C",
          "A - A23",
          "A - A23 - A23B",
          "A - A23 - A23C",
          "A - A23 - A23D",
          "A - A23 - A23F",
          "A - A23 - A23G",
          "A - A23 - A23J",
          "A - A23 - A23K",
          "A - A23 - A23L",
          "A - A23 - A23N",
          "A - A23 - A23P",
          "A - A24",
          "A - A24 - A24B",
          "A - A24 - A24C",
          "A - A24 - A24D",
          "A - A24 - A24F",
          "A - A41",
          "A - A41 - A41B",
          "A - A41 - A41C",
          "A - A41 - A41D",
          "A - A41 - A41F",
          "A - A41 - A41G",
          "A - A41 - A41H",
          "A - A42",
          "A - A42 - A42B",
          "A - A42 - A42C",
          "A - A43",
          "A - A43 - A43B",
          "A - A43 - A43C",
          "A - A43 - A43D",
          "A - A44",
          "A - A44 - A44B",
          "A - A44 - A44C",
          "A - A45",
          "A - A45 - A45B",
          "A - A45 - A45C",
          "A - A45 - A45D",
          "A - A45 - A45F",
          "A - A46",
          "A - A46 - A46B",
          "A - A46 - A46D",
          "A - A47",
          "A - A47 - A47B",
          "A - A47 - A47C",
          "A - A47 - A47D",
          "A - A47 - A47F",
          "A - A47 - A47G",
          "A - A47 - A47H",
          "A - A47 - A47J",
          "A - A47 - A47K",
          "A - A47 - A47L",
          "A - A61",
          "A - A61 - A61B",
          "A - A61 - A61C",
          "A - A61 - A61D",
          "A - A61 - A61F",
          "A - A61 - A61G",
          "A - A61 - A61H",
          "A - A61 - A61J",
          "A - A61 - A61K",
          "A - A61 - A61L",
          "A - A61 - A61M",
          "A - A61 - A61N",
          "A - A61 - A61P",
          "A - A61 - A61Q",
          "A - A62",
          "A - A62 - A62B",
          "A - A62 - A62C",
          "A - A62 - A62D",
          "A - A63",
          "A - A63 - A63B",
          "A - A63 - A63C",
          "A - A63 - A63D",
          "A - A63 - A63F",
          "A - A63 - A63G",
          "A - A63 - A63H",
          "A - A63 - A63J",
          "A - A63 - A63K",
          "A - A99",
          "A - A99 - A99Z",
          "B",
          "B - B01",
          "B - B01 - B01B",
          "B - B01 - B01D",
          "B - B01 - B01F",
          "B - B01 - B01J",
          "B - B01 - B01L",
          "B - B02",
          "B - B02 - B02B",
          "B - B02 - B02C",
          "B - B03",
          "B - B03 - B03B",
          "B - B03 - B03C",
          "B - B03 - B03D",
          "B - B04",
          "B - B04 - B04B",
          "B - B04 - B04C",
          "B - B05",
          "B - B05 - B05B",
          "B - B05 - B05C",
          "B - B05 - B05D",
          "B - B06",
          "B - B06 - B06B",
          "B - B07",
          "B - B07 - B07B",
          "B - B07 - B07C",
          "B - B08",
          "B - B08 - B08B",
          "B - B09",
          "B - B09 - B09B",
          "B - B09 - B09C",
          "B - B21",
          "B - B21 - B21B",
          "B - B21 - B21C",
          "B - B21 - B21D",
          "B - B21 - B21F",
          "B - B21 - B21G",
          "B - B21 - B21H",
          "B - B21 - B21J",
          "B - B21 - B21K",
          "B - B21 - B21L",
          "B - B22",
          "B - B22 - B22C",
          "B - B22 - B22D",
          "B - B22 - B22F",
          "B - B23",
          "B - B23 - B23B",
          "B - B23 - B23C",
          "B - B23 - B23D",
          "B - B23 - B23F",
          "B - B23 - B23G",
          "B - B23 - B23H",
          "B - B23 - B23K",
          "B - B23 - B23P",
          "B - B23 - B23Q",
          "B - B24",
          "B - B24 - B24B",
          "B - B24 - B24C",
          "B - B24 - B24D",
          "B - B25",
          "B - B25 - B25B",
          "B - B25 - B25C",
          "B - B25 - B25D",
          "B - B25 - B25F",
          "B - B25 - B25G",
          "B - B25 - B25H",
          "B - B25 - B25J",
          "B - B26",
          "B - B26 - B26B",
          "B - B26 - B26D",
          "B - B26 - B26F",
          "B - B27",
          "B - B27 - B27B",
          "B - B27 - B27C",
          "B - B27 - B27D",
          "B - B27 - B27F",
          "B - B27 - B27G",
          "B - B27 - B27H",
          "B - B27 - B27J",
          "B - B27 - B27K",
          "B - B27 - B27L",
          "B - B27 - B27M",
          "B - B27 - B27N",
          "B - B28",
          "B - B28 - B28B",
          "B - B28 - B28C",
          "B - B28 - B28D",
          "B - B29",
          "B - B29 - B29B",
          "B - B29 - B29C",
          "B - B29 - B29D",
          "B - B29 - B29K",
          "B - B29 - B29L",
          "B - B30",
          "B - B30 - B30B",
          "B - B31",
          "B - B31 - B31B",
          "B - B31 - B31C",
          "B - B31 - B31D",
          "B - B31 - B31F",
          "B - B32",
          "B - B32 - B32B",
          "B - B33",
          "B - B33 - B33Y",
          "B - B41",
          "B - B41 - B41B",
          "B - B41 - B41C",
          "B - B41 - B41D",
          "B - B41 - B41F",
          "B - B41 - B41G",
          "B - B41 - B41J",
          "B - B41 - B41K",
          "B - B41 - B41L",
          "B - B41 - B41M",
          "B - B41 - B41N",
          "B - B42",
          "B - B42 - B42B",
          "B - B42 - B42C",
          "B - B42 - B42D",
          "B - B42 - B42F",
          "B - B43",
          "B - B43 - B43K",
          "B - B43 - B43L",
          "B - B43 - B43M",
          "B - B44",
          "B - B44 - B44B",
          "B - B44 - B44C",
          "B - B44 - B44D",
          "B - B44 - B44F",
          "B - B60",
          "B - B60 - B60B",
          "B - B60 - B60C",
          "B - B60 - B60D",
          "B - B60 - B60F",
          "B - B60 - B60G",
          "B - B60 - B60H",
          "B - B60 - B60J",
          "B - B60 - B60K",
          "B - B60 - B60L",
          "B - B60 - B60M",
          "B - B60 - B60N",
          "B - B60 - B60P",
          "B - B60 - B60Q",
          "B - B60 - B60R",
          "B - B60 - B60S",
          "B - B60 - B60T",
          "B - B60 - B60V",
          "B - B60 - B60W",
          "B - B61",
          "B - B61 - B61B",
          "B - B61 - B61C",
          "B - B61 - B61D",
          "B - B61 - B61F",
          "B - B61 - B61G",
          "B - B61 - B61H",
          "B - B61 - B61J",
          "B - B61 - B61K",
          "B - B61 - B61L",
          "B - B62",
          "B - B62 - B62B",
          "B - B62 - B62C",
          "B - B62 - B62D",
          "B - B62 - B62H",
          "B - B62 - B62J",
          "B - B62 - B62K",
          "B - B62 - B62L",
          "B - B62 - B62M",
          "B - B63",
          "B - B63 - B63B",
          "B - B63 - B63C",
          "B - B63 - B63G",
          "B - B63 - B63H",
          "B - B63 - B63J",
          "B - B64",
          "B - B64 - B64B",
          "B - B64 - B64C",
          "B - B64 - B64D",
          "B - B64 - B64F",
          "B - B64 - B64G",
          "B - B64 - B64U",
          "B - B65",
          "B - B65 - B65B",
          "B - B65 - B65C",
          "B - B65 - B65D",
          "B - B65 - B65F",
          "B - B65 - B65G",
          "B - B65 - B65H",
          "B - B66",
          "B - B66 - B66B",
          "B - B66 - B66C",
          "B - B66 - B66D",
          "B - B66 - B66F",
          "B - B67",
          "B - B67 - B67B",
          "B - B67 - B67C",
          "B - B67 - B67D",
          "B - B68",
          "B - B68 - B68B",
          "B - B68 - B68C",
          "B - B68 - B68F",
          "B - B68 - B68G",
          "B - B81",
          "B - B81 - B81B",
          "B - B81 - B81C",
          "B - B82",
          "B - B82 - B82B",
          "B - B82 - B82Y",
          "B - B99",
          "B - B99 - B99Z",
          "C",
          "C - C01",
          "C - C01 - C01B",
          "C - C01 - C01C",
          "C - C01 - C01D",
          "C - C01 - C01F",
          "C - C01 - C01G",
          "C - C02",
          "C - C02 - C02F",
          "C - C03",
          "C - C03 - C03B",
          "C - C03 - C03C",
          "C - C04",
          "C - C04 - C04B",
          "C - C05",
          "C - C05 - C05B",
          "C - C05 - C05C",
          "C - C05 - C05D",
          "C - C05 - C05F",
          "C - C05 - C05G",
          "C - C06",
          "C - C06 - C06B",
          "C - C06 - C06C",
          "C - C06 - C06D",
          "C - C06 - C06F",
          "C - C07",
          "C - C07 - C07B",
          "C - C07 - C07C",
          "C - C07 - C07D",
          "C - C07 - C07F",
          "C - C07 - C07G",
          "C - C07 - C07H",
          "C - C07 - C07J",
          "C - C07 - C07K",
          "C - C08",
          "C - C08 - C08B",
          "C - C08 - C08C",
          "C - C08 - C08F",
          "C - C08 - C08G",
          "C - C08 - C08H",
          "C - C08 - C08J",
          "C - C08 - C08K",
          "C - C08 - C08L",
          "C - C09",
          "C - C09 - C09B",
          "C - C09 - C09C",
          "C - C09 - C09D",
          "C - C09 - C09F",
          "C - C09 - C09G",
          "C - C09 - C09H",
          "C - C09 - C09J",
          "C - C09 - C09K",
          "C - C10",
          "C - C10 - C10B",
          "C - C10 - C10C",
          "C - C10 - C10F",
          "C - C10 - C10G",
          "C - C10 - C10H",
          "C - C10 - C10J",
          "C - C10 - C10K",
          "C - C10 - C10L",
          "C - C10 - C10M",
          "C - C10 - C10N",
          "C - C11",
          "C - C11 - C11B",
          "C - C11 - C11C",
          "C - C11 - C11D",
          "C - C12",
          "C - C12 - C12C",
          "C - C12 - C12F",
          "C - C12 - C12G",
          "C - C12 - C12H",
          "C - C12 - C12J",
          "C - C12 - C12L",
          "C - C12 - C12M",
          "C - C12 - C12N",
          "C - C12 - C12P",
          "C - C12 - C12Q",
          "C - C12 - C12R",
          "C - C13",
          "C - C13 - C13B",
          "C - C13 - C13K",
          "C - C14",
          "C - C14 - C14B",
          "C - C14 - C14C",
          "C - C21",
          "C - C21 - C21B",
          "C - C21 - C21C",
          "C - C21 - C21D",
          "C - C22",
          "C - C22 - C22B",
          "C - C22 - C22C",
          "C - C22 - C22F",
          "C - C23",
          "C - C23 - C23C",
          "C - C23 - C23D",
          "C - C23 - C23F",
          "C - C23 - C23G",
          "C - C25",
          "C - C25 - C25B",
          "C - C25 - C25C",
          "C - C25 - C25D",
          "C - C25 - C25F",
          "C - C30",
          "C - C30 - C30B",
          "C - C40",
          "C - C40 - C40B",
          "C - C99",
          "C - C99 - C99Z",
          "D",
          "D - D01",
          "D - D01 - D01B",
          "D - D01 - D01C",
          "D - D01 - D01D",
          "D - D01 - D01F",
          "D - D01 - D01G",
          "D - D01 - D01H",
          "D - D02",
          "D - D02 - D02G",
          "D - D02 - D02H",
          "D - D02 - D02J",
          "D - D03",
          "D - D03 - D03C",
          "D - D03 - D03D",
          "D - D03 - D03J",
          "D - D04",
          "D - D04 - D04B",
          "D - D04 - D04C",
          "D - D04 - D04D",
          "D - D04 - D04G",
          "D - D04 - D04H",
          "D - D05",
          "D - D05 - D05B",
          "D - D05 - D05C",
          "D - D06",
          "D - D06 - D06B",
          "D - D06 - D06C",
          "D - D06 - D06F",
          "D - D06 - D06G",
          "D - D06 - D06H",
          "D - D06 - D06J",
          "D - D06 - D06L",
          "D - D06 - D06M",
          "D - D06 - D06N",
          "D - D06 - D06P",
          "D - D06 - D06Q",
          "D - D07",
          "D - D07 - D07B",
          "D - D21",
          "D - D21 - D21B",
          "D - D21 - D21C",
          "D - D21 - D21D",
          "D - D21 - D21F",
          "D - D21 - D21G",
          "D - D21 - D21H",
          "D - D21 - D21J",
          "D - D99",
          "D - D99 - D99Z",
          "E",
          "E - E01",
          "E - E01 - E01B",
          "E - E01 - E01C",
          "E - E01 - E01D",
          "E - E01 - E01F",
          "E - E01 - E01H",
          "E - E02",
          "E - E02 - E02B",
          "E - E02 - E02C",
          "E - E02 - E02D",
          "E - E02 - E02F",
          "E - E03",
          "E - E03 - E03B",
          "E - E03 - E03C",
          "E - E03 - E03D",
          "E - E03 - E03F",
          "E - E04",
          "E - E04 - E04B",
          "E - E04 - E04C",
          "E - E04 - E04D",
          "E - E04 - E04F",
          "E - E04 - E04G",
          "E - E04 - E04H",
          "E - E05",
          "E - E05 - E05B",
          "E - E05 - E05C",
          "E - E05 - E05D",
          "E - E05 - E05F",
          "E - E05 - E05G",
          "E - E06",
          "E - E06 - E06B",
          "E - E06 - E06C",
          "E - E21",
          "E - E21 - E21B",
          "E - E21 - E21C",
          "E - E21 - E21D",
          "E - E21 - E21F",
          "E - E99",
          "E - E99 - E99Z",
          "F",
          "F - F01",
          "F - F01 - F01B",
          "F - F01 - F01C",
          "F - F01 - F01D",
          "F - F01 - F01K",
          "F - F01 - F01L",
          "F - F01 - F01M",
          "F - F01 - F01N",
          "F - F01 - F01P",
          "F - F02",
          "F - F02 - F02B",
          "F - F02 - F02C",
          "F - F02 - F02D",
          "F - F02 - F02F",
          "F - F02 - F02G",
          "F - F02 - F02K",
          "F - F02 - F02M",
          "F - F02 - F02N",
          "F - F02 - F02P",
          "F - F03",
          "F - F03 - F03B",
          "F - F03 - F03C",
          "F - F03 - F03D",
          "F - F03 - F03G",
          "F - F03 - F03H",
          "F - F04",
          "F - F04 - F04B",
          "F - F04 - F04C",
          "F - F04 - F04D",
          "F - F04 - F04F",
          "F - F15",
          "F - F15 - F15B",
          "F - F15 - F15C",
          "F - F15 - F15D",
          "F - F16",
          "F - F16 - F16B",
          "F - F16 - F16C",
          "F - F16 - F16D",
          "F - F16 - F16F",
          "F - F16 - F16G",
          "F - F16 - F16H",
          "F - F16 - F16J",
          "F - F16 - F16K",
          "F - F16 - F16L",
          "F - F16 - F16M",
          "F - F16 - F16N",
          "F - F16 - F16P",
          "F - F16 - F16S",
          "F - F16 - F16T",
          "F - F17",
          "F - F17 - F17B",
          "F - F17 - F17C",
          "F - F17 - F17D",
          "F - F21",
          "F - F21 - F21H",
          "F - F21 - F21K",
          "F - F21 - F21L",
          "F - F21 - F21S",
          "F - F21 - F21V",
          "F - F21 - F21W",
          "F - F21 - F21Y",
          "F - F22",
          "F - F22 - F22B",
          "F - F22 - F22D",
          "F - F22 - F22G",
          "F - F23",
          "F - F23 - F23B",
          "F - F23 - F23C",
          "F - F23 - F23D",
          "F - F23 - F23G",
          "F - F23 - F23H",
          "F - F23 - F23J",
          "F - F23 - F23K",
          "F - F23 - F23L",
          "F - F23 - F23M",
          "F - F23 - F23N",
          "F - F23 - F23Q",
          "F - F23 - F23R",
          "F - F24",
          "F - F24 - F24B",
          "F - F24 - F24C",
          "F - F24 - F24D",
          "F - F24 - F24F",
          "F - F24 - F24H",
          "F - F24 - F24S",
          "F - F24 - F24T",
          "F - F24 - F24V",
          "F - F25",
          "F - F25 - F25B",
          "F - F25 - F25C",
          "F - F25 - F25D",
          "F - F25 - F25J",
          "F - F26",
          "F - F26 - F26B",
          "F - F27",
          "F - F27 - F27B",
          "F - F27 - F27D",
          "F - F28",
          "F - F28 - F28B",
          "F - F28 - F28C",
          "F - F28 - F28D",
          "F - F28 - F28F",
          "F - F28 - F28G",
          "F - F41",
          "F - F41 - F41A",
          "F - F41 - F41B",
          "F - F41 - F41C",
          "F - F41 - F41F",
          "F - F41 - F41G",
          "F - F41 - F41H",
          "F - F41 - F41J",
          "F - F42",
          "F - F42 - F42B",
          "F - F42 - F42C",
          "F - F42 - F42D",
          "F - F99",
          "F - F99 - F99Z",
          "G",
          "G - G01",
          "G - G01 - G01B",
          "G - G01 - G01C",
          "G - G01 - G01D",
          "G - G01 - G01F",
          "G - G01 - G01G",
          "G - G01 - G01H",
          "G - G01 - G01J",
          "G - G01 - G01K",
          "G - G01 - G01L",
          "G - G01 - G01M",
          "G - G01 - G01N",
          "G - G01 - G01P",
          "G - G01 - G01Q",
          "G - G01 - G01R",
          "G - G01 - G01S",
          "G - G01 - G01T",
          "G - G01 - G01V",
          "G - G01 - G01W",
          "G - G02",
          "G - G02 - G02B",
          "G - G02 - G02C",
          "G - G02 - G02F",
          "G - G03",
          "G - G03 - G03B",
          "G - G03 - G03C",
          "G - G03 - G03D",
          "G - G03 - G03F",
          "G - G03 - G03G",
          "G - G03 - G03H",
          "G - G04",
          "G - G04 - G04B",
          "G - G04 - G04C",
          "G - G04 - G04D",
          "G - G04 - G04F",
          "G - G04 - G04G",
          "G - G04 - G04R",
          "G - G05",
          "G - G05 - G05B",
          "G - G05 - G05D",
          "G - G05 - G05F",
          "G - G05 - G05G",
          "G - G06",
          "G - G06 - G06C",
          "G - G06 - G06D",
          "G - G06 - G06E",
          "G - G06 - G06F",
          "G - G06 - G06G",
          "G - G06 - G06J",
          "G - G06 - G06K",
          "G - G06 - G06M",
          "G - G06 - G06N",
          "G - G06 - G06Q",
          "G - G06 - G06T",
          "G - G06 - G06V",
          "G - G07",
          "G - G07 - G07B",
          "G - G07 - G07C",
          "G - G07 - G07D",
          "G - G07 - G07F",
          "G - G07 - G07G",
          "G - G08",
          "G - G08 - G08B",
          "G - G08 - G08C",
          "G - G08 - G08G",
          "G - G09",
          "G - G09 - G09B",
          "G - G09 - G09C",
          "G - G09 - G09D",
          "G - G09 - G09F",
          "G - G09 - G09G",
          "G - G10",
          "G - G10 - G10B",
          "G - G10 - G10C",
          "G - G10 - G10D",
          "G - G10 - G10F",
          "G - G10 - G10G",
          "G - G10 - G10H",
          "G - G10 - G10K",
          "G - G10 - G10L",
          "G - G11",
          "G - G11 - G11B",
          "G - G11 - G11C",
          "G - G12",
          "G - G12 - G12B",
          "G - G16",
          "G - G16 - G16B",
          "G - G16 - G16C",
          "G - G16 - G16H",
          "G - G16 - G16Y",
          "G - G16 - G16Z",
          "G - G21",
          "G - G21 - G21B",
          "G - G21 - G21C",
          "G - G21 - G21D",
          "G - G21 - G21F",
          "G - G21 - G21G",
          "G - G21 - G21H",
          "G - G21 - G21J",
          "G - G21 - G21K",
          "G - G99",
          "G - G99 - G99Z",
          "H",
          "H - H01",
          "H - H01 - H01B",
          "H - H01 - H01C",
          "H - H01 - H01F",
          "H - H01 - H01G",
          "H - H01 - H01H",
          "H - H01 - H01J",
          "H - H01 - H01K",
          "H - H01 - H01L",
          "H - H01 - H01M",
          "H - H01 - H01P",
          "H - H01 - H01Q",
          "H - H01 - H01R",
          "H - H01 - H01S",
          "H - H01 - H01T",
          "H - H02",
          "H - H02 - H02B",
          "H - H02 - H02G",
          "H - H02 - H02H",
          "H - H02 - H02J",
          "H - H02 - H02K",
          "H - H02 - H02M",
          "H - H02 - H02N",
          "H - H02 - H02P",
          "H - H02 - H02S",
          "H - H03",
          "H - H03 - H03B",
          "H - H03 - H03C",
          "H - H03 - H03D",
          "H - H03 - H03F",
          "H - H03 - H03G",
          "H - H03 - H03H",
          "H - H03 - H03J",
          "H - H03 - H03K",
          "H - H03 - H03L",
          "H - H03 - H03M",
          "H - H04",
          "H - H04 - H04B",
          "H - H04 - H04H",
          "H - H04 - H04J",
          "H - H04 - H04K",
          "H - H04 - H04L",
          "H - H04 - H04M",
          "H - H04 - H04N",
          "H - H04 - H04Q",
          "H - H04 - H04R",
          "H - H04 - H04S",
          "H - H04 - H04W",
          "H - H05",
          "H - H05 - H05B",
          "H - H05 - H05C",
          "H - H05 - H05F",
          "H - H05 - H05G",
          "H - H05 - H05H",
          "H - H05 - H05K",
          "H - H10",
          "H - H10 - H10B",
          "H - H10 - H10D",
          "H - H10 - H10F",
          "H - H10 - H10H",
          "H - H10 - H10K",
          "H - H10 - H10N",
          "H - H99",
          "H - H99 - H99Z"
         ],
         "labels": [
          "A",
          "A01",
          "A01B",
          "A01C",
          "A01D",
          "A01F",
          "A01G",
          "A01H",
          "A01J",
          "A01K",
          "A01L",
          "A01M",
          "A01N",
          "A01P",
          "A21",
          "A21B",
          "A21C",
          "A21D",
          "A22",
          "A22B",
          "A22C",
          "A23",
          "A23B",
          "A23C",
          "A23D",
          "A23F",
          "A23G",
          "A23J",
          "A23K",
          "A23L",
          "A23N",
          "A23P",
          "A24",
          "A24B",
          "A24C",
          "A24D",
          "A24F",
          "A41",
          "A41B",
          "A41C",
          "A41D",
          "A41F",
          "A41G",
          "A41H",
          "A42",
          "A42B",
          "A42C",
          "A43",
          "A43B",
          "A43C",
          "A43D",
          "A44",
          "A44B",
          "A44C",
          "A45",
          "A45B",
          "A45C",
          "A45D",
          "A45F",
          "A46",
          "A46B",
          "A46D",
          "A47",
          "A47B",
          "A47C",
          "A47D",
          "A47F",
          "A47G",
          "A47H",
          "A47J",
          "A47K",
          "A47L",
          "A61",
          "A61B",
          "A61C",
          "A61D",
          "A61F",
          "A61G",
          "A61H",
          "A61J",
          "A61K",
          "A61L",
          "A61M",
          "A61N",
          "A61P",
          "A61Q",
          "A62",
          "A62B",
          "A62C",
          "A62D",
          "A63",
          "A63B",
          "A63C",
          "A63D",
          "A63F",
          "A63G",
          "A63H",
          "A63J",
          "A63K",
          "A99",
          "A99Z",
          "B",
          "B01",
          "B01B",
          "B01D",
          "B01F",
          "B01J",
          "B01L",
          "B02",
          "B02B",
          "B02C",
          "B03",
          "B03B",
          "B03C",
          "B03D",
          "B04",
          "B04B",
          "B04C",
          "B05",
          "B05B",
          "B05C",
          "B05D",
          "B06",
          "B06B",
          "B07",
          "B07B",
          "B07C",
          "B08",
          "B08B",
          "B09",
          "B09B",
          "B09C",
          "B21",
          "B21B",
          "B21C",
          "B21D",
          "B21F",
          "B21G",
          "B21H",
          "B21J",
          "B21K",
          "B21L",
          "B22",
          "B22C",
          "B22D",
          "B22F",
          "B23",
          "B23B",
          "B23C",
          "B23D",
          "B23F",
          "B23G",
          "B23H",
          "B23K",
          "B23P",
          "B23Q",
          "B24",
          "B24B",
          "B24C",
          "B24D",
          "B25",
          "B25B",
          "B25C",
          "B25D",
          "B25F",
          "B25G",
          "B25H",
          "B25J",
          "B26",
          "B26B",
          "B26D",
          "B26F",
          "B27",
          "B27B",
          "B27C",
          "B27D",
          "B27F",
          "B27G",
          "B27H",
          "B27J",
          "B27K",
          "B27L",
          "B27M",
          "B27N",
          "B28",
          "B28B",
          "B28C",
          "B28D",
          "B29",
          "B29B",
          "B29C",
          "B29D",
          "B29K",
          "B29L",
          "B30",
          "B30B",
          "B31",
          "B31B",
          "B31C",
          "B31D",
          "B31F",
          "B32",
          "B32B",
          "B33",
          "B33Y",
          "B41",
          "B41B",
          "B41C",
          "B41D",
          "B41F",
          "B41G",
          "B41J",
          "B41K",
          "B41L",
          "B41M",
          "B41N",
          "B42",
          "B42B",
          "B42C",
          "B42D",
          "B42F",
          "B43",
          "B43K",
          "B43L",
          "B43M",
          "B44",
          "B44B",
          "B44C",
          "B44D",
          "B44F",
          "B60",
          "B60B",
          "B60C",
          "B60D",
          "B60F",
          "B60G",
          "B60H",
          "B60J",
          "B60K",
          "B60L",
          "B60M",
          "B60N",
          "B60P",
          "B60Q",
          "B60R",
          "B60S",
          "B60T",
          "B60V",
          "B60W",
          "B61",
          "B61B",
          "B61C",
          "B61D",
          "B61F",
          "B61G",
          "B61H",
          "B61J",
          "B61K",
          "B61L",
          "B62",
          "B62B",
          "B62C",
          "B62D",
          "B62H",
          "B62J",
          "B62K",
          "B62L",
          "B62M",
          "B63",
          "B63B",
          "B63C",
          "B63G",
          "B63H",
          "B63J",
          "B64",
          "B64B",
          "B64C",
          "B64D",
          "B64F",
          "B64G",
          "B64U",
          "B65",
          "B65B",
          "B65C",
          "B65D",
          "B65F",
          "B65G",
          "B65H",
          "B66",
          "B66B",
          "B66C",
          "B66D",
          "B66F",
          "B67",
          "B67B",
          "B67C",
          "B67D",
          "B68",
          "B68B",
          "B68C",
          "B68F",
          "B68G",
          "B81",
          "B81B",
          "B81C",
          "B82",
          "B82B",
          "B82Y",
          "B99",
          "B99Z",
          "C",
          "C01",
          "C01B",
          "C01C",
          "C01D",
          "C01F",
          "C01G",
          "C02",
          "C02F",
          "C03",
          "C03B",
          "C03C",
          "C04",
          "C04B",
          "C05",
          "C05B",
          "C05C",
          "C05D",
          "C05F",
          "C05G",
          "C06",
          "C06B",
          "C06C",
          "C06D",
          "C06F",
          "C07",
          "C07B",
          "C07C",
          "C07D",
          "C07F",
          "C07G",
          "C07H",
          "C07J",
          "C07K",
          "C08",
          "C08B",
          "C08C",
          "C08F",
          "C08G",
          "C08H",
          "C08J",
          "C08K",
          "C08L",
          "C09",
          "C09B",
          "C09C",
          "C09D",
          "C09F",
          "C09G",
          "C09H",
          "C09J",
          "C09K",
          "C10",
          "C10B",
          "C10C",
          "C10F",
          "C10G",
          "C10H",
          "C10J",
          "C10K",
          "C10L",
          "C10M",
          "C10N",
          "C11",
          "C11B",
          "C11C",
          "C11D",
          "C12",
          "C12C",
          "C12F",
          "C12G",
          "C12H",
          "C12J",
          "C12L",
          "C12M",
          "C12N",
          "C12P",
          "C12Q",
          "C12R",
          "C13",
          "C13B",
          "C13K",
          "C14",
          "C14B",
          "C14C",
          "C21",
          "C21B",
          "C21C",
          "C21D",
          "C22",
          "C22B",
          "C22C",
          "C22F",
          "C23",
          "C23C",
          "C23D",
          "C23F",
          "C23G",
          "C25",
          "C25B",
          "C25C",
          "C25D",
          "C25F",
          "C30",
          "C30B",
          "C40",
          "C40B",
          "C99",
          "C99Z",
          "D",
          "D01",
          "D01B",
          "D01C",
          "D01D",
          "D01F",
          "D01G",
          "D01H",
          "D02",
          "D02G",
          "D02H",
          "D02J",
          "D03",
          "D03C",
          "D03D",
          "D03J",
          "D04",
          "D04B",
          "D04C",
          "D04D",
          "D04G",
          "D04H",
          "D05",
          "D05B",
          "D05C",
          "D06",
          "D06B",
          "D06C",
          "D06F",
          "D06G",
          "D06H",
          "D06J",
          "D06L",
          "D06M",
          "D06N",
          "D06P",
          "D06Q",
          "D07",
          "D07B",
          "D21",
          "D21B",
          "D21C",
          "D21D",
          "D21F",
          "D21G",
          "D21H",
          "D21J",
          "D99",
          "D99Z",
          "E",
          "E01",
          "E01B",
          "E01C",
          "E01D",
          "E01F",
          "E01H",
          "E02",
          "E02B",
          "E02C",
          "E02D",
          "E02F",
          "E03",
          "E03B",
          "E03C",
          "E03D",
          "E03F",
          "E04",
          "E04B",
          "E04C",
          "E04D",
          "E04F",
          "E04G",
          "E04H",
          "E05",
          "E05B",
          "E05C",
          "E05D",
          "E05F",
          "E05G",
          "E06",
          "E06B",
          "E06C",
          "E21",
          "E21B",
          "E21C",
          "E21D",
          "E21F",
          "E99",
          "E99Z",
          "F",
          "F01",
          "F01B",
          "F01C",
          "F01D",
          "F01K",
          "F01L",
          "F01M",
          "F01N",
          "F01P",
          "F02",
          "F02B",
          "F02C",
          "F02D",
          "F02F",
          "F02G",
          "F02K",
          "F02M",
          "F02N",
          "F02P",
          "F03",
          "F03B",
          "F03C",
          "F03D",
          "F03G",
          "F03H",
          "F04",
          "F04B",
          "F04C",
          "F04D",
          "F04F",
          "F15",
          "F15B",
          "F15C",
          "F15D",
          "F16",
          "F16B",
          "F16C",
          "F16D",
          "F16F",
          "F16G",
          "F16H",
          "F16J",
          "F16K",
          "F16L",
          "F16M",
          "F16N",
          "F16P",
          "F16S",
          "F16T",
          "F17",
          "F17B",
          "F17C",
          "F17D",
          "F21",
          "F21H",
          "F21K",
          "F21L",
          "F21S",
          "F21V",
          "F21W",
          "F21Y",
          "F22",
          "F22B",
          "F22D",
          "F22G",
          "F23",
          "F23B",
          "F23C",
          "F23D",
          "F23G",
          "F23H",
          "F23J",
          "F23K",
          "F23L",
          "F23M",
          "F23N",
          "F23Q",
          "F23R",
          "F24",
          "F24B",
          "F24C",
          "F24D",
          "F24F",
          "F24H",
          "F24S",
          "F24T",
          "F24V",
          "F25",
          "F25B",
          "F25C",
          "F25D",
          "F25J",
          "F26",
          "F26B",
          "F27",
          "F27B",
          "F27D",
          "F28",
          "F28B",
          "F28C",
          "F28D",
          "F28F",
          "F28G",
          "F41",
          "F41A",
          "F41B",
          "F41C",
          "F41F",
          "F41G",
          "F41H",
          "F41J",
          "F42",
          "F42B",
          "F42C",
          "F42D",
          "F99",
          "F99Z",
          "G",
          "G01",
          "G01B",
          "G01C",
          "G01D",
          "G01F",
          "G01G",
          "G01H",
          "G01J",
          "G01K",
          "G01L",
          "G01M",
          "G01N",
          "G01P",
          "G01Q",
          "G01R",
          "G01S",
          "G01T",
          "G01V",
          "G01W",
          "G02",
          "G02B",
          "G02C",
          "G02F",
          "G03",
          "G03B",
          "G03C",
          "G03D",
          "G03F",
          "G03G",
          "G03H",
          "G04",
          "G04B",
          "G04C",
          "G04D",
          "G04F",
          "G04G",
          "G04R",
          "G05",
          "G05B",
          "G05D",
          "G05F",
          "G05G",
          "G06",
          "G06C",
          "G06D",
          "G06E",
          "G06F",
          "G06G",
          "G06J",
          "G06K",
          "G06M",
          "G06N",
          "G06Q",
          "G06T",
          "G06V",
          "G07",
          "G07B",
          "G07C",
          "G07D",
          "G07F",
          "G07G",
          "G08",
          "G08B",
          "G08C",
          "G08G",
          "G09",
          "G09B",
          "G09C",
          "G09D",
          "G09F",
          "G09G",
          "G10",
          "G10B",
          "G10C",
          "G10D",
          "G10F",
          "G10G",
          "G10H",
          "G10K",
          "G10L",
          "G11",
          "G11B",
          "G11C",
          "G12",
          "G12B",
          "G16",
          "G16B",
          "G16C",
          "G16H",
          "G16Y",
          "G16Z",
          "G21",
          "G21B",
          "G21C",
          "G21D",
          "G21F",
          "G21G",
          "G21H",
          "G21J",
          "G21K",
          "G99",
          "G99Z",
          "H",
          "H01",
          "H01B",
          "H01C",
          "H01F",
          "H01G",
          "H01H",
          "H01J",
          "H01K",
          "H01L",
          "H01M",
          "H01P",
          "H01Q",
          "H01R",
          "H01S",
          "H01T",
          "H02",
          "H02B",
          "H02G",
          "H02H",
          "H02J",
          "H02K",
          "H02M",
          "H02N",
          "H02P",
          "H02S",
          "H03",
          "H03B",
          "H03C",
          "H03D",
          "H03F",
          "H03G",
          "H03H",
          "H03J",
          "H03K",
          "H03L",
          "H03M",
          "H04",
          "H04B",
          "H04H",
          "H04J",
          "H04K",
          "H04L",
          "H04M",
          "H04N",
          "H04Q",
          "H04R",
          "H04S",
          "H04W",
          "H05",
          "H05B",
          "H05C",
          "H05F",
          "H05G",
          "H05H",
          "H05K",
          "H10",
          "H10B",
          "H10D",
          "H10F",
          "H10H",
          "H10K",
          "H10N",
          "H99",
          "H99Z"
         ],
         "marker": {
          "cmid": 1996.5,
          "colorbar": {
           "title": {
            "text": "Creation Year"
           }
          },
          "colorscale": [
           [
            0,
            "rgb(0,104,55)"
           ],
           [
            0.1,
            "rgb(26,152,80)"
           ],
           [
            0.2,
            "rgb(102,189,99)"
           ],
           [
            0.3,
            "rgb(166,217,106)"
           ],
           [
            0.4,
            "rgb(217,239,139)"
           ],
           [
            0.5,
            "rgb(255,255,191)"
           ],
           [
            0.6,
            "rgb(254,224,139)"
           ],
           [
            0.7,
            "rgb(253,174,97)"
           ],
           [
            0.8,
            "rgb(244,109,67)"
           ],
           [
            0.9,
            "rgb(215,48,39)"
           ],
           [
            1,
            "rgb(165,0,38)"
           ]
          ]
         },
         "maxdepth": 4,
         "parents": [
          "",
          "A",
          "A - A01",
          "A - A01",
          "A - A01",
          "A - A01",
          "A - A01",
          "A - A01",
          "A - A01",
          "A - A01",
          "A - A01",
          "A - A01",
          "A - A01",
          "A - A01",
          "A",
          "A - A21",
          "A - A21",
          "A - A21",
          "A",
          "A - A22",
          "A - A22",
          "A",
          "A - A23",
          "A - A23",
          "A - A23",
          "A - A23",
          "A - A23",
          "A - A23",
          "A - A23",
          "A - A23",
          "A - A23",
          "A - A23",
          "A",
          "A - A24",
          "A - A24",
          "A - A24",
          "A - A24",
          "A",
          "A - A41",
          "A - A41",
          "A - A41",
          "A - A41",
          "A - A41",
          "A - A41",
          "A",
          "A - A42",
          "A - A42",
          "A",
          "A - A43",
          "A - A43",
          "A - A43",
          "A",
          "A - A44",
          "A - A44",
          "A",
          "A - A45",
          "A - A45",
          "A - A45",
          "A - A45",
          "A",
          "A - A46",
          "A - A46",
          "A",
          "A - A47",
          "A - A47",
          "A - A47",
          "A - A47",
          "A - A47",
          "A - A47",
          "A - A47",
          "A - A47",
          "A - A47",
          "A",
          "A - A61",
          "A - A61",
          "A - A61",
          "A - A61",
          "A - A61",
          "A - A61",
          "A - A61",
          "A - A61",
          "A - A61",
          "A - A61",
          "A - A61",
          "A - A61",
          "A - A61",
          "A",
          "A - A62",
          "A - A62",
          "A - A62",
          "A",
          "A - A63",
          "A - A63",
          "A - A63",
          "A - A63",
          "A - A63",
          "A - A63",
          "A - A63",
          "A - A63",
          "A",
          "A - A99",
          "",
          "B",
          "B - B01",
          "B - B01",
          "B - B01",
          "B - B01",
          "B - B01",
          "B",
          "B - B02",
          "B - B02",
          "B",
          "B - B03",
          "B - B03",
          "B - B03",
          "B",
          "B - B04",
          "B - B04",
          "B",
          "B - B05",
          "B - B05",
          "B - B05",
          "B",
          "B - B06",
          "B",
          "B - B07",
          "B - B07",
          "B",
          "B - B08",
          "B",
          "B - B09",
          "B - B09",
          "B",
          "B - B21",
          "B - B21",
          "B - B21",
          "B - B21",
          "B - B21",
          "B - B21",
          "B - B21",
          "B - B21",
          "B - B21",
          "B",
          "B - B22",
          "B - B22",
          "B - B22",
          "B",
          "B - B23",
          "B - B23",
          "B - B23",
          "B - B23",
          "B - B23",
          "B - B23",
          "B - B23",
          "B - B23",
          "B - B23",
          "B",
          "B - B24",
          "B - B24",
          "B - B24",
          "B",
          "B - B25",
          "B - B25",
          "B - B25",
          "B - B25",
          "B - B25",
          "B - B25",
          "B - B25",
          "B",
          "B - B26",
          "B - B26",
          "B - B26",
          "B",
          "B - B27",
          "B - B27",
          "B - B27",
          "B - B27",
          "B - B27",
          "B - B27",
          "B - B27",
          "B - B27",
          "B - B27",
          "B - B27",
          "B - B27",
          "B",
          "B - B28",
          "B - B28",
          "B - B28",
          "B",
          "B - B29",
          "B - B29",
          "B - B29",
          "B - B29",
          "B - B29",
          "B",
          "B - B30",
          "B",
          "B - B31",
          "B - B31",
          "B - B31",
          "B - B31",
          "B",
          "B - B32",
          "B",
          "B - B33",
          "B",
          "B - B41",
          "B - B41",
          "B - B41",
          "B - B41",
          "B - B41",
          "B - B41",
          "B - B41",
          "B - B41",
          "B - B41",
          "B - B41",
          "B",
          "B - B42",
          "B - B42",
          "B - B42",
          "B - B42",
          "B",
          "B - B43",
          "B - B43",
          "B - B43",
          "B",
          "B - B44",
          "B - B44",
          "B - B44",
          "B - B44",
          "B",
          "B - B60",
          "B - B60",
          "B - B60",
          "B - B60",
          "B - B60",
          "B - B60",
          "B - B60",
          "B - B60",
          "B - B60",
          "B - B60",
          "B - B60",
          "B - B60",
          "B - B60",
          "B - B60",
          "B - B60",
          "B - B60",
          "B - B60",
          "B - B60",
          "B",
          "B - B61",
          "B - B61",
          "B - B61",
          "B - B61",
          "B - B61",
          "B - B61",
          "B - B61",
          "B - B61",
          "B - B61",
          "B",
          "B - B62",
          "B - B62",
          "B - B62",
          "B - B62",
          "B - B62",
          "B - B62",
          "B - B62",
          "B - B62",
          "B",
          "B - B63",
          "B - B63",
          "B - B63",
          "B - B63",
          "B - B63",
          "B",
          "B - B64",
          "B - B64",
          "B - B64",
          "B - B64",
          "B - B64",
          "B - B64",
          "B",
          "B - B65",
          "B - B65",
          "B - B65",
          "B - B65",
          "B - B65",
          "B - B65",
          "B",
          "B - B66",
          "B - B66",
          "B - B66",
          "B - B66",
          "B",
          "B - B67",
          "B - B67",
          "B - B67",
          "B",
          "B - B68",
          "B - B68",
          "B - B68",
          "B - B68",
          "B",
          "B - B81",
          "B - B81",
          "B",
          "B - B82",
          "B - B82",
          "B",
          "B - B99",
          "",
          "C",
          "C - C01",
          "C - C01",
          "C - C01",
          "C - C01",
          "C - C01",
          "C",
          "C - C02",
          "C",
          "C - C03",
          "C - C03",
          "C",
          "C - C04",
          "C",
          "C - C05",
          "C - C05",
          "C - C05",
          "C - C05",
          "C - C05",
          "C",
          "C - C06",
          "C - C06",
          "C - C06",
          "C - C06",
          "C",
          "C - C07",
          "C - C07",
          "C - C07",
          "C - C07",
          "C - C07",
          "C - C07",
          "C - C07",
          "C - C07",
          "C",
          "C - C08",
          "C - C08",
          "C - C08",
          "C - C08",
          "C - C08",
          "C - C08",
          "C - C08",
          "C - C08",
          "C",
          "C - C09",
          "C - C09",
          "C - C09",
          "C - C09",
          "C - C09",
          "C - C09",
          "C - C09",
          "C - C09",
          "C",
          "C - C10",
          "C - C10",
          "C - C10",
          "C - C10",
          "C - C10",
          "C - C10",
          "C - C10",
          "C - C10",
          "C - C10",
          "C - C10",
          "C",
          "C - C11",
          "C - C11",
          "C - C11",
          "C",
          "C - C12",
          "C - C12",
          "C - C12",
          "C - C12",
          "C - C12",
          "C - C12",
          "C - C12",
          "C - C12",
          "C - C12",
          "C - C12",
          "C - C12",
          "C",
          "C - C13",
          "C - C13",
          "C",
          "C - C14",
          "C - C14",
          "C",
          "C - C21",
          "C - C21",
          "C - C21",
          "C",
          "C - C22",
          "C - C22",
          "C - C22",
          "C",
          "C - C23",
          "C - C23",
          "C - C23",
          "C - C23",
          "C",
          "C - C25",
          "C - C25",
          "C - C25",
          "C - C25",
          "C",
          "C - C30",
          "C",
          "C - C40",
          "C",
          "C - C99",
          "",
          "D",
          "D - D01",
          "D - D01",
          "D - D01",
          "D - D01",
          "D - D01",
          "D - D01",
          "D",
          "D - D02",
          "D - D02",
          "D - D02",
          "D",
          "D - D03",
          "D - D03",
          "D - D03",
          "D",
          "D - D04",
          "D - D04",
          "D - D04",
          "D - D04",
          "D - D04",
          "D",
          "D - D05",
          "D - D05",
          "D",
          "D - D06",
          "D - D06",
          "D - D06",
          "D - D06",
          "D - D06",
          "D - D06",
          "D - D06",
          "D - D06",
          "D - D06",
          "D - D06",
          "D - D06",
          "D",
          "D - D07",
          "D",
          "D - D21",
          "D - D21",
          "D - D21",
          "D - D21",
          "D - D21",
          "D - D21",
          "D - D21",
          "D",
          "D - D99",
          "",
          "E",
          "E - E01",
          "E - E01",
          "E - E01",
          "E - E01",
          "E - E01",
          "E",
          "E - E02",
          "E - E02",
          "E - E02",
          "E - E02",
          "E",
          "E - E03",
          "E - E03",
          "E - E03",
          "E - E03",
          "E",
          "E - E04",
          "E - E04",
          "E - E04",
          "E - E04",
          "E - E04",
          "E - E04",
          "E",
          "E - E05",
          "E - E05",
          "E - E05",
          "E - E05",
          "E - E05",
          "E",
          "E - E06",
          "E - E06",
          "E",
          "E - E21",
          "E - E21",
          "E - E21",
          "E - E21",
          "E",
          "E - E99",
          "",
          "F",
          "F - F01",
          "F - F01",
          "F - F01",
          "F - F01",
          "F - F01",
          "F - F01",
          "F - F01",
          "F - F01",
          "F",
          "F - F02",
          "F - F02",
          "F - F02",
          "F - F02",
          "F - F02",
          "F - F02",
          "F - F02",
          "F - F02",
          "F - F02",
          "F",
          "F - F03",
          "F - F03",
          "F - F03",
          "F - F03",
          "F - F03",
          "F",
          "F - F04",
          "F - F04",
          "F - F04",
          "F - F04",
          "F",
          "F - F15",
          "F - F15",
          "F - F15",
          "F",
          "F - F16",
          "F - F16",
          "F - F16",
          "F - F16",
          "F - F16",
          "F - F16",
          "F - F16",
          "F - F16",
          "F - F16",
          "F - F16",
          "F - F16",
          "F - F16",
          "F - F16",
          "F - F16",
          "F",
          "F - F17",
          "F - F17",
          "F - F17",
          "F",
          "F - F21",
          "F - F21",
          "F - F21",
          "F - F21",
          "F - F21",
          "F - F21",
          "F - F21",
          "F",
          "F - F22",
          "F - F22",
          "F - F22",
          "F",
          "F - F23",
          "F - F23",
          "F - F23",
          "F - F23",
          "F - F23",
          "F - F23",
          "F - F23",
          "F - F23",
          "F - F23",
          "F - F23",
          "F - F23",
          "F - F23",
          "F",
          "F - F24",
          "F - F24",
          "F - F24",
          "F - F24",
          "F - F24",
          "F - F24",
          "F - F24",
          "F - F24",
          "F",
          "F - F25",
          "F - F25",
          "F - F25",
          "F - F25",
          "F",
          "F - F26",
          "F",
          "F - F27",
          "F - F27",
          "F",
          "F - F28",
          "F - F28",
          "F - F28",
          "F - F28",
          "F - F28",
          "F",
          "F - F41",
          "F - F41",
          "F - F41",
          "F - F41",
          "F - F41",
          "F - F41",
          "F - F41",
          "F",
          "F - F42",
          "F - F42",
          "F - F42",
          "F",
          "F - F99",
          "",
          "G",
          "G - G01",
          "G - G01",
          "G - G01",
          "G - G01",
          "G - G01",
          "G - G01",
          "G - G01",
          "G - G01",
          "G - G01",
          "G - G01",
          "G - G01",
          "G - G01",
          "G - G01",
          "G - G01",
          "G - G01",
          "G - G01",
          "G - G01",
          "G - G01",
          "G",
          "G - G02",
          "G - G02",
          "G - G02",
          "G",
          "G - G03",
          "G - G03",
          "G - G03",
          "G - G03",
          "G - G03",
          "G - G03",
          "G",
          "G - G04",
          "G - G04",
          "G - G04",
          "G - G04",
          "G - G04",
          "G - G04",
          "G",
          "G - G05",
          "G - G05",
          "G - G05",
          "G - G05",
          "G",
          "G - G06",
          "G - G06",
          "G - G06",
          "G - G06",
          "G - G06",
          "G - G06",
          "G - G06",
          "G - G06",
          "G - G06",
          "G - G06",
          "G - G06",
          "G - G06",
          "G",
          "G - G07",
          "G - G07",
          "G - G07",
          "G - G07",
          "G - G07",
          "G",
          "G - G08",
          "G - G08",
          "G - G08",
          "G",
          "G - G09",
          "G - G09",
          "G - G09",
          "G - G09",
          "G - G09",
          "G",
          "G - G10",
          "G - G10",
          "G - G10",
          "G - G10",
          "G - G10",
          "G - G10",
          "G - G10",
          "G - G10",
          "G",
          "G - G11",
          "G - G11",
          "G",
          "G - G12",
          "G",
          "G - G16",
          "G - G16",
          "G - G16",
          "G - G16",
          "G - G16",
          "G",
          "G - G21",
          "G - G21",
          "G - G21",
          "G - G21",
          "G - G21",
          "G - G21",
          "G - G21",
          "G - G21",
          "G",
          "G - G99",
          "",
          "H",
          "H - H01",
          "H - H01",
          "H - H01",
          "H - H01",
          "H - H01",
          "H - H01",
          "H - H01",
          "H - H01",
          "H - H01",
          "H - H01",
          "H - H01",
          "H - H01",
          "H - H01",
          "H - H01",
          "H",
          "H - H02",
          "H - H02",
          "H - H02",
          "H - H02",
          "H - H02",
          "H - H02",
          "H - H02",
          "H - H02",
          "H - H02",
          "H",
          "H - H03",
          "H - H03",
          "H - H03",
          "H - H03",
          "H - H03",
          "H - H03",
          "H - H03",
          "H - H03",
          "H - H03",
          "H - H03",
          "H",
          "H - H04",
          "H - H04",
          "H - H04",
          "H - H04",
          "H - H04",
          "H - H04",
          "H - H04",
          "H - H04",
          "H - H04",
          "H - H04",
          "H - H04",
          "H",
          "H - H05",
          "H - H05",
          "H - H05",
          "H - H05",
          "H - H05",
          "H - H05",
          "H",
          "H - H10",
          "H - H10",
          "H - H10",
          "H - H10",
          "H - H10",
          "H - H10",
          "H",
          "H - H99"
         ],
         "type": "sunburst",
         "values": {
          "bdata": "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",
          "dtype": "i2"
         }
        }
       ],
       "layout": {
        "font": {
         "size": 12
        },
        "height": 800,
        "template": {
         "data": {
          "bar": [
           {
            "error_x": {
             "color": "#2a3f5f"
            },
            "error_y": {
             "color": "#2a3f5f"
            },
            "marker": {
             "line": {
              "color": "#E5ECF6",
              "width": 0.5
             },
             "pattern": {
              "fillmode": "overlay",
              "size": 10,
              "solidity": 0.2
             }
            },
            "type": "bar"
           }
          ],
          "barpolar": [
           {
            "marker": {
             "line": {
              "color": "#E5ECF6",
              "width": 0.5
             },
             "pattern": {
              "fillmode": "overlay",
              "size": 10,
              "solidity": 0.2
             }
            },
            "type": "barpolar"
           }
          ],
          "carpet": [
           {
            "aaxis": {
             "endlinecolor": "#2a3f5f",
             "gridcolor": "white",
             "linecolor": "white",
             "minorgridcolor": "white",
             "startlinecolor": "#2a3f5f"
            },
            "baxis": {
             "endlinecolor": "#2a3f5f",
             "gridcolor": "white",
             "linecolor": "white",
             "minorgridcolor": "white",
             "startlinecolor": "#2a3f5f"
            },
            "type": "carpet"
           }
          ],
          "choropleth": [
           {
            "colorbar": {
             "outlinewidth": 0,
             "ticks": ""
            },
            "type": "choropleth"
           }
          ],
          "contour": [
           {
            "colorbar": {
             "outlinewidth": 0,
             "ticks": ""
            },
            "colorscale": [
             [
              0,
              "#0d0887"
             ],
             [
              0.1111111111111111,
              "#46039f"
             ],
             [
              0.2222222222222222,
              "#7201a8"
             ],
             [
              0.3333333333333333,
              "#9c179e"
             ],
             [
              0.4444444444444444,
              "#bd3786"
             ],
             [
              0.5555555555555556,
              "#d8576b"
             ],
             [
              0.6666666666666666,
              "#ed7953"
             ],
             [
              0.7777777777777778,
              "#fb9f3a"
             ],
             [
              0.8888888888888888,
              "#fdca26"
             ],
             [
              1,
              "#f0f921"
             ]
            ],
            "type": "contour"
           }
          ],
          "contourcarpet": [
           {
            "colorbar": {
             "outlinewidth": 0,
             "ticks": ""
            },
            "type": "contourcarpet"
           }
          ],
          "heatmap": [
           {
            "colorbar": {
             "outlinewidth": 0,
             "ticks": ""
            },
            "colorscale": [
             [
              0,
              "#0d0887"
             ],
             [
              0.1111111111111111,
              "#46039f"
             ],
             [
              0.2222222222222222,
              "#7201a8"
             ],
             [
              0.3333333333333333,
              "#9c179e"
             ],
             [
              0.4444444444444444,
              "#bd3786"
             ],
             [
              0.5555555555555556,
              "#d8576b"
             ],
             [
              0.6666666666666666,
              "#ed7953"
             ],
             [
              0.7777777777777778,
              "#fb9f3a"
             ],
             [
              0.8888888888888888,
              "#fdca26"
             ],
             [
              1,
              "#f0f921"
             ]
            ],
            "type": "heatmap"
           }
          ],
          "histogram": [
           {
            "marker": {
             "pattern": {
              "fillmode": "overlay",
              "size": 10,
              "solidity": 0.2
             }
            },
            "type": "histogram"
           }
          ],
          "histogram2d": [
           {
            "colorbar": {
             "outlinewidth": 0,
             "ticks": ""
            },
            "colorscale": [
             [
              0,
              "#0d0887"
             ],
             [
              0.1111111111111111,
              "#46039f"
             ],
             [
              0.2222222222222222,
              "#7201a8"
             ],
             [
              0.3333333333333333,
              "#9c179e"
             ],
             [
              0.4444444444444444,
              "#bd3786"
             ],
             [
              0.5555555555555556,
              "#d8576b"
             ],
             [
              0.6666666666666666,
              "#ed7953"
             ],
             [
              0.7777777777777778,
              "#fb9f3a"
             ],
             [
              0.8888888888888888,
              "#fdca26"
             ],
             [
              1,
              "#f0f921"
             ]
            ],
            "type": "histogram2d"
           }
          ],
          "histogram2dcontour": [
           {
            "colorbar": {
             "outlinewidth": 0,
             "ticks": ""
            },
            "colorscale": [
             [
              0,
              "#0d0887"
             ],
             [
              0.1111111111111111,
              "#46039f"
             ],
             [
              0.2222222222222222,
              "#7201a8"
             ],
             [
              0.3333333333333333,
              "#9c179e"
             ],
             [
              0.4444444444444444,
              "#bd3786"
             ],
             [
              0.5555555555555556,
              "#d8576b"
             ],
             [
              0.6666666666666666,
              "#ed7953"
             ],
             [
              0.7777777777777778,
              "#fb9f3a"
             ],
             [
              0.8888888888888888,
              "#fdca26"
             ],
             [
              1,
              "#f0f921"
             ]
            ],
            "type": "histogram2dcontour"
           }
          ],
          "mesh3d": [
           {
            "colorbar": {
             "outlinewidth": 0,
             "ticks": ""
            },
            "type": "mesh3d"
           }
          ],
          "parcoords": [
           {
            "line": {
             "colorbar": {
              "outlinewidth": 0,
              "ticks": ""
             }
            },
            "type": "parcoords"
           }
          ],
          "pie": [
           {
            "automargin": true,
            "type": "pie"
           }
          ],
          "scatter": [
           {
            "fillpattern": {
             "fillmode": "overlay",
             "size": 10,
             "solidity": 0.2
            },
            "type": "scatter"
           }
          ],
          "scatter3d": [
           {
            "line": {
             "colorbar": {
              "outlinewidth": 0,
              "ticks": ""
             }
            },
            "marker": {
             "colorbar": {
              "outlinewidth": 0,
              "ticks": ""
             }
            },
            "type": "scatter3d"
           }
          ],
          "scattercarpet": [
           {
            "marker": {
             "colorbar": {
              "outlinewidth": 0,
              "ticks": ""
             }
            },
            "type": "scattercarpet"
           }
          ],
          "scattergeo": [
           {
            "marker": {
             "colorbar": {
              "outlinewidth": 0,
              "ticks": ""
             }
            },
            "type": "scattergeo"
           }
          ],
          "scattergl": [
           {
            "marker": {
             "colorbar": {
              "outlinewidth": 0,
              "ticks": ""
             }
            },
            "type": "scattergl"
           }
          ],
          "scattermap": [
           {
            "marker": {
             "colorbar": {
              "outlinewidth": 0,
              "ticks": ""
             }
            },
            "type": "scattermap"
           }
          ],
          "scattermapbox": [
           {
            "marker": {
             "colorbar": {
              "outlinewidth": 0,
              "ticks": ""
             }
            },
            "type": "scattermapbox"
           }
          ],
          "scatterpolar": [
           {
            "marker": {
             "colorbar": {
              "outlinewidth": 0,
              "ticks": ""
             }
            },
            "type": "scatterpolar"
           }
          ],
          "scatterpolargl": [
           {
            "marker": {
             "colorbar": {
              "outlinewidth": 0,
              "ticks": ""
             }
            },
            "type": "scatterpolargl"
           }
          ],
          "scatterternary": [
           {
            "marker": {
             "colorbar": {
              "outlinewidth": 0,
              "ticks": ""
             }
            },
            "type": "scatterternary"
           }
          ],
          "surface": [
           {
            "colorbar": {
             "outlinewidth": 0,
             "ticks": ""
            },
            "colorscale": [
             [
              0,
              "#0d0887"
             ],
             [
              0.1111111111111111,
              "#46039f"
             ],
             [
              0.2222222222222222,
              "#7201a8"
             ],
             [
              0.3333333333333333,
              "#9c179e"
             ],
             [
              0.4444444444444444,
              "#bd3786"
             ],
             [
              0.5555555555555556,
              "#d8576b"
             ],
             [
              0.6666666666666666,
              "#ed7953"
             ],
             [
              0.7777777777777778,
              "#fb9f3a"
             ],
             [
              0.8888888888888888,
              "#fdca26"
             ],
             [
              1,
              "#f0f921"
             ]
            ],
            "type": "surface"
           }
          ],
          "table": [
           {
            "cells": {
             "fill": {
              "color": "#EBF0F8"
             },
             "line": {
              "color": "white"
             }
            },
            "header": {
             "fill": {
              "color": "#C8D4E3"
             },
             "line": {
              "color": "white"
             }
            },
            "type": "table"
           }
          ]
         },
         "layout": {
          "annotationdefaults": {
           "arrowcolor": "#2a3f5f",
           "arrowhead": 0,
           "arrowwidth": 1
          },
          "autotypenumbers": "strict",
          "coloraxis": {
           "colorbar": {
            "outlinewidth": 0,
            "ticks": ""
           }
          },
          "colorscale": {
           "diverging": [
            [
             0,
             "#8e0152"
            ],
            [
             0.1,
             "#c51b7d"
            ],
            [
             0.2,
             "#de77ae"
            ],
            [
             0.3,
             "#f1b6da"
            ],
            [
             0.4,
             "#fde0ef"
            ],
            [
             0.5,
             "#f7f7f7"
            ],
            [
             0.6,
             "#e6f5d0"
            ],
            [
             0.7,
             "#b8e186"
            ],
            [
             0.8,
             "#7fbc41"
            ],
            [
             0.9,
             "#4d9221"
            ],
            [
             1,
             "#276419"
            ]
           ],
           "sequential": [
            [
             0,
             "#0d0887"
            ],
            [
             0.1111111111111111,
             "#46039f"
            ],
            [
             0.2222222222222222,
             "#7201a8"
            ],
            [
             0.3333333333333333,
             "#9c179e"
            ],
            [
             0.4444444444444444,
             "#bd3786"
            ],
            [
             0.5555555555555556,
             "#d8576b"
            ],
            [
             0.6666666666666666,
             "#ed7953"
            ],
            [
             0.7777777777777778,
             "#fb9f3a"
            ],
            [
             0.8888888888888888,
             "#fdca26"
            ],
            [
             1,
             "#f0f921"
            ]
           ],
           "sequentialminus": [
            [
             0,
             "#0d0887"
            ],
            [
             0.1111111111111111,
             "#46039f"
            ],
            [
             0.2222222222222222,
             "#7201a8"
            ],
            [
             0.3333333333333333,
             "#9c179e"
            ],
            [
             0.4444444444444444,
             "#bd3786"
            ],
            [
             0.5555555555555556,
             "#d8576b"
            ],
            [
             0.6666666666666666,
             "#ed7953"
            ],
            [
             0.7777777777777778,
             "#fb9f3a"
            ],
            [
             0.8888888888888888,
             "#fdca26"
            ],
            [
             1,
             "#f0f921"
            ]
           ]
          },
          "colorway": [
           "#636efa",
           "#EF553B",
           "#00cc96",
           "#ab63fa",
           "#FFA15A",
           "#19d3f3",
           "#FF6692",
           "#B6E880",
           "#FF97FF",
           "#FECB52"
          ],
          "font": {
           "color": "#2a3f5f"
          },
          "geo": {
           "bgcolor": "white",
           "lakecolor": "white",
           "landcolor": "#E5ECF6",
           "showlakes": true,
           "showland": true,
           "subunitcolor": "white"
          },
          "hoverlabel": {
           "align": "left"
          },
          "hovermode": "closest",
          "mapbox": {
           "style": "light"
          },
          "paper_bgcolor": "white",
          "plot_bgcolor": "#E5ECF6",
          "polar": {
           "angularaxis": {
            "gridcolor": "white",
            "linecolor": "white",
            "ticks": ""
           },
           "bgcolor": "#E5ECF6",
           "radialaxis": {
            "gridcolor": "white",
            "linecolor": "white",
            "ticks": ""
           }
          },
          "scene": {
           "xaxis": {
            "backgroundcolor": "#E5ECF6",
            "gridcolor": "white",
            "gridwidth": 2,
            "linecolor": "white",
            "showbackground": true,
            "ticks": "",
            "zerolinecolor": "white"
           },
           "yaxis": {
            "backgroundcolor": "#E5ECF6",
            "gridcolor": "white",
            "gridwidth": 2,
            "linecolor": "white",
            "showbackground": true,
            "ticks": "",
            "zerolinecolor": "white"
           },
           "zaxis": {
            "backgroundcolor": "#E5ECF6",
            "gridcolor": "white",
            "gridwidth": 2,
            "linecolor": "white",
            "showbackground": true,
            "ticks": "",
            "zerolinecolor": "white"
           }
          },
          "shapedefaults": {
           "line": {
            "color": "#2a3f5f"
           }
          },
          "ternary": {
           "aaxis": {
            "gridcolor": "white",
            "linecolor": "white",
            "ticks": ""
           },
           "baxis": {
            "gridcolor": "white",
            "linecolor": "white",
            "ticks": ""
           },
           "bgcolor": "#E5ECF6",
           "caxis": {
            "gridcolor": "white",
            "linecolor": "white",
            "ticks": ""
           }
          },
          "title": {
           "x": 0.05
          },
          "xaxis": {
           "automargin": true,
           "gridcolor": "white",
           "linecolor": "white",
           "ticks": "",
           "title": {
            "standoff": 15
           },
           "zerolinecolor": "white",
           "zerolinewidth": 2
          },
          "yaxis": {
           "automargin": true,
           "gridcolor": "white",
           "linecolor": "white",
           "ticks": "",
           "title": {
            "standoff": 15
           },
           "zerolinecolor": "white",
           "zerolinewidth": 2
          }
         }
        },
        "title": {
         "text": "IPC Classification Hierarchy - Sunburst View",
         "x": 0.5
        },
        "width": 800
       }
      },
      "text/html": [
       "<div>            <script src=\"https://cdnjs.cloudflare.com/ajax/libs/mathjax/2.7.5/MathJax.js?config=TeX-AMS-MML_SVG\"></script><script type=\"text/javascript\">if (window.MathJax && window.MathJax.Hub && window.MathJax.Hub.Config) {window.MathJax.Hub.Config({SVG: {font: \"STIX-Web\"}});}</script>                <script type=\"text/javascript\">window.PlotlyConfig = {MathJaxConfig: 'local'};</script>\n",
       "        <script charset=\"utf-8\" src=\"https://cdn.plot.ly/plotly-3.0.1.min.js\"></script>                <div id=\"d181fdb8-e23a-4ab9-9bb4-629a63f3cd60\" class=\"plotly-graph-div\" style=\"height:800px; width:800px;\"></div>            <script type=\"text/javascript\">                window.PLOTLYENV=window.PLOTLYENV || {};                                if (document.getElementById(\"d181fdb8-e23a-4ab9-9bb4-629a63f3cd60\")) {                    Plotly.newPlot(                        \"d181fdb8-e23a-4ab9-9bb4-629a63f3cd60\",                        [{\"branchvalues\":\"total\",\"customdata\":[[1968,9863,12.356,\"HUMAN NECESSITIES\"],[1968,1656,2.075,\"AGRICULTURE; FORESTRY; ANIMAL HUSBANDRY; HUNTING; TRAPPING; FISHING\"],[1968,224,0.281,\"SOIL WORKING IN AGRICULTURE OR FORESTRY; PARTS, DETAILS, OR ACCESSORIES OF AGRICULTURAL MACHINES OR IMPLEMENTS, IN GENERAL\"],[1968,54,0.068,\"PLANTING; SOWING; FERTILISING\"],[1968,320,0.401,\"HARVESTING; MOWING\"],[1968,88,0.11,\"THRESHING; BALING OF STRAW, HAY OR THE LIKE; STATIONARY APPARATUS OR HAND TOOLS FOR FORMING OR BINDING STRAW, HAY OR THE LIKE INTO BUNDLES; CUTTING OF STRAW, HAY OR THE LIKE; STORING AGRICULTURAL OR HORTICULTURAL PRODUCE\"],[1968,177,0.222,\"HORTICULTURE; CULTIVATION OF VEGETABLES, FLOWERS, RICE, FRUIT, VINES, HOPS OR SEAWEED; FORESTRY; WATERING\"],[1990,67,0.084,\"NEW PLANTS OR PROCESSES FOR OBTAINING THEM; PLANT REPRODUCTION BY TISSUE CULTURE TECHNIQUES\"],[1968,71,0.089,\"MANUFACTURE OF DAIRY PRODUCTS\"],[1968,244,0.306,\"ANIMAL HUSBANDRY; AVICULTURE; APICULTURE; PISCICULTURE; FISHING; REARING OR BREEDING ANIMALS, NOT OTHERWISE PROVIDED FOR; NEW BREEDS OF ANIMALS\"],[1968,18,0.023,\"SHOEING OF ANIMALS\"],[1968,74,0.093,\"CATCHING, TRAPPING OR SCARING OF ANIMALS; APPARATUS FOR THE DESTRUCTION OF NOXIOUS ANIMALS OR NOXIOUS PLANTS\"],[1968,292,0.366,\"PRESERVATION OF BODIES OF HUMANS OR ANIMALS OR PLANTS OR PARTS THEREOF; BIOCIDES, e.g. AS DISINFECTANTS, AS PESTICIDES OR AS HERBICIDES; PEST REPELLANTS OR ATTRACTANTS; PLANT GROWTH REGULATORS\"],[2006,15,0.019,\"BIOCIDAL, PEST REPELLANT, PEST ATTRACTANT OR PLANT GROWTH REGULATORY ACTIVITY OF CHEMICAL COMPOUNDS OR PREPARATIONS\"],[1968,168,0.21,\"BAKING; EQUIPMENT FOR MAKING OR PROCESSING DOUGHS; DOUGHS FOR BAKING\"],[1968,37,0.046,\"BAKERS' OVENS; MACHINES OR EQUIPMENT FOR BAKING\"],[1968,48,0.06,\"MACHINES OR EQUIPMENT FOR MAKING OR PROCESSING DOUGHS; HANDLING BAKED ARTICLES MADE FROM DOUGH\"],[1968,80,0.1,\"TREATMENT OF FLOUR OR DOUGH FOR BAKING, e.g. BY ADDITION OF MATERIALS; BAKING; BAKERY PRODUCTS\"],[1968,65,0.081,\"BUTCHERING; MEAT TREATMENT; PROCESSING POULTRY OR FISH\"],[1968,20,0.025,\"SLAUGHTERING\"],[1968,43,0.054,\"PROCESSING MEAT, POULTRY, OR FISH\"],[1968,834,1.045,\"FOODS, FOODSTUFFS OR NON-ALCOHOLIC BEVERAGES; PREPARATION, TREATMENT OR PRESERVATION THEREOF\"],[1968,215,0.269,\"PRESERVATION OF FOODS, FOODSTUFFS OR NON-ALCOHOLIC BEVERAGES; CHEMICAL RIPENING OF FRUIT OR VEGETABLES\"],[1968,84,0.105,\"DAIRY PRODUCTS, e.g. MILK, BUTTER OR CHEESE; MILK OR CHEESE SUBSTITUTES; MAKING OR TREATMENT THEREOF\"],[1968,13,0.016,\"EDIBLE OILS OR FATS, e.g. MARGARINES, SHORTENINGS OR COOKING OILS\"],[1968,46,0.058,\"COFFEE; TEA; THEIR SUBSTITUTES; MANUFACTURE, PREPARATION, OR INFUSION THEREOF\"],[1968,97,0.122,\"COCOA; COCOA PRODUCTS, e.g. CHOCOLATE; SUBSTITUTES FOR COCOA OR COCOA PRODUCTS; CONFECTIONERY; CHEWING GUM; ICE-CREAM; PREPARATION THEREOF\"],[1985,31,0.039,\"PROTEIN COMPOSITIONS FOR FOODSTUFFS; WORKING-UP PROTEINS FOR FOODSTUFFS; PHOSPHATIDE COMPOSITIONS FOR FOODSTUFFS\"],[1968,70,0.088,\"FEEDING-STUFFS SPECIALLY ADAPTED FOR ANIMALS; METHODS SPECIALLY ADAPTED FOR PRODUCTION THEREOF\"],[1985,191,0.239,\"FOODS, FOODSTUFFS OR NON-ALCOHOLIC BEVERAGES, NOT OTHERWISE PROVIDED FOR; PREPARATION OR TREATMENT THEREOF\"],[1968,47,0.059,\"MACHINES OR APPARATUS FOR TREATING HARVESTED FRUIT, VEGETABLES, OR FLOWER BULBS IN BULK, NOT OTHERWISE PROVIDED FOR; PEELING VEGETABLES OR FRUIT IN BULK; APPARATUS FOR PREPARING ANIMAL FEEDING-STUFFS\"],[1968,30,0.038,\"SHAPING OR WORKING OF FOODSTUFFS, NOT FULLY COVERED BY A SINGLE OTHER SUBCLASS\"],[1968,278,0.348,\"TOBACCO; CIGARS; CIGARETTES; SIMULATED SMOKING DEVICES; SMOKERS' REQUISITES\"],[1968,57,0.071,\"MANUFACTURE OR PREPARATION OF TOBACCO FOR SMOKING OR CHEWING; TOBACCO; SNUFF\"],[1968,63,0.079,\"MACHINES FOR MAKING CIGARS OR CIGARETTES\"],[1968,22,0.028,\"CIGARS; CIGARETTES; TOBACCO SMOKE FILTERS; MOUTHPIECES FOR CIGARS OR CIGARETTES; MANUFACTURE OF TOBACCO SMOKE FILTERS OR MOUTHPIECES\"],[1968,132,0.165,\"SMOKERS’ REQUISITES; MATCH BOXES; SIMULATED SMOKING DEVICES\"],[1968,259,0.324,\"WEARING APPAREL\"],[1968,56,0.07,\"SHIRTS; UNDERWEAR; BABY LINEN; HANDKERCHIEFS\"],[1968,20,0.025,\"CORSETS; BRASSIÈRES\"],[1968,96,0.12,\"OUTERWEAR; PROTECTIVE GARMENTS; ACCESSORIES\"],[1968,31,0.039,\"GARMENT FASTENINGS; SUSPENDERS\"],[1968,11,0.014,\"ARTIFICIAL FLOWERS; WIGS; MASKS; FEATHERS\"],[1968,39,0.049,\"APPLIANCES OR METHODS FOR MAKING CLOTHES, e.g. FOR DRESS-MAKING OR FOR TAILORING, NOT OTHERWISE PROVIDED FOR\"],[1968,85,0.106,\"HEADWEAR\"],[1968,69,0.086,\"HATS; HEAD COVERINGS\"],[1968,14,0.018,\"MANUFACTURING OR TRIMMING HEAD COVERINGS, e.g. HATS\"],[1968,422,0.529,\"FOOTWEAR\"],[1968,191,0.239,\"CHARACTERISTIC FEATURES OF FOOTWEAR; PARTS OF FOOTWEAR\"],[1968,55,0.069,\"FASTENINGS OR ATTACHMENTS FOR FOOTWEAR; LACES IN GENERAL\"],[1995,173,0.217,\"MACHINES, TOOLS, EQUIPMENT OR METHODS FOR MANUFACTURING OR REPAIRING FOOTWEAR\"],[1968,130,0.163,\"HABERDASHERY; JEWELLERY\"],[1968,98,0.123,\"BUTTONS, PINS, BUCKLES, SLIDE FASTENERS, OR THE LIKE\"],[1968,30,0.038,\"PERSONAL ADORNMENTS, e.g. JEWELLERY; COINS\"],[1968,410,0.514,\"HAND OR TRAVELLING ARTICLES\"],[1968,51,0.064,\"WALKING STICKS; UMBRELLAS; LADIES' OR LIKE FANS\"],[1968,70,0.088,\"PURSES; LUGGAGE; HAND CARRIED BAGS\"],[1968,249,0.312,\"HAIRDRESSING OR SHAVING EQUIPMENT; EQUIPMENT FOR COSMETICS OR COSMETIC TREATMENTS, e.g. FOR MANICURING OR PEDICURING\"],[1968,36,0.045,\"TRAVELLING OR CAMP EQUIPMENT; SACKS OR PACKS CARRIED ON THE BODY\"],[1968,69,0.086,\"BRUSHWARE\"],[1968,46,0.058,\"BRUSHES\"],[1968,21,0.026,\"MANUFACTURE OF BRUSHES\"],[1968,1399,1.753,\"FURNITURE; DOMESTIC ARTICLES OR APPLIANCES; COFFEE MILLS; SPICE MILLS; SUCTION CLEANERS IN GENERAL\"],[1968,267,0.334,\"TABLES; DESKS; OFFICE FURNITURE; CABINETS; DRAWERS; GENERAL DETAILS OF FURNITURE\"],[1968,263,0.329,\"CHAIRS; SOFAS; BEDS\"],[1968,26,0.033,\"FURNITURE SPECIALLY ADAPTED FOR CHILDREN\"],[1968,77,0.096,\"SPECIAL FURNITURE, FITTINGS, OR ACCESSORIES FOR SHOPS, STOREHOUSES, BARS, RESTAURANTS, OR THE LIKE; PAYING COUNTERS\"],[1968,152,0.19,\"HOUSEHOLD OR TABLE EQUIPMENT\"],[1968,70,0.088,\"FURNISHINGS FOR WINDOWS OR DOORS\"],[1995,194,0.243,\"KITCHEN EQUIPMENT; COFFEE MILLS; SPICE MILLS; APPARATUS FOR MAKING BEVERAGES\"],[1968,113,0.142,\"SANITARY EQUIPMENT NOT OTHERWISE PROVIDED FOR; TOILET ACCESSORIES\"],[1968,228,0.286,\"DOMESTIC WASHING OR CLEANING; SUCTION CLEANERS IN GENERAL\"],[1968,2871,3.597,\"MEDICAL OR VETERINARY SCIENCE; HYGIENE\"],[1968,424,0.531,\"DIAGNOSIS; SURGERY; IDENTIFICATION\"],[1968,153,0.192,\"DENTISTRY; APPARATUS OR METHODS FOR ORAL OR DENTAL HYGIENE\"],[1968,23,0.029,\"VETERINARY INSTRUMENTS, IMPLEMENTS, TOOLS, OR METHODS\"],[1995,223,0.279,\"FILTERS IMPLANTABLE INTO BLOOD VESSELS; PROSTHESES; DEVICES PROVIDING PATENCY TO, OR PREVENTING COLLAPSING OF, TUBULAR STRUCTURES OF THE BODY, e.g. STENTS; ORTHOPAEDIC, NURSING OR CONTRACEPTIVE DEVICES; FOMENTATION; TREATMENT OR PROTECTION OF EYES OR EARS; BANDAGES, DRESSINGS OR ABSORBENT PADS; FIRST-AID KITS\"],[1968,81,0.101,\"TRANSPORT, PERSONAL CONVEYANCES, OR ACCOMMODATION SPECIALLY ADAPTED FOR PATIENTS OR DISABLED PERSONS; OPERATING TABLES OR CHAIRS; CHAIRS FOR DENTISTRY; FUNERAL DEVICES\"],[1968,41,0.051,\"PHYSICAL THERAPY APPARATUS, e.g. DEVICES FOR LOCATING OR STIMULATING REFLEX POINTS IN THE BODY; ARTIFICIAL RESPIRATION; MASSAGE; BATHING DEVICES FOR SPECIAL THERAPEUTIC OR HYGIENIC PURPOSES OR SPECIFIC PARTS OF THE BODY\"],[1968,37,0.046,\"CONTAINERS SPECIALLY ADAPTED FOR MEDICAL OR PHARMACEUTICAL PURPOSES; DEVICES OR METHODS SPECIALLY ADAPTED FOR BRINGING PHARMACEUTICAL PRODUCTS INTO PARTICULAR PHYSICAL OR ADMINISTERING FORMS; DEVICES FOR ADMINISTERING FOOD OR MEDICINES ORALLY; BABY COMFORTERS; DEVICES FOR RECEIVING SPITTLE\"],[1968,1150,1.441,\"PREPARATIONS FOR MEDICAL, DENTAL OR TOILETRY PURPOSES\"],[1985,184,0.231,\"METHODS OR APPARATUS FOR STERILISING MATERIALS OR OBJECTS IN GENERAL; DISINFECTION, STERILISATION OR DEODORISATION OF AIR; CHEMICAL ASPECTS OF BANDAGES, DRESSINGS, ABSORBENT PADS OR SURGICAL ARTICLES; MATERIALS FOR BANDAGES, DRESSINGS, ABSORBENT PADS OR SURGICAL ARTICLES\"],[1985,286,0.358,\"DEVICES FOR INTRODUCING MEDIA INTO, OR ONTO, THE BODY; DEVICES FOR TRANSDUCING BODY MEDIA OR FOR TAKING MEDIA FROM THE BODY; DEVICES FOR PRODUCING OR ENDING SLEEP OR STUPOR\"],[1995,48,0.06,\"ELECTROTHERAPY; MAGNETOTHERAPY; RADIATION THERAPY; ULTRASOUND THERAPY\"],[2000,171,0.214,\"SPECIFIC THERAPEUTIC ACTIVITY OF CHEMICAL COMPOUNDS OR MEDICINAL PREPARATIONS\"],[2006,37,0.046,\"SPECIFIC USE OF COSMETICS OR SIMILAR TOILETRY PREPARATIONS\"],[1968,212,0.266,\"LIFE-SAVING; FIRE-FIGHTING\"],[1968,53,0.066,\"DEVICES, APPARATUS OR METHODS FOR LIFE-SAVING\"],[1968,108,0.135,\"FIRE-FIGHTING\"],[1968,48,0.06,\"CHEMICAL MEANS FOR EXTINGUISHING FIRES; PROCESSES FOR MAKING HARMFUL CHEMICAL SUBSTANCES HARMLESS, OR LESS HARMFUL, BY EFFECTING A CHEMICAL CHANGE; COMPOSITION OF MATERIALS FOR COVERINGS OR CLOTHING FOR PROTECTING AGAINST HARMFUL CHEMICAL AGENTS; COMPOSITION OF MATERIALS FOR TRANSPARENT PARTS OF GAS-MASKS, RESPIRATORS, BREATHING BAGS OR HELMETS; COMPOSITION OF CHEMICAL MATERIALS FOR USE IN BREATHING APPARATUS\"],[1968,987,1.236,\"SPORTS; GAMES; AMUSEMENTS\"],[1968,330,0.413,\"APPARATUS FOR PHYSICAL TRAINING, GYMNASTICS, SWIMMING, CLIMBING, OR FENCING; BALL GAMES; TRAINING EQUIPMENT\"],[1990,130,0.163,\"SKATES; SKIS; ROLLER SKATES; DESIGN OR LAYOUT OF COURTS, RINKS OR THE LIKE\"],[1968,27,0.034,\"BOWLING GAMES, e.g. SKITTLES, BOCCE OR BOWLS; INSTALLATIONS THEREFOR; BAGATELLE OR SIMILAR GAMES; BILLIARDS\"],[1990,160,0.2,\"CARD, BOARD OR ROULETTE GAMES; INDOOR GAMES USING SMALL MOVING PLAYING BODIES; VIDEO GAMES; GAMES NOT OTHERWISE PROVIDED FOR\"],[1968,97,0.122,\"MERRY-GO-ROUNDS; SWINGS; ROCKING-HORSES; CHUTES; SWITCHBACKS; SIMILAR DEVICES FOR PUBLIC AMUSEMENT\"],[1968,211,0.264,\"TOYS, e.g. TOPS, DOLLS, HOOPS OR BUILDING BLOCKS\"],[1968,18,0.023,\"DEVICES FOR THEATRES, CIRCUSES, OR THE LIKE; CONJURING APPLIANCES OR THE LIKE\"],[1968,6,0.008,\"RACING; RIDING SPORTS; EQUIPMENT OR ACCESSORIES THEREFOR\"],[2006,2,0.003,\"SUBJECT MATTER NOT OTHERWISE PROVIDED FOR IN THIS SECTION\"],[2006,1,0.001,\"SUBJECT MATTER NOT OTHERWISE PROVIDED FOR IN THIS SECTION\"],[1968,18397,23.047,\"PERFORMING OPERATIONS; TRANSPORTING\"],[1968,1480,1.854,\"PHYSICAL OR CHEMICAL PROCESSES OR APPARATUS IN GENERAL\"],[1968,5,0.006,\"BOILING; BOILING APPARATUS\"],[1990,568,0.712,\"SEPARATION\"],[1968,376,0.471,\"MIXING, e.g. DISSOLVING, EMULSIFYING OR DISPERSING\"],[1974,502,0.629,\"CHEMICAL OR PHYSICAL PROCESSES, e.g. CATALYSIS OR COLLOID CHEMISTRY; THEIR RELEVANT APPARATUS\"],[1968,24,0.03,\"CHEMICAL OR PHYSICAL LABORATORY APPARATUS FOR GENERAL USE\"],[1968,176,0.22,\"CRUSHING, PULVERISING, OR DISINTEGRATING; PREPARATORY TREATMENT OF GRAIN FOR MILLING\"],[1968,17,0.021,\"PREPARING GRAIN FOR MILLING; REFINING GRANULAR FRUIT TO COMMERCIAL PRODUCTS BY WORKING THE SURFACE\"],[1968,157,0.197,\"CRUSHING, PULVERISING, OR DISINTEGRATING IN GENERAL; MILLING GRAIN\"],[1990,192,0.241,\"SEPARATION OF SOLID MATERIALS USING LIQUIDS OR USING PNEUMATIC TABLES OR JIGS; MAGNETIC OR ELECTROSTATIC SEPARATION OF SOLID MATERIALS FROM SOLID MATERIALS OR FLUIDS; SEPARATION BY HIGH-VOLTAGE ELECTRIC FIELDS\"],[1968,56,0.07,\"SEPARATING SOLID MATERIALS USING LIQUIDS OR USING PNEUMATIC TABLES OR JIGS\"],[1990,95,0.119,\"MAGNETIC OR ELECTROSTATIC SEPARATION OF SOLID MATERIALS FROM SOLID MATERIALS OR FLUIDS; SEPARATION BY HIGH-VOLTAGE ELECTRIC FIELDS\"],[1968,38,0.048,\"FLOTATION; DIFFERENTIAL SEDIMENTATION\"],[1968,92,0.115,\"CENTRIFUGAL APPARATUS OR MACHINES FOR CARRYING-OUT PHYSICAL OR CHEMICAL PROCESSES\"],[1968,55,0.069,\"CENTRIFUGES\"],[1968,35,0.044,\"APPARATUS USING FREE VORTEX FLOW, e.g. CYCLONES\"],[1974,285,0.357,\"SPRAYING OR ATOMISING IN GENERAL; APPLYING FLUENT MATERIALS TO SURFACES, IN GENERAL\"],[1974,161,0.202,\"SPRAYING APPARATUS; ATOMISING APPARATUS; NOZZLES\"],[1974,70,0.088,\"APPARATUS FOR APPLYING FLUENT MATERIALS TO SURFACES, IN GENERAL\"],[1974,51,0.064,\"PROCESSES FOR APPLYING FLUENT MATERIALS TO SURFACES, IN GENERAL\"],[1968,15,0.019,\"GENERATING OR TRANSMITTING MECHANICAL VIBRATIONS IN GENERAL\"],[1974,14,0.018,\"GENERATING OR TRANSMITTING MECHANICAL VIBRATIONS IN GENERAL\"],[1968,122,0.153,\"SEPARATING SOLIDS FROM SOLIDS; SORTING\"],[1968,71,0.089,\"SEPARATING SOLIDS FROM SOLIDS BY SIEVING, SCREENING, SIFTING OR BY USING GAS CURRENTS; SEPARATING BY OTHER DRY METHODS APPLICABLE TO BULK MATERIAL, e.g. LOOSE ARTICLES FIT TO BE HANDLED LIKE BULK MATERIAL\"],[1968,49,0.061,\"POSTAL SORTING; SORTING INDIVIDUAL ARTICLES, OR BULK MATERIAL FIT TO BE SORTED PIECE-MEAL, e.g. BY PICKING\"],[1968,73,0.091,\"CLEANING\"],[1968,72,0.09,\"CLEANING IN GENERAL; PREVENTION OF FOULING IN GENERAL\"],[1980,58,0.073,\"DISPOSAL OF SOLID WASTE; RECLAMATION OF CONTAMINATED SOIL\"],[1980,50,0.063,\"DISPOSAL OF SOLID WASTE NOT OTHERWISE PROVIDED FOR\"],[1995,6,0.008,\"RECLAMATION OF CONTAMINATED SOIL\"],[1968,985,1.234,\"MECHANICAL METAL-WORKING WITHOUT ESSENTIALLY REMOVING MATERIAL; PUNCHING METAL\"],[1968,195,0.244,\"ROLLING OF METAL\"],[1968,120,0.15,\"MANUFACTURE OF METAL SHEETS, WIRE, RODS, TUBES, PROFILES OR LIKE SEMI-MANUFACTURED PRODUCTS OTHERWISE THAN BY ROLLING; AUXILIARY OPERATIONS USED IN CONNECTION WITH METAL-WORKING WITHOUT ESSENTIALLY REMOVING MATERIAL\"],[1968,308,0.386,\"WORKING OR PROCESSING OF SHEET METAL OR METAL TUBES, RODS OR PROFILES WITHOUT ESSENTIALLY REMOVING MATERIAL; PUNCHING METAL\"],[1968,71,0.089,\"WORKING OR PROCESSING OF METAL WIRE\"],[1968,31,0.039,\"MAKING NEEDLES, PINS OR NAILS OF METAL\"],[1968,36,0.045,\"MAKING PARTICULAR METAL OBJECTS BY ROLLING, e.g. SCREWS, WHEELS, RINGS, BARRELS, BALLS\"],[1968,88,0.11,\"FORGING; HAMMERING; PRESSING METAL; RIVETING; FORGE FURNACES\"],[1968,99,0.124,\"MAKING FORGED OR PRESSED METAL PRODUCTS, e.g. HORSE-SHOES, RIVETS, BOLTS OR WHEELS\"],[1968,28,0.035,\"MAKING METAL CHAINS\"],[1968,447,0.56,\"CASTING; POWDER METALLURGY\"],[1968,113,0.142,\"FOUNDRY MOULDING\"],[1968,182,0.228,\"CASTING OF METALS; CASTING OF OTHER SUBSTANCES BY THE SAME PROCESSES OR DEVICES\"],[1968,149,0.187,\"WORKING METALLIC POWDER; MANUFACTURE OF ARTICLES FROM METALLIC POWDER; MAKING METALLIC POWDER; APPARATUS OR DEVICES SPECIALLY ADAPTED FOR METALLIC POWDER\"],[1968,1215,1.522,\"MACHINE TOOLS; METAL-WORKING NOT OTHERWISE PROVIDED FOR\"],[1968,220,0.276,\"TURNING; BORING\"],[1968,54,0.068,\"MILLING\"],[1968,240,0.301,\"PLANING; SLOTTING; SHEARING; BROACHING; SAWING; FILING; SCRAPING; LIKE OPERATIONS FOR WORKING METAL BY REMOVING MATERIAL, NOT OTHERWISE PROVIDED FOR\"],[1968,75,0.094,\"MAKING GEARS OR TOOTHED RACKS\"],[1968,50,0.063,\"THREAD CUTTING; WORKING OF SCREWS, BOLT HEADS OR NUTS, IN CONJUNCTION THEREWITH\"],[1985,51,0.064,\"WORKING OF METAL BY THE ACTION OF A HIGH CONCENTRATION OF ELECTRIC CURRENT ON A WORKPIECE USING AN ELECTRODE WHICH TAKES THE PLACE OF A TOOL; SUCH WORKING COMBINED WITH OTHER FORMS OF WORKING OF METAL\"],[1968,282,0.353,\"SOLDERING OR UNSOLDERING; WELDING; CLADDING OR PLATING BY SOLDERING OR WELDING; CUTTING BY APPLYING HEAT LOCALLY, e.g. FLAME CUTTING; WORKING BY LASER BEAM\"],[1968,58,0.073,\"METAL-WORKING NOT OTHERWISE PROVIDED FOR; COMBINED OPERATIONS; UNIVERSAL MACHINE TOOLS\"],[1968,176,0.22,\"DETAILS, COMPONENTS, OR ACCESSORIES FOR MACHINE TOOLS, e.g. ARRANGEMENTS FOR COPYING OR CONTROLLING; MACHINE TOOLS IN GENERAL, CHARACTERISED BY THE CONSTRUCTION OF PARTICULAR DETAILS OR COMPONENTS; COMBINATIONS OR ASSOCIATIONS OF METAL-WORKING MACHINES, NOT DIRECTED TO A PARTICULAR RESULT\"],[1968,394,0.494,\"GRINDING; POLISHING\"],[1974,292,0.366,\"MACHINES, DEVICES, OR PROCESSES FOR GRINDING OR POLISHING; DRESSING OR CONDITIONING OF ABRADING SURFACES; FEEDING OF GRINDING, POLISHING, OR LAPPING AGENTS\"],[1968,32,0.04,\"ABRASIVE OR RELATED BLASTING WITH PARTICULATE MATERIAL\"],[1968,67,0.084,\"TOOLS FOR GRINDING, BUFFING OR SHARPENING\"],[1968,319,0.4,\"HAND TOOLS; PORTABLE POWER-DRIVEN TOOLS; HANDLES FOR HAND IMPLEMENTS; WORKSHOP EQUIPMENT; MANIPULATORS\"],[1968,124,0.155,\"TOOLS OR BENCH DEVICES NOT OTHERWISE PROVIDED FOR, FOR FASTENING, CONNECTING, DISENGAGING, OR HOLDING\"],[1968,26,0.033,\"HAND-HELD NAILING OR STAPLING TOOLS; MANUALLY-OPERATED PORTABLE STAPLING TOOLS\"],[1974,57,0.071,\"PERCUSSIVE TOOLS\"],[1985,6,0.008,\"COMBINATION OR MULTI-PURPOSE TOOLS NOT OTHERWISE PROVIDED FOR; DETAILS OR COMPONENTS OF PORTABLE POWER-DRIVEN TOOLS NOT PARTICULARLY RELATED TO THE OPERATIONS PERFORMED AND NOT OTHERWISE PROVIDED FOR\"],[1968,28,0.035,\"HANDLES FOR HAND IMPLEMENTS\"],[1968,19,0.024,\"WORKSHOP EQUIPMENT, e.g. FOR MARKING-OUT WORK; STORAGE MEANS FOR WORKSHOPS\"],[1990,52,0.065,\"MANIPULATORS; CHAMBERS PROVIDED WITH MANIPULATION DEVICES\"],[1968,238,0.298,\"HAND CUTTING TOOLS; CUTTING; SEVERING\"],[1968,98,0.123,\"HAND-HELD CUTTING TOOLS NOT OTHERWISE PROVIDED FOR\"],[1974,105,0.132,\"CUTTING; DETAILS COMMON TO MACHINES FOR PERFORATING, PUNCHING, CUTTING-OUT, STAMPING-OUT OR SEVERING\"],[1974,32,0.04,\"PERFORATING; PUNCHING; CUTTING-OUT; STAMPING-OUT; SEVERING BY MEANS OTHER THAN CUTTING\"],[1968,367,0.46,\"WORKING OR PRESERVING WOOD OR SIMILAR MATERIAL; NAILING OR STAPLING MACHINES IN GENERAL\"],[1990,128,0.16,\"SAWS FOR WOOD OR SIMILAR MATERIAL; COMPONENTS OR ACCESSORIES THEREFOR\"],[1968,26,0.033,\"PLANING, DRILLING, MILLING, TURNING OR UNIVERSAL MACHINES FOR WOOD OR SIMILAR MATERIAL\"],[1968,10,0.013,\"WORKING VENEER OR PLYWOOD\"],[1968,37,0.046,\"DOVETAILED WORK; TENONS; SLOTTING MACHINES FOR WOOD OR SIMILAR MATERIAL; NAILING OR STAPLING MACHINES\"],[1968,31,0.039,\"ACCESSORY MACHINES OR APPARATUS FOR WORKING WOOD OR SIMILAR MATERIALS; TOOLS FOR WORKING WOOD OR SIMILAR MATERIALS; SAFETY DEVICES FOR WOOD WORKING MACHINES OR TOOLS\"],[1968,11,0.014,\"BENDING WOOD OR SIMILAR MATERIAL; COOPERAGE; MAKING WHEELS FROM WOOD OR SIMILAR MATERIAL\"],[1968,5,0.006,\"MECHANICAL WORKING OF CANE, CORK, OR SIMILAR MATERIALS\"],[1974,36,0.045,\"PROCESSES, APPARATUS OR SELECTION OF SUBSTANCES FOR IMPREGNATING, STAINING, DYEING OR BLEACHING OF WOOD, OR FOR TREATING OF WOOD WITH PERMEANT LIQUIDS, NOT OTHERWISE PROVIDED FOR; CHEMICAL OR PHYSICAL TREATMENT OF CORK, CANE, REED, STRAW OR SIMILAR MATERIALS\"],[1968,26,0.033,\"REMOVING BARK OR VESTIGES OF BRANCHES; SPLITTING WOOD; MANUFACTURE OF VENEER, WOODEN STICKS, WOOD SHAVINGS, WOOD FIBRES OR WOOD POWDER\"],[1968,25,0.031,\"WORKING OF WOOD NOT PROVIDED FOR IN SUBCLASSES; MANUFACTURE OF SPECIFIC WOODEN ARTICLES\"],[1985,21,0.026,\"MANUFACTURE BY DRY PROCESSES OF ARTICLES, WITH OR WITHOUT ORGANIC BINDING AGENTS, MADE FROM PARTICLES OR FIBRES CONSISTING OF WOOD OR OTHER LIGNOCELLULOSIC OR LIKE ORGANIC MATERIAL\"],[1968,232,0.291,\"WORKING CEMENT, CLAY, OR STONE\"],[1968,153,0.192,\"SHAPING CLAY OR OTHER CERAMIC COMPOSITIONS; SHAPING SLAG; SHAPING MIXTURES CONTAINING CEMENTITIOUS MATERIAL, e.g. PLASTER\"],[1968,50,0.063,\"PREPARING CLAY; PRODUCING MIXTURES CONTAINING CLAY OR CEMENTITIOUS MATERIAL, e.g. PLASTER\"],[1968,26,0.033,\"WORKING STONE OR STONE-LIKE MATERIALS\"],[1968,1238,1.551,\"WORKING OF PLASTICS; WORKING OF SUBSTANCES IN A PLASTIC STATE IN GENERAL\"],[1985,83,0.104,\"PREPARATION OR PRETREATMENT OF THE MATERIAL TO BE SHAPED; MAKING GRANULES OR PREFORMS; RECOVERY OF PLASTICS OR OTHER CONSTITUENTS OF WASTE MATERIAL CONTAINING PLASTICS\"],[1985,718,0.899,\"SHAPING OR JOINING OF PLASTICS; SHAPING OF MATERIAL IN A PLASTIC STATE, NOT OTHERWISE PROVIDED FOR; AFTER-TREATMENT OF THE SHAPED PRODUCTS, e.g. REPAIRING\"],[1985,85,0.106,\"PRODUCING PARTICULAR ARTICLES FROM PLASTICS OR FROM SUBSTANCES IN A PLASTIC STATE\"],[1985,294,0.368,\"INDEXING SCHEME ASSOCIATED WITH SUBCLASSES\"],[1985,53,0.066,\"INDEXING SCHEME ASSOCIATED WITH SUBCLASS\"],[1968,89,0.111,\"PRESSES\"],[1974,88,0.11,\"PRESSES IN GENERAL; PRESSES NOT OTHERWISE PROVIDED FOR\"],[1968,175,0.219,\"MAKING ARTICLES OF PAPER, CARDBOARD OR MATERIAL WORKED IN A MANNER ANALOGOUS TO PAPER; WORKING PAPER, CARDBOARD OR MATERIAL WORKED IN A MANNER ANALOGOUS TO PAPER\"],[1968,115,0.144,\"MAKING CONTAINERS OF PAPER, CARDBOARD OR MATERIAL WORKED IN A MANNER ANALOGOUS TO PAPER\"],[1968,21,0.026,\"MAKING WOUND ARTICLES, e.g. WOUND TUBES, OF PAPER, CARDBOARD OR MATERIAL WORKED IN A MANNER ANALOGOUS TO PAPER\"],[1968,11,0.014,\"MAKING ARTICLES OF PAPER, CARDBOARD OR MATERIAL WORKED IN A MANNER ANALOGOUS TO PAPER, NOT PROVIDED FOR IN SUBCLASSES\"],[1968,24,0.03,\"MECHANICAL WORKING OR DEFORMATION OF PAPER, CARDBOARD OR MATERIAL WORKED IN A MANNER ANALOGOUS TO PAPER\"],[1968,194,0.243,\"LAYERED PRODUCTS\"],[1968,193,0.242,\"LAYERED PRODUCTS, i.e. PRODUCTS BUILT-UP OF STRATA OF FLAT OR NON-FLAT, e.g. CELLULAR OR HONEYCOMB, FORM\"],[2015,12,0.015,\"ADDITIVE MANUFACTURING TECHNOLOGY\"],[2015,11,0.014,\"ADDITIVE MANUFACTURING, i.e. MANUFACTURING OF THREE-DIMENSIONAL [3D] OBJECTS BY ADDITIVE DEPOSITION, ADDITIVE AGGLOMERATION OR ADDITIVE LAYERING, e.g. BY 3D PRINTING, STEREOLITHOGRAPHY OR SELECTIVE LASER SINTERING\"],[1985,1594,1.997,\"PRINTING; LINING MACHINES; TYPEWRITERS; STAMPS\"],[1968,217,0.272,\"MACHINES OR ACCESSORIES FOR MAKING, SETTING, OR DISTRIBUTING TYPE; TYPE; PHOTOGRAPHIC OR PHOTOELECTRONIC COMPOSING DEVICES\"],[1968,18,0.023,\"PROCESSES FOR THE MANUFACTURE OR REPRODUCTION OF PRINTING SURFACES\"],[1968,31,0.039,\"APPARATUS FOR THE MECHANICAL REPRODUCTION OF PRINTING SURFACES FOR STEREOTYPE PRINTING; SHAPING ELASTIC OR DEFORMABLE MATERIAL TO FORM PRINTING SURFACES\"],[1985,290,0.363,\"PRINTING MACHINES OR PRESSES\"],[1968,6,0.008,\"APPARATUS FOR BRONZE PRINTING, LINE PRINTING, OR FOR BORDERING OR EDGING SHEETS OR LIKE ARTICLES; AUXILIARY APPARATUS FOR PERFORATING IN CONJUNCTION WITH PRINTING\"],[1968,591,0.74,\"TYPEWRITERS; SELECTIVE PRINTING MECHANISMS, i.e. MECHANISMS PRINTING OTHERWISE THAN FROM A FORME; CORRECTION OF TYPOGRAPHICAL ERRORS\"],[1968,71,0.089,\"STAMPS; STAMPING OR NUMBERING APPARATUS OR DEVICES\"],[1968,250,0.313,\"APPARATUS OR DEVICES FOR MANIFOLDING, DUPLICATING OR PRINTING FOR OFFICE OR OTHER COMMERCIAL PURPOSES; ADDRESSING MACHINES OR LIKE SERIES-PRINTING MACHINES\"],[1968,80,0.1,\"PRINTING, DUPLICATING, MARKING, OR COPYING PROCESSES; COLOUR PRINTING\"],[1968,30,0.038,\"PRINTING PLATES OR FOILS; MATERIALS FOR SURFACES USED IN PRINTING MACHINES FOR PRINTING, INKING, DAMPING, OR THE LIKE; PREPARING SUCH SURFACES FOR USE OR CONSERVING THEM\"],[1968,216,0.271,\"BOOKBINDING; ALBUMS; FILES; SPECIAL PRINTED MATTER\"],[1968,20,0.025,\"PERMANENTLY ATTACHING TOGETHER SHEETS, QUIRES, OR SIGNATURES, OR PERMANENTLY ATTACHING OBJECTS THERETO\"],[1968,24,0.03,\"BOOKBINDING\"],[1968,86,0.108,\"BOOKS; BOOK COVERS; LOOSE LEAVES; PRINTED MATTER CHARACTERISED BY IDENTIFICATION OR SECURITY FEATURES; PRINTED MATTER OF SPECIAL FORMAT OR STYLE NOT OTHERWISE PROVIDED FOR; DEVICES FOR USE THEREWITH AND NOT OTHERWISE PROVIDED FOR; MOVABLE-STRIP WRITING OR READING APPARATUS\"],[1968,82,0.103,\"SHEETS TEMPORARILY ATTACHED TOGETHER; FILING APPLIANCES; FILE CARDS; INDEXING\"],[1968,232,0.291,\"WRITING OR DRAWING IMPLEMENTS; BUREAU ACCESSORIES\"],[1968,127,0.159,\"IMPLEMENTS FOR WRITING OR DRAWING\"],[1968,83,0.104,\"ARTICLES FOR WRITING OR DRAWING UPON; ACCESSORIES FOR WRITING OR DRAWING\"],[1968,19,0.024,\"BUREAU ACCESSORIES NOT OTHERWISE PROVIDED FOR\"],[1968,91,0.114,\"DECORATIVE ARTS\"],[1968,16,0.02,\"MACHINES, APPARATUS OR TOOLS FOR ARTISTIC WORK, e.g. FOR SCULPTURING, GUILLOCHING, CARVING, BRANDING OR INLAYING\"],[1974,32,0.04,\"PRODUCING DECORATIVE EFFECTS; MOSAICS; TARSIA WORK; PAPERHANGING\"],[1974,17,0.021,\"PAINTING OR ARTISTIC DRAWING, NOT OTHERWISE PROVIDED FOR; PRESERVING PAINTINGS; SURFACE TREATMENT TO OBTAIN SPECIAL ARTISTIC SURFACE EFFECTS OR FINISHES\"],[1968,22,0.028,\"SPECIAL DESIGNS OR PICTURES\"],[1968,1876,2.35,\"VEHICLES IN GENERAL\"],[1968,149,0.187,\"VEHICLE WHEELS; CASTORS; AXLES FOR WHEELS OR CASTORS; INCREASING WHEEL ADHESION\"],[1990,140,0.175,\"VEHICLE TYRES; TYRE INFLATION; TYRE CHANGING; CONNECTING VALVES TO INFLATABLE ELASTIC BODIES IN GENERAL; DEVICES OR ARRANGEMENTS RELATED TO TYRES\"],[1968,37,0.046,\"VEHICLE CONNECTIONS\"],[1968,6,0.008,\"VEHICLES FOR USE BOTH ON RAIL AND ON ROAD; VEHICLES CAPABLE OF TRAVELLING IN OR ON DIFFERENT MEDIA, e.g. AMPHIBIOUS VEHICLES\"],[1990,123,0.154,\"VEHICLE SUSPENSION ARRANGEMENTS\"],[1968,22,0.028,\"ARRANGEMENTS OF HEATING, COOLING, VENTILATING OR OTHER AIR-TREATING DEVICES SPECIALLY ADAPTED FOR PASSENGER OR GOODS SPACES OF VEHICLES\"],[1968,101,0.127,\"WINDOWS, WINDSCREENS, NON-FIXED ROOFS, DOORS, OR SIMILAR DEVICES FOR VEHICLES; REMOVABLE EXTERNAL PROTECTIVE COVERINGS SPECIALLY ADAPTED FOR VEHICLES\"],[1968,162,0.203,\"ARRANGEMENT OR MOUNTING OF PROPULSION UNITS OR OF TRANSMISSIONS IN VEHICLES; ARRANGEMENT OR MOUNTING OF PLURAL DIVERSE PRIME-MOVERS IN VEHICLES; AUXILIARY DRIVES FOR VEHICLES; INSTRUMENTATION OR DASHBOARDS FOR VEHICLES; ARRANGEMENTS IN CONNECTION WITH COOLING, AIR INTAKE, GAS EXHAUST OR FUEL SUPPLY OF PROPULSION UNITS IN VEHICLES\"],[1985,186,0.233,\"PROPULSION OF ELECTRICALLY-PROPELLED VEHICLES; SUPPLYING ELECTRIC POWER FOR AUXILIARY EQUIPMENT OF ELECTRICALLY-PROPELLED VEHICLES; ELECTRODYNAMIC BRAKE SYSTEMS FOR VEHICLES IN GENERAL; MAGNETIC SUSPENSION OR LEVITATION FOR VEHICLES; MONITORING OPERATING VARIABLES OF ELECTRICALLY-PROPELLED VEHICLES; ELECTRIC SAFETY DEVICES FOR ELECTRICALLY-PROPELLED VEHICLES\"],[1968,30,0.038,\"POWER SUPPLY LINES, OR DEVICES ALONG RAILS, FOR ELECTRICALLY-PROPELLED VEHICLES\"],[1968,92,0.115,\"SEATS SPECIALLY ADAPTED FOR VEHICLES; VEHICLE PASSENGER ACCOMMODATION NOT OTHERWISE PROVIDED FOR\"],[1968,97,0.122,\"VEHICLES ADAPTED FOR LOAD TRANSPORTATION OR TO TRANSPORT, TO CARRY, OR TO COMPRISE SPECIAL LOADS OR OBJECTS\"],[1985,94,0.118,\"ARRANGEMENT OF SIGNALLING OR LIGHTING DEVICES, THE MOUNTING OR SUPPORTING THEREOF OR CIRCUITS THEREFOR, FOR VEHICLES IN GENERAL\"],[1968,238,0.298,\"VEHICLES, VEHICLE FITTINGS, OR VEHICLE PARTS, NOT OTHERWISE PROVIDED FOR\"],[1968,60,0.075,\"SERVICING, CLEANING, REPAIRING, SUPPORTING, LIFTING, OR MANOEUVRING OF VEHICLES, NOT OTHERWISE PROVIDED FOR\"],[1968,195,0.244,\"VEHICLE BRAKE CONTROL SYSTEMS OR PARTS THEREOF; BRAKE CONTROL SYSTEMS OR PARTS THEREOF, IN GENERAL; ARRANGEMENT OF BRAKING ELEMENTS ON VEHICLES IN GENERAL; PORTABLE DEVICES FOR PREVENTING UNWANTED MOVEMENT OF VEHICLES; VEHICLE MODIFICATIONS TO FACILITATE COOLING OF BRAKES\"],[1968,19,0.024,\"AIR-CUSHION VEHICLES\"],[2006,107,0.134,\"CONJOINT CONTROL OF VEHICLE SUB-UNITS OF DIFFERENT TYPE OR DIFFERENT FUNCTION; CONTROL SYSTEMS SPECIALLY ADAPTED FOR HYBRID VEHICLES; ROAD VEHICLE DRIVE CONTROL SYSTEMS FOR PURPOSES NOT RELATED TO THE CONTROL OF A PARTICULAR SUB-UNIT\"],[1968,576,0.722,\"RAILWAYS\"],[1985,30,0.038,\"RAILWAY SYSTEMS; EQUIPMENT THEREFOR NOT OTHERWISE PROVIDED FOR\"],[1968,68,0.085,\"LOCOMOTIVES; MOTOR RAILCARS\"],[1968,89,0.111,\"BODY DETAILS OR KINDS OF RAILWAY VEHICLES\"],[1968,89,0.111,\"RAIL VEHICLE SUSPENSIONS, e.g. UNDERFRAMES, BOGIES OR ARRANGEMENTS OF WHEEL AXLES; RAIL VEHICLES FOR USE ON TRACKS OF DIFFERENT WIDTH; PREVENTING DERAILING OF RAIL VEHICLES; WHEEL GUARDS, OBSTRUCTION REMOVERS OR THE LIKE FOR RAIL VEHICLES\"],[1968,75,0.094,\"COUPLINGS SPECIALLY ADAPTED FOR RAILWAY VEHICLES; DRAUGHT OR BUFFING APPLIANCES SPECIALLY ADAPTED FOR RAILWAY VEHICLES\"],[1968,37,0.046,\"BRAKES OR OTHER RETARDING DEVICES SPECIALLY ADAPTED FOR RAIL VEHICLES; ARRANGEMENT OR DISPOSITION THEREOF IN RAIL VEHICLES\"],[1968,15,0.019,\"SHIFTING OR SHUNTING OF RAIL VEHICLES\"],[1968,32,0.04,\"AUXILIARY EQUIPMENT SPECIALLY ADAPTED FOR RAILWAYS, NOT OTHERWISE PROVIDED FOR\"],[1968,132,0.165,\"GUIDING RAILWAY TRAFFIC; ENSURING THE SAFETY OF RAILWAY TRAFFIC\"],[1968,824,1.032,\"LAND VEHICLES FOR TRAVELLING OTHERWISE THAN ON RAILS\"],[1968,73,0.091,\"HAND-PROPELLED VEHICLES, e.g. HAND CARTS OR PERAMBULATORS; SLEDGES\"],[1968,18,0.023,\"VEHICLES DRAWN BY ANIMALS\"],[1968,286,0.358,\"MOTOR VEHICLES; TRAILERS\"],[1968,27,0.034,\"CYCLE STANDS; SUPPORTS OR HOLDERS FOR PARKING OR STORING CYCLES; APPLIANCES PREVENTING OR INDICATING UNAUTHORISED USE OR THEFT OF CYCLES; LOCKS INTEGRAL WITH CYCLES; DEVICES FOR LEARNING TO RIDE CYCLES\"],[1968,164,0.205,\"CYCLE SADDLES OR SEATS; AUXILIARY DEVICES OR ACCESSORIES SPECIALLY ADAPTED TO CYCLES AND NOT OTHERWISE PROVIDED FOR, e.g. ARTICLE CARRIERS OR CYCLE PROTECTORS\"],[1968,112,0.14,\"CYCLES; CYCLE FRAMES; CYCLE STEERING DEVICES; RIDER-OPERATED TERMINAL CONTROLS SPECIALLY ADAPTED FOR CYCLES; CYCLE AXLE SUSPENSIONS; CYCLE SIDECARS, FORECARS, OR THE LIKE\"],[1968,25,0.031,\"BRAKES SPECIALLY ADAPTED FOR CYCLES\"],[1968,111,0.139,\"RIDER PROPULSION OF WHEELED VEHICLES OR SLEDGES; POWERED PROPULSION OF SLEDGES OR CYCLES; TRANSMISSIONS SPECIALLY ADAPTED FOR SUCH VEHICLES\"],[1968,742,0.93,\"SHIPS OR OTHER WATERBORNE VESSELS; RELATED EQUIPMENT\"],[1974,393,0.492,\"SHIPS OR OTHER WATERBORNE VESSELS; EQUIPMENT FOR SHIPPING\"],[1968,90,0.113,\"LAUNCHING, HAULING-OUT, OR DRY-DOCKING OF VESSELS; LIFE-SAVING IN WATER; EQUIPMENT FOR DWELLING OR WORKING UNDER WATER; MEANS FOR SALVAGING OR SEARCHING FOR UNDERWATER OBJECTS\"],[1968,43,0.054,\"OFFENSIVE OR DEFENSIVE ARRANGEMENTS ON VESSELS; MINE-LAYING; MINE-SWEEPING; SUBMARINES; AIRCRAFT CARRIERS\"],[1968,197,0.247,\"MARINE PROPULSION OR STEERING\"],[1968,14,0.018,\"AUXILIARIES ON VESSELS\"],[1968,732,0.917,\"AIRCRAFT; AVIATION; COSMONAUTICS\"],[1968,36,0.045,\"LIGHTER-THAN-AIR AIRCRAFT\"],[1968,259,0.324,\"AEROPLANES; HELICOPTERS\"],[1968,199,0.249,\"EQUIPMENT FOR FITTING IN OR TO AIRCRAFT; FLIGHT SUITS; PARACHUTES; ARRANGEMENT OR MOUNTING OF POWER PLANTS OR PROPULSION TRANSMISSIONS IN AIRCRAFT\"],[1968,41,0.051,\"GROUND OR AIRCRAFT-CARRIER-DECK INSTALLATIONS SPECIALLY ADAPTED FOR USE IN CONNECTION WITH AIRCRAFT; DESIGNING, MANUFACTURING, ASSEMBLING, CLEANING, MAINTAINING OR REPAIRING AIRCRAFT, NOT OTHERWISE PROVIDED FOR; HANDLING, TRANSPORTING, TESTING OR INSPECTING AIRCRAFT COMPONENTS, NOT OTHERWISE PROVIDED FOR\"],[1968,34,0.043,\"COSMONAUTICS; VEHICLES OR EQUIPMENT THEREFOR\"],[2023,157,0.197,\"UNMANNED AERIAL VEHICLES [UAV]; EQUIPMENT THEREFOR\"],[1968,2330,2.919,\"CONVEYING; PACKING; STORING; HANDLING THIN OR FILAMENTARY MATERIAL\"],[1968,415,0.52,\"MACHINES, APPARATUS OR DEVICES FOR, OR METHODS OF, PACKAGING ARTICLES OR MATERIALS; UNPACKING\"],[1968,51,0.064,\"LABELLING OR TAGGING MACHINES, APPARATUS, OR PROCESSES\"],[1968,829,1.039,\"CONTAINERS FOR STORAGE OR TRANSPORT OF ARTICLES OR MATERIALS, e.g. BAGS, BARRELS, BOTTLES, BOXES, CANS, CARTONS, CRATES, DRUMS, JARS, TANKS, HOPPERS, FORWARDING CONTAINERS; ACCESSORIES, CLOSURES, OR FITTINGS THEREFOR; PACKAGING ELEMENTS; PACKAGES\"],[1968,27,0.034,\"GATHERING OR REMOVAL OF DOMESTIC OR LIKE REFUSE\"],[1968,496,0.621,\"TRANSPORT OR STORAGE DEVICES, e.g. CONVEYORS FOR LOADING OR TIPPING, SHOP CONVEYOR SYSTEMS OR PNEUMATIC TUBE CONVEYORS\"],[1968,506,0.634,\"HANDLING THIN OR FILAMENTARY MATERIAL, e.g. SHEETS, WEBS, CABLES\"],[1968,485,0.608,\"HOISTING; LIFTING; HAULING\"],[1985,140,0.175,\"ELEVATORS; ESCALATORS OR MOVING WALKWAYS\"],[1968,193,0.242,\"CRANES; LOAD-ENGAGING ELEMENTS OR DEVICES FOR CRANES, CAPSTANS, WINCHES, OR TACKLES\"],[1968,75,0.094,\"CAPSTANS; WINCHES; TACKLES, e.g. PULLEY BLOCKS; HOISTS\"],[1968,73,0.091,\"HOISTING, LIFTING, HAULING, OR PUSHING, NOT OTHERWISE PROVIDED FOR, e.g. DEVICES WHICH APPLY A LIFTING OR PUSHING FORCE DIRECTLY TO THE SURFACE OF A LOAD\"],[1968,154,0.193,\"OPENING OR CLOSING BOTTLES, JARS OR SIMILAR CONTAINERS; LIQUID HANDLING\"],[1968,67,0.084,\"APPLYING CLOSURE MEMBERS TO BOTTLES, JARS, OR SIMILAR CONTAINERS; OPENING CLOSED CONTAINERS\"],[1968,24,0.03,\"FILLING WITH LIQUIDS OR SEMILIQUIDS, OR EMPTYING, OF BOTTLES, JARS, CANS, CASKS, BARRELS, OR SIMILAR CONTAINERS, NOT OTHERWISE PROVIDED FOR; FUNNELS\"],[1990,60,0.075,\"DISPENSING, DELIVERING, OR TRANSFERRING LIQUIDS, NOT OTHERWISE PROVIDED FOR\"],[1968,83,0.104,\"SADDLERY; UPHOLSTERY\"],[1968,30,0.038,\"HARNESS; DEVICES USED IN CONNECTION THEREWITH; WHIPS OR THE LIKE\"],[1968,14,0.018,\"SADDLES; STIRRUPS\"],[1968,4,0.005,\"MAKING ARTICLES FROM LEATHER, CANVAS, OR THE LIKE\"],[1968,31,0.039,\"METHODS, EQUIPMENT, OR MACHINES FOR USE IN UPHOLSTERING; UPHOLSTERY NOT OTHERWISE PROVIDED FOR\"],[2000,11,0.014,\"MICROSTRUCTURAL TECHNOLOGY\"],[2000,6,0.008,\"MICROSTRUCTURAL DEVICES OR SYSTEMS, e.g. MICROMECHANICAL DEVICES\"],[2000,3,0.004,\"PROCESSES OR APPARATUS SPECIALLY ADAPTED FOR THE MANUFACTURE OR TREATMENT OF MICROSTRUCTURAL DEVICES OR SYSTEMS\"],[2000,13,0.016,\"NANOTECHNOLOGY\"],[2000,2,0.003,\"NANOSTRUCTURES FORMED BY MANIPULATION OF INDIVIDUAL ATOMS, MOLECULES, OR LIMITED COLLECTIONS OF ATOMS OR MOLECULES AS DISCRETE UNITS; MANUFACTURE OR TREATMENT THEREOF\"],[2011,9,0.011,\"SPECIFIC USES OR APPLICATIONS OF NANOSTRUCTURES; MEASUREMENT OR ANALYSIS OF NANOSTRUCTURES; MANUFACTURE  OR TREATMENT OF NANOSTRUCTURES\"],[2006,2,0.003,\"SUBJECT MATTER NOT OTHERWISE PROVIDED FOR IN THIS SECTION\"],[2006,1,0.001,\"SUBJECT MATTER NOT OTHERWISE PROVIDED FOR IN THIS SECTION\"],[1968,15147,18.975,\"CHEMISTRY; METALLURGY\"],[1968,938,1.175,\"INORGANIC CHEMISTRY\"],[1968,442,0.554,\"NON-METALLIC ELEMENTS; COMPOUNDS THEREOF\"],[1968,33,0.041,\"AMMONIA; CYANOGEN; COMPOUNDS THEREOF\"],[1968,82,0.103,\"COMPOUNDS OF ALKALI METALS, i.e. LITHIUM, SODIUM, POTASSIUM, RUBIDIUM, CAESIUM, OR FRANCIUM\"],[1968,182,0.228,\"COMPOUNDS OF THE METALS BERYLLIUM, MAGNESIUM, ALUMINIUM, CALCIUM, STRONTIUM, BARIUM, RADIUM, THORIUM, OR OF THE RARE EARTH METALS\"],[1968,194,0.243,\"COMPOUNDS CONTAINING METALS NOT COVERED BY SUBCLASSES\"],[1968,136,0.17,\"TREATMENT OF WATER, WASTE WATER, SEWAGE, OR SLUDGE\"],[1980,135,0.169,\"TREATMENT OF WATER, WASTE WATER, SEWAGE, OR SLUDGE\"],[1968,511,0.64,\"GLASS; MINERAL OR SLAG WOOL\"],[1968,307,0.385,\"MANUFACTURE OR SHAPING OF GLASS, OR OF MINERAL OR SLAG WOOL; SUPPLEMENTARY PROCESSES IN THE MANUFACTURE OR SHAPING OF GLASS, OR OF MINERAL OR SLAG WOOL\"],[1968,202,0.253,\"CHEMICAL COMPOSITION OF GLASSES, GLAZES OR VITREOUS ENAMELS; SURFACE TREATMENT OF GLASS; SURFACE TREATMENT OF FIBRES OR FILAMENTS MADE FROM GLASS, MINERALS OR SLAGS; JOINING GLASS TO GLASS OR OTHER MATERIALS\"],[1985,449,0.562,\"CEMENTS; CONCRETE; ARTIFICIAL STONE; CERAMICS; REFRACTORIES\"],[1985,448,0.561,\"LIME; MAGNESIA; SLAG; CEMENTS; COMPOSITIONS THEREOF, e.g. MORTARS, CONCRETE OR LIKE BUILDING MATERIALS; ARTIFICIAL STONE; CERAMICS; REFRACTORIES; TREATMENT OF NATURAL STONE\"],[1985,127,0.159,\"FERTILISERS; MANUFACTURE THEREOF\"],[1968,28,0.035,\"PHOSPHATIC FERTILISERS\"],[1968,12,0.015,\"NITROGENOUS FERTILISERS\"],[1968,11,0.014,\"INORGANIC FERTILISERS NOT COVERED BY SUBCLASSES; FERTILISERS PRODUCING CARBON DIOXIDE\"],[1968,44,0.055,\"ORGANIC FERTILISERS NOT COVERED BY SUBCLASSES\"],[1985,27,0.034,\"MIXTURES OF FERTILISERS COVERED INDIVIDUALLY BY DIFFERENT SUBCLASSES OF CLASS; MIXTURES OF ONE OR MORE FERTILISERS WITH ADDITIVES NOT HAVING A SPECIFIC FERTILISING ACTIVITY; FERTILISERS CHARACTERISED BY THEIR FORM\"],[1968,158,0.198,\"EXPLOSIVES; MATCHES\"],[1974,117,0.147,\"EXPLOSIVE OR THERMIC COMPOSITIONS; MANUFACTURE THEREOF; USE OF SINGLE SUBSTANCES AS EXPLOSIVES\"],[1974,8,0.01,\"DETONATING OR PRIMING DEVICES; FUSES; CHEMICAL LIGHTERS; PYROPHORIC COMPOSITIONS\"],[1974,8,0.01,\"MEANS FOR GENERATING SMOKE OR MIST; GAS-ATTACK COMPOSITIONS; GENERATION OF GAS FOR BLASTING OR PROPULSION (CHEMICAL PART)\"],[1968,21,0.026,\"MATCHES; MANUFACTURE OF MATCHES\"],[1974,5291,6.628,\"ORGANIC CHEMISTRY\"],[1968,45,0.056,\"GENERAL METHODS OF ORGANIC CHEMISTRY; APPARATUS THEREFOR\"],[1968,2979,3.732,\"ACYCLIC OR CARBOCYCLIC COMPOUNDS\"],[1974,1685,2.111,\"HETEROCYCLIC COMPOUNDS\"],[1968,156,0.195,\"ACYCLIC, CARBOCYCLIC, OR HETEROCYCLIC COMPOUNDS CONTAINING ELEMENTS OTHER THAN CARBON, HYDROGEN, HALOGEN, OXYGEN, NITROGEN, SULFUR, SELENIUM OR TELLURIUM\"],[1968,8,0.01,\"COMPOUNDS OF UNKNOWN CONSTITUTION\"],[1974,105,0.132,\"SUGARS; DERIVATIVES THEREOF; NUCLEOSIDES; NUCLEOTIDES; NUCLEIC ACIDS\"],[1974,25,0.031,\"STEROIDS\"],[1985,280,0.351,\"PEPTIDES\"],[1968,1951,2.444,\"ORGANIC MACROMOLECULAR COMPOUNDS; THEIR PREPARATION OR CHEMICAL WORKING-UP; COMPOSITIONS BASED THEREON\"],[1985,109,0.137,\"POLYSACCHARIDES; DERIVATIVES THEREOF\"],[1968,44,0.055,\"TREATMENT OR CHEMICAL MODIFICATION OF RUBBERS\"],[1974,741,0.928,\"MACROMOLECULAR COMPOUNDS OBTAINED BY REACTIONS ONLY INVOLVING CARBON-TO-CARBON UNSATURATED BONDS\"],[1974,462,0.579,\"MACROMOLECULAR COMPOUNDS OBTAINED OTHERWISE THAN BY REACTIONS ONLY INVOLVING CARBON-TO-CARBON UNSATURATED BONDS\"],[1968,8,0.01,\"DERIVATIVES OF NATURAL MACROMOLECULAR COMPOUNDS\"],[1974,93,0.117,\"WORKING-UP; GENERAL PROCESSES OF COMPOUNDING; AFTER-TREATMENT NOT COVERED BY SUBCLASSES\"],[1974,199,0.249,\"USE OF INORGANIC OR NON-MACROMOLECULAR ORGANIC SUBSTANCES AS COMPOUNDING INGREDIENTS\"],[1974,287,0.36,\"COMPOSITIONS OF MACROMOLECULAR COMPOUNDS\"],[1968,1650,2.067,\"DYES; PAINTS; POLISHES; NATURAL RESINS; ADHESIVES; COMPOSITIONS NOT OTHERWISE PROVIDED FOR; APPLICATIONS OF MATERIALS NOT OTHERWISE PROVIDED FOR\"],[1968,612,0.767,\"ORGANIC DYES OR CLOSELY-RELATED COMPOUNDS FOR PRODUCING DYES; MORDANTS; LAKES\"],[1985,41,0.051,\"TREATMENT OF INORGANIC MATERIALS, OTHER THAN FIBROUS FILLERS, TO ENHANCE THEIR PIGMENTING OR FILLING PROPERTIES; PREPARATION OF CARBON BLACK\"],[1990,373,0.467,\"COATING COMPOSITIONS, e.g. PAINTS, VARNISHES OR LACQUERS; FILLING PASTES; CHEMICAL PAINT OR INK REMOVERS; INKS; CORRECTING FLUIDS; WOODSTAINS; PASTES OR SOLIDS FOR COLOURING OR PRINTING; USE OF MATERIALS THEREFOR\"],[1968,21,0.026,\"NATURAL RESINS; FRENCH POLISH; DRYING-OILS; OIL DRYING AGENTS, i.e. SICCATIVES; TURPENTINE\"],[1968,11,0.014,\"POLISHING COMPOSITIONS; SKI WAXES\"],[1968,10,0.013,\"PREPARATION OF GLUE OR GELATINE\"],[1990,308,0.386,\"ADHESIVES; NON-MECHANICAL ASPECTS OF ADHESIVE PROCESSES IN GENERAL; ADHESIVE PROCESSES NOT PROVIDED FOR ELSEWHERE; USE OF MATERIALS AS ADHESIVES\"],[1968,266,0.333,\"MATERIALS FOR APPLICATIONS NOT OTHERWISE PROVIDED FOR; APPLICATIONS OF MATERIALS NOT OTHERWISE PROVIDED FOR\"],[1968,1197,1.5,\"PETROLEUM, GAS OR COKE INDUSTRIES; TECHNICAL GASES CONTAINING CARBON MONOXIDE; FUELS; LUBRICANTS; PEAT\"],[1990,176,0.22,\"DESTRUCTIVE DISTILLATION OF CARBONACEOUS MATERIALS FOR PRODUCTION OF GAS, COKE, TAR, OR SIMILAR MATERIALS\"],[1968,23,0.029,\"WORKING-UP TAR, PITCH, ASPHALT, BITUMEN; PYROLIGNEOUS ACID\"],[1990,9,0.011,\"DRYING OR WORKING-UP OF PEAT\"],[1995,315,0.395,\"CRACKING HYDROCARBON OILS; PRODUCTION OF LIQUID HYDROCARBON MIXTURES, e.g. BY DESTRUCTIVE HYDROGENATION, OLIGOMERISATION, POLYMERISATION; RECOVERY OF HYDROCARBON OILS FROM OIL-SHALE, OIL-SAND, OR GASES; REFINING MIXTURES MAINLY CONSISTING OF HYDROCARBONS; REFORMING OF NAPHTHA; MINERAL WAXES\"],[1990,54,0.068,\"PRODUCTION OF ACETYLENE BY WET METHODS\"],[1990,60,0.075,\"PRODUCTION OF GASES CONTAINING CARBON MONOXIDE AND HYDROGEN FROM SOLID CARBONACEOUS MATERIALS BY PARTIAL OXIDATION PROCESSES INVOLVING OXYGEN OR STEAM; CARBURETTING AIR OR OTHER GASES\"],[1968,22,0.028,\"PURIFYING OR MODIFYING THE CHEMICAL COMPOSITION OF COMBUSTIBLE GASES CONTAINING CARBON MONOXIDE\"],[1990,99,0.124,\"FUELS NOT OTHERWISE PROVIDED FOR; NATURAL GAS; SYNTHETIC NATURAL GAS OBTAINED BY PROCESSES NOT COVERED BY SUBCLASSES; LIQUEFIED PETROLEUM GAS; USE OF ADDITIVES TO FUELS OR FIRES; FIRE-LIGHTERS\"],[1985,368,0.461,\"LUBRICATING COMPOSITIONS; USE OF CHEMICAL SUBSTANCES EITHER ALONE OR AS LUBRICATING INGREDIENTS IN A LUBRICATING COMPOSITION\"],[1985,61,0.076,\"INDEXING SCHEME ASSOCIATED WITH SUBCLASS\"],[1968,232,0.291,\"ANIMAL OR VEGETABLE OILS, FATS, FATTY SUBSTANCES OR WAXES; FATTY ACIDS THEREFROM; DETERGENTS; CANDLES\"],[1968,27,0.034,\"PRODUCING, e.g. BY PRESSING RAW MATERIALS OR BY EXTRACTION FROM WASTE MATERIALS, REFINING OR PRESERVING FATS, FATTY SUBSTANCES, e.g. LANOLIN, FATTY OILS OR WAXES; ESSENTIAL OILS; PERFUMES\"],[1968,16,0.02,\"FATTY ACIDS OBTAINED FROM FATS, OILS OR WAXES; CANDLES; FATS, OILS OR FATTY ACIDS OBTAINED BY CHEMICAL MODIFICATION OF FATS, OILS OR FATTY ACIDS\"],[1968,186,0.233,\"DETERGENT COMPOSITIONS; USE OF SINGLE SUBSTANCES AS DETERGENTS; SOAP OR SOAP-MAKING; RESIN SOAPS; RECOVERY OF GLYCEROL\"],[1968,769,0.963,\"BIOCHEMISTRY; BEER; SPIRITS; WINE; VINEGAR; MICROBIOLOGY; ENZYMOLOGY; MUTATION OR GENETIC ENGINEERING\"],[1968,56,0.07,\"BEER; PREPARATION OF BEER BY FERMENTATION; PREPARATION OF MALT FOR MAKING BEER; PREPARATION OF HOPS FOR MAKING BEER\"],[1995,7,0.009,\"RECOVERY OF BY-PRODUCTS OF FERMENTED SOLUTIONS; DENATURED ALCOHOL; PREPARATION THEREOF\"],[1968,32,0.04,\"WINE; PREPARATION THEREOF; ALCOHOLIC BEVERAGES; PREPARATION OF ALCOHOLIC BEVERAGES NOT PROVIDED FOR IN SUBCLASSES\"],[1995,26,0.033,\"PASTEURISATION, STERILISATION, PRESERVATION, PURIFICATION, CLARIFICATION OR AGEING OF ALCOHOLIC BEVERAGES; METHODS FOR ALTERING THE ALCOHOL CONTENT OF FERMENTED SOLUTIONS OR ALCOHOLIC BEVERAGES\"],[1968,6,0.008,\"VINEGAR; PREPARATION OR PURIFICATION THEREOF\"],[1968,3,0.004,\"PITCHING OR DEPITCHING MACHINES; CELLAR TOOLS\"],[1980,33,0.041,\"APPARATUS FOR ENZYMOLOGY OR MICROBIOLOGY\"],[1980,238,0.298,\"MICROORGANISMS OR ENZYMES; COMPOSITIONS THEREOF; PROPAGATING, PRESERVING, OR MAINTAINING MICROORGANISMS; MUTATION OR GENETIC ENGINEERING; CULTURE MEDIA\"],[1980,147,0.184,\"FERMENTATION OR ENZYME-USING PROCESSES TO SYNTHESISE A DESIRED CHEMICAL COMPOUND OR COMPOSITION OR TO SEPARATE OPTICAL ISOMERS FROM A RACEMIC MIXTURE\"],[1980,80,0.1,\"MEASURING OR TESTING PROCESSES INVOLVING ENZYMES, NUCLEIC ACIDS OR MICROORGANISMS; COMPOSITIONS OR TEST PAPERS THEREFOR; PROCESSES OF PREPARING SUCH COMPOSITIONS; CONDITION-RESPONSIVE CONTROL IN MICROBIOLOGICAL OR ENZYMOLOGICAL PROCESSES\"],[1980,130,0.163,\"INDEXING SCHEME ASSOCIATED WITH SUBCLASSES\"],[1985,61,0.076,\"SUGAR INDUSTRY\"],[2011,48,0.06,\"PRODUCTION OF SUCROSE; APPARATUS SPECIALLY ADAPTED THEREFOR\"],[1968,11,0.014,\"SACCHARIDES OBTAINED FROM NATURAL SOURCES OR BY HYDROLYSIS OF NATURALLY OCCURRING DISACCHARIDES, OLIGOSACCHARIDES OR POLYSACCHARIDES\"],[1968,96,0.12,\"SKINS; HIDES; PELTS OR LEATHER\"],[1968,62,0.078,\"MECHANICAL TREATMENT OR PROCESSING OF SKINS, HIDES, OR LEATHER IN GENERAL; PELT-SHEARING MACHINES; INTESTINE-SPLITTING MACHINES\"],[1968,32,0.04,\"TREATING SKINS, HIDES OR LEATHER WITH CHEMICALS, ENZYMES OR MICROORGANISMS, e.g. TANNING, IMPREGNATING OR FINISHING; APPARATUS THEREFOR; COMPOSITIONS FOR TANNING\"],[1968,215,0.269,\"METALLURGY OF IRON\"],[1968,48,0.06,\"MANUFACTURE OF IRON OR STEEL\"],[1968,35,0.044,\"PROCESSING OF PIG-IRON, e.g. REFINING, MANUFACTURE OF WROUGHT-IRON OR STEEL; TREATMENT IN MOLTEN STATE OF FERROUS ALLOYS\"],[1968,129,0.162,\"MODIFYING THE PHYSICAL STRUCTURE OF FERROUS METALS; GENERAL DEVICES FOR HEAT TREATMENT OF FERROUS OR NON-FERROUS METALS OR ALLOYS; MAKING METAL MALLEABLE, e.g. BY DECARBURISATION OR TEMPERING\"],[1968,353,0.442,\"METALLURGY; FERROUS OR NON-FERROUS ALLOYS; TREATMENT OF ALLOYS OR NON-FERROUS METALS\"],[1968,155,0.194,\"PRODUCTION OR REFINING OF METALS; PRETREATMENT OF RAW MATERIALS\"],[1968,177,0.222,\"ALLOYS\"],[1968,18,0.023,\"CHANGING THE PHYSICAL STRUCTURE OF NON-FERROUS METALS OR NON-FERROUS ALLOYS\"],[1974,414,0.519,\"COATING METALLIC MATERIAL; COATING MATERIAL WITH METALLIC MATERIAL; CHEMICAL SURFACE TREATMENT; DIFFUSION TREATMENT OF METALLIC MATERIAL; COATING BY VACUUM EVAPORATION, BY SPUTTERING, BY ION IMPLANTATION OR BY CHEMICAL VAPOUR DEPOSITION, IN GENERAL; INHIBITING CORROSION OF METALLIC MATERIAL OR INCRUSTATION IN GENERAL\"],[1985,299,0.375,\"COATING METALLIC MATERIAL; COATING MATERIAL WITH METALLIC MATERIAL; SURFACE TREATMENT OF METALLIC MATERIAL BY DIFFUSION INTO THE SURFACE, BY CHEMICAL CONVERSION OR SUBSTITUTION; COATING BY VACUUM EVAPORATION, BY SPUTTERING, BY ION IMPLANTATION OR BY CHEMICAL VAPOUR DEPOSITION, IN GENERAL\"],[1968,20,0.025,\"ENAMELLING OF, OR APPLYING A VITREOUS LAYER TO, METALS\"],[1985,60,0.075,\"NON-MECHANICAL REMOVAL OF METALLIC MATERIAL FROM SURFACES; INHIBITING CORROSION OF METALLIC MATERIAL; INHIBITING INCRUSTATION IN GENERAL; MULTI-STEP PROCESSES FOR SURFACE TREATMENT OF METALLIC MATERIAL INVOLVING AT LEAST ONE PROCESS PROVIDED FOR IN CLASS\"],[1968,31,0.039,\"CLEANING OR DEGREASING OF METALLIC MATERIAL BY CHEMICAL METHODS OTHER THAN ELECTROLYSIS\"],[1985,363,0.455,\"ELECTROLYTIC OR ELECTROPHORETIC PROCESSES; APPARATUS THEREFOR\"],[1974,136,0.17,\"ELECTROLYTIC OR ELECTROPHORETIC PROCESSES FOR THE PRODUCTION OF COMPOUNDS OR NON- METALS; APPARATUS THEREFOR\"],[1974,40,0.05,\"PROCESSES FOR THE ELECTROLYTIC PRODUCTION, RECOVERY OR REFINING OF METALS; APPARATUS THEREFOR\"],[1974,154,0.193,\"PROCESSES FOR THE ELECTROLYTIC OR ELECTROPHORETIC PRODUCTION OF COATINGS; ELECTROFORMING; JOINING WORKPIECES BY ELECTROLYSIS; APPARATUS THEREFOR\"],[1974,29,0.036,\"PROCESSES FOR THE ELECTROLYTIC REMOVAL OF MATERIALS FROM OBJECTS; APPARATUS THEREFOR\"],[1980,171,0.214,\"CRYSTAL GROWTH\"],[1980,170,0.213,\"SINGLE-CRYSTAL GROWTH; UNIDIRECTIONAL SOLIDIFICATION OF EUTECTIC MATERIAL OR UNIDIRECTIONAL DEMIXING OF EUTECTOID MATERIAL; REFINING BY ZONE-MELTING OF MATERIAL; PRODUCTION OF A HOMOGENEOUS POLYCRYSTALLINE MATERIAL WITH DEFINED STRUCTURE; SINGLE CRYSTALS OR HOMOGENEOUS POLYCRYSTALLINE MATERIAL WITH DEFINED STRUCTURE; AFTER-TREATMENT OF SINGLE CRYSTALS OR A HOMOGENEOUS POLYCRYSTALLINE MATERIAL WITH DEFINED STRUCTURE; APPARATUS THEREFOR\"],[2006,42,0.053,\"COMBINATORIAL TECHNOLOGY\"],[2006,41,0.051,\"COMBINATORIAL CHEMISTRY; LIBRARIES, e.g. CHEMICAL LIBRARIES\"],[2006,2,0.003,\"SUBJECT MATTER NOT OTHERWISE PROVIDED FOR IN THIS SECTION\"],[2006,1,0.001,\"SUBJECT MATTER NOT OTHERWISE PROVIDED FOR IN THIS SECTION\"],[1968,3300,4.134,\"TEXTILES; PAPER\"],[1968,541,0.678,\"NATURAL OR MAN-MADE THREADS OR FIBRES; SPINNING\"],[1968,46,0.058,\"MECHANICAL TREATMENT OF NATURAL FIBROUS OR FILAMENTARY MATERIAL TO OBTAIN FIBRES OR FILAMENTS, e.g. FOR SPINNING\"],[1968,6,0.008,\"CHEMICAL OR BIOLOGICAL TREATMENT OF NATURAL FILAMENTARY OR FIBROUS MATERIAL TO OBTAIN FILAMENTS OR FIBRES FOR SPINNING; CARBONISING RAGS TO RECOVER ANIMAL FIBRES\"],[1968,54,0.068,\"MECHANICAL METHODS OR APPARATUS IN THE MANUFACTURE OF MAN-MADE FILAMENTS, THREADS, FIBRES, BRISTLES OR RIBBONS\"],[1974,122,0.153,\"CHEMICAL FEATURES IN THE MANUFACTURE OF MAN-MADE FILAMENTS, THREADS, FIBRES, BRISTLES OR RIBBONS; APPARATUS SPECIALLY ADAPTED FOR THE MANUFACTURE OF CARBON FILAMENTS\"],[1968,114,0.143,\"PRELIMINARY TREATMENT OF FIBRES, e.g. FOR SPINNING\"],[1968,193,0.242,\"SPINNING OR TWISTING\"],[1968,91,0.114,\"YARNS; MECHANICAL FINISHING OF YARNS OR ROPES; WARPING OR BEAMING\"],[1968,36,0.045,\"CRIMPING OR CURLING FIBRES, FILAMENTS, YARNS, OR THREADS; YARNS OR THREADS\"],[1968,28,0.035,\"WARPING, BEAMING, OR LEASING\"],[1968,24,0.03,\"FINISHING OR DRESSING OF FILAMENTS, YARNS, THREADS, CORDS, ROPES, OR THE LIKE\"],[1968,322,0.403,\"WEAVING\"],[1968,67,0.084,\"SHEDDING MECHANISMS; PATTERN CARDS OR CHAINS; PUNCHING OF CARDS; DESIGNING PATTERNS\"],[1968,222,0.278,\"WOVEN FABRICS; METHODS OF WEAVING; LOOMS\"],[1968,30,0.038,\"AUXILIARY WEAVING APPARATUS; WEAVERS' TOOLS; SHUTTLES\"],[1968,449,0.562,\"BRAIDING; LACE-MAKING; KNITTING; TRIMMINGS; NON-WOVEN FABRICS\"],[1968,227,0.284,\"KNITTING\"],[1968,47,0.059,\"BRAIDING OR MANUFACTURE OF LACE, INCLUDING BOBBIN-NET OR CARBONISED LACE; BRAIDING MACHINES; BRAID; LACE\"],[1968,16,0.02,\"TRIMMINGS; RIBBONS, TAPES, OR BANDS, NOT OTHERWISE PROVIDED FOR\"],[1968,9,0.011,\"MAKING NETS BY KNOTTING OF FILAMENTARY MATERIAL; MAKING KNOTTED CARPETS OR TAPESTRIES; KNOTTING NOT OTHERWISE PROVIDED FOR\"],[1968,145,0.182,\"MAKING TEXTILE FABRICS, e.g. FROM FIBRES OR FILAMENTARY MATERIAL; FABRICS MADE BY SUCH PROCESSES OR APPARATUS, e.g. FELTS, NON-WOVEN FABRICS; COTTON-WOOL; WADDING\"],[1968,287,0.36,\"SEWING; EMBROIDERING; TUFTING\"],[1968,215,0.269,\"SEWING\"],[1968,70,0.088,\"EMBROIDERING; TUFTING\"],[1968,1070,1.34,\"TREATMENT OF TEXTILES OR THE LIKE; LAUNDERING; FLEXIBLE MATERIALS NOT OTHERWISE PROVIDED FOR\"],[1974,86,0.108,\"TREATING TEXTILE MATERIALS USING LIQUIDS, GASES OR VAPOURS\"],[1974,40,0.05,\"FINISHING, DRESSING, TENTERING OR STRETCHING TEXTILE FABRICS\"],[1968,384,0.481,\"LAUNDERING, DRYING, IRONING, PRESSING OR FOLDING TEXTILE ARTICLES\"],[1968,5,0.006,\"MECHANICAL OR PRESSURE CLEANING OF CARPETS, RUGS, SACKS, HIDES, OR OTHER SKIN OR TEXTILE ARTICLES OR FABRICS; TURNING INSIDE-OUT FLEXIBLE TUBULAR OR OTHER HOLLOW ARTICLES\"],[1968,26,0.033,\"MARKING, INSPECTING, SEAMING OR SEVERING TEXTILE MATERIALS\"],[1968,7,0.009,\"PLEATING, KILTING OR GOFFERING TEXTILE FABRICS OR WEARING APPAREL\"],[1968,48,0.06,\"DRY-CLEANING, WASHING OR BLEACHING FIBRES, FILAMENTS, THREADS, YARNS, FABRICS, FEATHERS OR MADE-UP FIBROUS GOODS; BLEACHING LEATHER OR FURS\"],[1968,315,0.395,\"TREATMENT, NOT PROVIDED FOR ELSEWHERE IN CLASS\"],[1968,16,0.02,\"WALL, FLOOR, OR LIKE COVERING MATERIALS, e.g. LINOLEUM, OILCLOTH, ARTIFICIAL LEATHER, ROOFING FELT, CONSISTING OF A FIBROUS WEB COATED WITH A LAYER OF MACROMOLECULAR MATERIAL; FLEXIBLE SHEET MATERIAL NOT OTHERWISE PROVIDED FOR\"],[1968,124,0.155,\"DYEING OR PRINTING TEXTILES; DYEING LEATHER, FURS OR SOLID MACROMOLECULAR SUBSTANCES IN ANY FORM\"],[1990,8,0.01,\"DECORATING TEXTILES\"],[1968,39,0.049,\"ROPES; CABLES OTHER THAN ELECTRIC\"],[1968,38,0.048,\"ROPES OR CABLES IN GENERAL\"],[1968,490,0.614,\"PAPER-MAKING; PRODUCTION OF CELLULOSE\"],[1968,20,0.025,\"FIBROUS RAW MATERIALS OR THEIR MECHANICAL TREATMENT\"],[1968,52,0.065,\"PRODUCTION OF CELLULOSE BY REMOVING NON-CELLULOSE SUBSTANCES FROM CELLULOSE- CONTAINING MATERIALS; REGENERATION OF PULPING LIQUORS; APPARATUS THEREFOR\"],[1990,37,0.046,\"TREATMENT OF THE MATERIALS BEFORE PASSING TO THE PAPER-MAKING MACHINE\"],[1968,86,0.108,\"PAPER-MAKING MACHINES; METHODS OF PRODUCING PAPER THEREON\"],[1968,8,0.01,\"CALENDERS; ACCESSORIES FOR PAPER-MAKING MACHINES\"],[1990,260,0.326,\"PULP COMPOSITIONS; PREPARATION THEREOF NOT COVERED BY SUBCLASSES; IMPREGNATING OR COATING OF PAPER; TREATMENT OF FINISHED PAPER NOT COVERED BY CLASS; PAPER NOT OTHERWISE PROVIDED FOR\"],[1968,20,0.025,\"FIBREBOARD; MANUFACTURE OF ARTICLES FROM CELLULOSIC FIBROUS SUSPENSIONS OR FROM PAPIER-MÂCHÉ\"],[2006,2,0.003,\"SUBJECT MATTER NOT OTHERWISE PROVIDED FOR IN THIS SECTION\"],[2006,1,0.001,\"SUBJECT MATTER NOT OTHERWISE PROVIDED FOR IN THIS SECTION\"],[1968,3484,4.365,\"FIXED CONSTRUCTIONS\"],[1968,517,0.648,\"CONSTRUCTION OF ROADS, RAILWAYS, OR BRIDGES\"],[1968,227,0.284,\"PERMANENT WAY; PERMANENT-WAY TOOLS; MACHINES FOR MAKING RAILWAYS OF ALL KINDS\"],[1968,127,0.159,\"CONSTRUCTION OF, OR SURFACES FOR, ROADS, SPORTS GROUNDS, OR THE LIKE; MACHINES OR AUXILIARY TOOLS FOR CONSTRUCTION OR REPAIR\"],[1968,51,0.064,\"BRIDGES\"],[1968,72,0.09,\"ADDITIONAL WORK, SUCH AS EQUIPPING ROADS OR THE CONSTRUCTION OF PLATFORMS, HELICOPTER LANDING STAGES, SIGNS, SNOW FENCES, OR THE LIKE\"],[1985,35,0.044,\"STREET CLEANING; CLEANING OF PERMANENT WAYS; CLEANING BEACHES; CLEANING LAND; DISPERSING FOG IN GENERAL\"],[1968,361,0.452,\"HYDRAULIC ENGINEERING; FOUNDATIONS; SOIL-SHIFTING\"],[1968,74,0.093,\"HYDRAULIC ENGINEERING\"],[1968,9,0.011,\"SHIP-LIFTING DEVICES OR MECHANISMS\"],[1995,180,0.225,\"FOUNDATIONS; EXCAVATIONS; EMBANKMENTS; UNDERGROUND OR UNDERWATER STRUCTURES\"],[1968,94,0.118,\"DREDGING; SOIL-SHIFTING\"],[1968,225,0.282,\"WATER SUPPLY; SEWERAGE\"],[1968,60,0.075,\"INSTALLATIONS OR METHODS FOR OBTAINING, COLLECTING, OR DISTRIBUTING WATER\"],[1968,57,0.071,\"DOMESTIC PLUMBING INSTALLATIONS FOR FRESH WATER OR WASTE WATER; SINKS\"],[1968,74,0.093,\"WATER-CLOSETS OR URINALS WITH FLUSHING DEVICES; FLUSHING VALVES THEREFOR\"],[1968,30,0.038,\"SEWERS; CESSPOOLS\"],[1968,719,0.901,\"BUILDING\"],[1968,161,0.202,\"GENERAL BUILDING CONSTRUCTIONS; WALLS, e.g. PARTITIONS; ROOFS; FLOORS; CEILINGS; INSULATION OR OTHER PROTECTION OF BUILDINGS\"],[1968,78,0.098,\"STRUCTURAL ELEMENTS; BUILDING MATERIALS\"],[1968,85,0.106,\"ROOF COVERINGS; SKY-LIGHTS; GUTTERS; ROOF-WORKING TOOLS\"],[1968,98,0.123,\"FINISHING WORK ON BUILDINGS, e.g. STAIRS, FLOORS\"],[1968,142,0.178,\"SCAFFOLDING; FORMS; SHUTTERING; BUILDING IMPLEMENTS OR AIDS, OR THEIR USE; HANDLING BUILDING MATERIALS ON THE SITE; REPAIRING, BREAKING-UP OR OTHER WORK ON EXISTING BUILDINGS\"],[1985,149,0.187,\"BUILDINGS OR LIKE STRUCTURES FOR PARTICULAR PURPOSES; SWIMMING OR SPLASH BATHS OR POOLS; MASTS; FENCING; TENTS OR CANOPIES, IN GENERAL\"],[1968,654,0.819,\"LOCKS; KEYS; WINDOW OR DOOR FITTINGS; SAFES\"],[1968,333,0.417,\"LOCKS; ACCESSORIES THEREFOR; HANDCUFFS\"],[1968,93,0.117,\"BOLTS OR FASTENING DEVICES FOR WINGS, SPECIALLY FOR DOORS OR WINDOWS\"],[1968,79,0.099,\"HINGES OR SUSPENSION DEVICES FOR DOORS, WINDOWS OR WINGS\"],[1968,131,0.164,\"DEVICES FOR MOVING WINGS INTO OPEN OR CLOSED POSITION; CHECKS FOR WINGS; WING FITTINGS NOT OTHERWISE PROVIDED FOR, CONCERNED WITH THE FUNCTIONING OF THE WING\"],[1974,13,0.016,\"SAFES OR STRONG-ROOMS FOR VALUABLES; BANK PROTECTION DEVICES; SAFETY TRANSACTION PARTITIONS\"],[1968,297,0.372,\"DOORS, WINDOWS, SHUTTERS, OR ROLLER BLINDS, IN GENERAL; LADDERS\"],[1968,220,0.276,\"FIXED OR MOVABLE CLOSURES FOR OPENINGS IN BUILDINGS, VEHICLES, FENCES, OR LIKE ENCLOSURES, IN GENERAL, e.g. DOORS, WINDOWS, BLINDS, GATES\"],[1990,75,0.094,\"LADDERS\"],[1968,701,0.878,\"EARTH OR ROCK DRILLING; MINING\"],[1990,369,0.462,\"EARTH OR ROCK DRILLING; OBTAINING OIL, GAS, WATER, SOLUBLE OR MELTABLE MATERIALS OR A SLURRY OF MINERALS FROM WELLS\"],[1968,140,0.175,\"MINING OR QUARRYING\"],[1974,138,0.173,\"SHAFTS; TUNNELS; GALLERIES; LARGE UNDERGROUND CHAMBERS\"],[1974,50,0.063,\"SAFETY DEVICES, TRANSPORT, FILLING-UP, RESCUE, VENTILATION, OR DRAINAGE IN OR OF MINES OR TUNNELS\"],[2006,2,0.003,\"SUBJECT MATTER NOT OTHERWISE PROVIDED FOR IN THIS SECTION\"],[2006,1,0.001,\"SUBJECT MATTER NOT OTHERWISE PROVIDED FOR IN THIS SECTION\"],[1968,9605,12.033,\"MECHANICAL ENGINEERING; LIGHTING; HEATING; WEAPONS; BLASTING\"],[1968,711,0.891,\"MACHINES OR ENGINES IN GENERAL; ENGINE PLANTS IN GENERAL; STEAM ENGINES\"],[1968,105,0.132,\"MACHINES OR ENGINES, IN GENERAL OR OF POSITIVE-DISPLACEMENT TYPE, e.g. STEAM ENGINES\"],[1968,88,0.11,\"ROTARY-PISTON OR OSCILLATING-PISTON MACHINES OR ENGINES\"],[1968,117,0.147,\"NON-POSITIVE-DISPLACEMENT MACHINES OR ENGINES, e.g. STEAM TURBINES\"],[1968,95,0.119,\"STEAM ENGINE PLANTS; STEAM ACCUMULATORS; ENGINE PLANTS NOT OTHERWISE PROVIDED FOR; ENGINES USING SPECIAL WORKING FLUIDS OR CYCLES\"],[1968,145,0.182,\"CYCLICALLY OPERATING VALVES FOR MACHINES OR ENGINES\"],[1974,41,0.051,\"LUBRICATING OF MACHINES OR ENGINES IN GENERAL; LUBRICATING INTERNAL-COMBUSTION ENGINES; CRANKCASE VENTILATING\"],[1968,62,0.078,\"GAS-FLOW SILENCERS OR EXHAUST APPARATUS FOR MACHINES OR ENGINES IN GENERAL; GAS-FLOW SILENCERS OR EXHAUST APPARATUS FOR INTERNAL-COMBUSTION ENGINES\"],[1968,50,0.063,\"COOLING OF MACHINES OR ENGINES IN GENERAL; COOLING OF INTERNAL-COMBUSTION ENGINES\"],[1968,1190,1.491,\"COMBUSTION ENGINES; HOT-GAS OR COMBUSTION-PRODUCT ENGINE PLANTS\"],[1968,240,0.301,\"INTERNAL-COMBUSTION PISTON ENGINES; COMBUSTION ENGINES IN GENERAL\"],[1968,115,0.144,\"GAS-TURBINE PLANTS; AIR INTAKES FOR JET-PROPULSION PLANTS; CONTROLLING FUEL SUPPLY IN AIR-BREATHING JET-PROPULSION PLANTS\"],[1985,105,0.132,\"CONTROLLING COMBUSTION ENGINES\"],[1974,40,0.05,\"CYLINDERS, PISTONS, OR CASINGS FOR COMBUSTION ENGINES; ARRANGEMENTS OF SEALINGS IN COMBUSTION ENGINES\"],[1968,17,0.021,\"HOT-GAS OR COMBUSTION-PRODUCT POSITIVE-DISPLACEMENT ENGINE PLANTS; USE OF WASTE HEAT OF COMBUSTION ENGINES, NOT OTHERWISE PROVIDED FOR\"],[1968,120,0.15,\"JET-PROPULSION PLANTS\"],[1968,429,0.537,\"SUPPLYING COMBUSTION ENGINES IN GENERAL WITH COMBUSTIBLE MIXTURES OR CONSTITUENTS THEREOF\"],[1968,42,0.053,\"STARTING OF COMBUSTION ENGINES; STARTING AIDS FOR SUCH ENGINES, NOT OTHERWISE PROVIDED FOR\"],[1968,73,0.091,\"IGNITION, OTHER THAN COMPRESSION IGNITION, FOR INTERNAL-COMBUSTION ENGINES; TESTING OF IGNITION TIMING IN COMPRESSION-IGNITION ENGINES\"],[1968,187,0.234,\"MACHINES OR ENGINES FOR LIQUIDS; WIND, SPRING, OR WEIGHT MOTORS; PRODUCING MECHANICAL POWER OR A REACTIVE PROPULSIVE THRUST, NOT OTHERWISE PROVIDED FOR\"],[1968,51,0.064,\"MACHINES OR ENGINES FOR LIQUIDS\"],[1968,36,0.045,\"POSITIVE-DISPLACEMENT ENGINES DRIVEN BY LIQUIDS\"],[1968,62,0.078,\"WIND MOTORS\"],[1968,30,0.038,\"SPRING, WEIGHT, INERTIA, OR LIKE MOTORS; MECHANICAL-POWER-PRODUCING DEVICES OR MECHANISMS, NOT OTHERWISE PROVIDED FOR OR USING ENERGY SOURCES NOT OTHERWISE PROVIDED FOR\"],[1968,3,0.004,\"PRODUCING A REACTIVE PROPULSIVE THRUST, NOT OTHERWISE PROVIDED FOR\"],[1968,580,0.727,\"POSITIVE-DISPLACEMENT MACHINES FOR LIQUIDS; PUMPS FOR LIQUIDS OR ELASTIC FLUIDS\"],[1968,272,0.341,\"POSITIVE-DISPLACEMENT MACHINES FOR LIQUIDS; PUMPS\"],[1968,138,0.173,\"ROTARY-PISTON, OR OSCILLATING-PISTON, POSITIVE-DISPLACEMENT MACHINES FOR LIQUIDS; ROTARY-PISTON, OR OSCILLATING-PISTON, POSITIVE-DISPLACEMENT PUMPS\"],[1968,115,0.144,\"NON-POSITIVE-DISPLACEMENT PUMPS\"],[1974,51,0.064,\"PUMPING OF FLUID BY DIRECT CONTACT OF ANOTHER FLUID OR BY USING INERTIA OF FLUID TO BE PUMPED; SIPHONS\"],[1968,150,0.188,\"FLUID-PRESSURE ACTUATORS; HYDRAULICS OR PNEUMATICS IN GENERAL\"],[1968,115,0.144,\"SYSTEMS ACTING BY MEANS OF FLUIDS IN GENERAL; FLUID-PRESSURE ACTUATORS, e.g. SERVOMOTORS; DETAILS OF FLUID-PRESSURE SYSTEMS, NOT OTHERWISE PROVIDED FOR\"],[1968,24,0.03,\"FLUID-CIRCUIT ELEMENTS PREDOMINANTLY USED FOR COMPUTING OR CONTROL PURPOSES\"],[1968,8,0.01,\"FLUID DYNAMICS, i.e. METHODS OR MEANS FOR INFLUENCING THE FLOW OF GASES OR LIQUIDS\"],[1968,2693,3.374,\"ENGINEERING ELEMENTS OR UNITS; GENERAL MEASURES FOR PRODUCING AND MAINTAINING EFFECTIVE FUNCTIONING OF MACHINES OR INSTALLATIONS; THERMAL INSULATION IN GENERAL\"],[1968,175,0.219,\"DEVICES FOR FASTENING OR SECURING CONSTRUCTIONAL ELEMENTS OR MACHINE PARTS TOGETHER, e.g. NAILS, BOLTS, CIRCLIPS, CLAMPS, CLIPS OR WEDGES; JOINTS OR JOINTING\"],[1990,205,0.257,\"SHAFTS; FLEXIBLE SHAFTS; MECHANICAL MEANS FOR TRANSMITTING MOVEMENT IN A FLEXIBLE SHEATHING; ELEMENTS OF CRANKSHAFT MECHANISMS; PIVOTS; PIVOTAL CONNECTIONS; ROTARY ENGINEERING ELEMENTS OTHER THAN GEARING, COUPLING, CLUTCH OR BRAKE ELEMENTS; BEARINGS\"],[1974,512,0.641,\"COUPLINGS FOR TRANSMITTING ROTATION; CLUTCHES; BRAKES\"],[1968,174,0.218,\"SPRINGS; SHOCK-ABSORBERS; MEANS FOR DAMPING VIBRATION\"],[1968,81,0.101,\"BELTS, CABLES, OR ROPES, PREDOMINANTLY USED FOR DRIVING PURPOSES; CHAINS; FITTINGS PREDOMINANTLY USED THEREFOR\"],[1968,515,0.645,\"GEARING\"],[1968,109,0.137,\"PISTONS; CYLINDERS; PRESSURE VESSELS IN GENERAL; SEALINGS\"],[1968,270,0.338,\"VALVES; TAPS; COCKS; ACTUATING-FLOATS; DEVICES FOR VENTING OR AERATING\"],[1968,453,0.567,\"PIPES; JOINTS OR FITTINGS FOR PIPES; SUPPORTS FOR PIPES, CABLES OR PROTECTIVE TUBING; MEANS FOR THERMAL INSULATION IN GENERAL\"],[1968,41,0.051,\"FRAMES, CASINGS OR BEDS OF ENGINES, MACHINES OR APPARATUS, NOT SPECIFIC TO ENGINES, MACHINES OR APPARATUS PROVIDED FOR ELSEWHERE; STANDS; SUPPORTS\"],[1968,86,0.108,\"LUBRICATING\"],[1968,20,0.025,\"SAFETY DEVICES IN GENERAL\"],[1968,14,0.018,\"CONSTRUCTIONAL ELEMENTS IN GENERAL; STRUCTURES BUILT-UP FROM SUCH ELEMENTS, IN GENERAL\"],[1968,24,0.03,\"STEAM TRAPS OR LIKE APPARATUS FOR DRAINING-OFF LIQUIDS FROM ENCLOSURES PREDOMINANTLY CONTAINING GASES OR VAPOURS\"],[1968,85,0.106,\"STORING OR DISTRIBUTING GASES OR LIQUIDS\"],[1968,16,0.02,\"GAS-HOLDERS OF VARIABLE CAPACITY\"],[1968,35,0.044,\"VESSELS FOR CONTAINING OR STORING COMPRESSED, LIQUEFIED, OR SOLIDIFIED GASES; FIXED-CAPACITY GAS-HOLDERS; FILLING VESSELS WITH, OR DISCHARGING FROM VESSELS, COMPRESSED, LIQUEFIED, OR SOLIDIFIED GASES\"],[1968,31,0.039,\"PIPE-LINE SYSTEMS; PIPE-LINES\"],[1968,522,0.654,\"LIGHTING\"],[1968,5,0.006,\"INCANDESCENT MANTLES; OTHER INCANDESCENT BODIES HEATED BY COMBUSTION\"],[1968,37,0.046,\"NON-ELECTRIC LIGHT SOURCES USING LUMINESCENCE; LIGHT SOURCES USING ELECTROCHEMILUMINESCENCE; LIGHT SOURCES USING CHARGES OF COMBUSTIBLE MATERIAL; LIGHT SOURCES USING SEMICONDUCTOR DEVICES AS LIGHT-GENERATING ELEMENTS; LIGHT SOURCES NOT OTHERWISE PROVIDED FOR\"],[1968,20,0.025,\"LIGHTING DEVICES OR SYSTEMS THEREOF, BEING PORTABLE OR SPECIALLY ADAPTED FOR TRANSPORTATION\"],[1968,141,0.177,\"NON-PORTABLE LIGHTING DEVICES; SYSTEMS THEREOF; VEHICLE LIGHTING DEVICES SPECIALLY ADAPTED FOR VEHICLE EXTERIORS\"],[1968,198,0.248,\"FUNCTIONAL FEATURES OR DETAILS OF LIGHTING DEVICES OR SYSTEMS THEREOF; STRUCTURAL COMBINATIONS OF LIGHTING DEVICES WITH OTHER ARTICLES, NOT OTHERWISE PROVIDED FOR\"],[2000,79,0.099,\"INDEXING SCHEME ASSOCIATED WITH SUBCLASSES\"],[2000,35,0.044,\"INDEXING SCHEME ASSOCIATED WITH SUBCLASSES\"],[1968,273,0.342,\"STEAM GENERATION\"],[1968,178,0.223,\"METHODS OF STEAM GENERATION; STEAM BOILERS\"],[1968,63,0.079,\"PREHEATING, OR ACCUMULATING PREHEATED, FEED-WATER FOR STEAM GENERATION; FEED-WATER SUPPLY FOR STEAM GENERATION; CONTROLLING WATER LEVEL FOR STEAM GENERATION; AUXILIARY DEVICES FOR PROMOTING WATER CIRCULATION WITHIN STEAM BOILERS\"],[1968,29,0.036,\"SUPERHEATING OF STEAM\"],[1968,549,0.688,\"COMBUSTION APPARATUS; COMBUSTION PROCESSES\"],[1968,36,0.045,\"METHODS OR APPARATUS FOR COMBUSTION USING ONLY SOLID FUEL\"],[1968,53,0.066,\"METHODS OR APPARATUS FOR COMBUSTION USING FLUID FUEL OR SOLID FUEL SUSPENDED IN AIR\"],[1968,107,0.134,\"BURNERS\"],[1968,39,0.049,\"CREMATION FURNACES; CONSUMING WASTE OR LOW GRADE FUELS BY COMBUSTION\"],[1968,54,0.068,\"GRATES; CLEANING OR RAKING GRATES\"],[1968,29,0.036,\"REMOVAL OR TREATMENT OF COMBUSTION PRODUCTS OR COMBUSTION RESIDUES; FLUES\"],[1968,27,0.034,\"FEEDING FUEL TO COMBUSTION APPARATUS\"],[1968,32,0.04,\"SUPPLYING AIR OR NON-COMBUSTIBLE LIQUIDS OR GASES TO COMBUSTION APPARATUS IN GENERAL; VALVES OR DAMPERS SPECIALLY ADAPTED FOR CONTROLLING AIR SUPPLY OR DRAUGHT IN COMBUSTION APPARATUS; INDUCING DRAUGHT IN COMBUSTION APPARATUS; TOPS FOR CHIMNEYS OR VENTILATING SHAFTS; TERMINALS FOR FLUES\"],[1968,30,0.038,\"CASINGS, LININGS, WALLS OR DOORS SPECIALLY ADAPTED FOR COMBUSTION CHAMBERS, e.g. FIREBRIDGES; DEVICES FOR DEFLECTING AIR, FLAMES OR COMBUSTION PRODUCTS IN COMBUSTION CHAMBERS; SAFETY ARRANGEMENTS SPECIALLY ADAPTED FOR COMBUSTION APPARATUS; DETAILS OF COMBUSTION CHAMBERS, NOT OTHERWISE PROVIDED FOR\"],[1968,25,0.031,\"REGULATING OR CONTROLLING COMBUSTION\"],[1968,72,0.09,\"IGNITION; EXTINGUISHING DEVICES\"],[1968,33,0.041,\"GENERATING COMBUSTION PRODUCTS OF HIGH PRESSURE OR HIGH VELOCITY, e.g. GAS-TURBINE COMBUSTION CHAMBERS\"],[1968,761,0.953,\"HEATING; RANGES; VENTILATING\"],[1995,51,0.064,\"DOMESTIC STOVES OR RANGES FOR SOLID FUELS; IMPLEMENTS FOR USE IN CONNECTION WITH STOVES OR RANGES\"],[1968,58,0.073,\"DOMESTIC STOVES OR RANGES; DETAILS OF DOMESTIC STOVES OR RANGES, OF GENERAL APPLICATION\"],[1968,61,0.076,\"DOMESTIC- OR SPACE-HEATING SYSTEMS, e.g. CENTRAL HEATING SYSTEMS; DOMESTIC HOT-WATER SUPPLY SYSTEMS; ELEMENTS OR COMPONENTS THEREFOR\"],[1968,275,0.345,\"AIR-CONDITIONING; AIR-HUMIDIFICATION; VENTILATION; USE OF AIR CURRENTS FOR SCREENING\"],[1968,155,0.194,\"FLUID HEATERS, e.g. WATER OR AIR HEATERS, HAVING HEAT-GENERATING MEANS, e.g. HEAT PUMPS, IN GENERAL\"],[2018,139,0.174,\"SOLAR HEAT COLLECTORS; SOLAR HEAT SYSTEMS\"],[2018,9,0.011,\"GEOTHERMAL COLLECTORS; GEOTHERMAL SYSTEMS\"],[2018,5,0.006,\"COLLECTION, PRODUCTION OR USE OF HEAT NOT OTHERWISE PROVIDED FOR\"],[1968,213,0.267,\"REFRIGERATION OR COOLING; COMBINED HEATING AND REFRIGERATION SYSTEMS; HEAT PUMP SYSTEMS; MANUFACTURE OR STORAGE OF ICE; LIQUEFACTION OR SOLIDIFICATION OF GASES\"],[1968,112,0.14,\"REFRIGERATION MACHINES, PLANTS OR SYSTEMS; COMBINED HEATING AND REFRIGERATION SYSTEMS; HEAT PUMP SYSTEMS\"],[1974,36,0.045,\"PRODUCING, WORKING OR HANDLING ICE\"],[1968,53,0.066,\"REFRIGERATORS; COLD ROOMS; ICE-BOXES; COOLING OR FREEZING APPARATUS NOT OTHERWISE PROVIDED FOR\"],[1968,8,0.01,\"LIQUEFACTION, SOLIDIFICATION, OR SEPARATION OF GASES OR GASEOUS MIXTURES BY PRESSURE AND COLD TREATMENT\"],[1968,131,0.164,\"DRYING\"],[1968,130,0.163,\"DRYING SOLID MATERIALS OR OBJECTS BY REMOVING LIQUID THEREFROM\"],[1985,193,0.242,\"FURNACES; KILNS, OVENS OR RETORTS\"],[1968,135,0.169,\"FURNACES, KILNS, OVENS OR RETORTS IN GENERAL; OPEN SINTERING OR LIKE APPARATUS\"],[1968,56,0.07,\"DETAILS OR ACCESSORIES OF FURNACES, KILNS, OVENS OR RETORTS, IN SO FAR AS THEY ARE OF KINDS OCCURRING IN MORE THAN ONE KIND OF FURNACE\"],[1968,205,0.257,\"HEAT EXCHANGE IN GENERAL\"],[1968,19,0.024,\"STEAM OR VAPOUR CONDENSERS\"],[1968,19,0.024,\"HEAT-EXCHANGE APPARATUS, NOT PROVIDED FOR IN ANOTHER SUBCLASS, IN WHICH THE HEAT-EXCHANGE MEDIA COME INTO DIRECT CONTACT WITHOUT CHEMICAL INTERACTION\"],[1985,43,0.054,\"HEAT-EXCHANGE APPARATUS, NOT PROVIDED FOR IN ANOTHER SUBCLASS, IN WHICH THE HEAT-EXCHANGE MEDIA DO NOT COME INTO DIRECT CONTACT; HEAT STORAGE PLANTS OR APPARATUS IN GENERAL\"],[1968,90,0.113,\"DETAILS OF HEAT-EXCHANGE OR HEAT-TRANSFER APPARATUS, OF GENERAL APPLICATION\"],[1968,29,0.036,\"CLEANING OF INTERNAL OR EXTERNAL SURFACES OF HEAT-EXCHANGE OR HEAT-TRANSFER CONDUITS, e.g. WATER TUBES OF BOILERS\"],[1968,737,0.923,\"WEAPONS\"],[1990,402,0.504,\"FUNCTIONAL FEATURES OR DETAILS COMMON TO BOTH SMALLARMS AND ORDNANCE, e.g. CANNONS; MOUNTINGS FOR SMALLARMS OR ORDNANCE\"],[1968,73,0.091,\"WEAPONS FOR PROJECTING MISSILES WITHOUT USE OF EXPLOSIVE OR COMBUSTIBLE PROPELLANT CHARGE; WEAPONS NOT OTHERWISE PROVIDED FOR\"],[1990,43,0.054,\"SMALLARMS, e.g. PISTOLS OR RIFLES; ACCESSORIES THEREFOR\"],[1990,22,0.028,\"APPARATUS FOR LAUNCHING PROJECTILES OR MISSILES FROM BARRELS, e.g. CANNONS; LAUNCHERS FOR ROCKETS OR TORPEDOES; HARPOON GUNS\"],[1968,81,0.101,\"WEAPON SIGHTS; AIMING\"],[1968,59,0.074,\"ARMOUR; ARMOURED TURRETS; ARMOURED OR ARMED VEHICLES; MEANS OF ATTACK OR DEFENCE, e.g. CAMOUFLAGE, IN GENERAL\"],[1968,50,0.063,\"TARGETS; TARGET RANGES; BULLET CATCHERS\"],[1968,405,0.507,\"AMMUNITION; BLASTING\"],[1974,285,0.357,\"EXPLOSIVE CHARGES, e.g. FOR BLASTING; FIREWORKS; AMMUNITION\"],[1990,87,0.109,\"AMMUNITION FUZES; ARMING OR SAFETY MEANS THEREFOR\"],[1968,30,0.038,\"BLASTING\"],[2006,2,0.003,\"SUBJECT MATTER NOT OTHERWISE PROVIDED FOR IN THIS SECTION\"],[2006,1,0.001,\"SUBJECT MATTER NOT OTHERWISE PROVIDED FOR IN THIS SECTION\"],[1968,9560,11.976,\"PHYSICS\"],[1968,3135,3.927,\"MEASURING; TESTING\"],[1968,185,0.232,\"MEASURING LENGTH, THICKNESS OR SIMILAR LINEAR DIMENSIONS; MEASURING ANGLES; MEASURING AREAS; MEASURING IRREGULARITIES OF SURFACES OR CONTOURS\"],[1968,186,0.233,\"MEASURING DISTANCES, LEVELS OR BEARINGS; SURVEYING; NAVIGATION; GYROSCOPIC INSTRUMENTS; PHOTOGRAMMETRY OR VIDEOGRAMMETRY\"],[1968,158,0.198,\"MEASURING NOT SPECIALLY ADAPTED FOR A SPECIFIC VARIABLE; ARRANGEMENTS FOR MEASURING TWO OR MORE VARIABLES NOT COVERED BY A SINGLE OTHER SUBCLASS; TARIFF METERING APPARATUS; TRANSFERRING OR TRANSDUCING ARRANGEMENTS NOT SPECIALLY ADAPTED FOR A SPECIFIC VARIABLE; MEASURING OR TESTING NOT OTHERWISE PROVIDED FOR\"],[1974,179,0.224,\"MEASURING VOLUME, VOLUME FLOW, MASS FLOW, OR LIQUID LEVEL; METERING BY VOLUME\"],[1968,177,0.222,\"WEIGHING\"],[1985,26,0.033,\"MEASUREMENT OF MECHANICAL VIBRATIONS OR ULTRASONIC, SONIC OR INFRASONIC WAVES\"],[1974,121,0.152,\"MEASUREMENT OF INTENSITY, VELOCITY, SPECTRAL CONTENT, POLARISATION, PHASE OR PULSE CHARACTERISTICS OF INFRARED, VISIBLE OR ULTRAVIOLET LIGHT; COLORIMETRY; RADIATION PYROMETRY\"],[1968,136,0.17,\"MEASURING TEMPERATURE; MEASURING QUANTITY OF HEAT; THERMALLY-SENSITIVE ELEMENTS NOT OTHERWISE PROVIDED FOR\"],[1985,146,0.183,\"MEASURING FORCE, STRESS, TORQUE, WORK, MECHANICAL POWER, MECHANICAL EFFICIENCY, OR FLUID PRESSURE\"],[1968,92,0.115,\"TESTING STATIC OR DYNAMIC BALANCE OF MACHINES OR STRUCTURES; TESTING OF STRUCTURES OR APPARATUS, NOT OTHERWISE PROVIDED FOR\"],[1968,590,0.739,\"INVESTIGATING OR ANALYSING MATERIALS BY DETERMINING THEIR CHEMICAL OR PHYSICAL PROPERTIES\"],[1968,102,0.128,\"MEASURING LINEAR OR ANGULAR SPEED, ACCELERATION, DECELERATION OR SHOCK; INDICATING PRESENCE OR ABSENCE OF MOVEMENT; INDICATING DIRECTION OF MOVEMENT\"],[2010,63,0.079,\"SCANNING-PROBE TECHNIQUES OR APPARATUS; APPLICATIONS OF SCANNING-PROBE TECHNIQUES, e.g. SCANNING-PROBE MICROSCOPY [SPM]\"],[1968,394,0.494,\"MEASURING ELECTRIC VARIABLES; MEASURING MAGNETIC VARIABLES\"],[1968,377,0.472,\"RADIO DIRECTION-FINDING; RADIO NAVIGATION; DETERMINING DISTANCE OR VELOCITY BY USE OF RADIO WAVES; LOCATING OR PRESENCE-DETECTING BY USE OF THE REFLECTION OR RERADIATION OF RADIO WAVES; ANALOGOUS ARRANGEMENTS USING OTHER WAVES\"],[1968,62,0.078,\"MEASUREMENT OF NUCLEAR OR X-RADIATION\"],[1985,111,0.139,\"GEOPHYSICS; GRAVITATIONAL MEASUREMENTS; DETECTING MASSES OR OBJECTS; TAGS\"],[1968,12,0.015,\"METEOROLOGY\"],[1968,449,0.562,\"OPTICS\"],[1968,314,0.393,\"OPTICAL ELEMENTS, SYSTEMS OR APPARATUS\"],[1968,38,0.048,\"SPECTACLES; SUNGLASSES OR GOGGLES INSOFAR AS THEY HAVE THE SAME FEATURES AS SPECTACLES; CONTACT LENSES\"],[1974,94,0.118,\"OPTICAL DEVICES OR ARRANGEMENTS FOR THE CONTROL OF LIGHT BY MODIFICATION OF THE OPTICAL PROPERTIES OF THE MEDIA OF THE ELEMENTS INVOLVED THEREIN; NON-LINEAR OPTICS; FREQUENCY-CHANGING OF LIGHT; OPTICAL LOGIC ELEMENTS; OPTICAL ANALOGUE\\u002fDIGITAL CONVERTERS\"],[1985,830,1.04,\"PHOTOGRAPHY; CINEMATOGRAPHY; ANALOGOUS TECHNIQUES USING WAVES OTHER THAN OPTICAL WAVES; ELECTROGRAPHY; HOLOGRAPHY\"],[1985,348,0.436,\"APPARATUS OR ARRANGEMENTS FOR TAKING PHOTOGRAPHS OR FOR PROJECTING OR VIEWING THEM; APPARATUS OR ARRANGEMENTS EMPLOYING ANALOGOUS TECHNIQUES USING WAVES OTHER THAN OPTICAL WAVES; ACCESSORIES THEREFOR\"],[1968,197,0.247,\"PHOTOSENSITIVE MATERIALS FOR PHOTOGRAPHIC PURPOSES; PHOTOGRAPHIC PROCESSES, e.g. CINE, X-RAY, COLOUR OR STEREO-PHOTOGRAPHIC PROCESSES; AUXILIARY PROCESSES IN PHOTOGRAPHY\"],[1968,33,0.041,\"APPARATUS FOR PROCESSING EXPOSED PHOTOGRAPHIC MATERIALS; ACCESSORIES THEREFOR\"],[1968,108,0.135,\"PHOTOMECHANICAL PRODUCTION OF TEXTURED OR PATTERNED SURFACES, e.g. FOR PRINTING, FOR PROCESSING OF SEMICONDUCTOR DEVICES; MATERIALS THEREFOR; ORIGINALS THEREFOR; APPARATUS SPECIALLY ADAPTED THEREFOR\"],[1968,118,0.148,\"ELECTROGRAPHY; ELECTROPHOTOGRAPHY; MAGNETOGRAPHY\"],[1974,20,0.025,\"HOLOGRAPHIC PROCESSES OR APPARATUS\"],[1968,397,0.497,\"HOROLOGY\"],[1968,171,0.214,\"MECHANICALLY-DRIVEN CLOCKS OR WATCHES; MECHANICAL PARTS OF CLOCKS OR WATCHES IN GENERAL; TIME-PIECES USING THE POSITION OF THE SUN, MOON, OR STARS\"],[1968,95,0.119,\"ELECTROMECHANICAL CLOCKS OR WATCHES\"],[1968,21,0.026,\"APPARATUS OR TOOLS SPECIALLY DESIGNED FOR MAKING OR MAINTAINING CLOCKS OR WATCHES\"],[1974,40,0.05,\"TIME-INTERVAL MEASURING\"],[1980,36,0.045,\"ELECTRONIC TIME-PIECES\"],[2013,28,0.035,\"RADIO-CONTROLLED TIME-PIECES\"],[1968,524,0.656,\"CONTROLLING; REGULATING\"],[1968,119,0.149,\"CONTROL OR REGULATING SYSTEMS IN GENERAL; FUNCTIONAL ELEMENTS OF SUCH SYSTEMS; MONITORING OR TESTING ARRANGEMENTS FOR SUCH SYSTEMS OR ELEMENTS\"],[1968,236,0.296,\"SYSTEMS FOR CONTROLLING OR REGULATING NON-ELECTRIC VARIABLES\"],[1985,83,0.104,\"SYSTEMS FOR REGULATING ELECTRIC OR MAGNETIC VARIABLES\"],[1968,82,0.103,\"CONTROL DEVICES OR SYSTEMS INSOFAR AS CHARACTERISED BY MECHANICAL FEATURES ONLY\"],[1968,1537,1.925,\"COMPUTING; CALCULATING OR COUNTING\"],[1985,65,0.081,\"DIGITAL COMPUTERS IN WHICH ALL THE COMPUTATION IS EFFECTED MECHANICALLY\"],[1968,10,0.013,\"DIGITAL FLUID-PRESSURE COMPUTING DEVICES\"],[1990,5,0.006,\"OPTICAL COMPUTING DEVICES\"],[1968,752,0.942,\"ELECTRIC DIGITAL DATA PROCESSING\"],[1968,73,0.091,\"ANALOGUE COMPUTERS\"],[1968,3,0.004,\"HYBRID COMPUTING ARRANGEMENTS\"],[1968,89,0.111,\"GRAPHICAL DATA READING; PRESENTATION OF DATA; RECORD CARRIERS; HANDLING RECORD CARRIERS\"],[1968,44,0.055,\"COUNTING MECHANISMS; COUNTING OF OBJECTS NOT OTHERWISE PROVIDED FOR\"],[2000,67,0.084,\"COMPUTING ARRANGEMENTS BASED ON SPECIFIC COMPUTATIONAL MODELS\"],[2006,120,0.15,\"INFORMATION AND COMMUNICATION TECHNOLOGY [ICT] SPECIALLY ADAPTED FOR ADMINISTRATIVE, COMMERCIAL, FINANCIAL, MANAGERIAL OR SUPERVISORY PURPOSES; SYSTEMS OR METHODS SPECIALLY ADAPTED FOR ADMINISTRATIVE, COMMERCIAL, FINANCIAL, MANAGERIAL OR SUPERVISORY PURPOSES, NOT OTHERWISE PROVIDED FOR\"],[1995,155,0.194,\"IMAGE DATA PROCESSING OR GENERATION, IN GENERAL\"],[2022,142,0.178,\"IMAGE OR VIDEO RECOGNITION OR UNDERSTANDING\"],[1968,300,0.376,\"CHECKING-DEVICES\"],[1968,38,0.048,\"TICKET-ISSUING APPARATUS; TAXIMETERS; ARRANGEMENTS OR APPARATUS FOR COLLECTING FARES, TOLLS OR ENTRANCE FEES AT ONE OR MORE CONTROL POINTS; FRANKING APPARATUS\"],[1968,56,0.07,\"TIME OR ATTENDANCE REGISTERS; REGISTERING OR INDICATING THE WORKING OF MACHINES; GENERATING RANDOM NUMBERS; VOTING OR LOTTERY APPARATUS; ARRANGEMENTS, SYSTEMS OR APPARATUS FOR CHECKING NOT PROVIDED FOR ELSEWHERE\"],[1974,88,0.11,\"HANDLING OF COINS OR OF VALUABLE PAPERS, e.g. TESTING, SORTING BY DENOMINATIONS, COUNTING, DISPENSING, CHANGING OR DEPOSITING\"],[1968,104,0.13,\"COIN-FREED OR LIKE APPARATUS\"],[1985,9,0.011,\"REGISTERING THE RECEIPT OF CASH, VALUABLES, OR TOKENS\"],[1968,250,0.313,\"SIGNALLING\"],[1968,125,0.157,\"SIGNALLING OR CALLING SYSTEMS; ORDER TELEGRAPHS; ALARM SYSTEMS\"],[1985,46,0.058,\"TRANSMISSION SYSTEMS FOR MEASURED VALUES, CONTROL OR SIMILAR SIGNALS\"],[1974,76,0.095,\"TRAFFIC CONTROL SYSTEMS\"],[1968,405,0.507,\"EDUCATING; CRYPTOGRAPHY; DISPLAY; ADVERTISING; SEALS\"],[1968,154,0.193,\"EDUCATIONAL OR DEMONSTRATION APPLIANCES; APPLIANCES FOR TEACHING, OR COMMUNICATING WITH, THE BLIND, DEAF OR MUTE; MODELS; PLANETARIA; GLOBES; MAPS; DIAGRAMS\"],[1968,15,0.019,\"CIPHERING OR DECIPHERING APPARATUS FOR CRYPTOGRAPHIC OR OTHER PURPOSES INVOLVING THE NEED FOR SECRECY\"],[1968,8,0.01,\"RAILWAY OR LIKE TIME OR FARE TABLES; PERPETUAL CALENDARS\"],[1968,130,0.163,\"DISPLAYING; ADVERTISING; SIGNS; LABELS OR NAME-PLATES; SEALS\"],[1980,93,0.117,\"ARRANGEMENTS OR CIRCUITS FOR CONTROL OF INDICATING DEVICES USING STATIC MEANS TO PRESENT VARIABLE INFORMATION\"],[1968,458,0.574,\"MUSICAL INSTRUMENTS; ACOUSTICS\"],[1968,18,0.023,\"ORGANS, HARMONIUMS OR SIMILAR WIND MUSICAL INSTRUMENTS WITH ASSOCIATED BLOWING APPARATUS\"],[1968,32,0.04,\"PIANOS, HARPSICHORDS, SPINETS OR SIMILAR STRINGED MUSICAL INSTRUMENTS WITH ONE OR MORE KEYBOARDS\"],[1968,81,0.101,\"STRINGED MUSICAL INSTRUMENTS; WIND MUSICAL INSTRUMENTS; ACCORDIONS OR CONCERTINAS; PERCUSSION MUSICAL INSTRUMENTS; AEOLIAN HARPS; SINGING-FLAME MUSICAL INSTRUMENTS; MUSICAL INSTRUMENTS NOT OTHERWISE PROVIDED FOR\"],[1968,17,0.021,\"AUTOMATIC MUSICAL INSTRUMENTS\"],[1968,9,0.011,\"REPRESENTATION OF MUSIC; RECORDING MUSIC IN NOTATION FORM; ACCESSORIES FOR MUSIC OR MUSICAL INSTRUMENTS NOT OTHERWISE PROVIDED FOR, e.g. SUPPORTS\"],[1968,62,0.078,\"ELECTROPHONIC MUSICAL INSTRUMENTS; INSTRUMENTS IN WHICH THE TONES ARE GENERATED BY ELECTROMECHANICAL MEANS OR ELECTRONIC GENERATORS, OR IN WHICH THE TONES ARE SYNTHESISED FROM A DATA STORE\"],[1995,76,0.095,\"SOUND-PRODUCING DEVICES; METHODS OR DEVICES FOR PROTECTING AGAINST, OR FOR DAMPING, NOISE OR OTHER ACOUSTIC WAVES IN GENERAL; ACOUSTICS NOT OTHERWISE PROVIDED FOR\"],[1985,155,0.194,\"SPEECH ANALYSIS TECHNIQUES OR SPEECH SYNTHESIS; SPEECH RECOGNITION; SPEECH OR VOICE PROCESSING TECHNIQUES; SPEECH OR AUDIO CODING OR DECODING\"],[1968,718,0.899,\"INFORMATION STORAGE\"],[1968,520,0.651,\"INFORMATION STORAGE BASED ON RELATIVE MOVEMENT BETWEEN RECORD CARRIER AND TRANSDUCER\"],[1968,196,0.246,\"STATIC STORES\"],[1968,31,0.039,\"INSTRUMENT DETAILS\"],[1968,30,0.038,\"CONSTRUCTIONAL DETAILS OF INSTRUMENTS, OR COMPARABLE DETAILS OF OTHER APPARATUS, NOT OTHERWISE PROVIDED FOR\"],[2018,126,0.158,\"INFORMATION AND COMMUNICATION TECHNOLOGY [ICT] SPECIALLY ADAPTED FOR SPECIFIC APPLICATION FIELDS\"],[2019,37,0.046,\"BIOINFORMATICS, i.e. INFORMATION AND COMMUNICATION TECHNOLOGY [ICT] SPECIALLY ADAPTED FOR GENETIC OR PROTEIN-RELATED DATA PROCESSING IN COMPUTATIONAL MOLECULAR BIOLOGY\"],[2019,15,0.019,\"COMPUTATIONAL CHEMISTRY; CHEMOINFORMATICS; COMPUTATIONAL MATERIALS SCIENCE\"],[2018,35,0.044,\"HEALTHCARE INFORMATICS, i.e. INFORMATION AND COMMUNICATION TECHNOLOGY [ICT] SPECIALLY ADAPTED FOR THE HANDLING OR PROCESSING OF MEDICAL OR HEALTHCARE DATA\"],[2020,33,0.041,\"INFORMATION AND COMMUNICATION TECHNOLOGY SPECIALLY ADAPTED FOR THE INTERNET OF THINGS [IoT]\"],[2019,1,0.001,\"INFORMATION AND COMMUNICATION TECHNOLOGY [ICT] SPECIALLY ADAPTED FOR SPECIFIC APPLICATION FIELDS, NOT OTHERWISE PROVIDED FOR\"],[1968,383,0.48,\"NUCLEAR PHYSICS; NUCLEAR ENGINEERING\"],[1968,13,0.016,\"FUSION REACTORS\"],[1968,230,0.288,\"NUCLEAR REACTORS\"],[1968,26,0.033,\"NUCLEAR POWER PLANT\"],[1968,56,0.07,\"PROTECTION AGAINST X-RADIATION, GAMMA RADIATION, CORPUSCULAR RADIATION OR PARTICLE BOMBARDMENT; TREATING RADIOACTIVELY CONTAMINATED MATERIAL; DECONTAMINATION ARRANGEMENTS THEREFOR\"],[1974,15,0.019,\"CONVERSION OF CHEMICAL ELEMENTS; RADIOACTIVE SOURCES\"],[1968,12,0.015,\"OBTAINING ENERGY FROM RADIOACTIVE SOURCES; APPLICATIONS OF RADIATION FROM RADIOACTIVE SOURCES, NOT OTHERWISE PROVIDED FOR; UTILISING COSMIC RADIATION\"],[1968,4,0.005,\"NUCLEAR EXPLOSIVES; APPLICATIONS THEREOF\"],[1974,19,0.024,\"TECHNIQUES FOR HANDLING PARTICLES OR IONISING RADIATION NOT OTHERWISE PROVIDED FOR; IRRADIATION DEVICES; GAMMA RAY OR X-RAY MICROSCOPES\"],[2006,2,0.003,\"SUBJECT MATTER NOT OTHERWISE PROVIDED FOR IN THIS SECTION\"],[2006,1,0.001,\"SUBJECT MATTER NOT OTHERWISE PROVIDED FOR IN THIS SECTION\"],[1968,10469,13.115,\"ELECTRICITY\"],[1968,3995,5.005,\"ELECTRIC ELEMENTS\"],[1968,164,0.205,\"CABLES; CONDUCTORS; INSULATORS; SELECTION OF MATERIALS FOR THEIR CONDUCTIVE, INSULATING OR DIELECTRIC PROPERTIES\"],[1968,111,0.139,\"RESISTORS\"],[1974,222,0.278,\"MAGNETS; INDUCTANCES; TRANSFORMERS; SELECTION OF MATERIALS FOR THEIR MAGNETIC PROPERTIES\"],[1968,154,0.193,\"CAPACITORS; CAPACITORS, RECTIFIERS, DETECTORS, SWITCHING DEVICES, LIGHT-SENSITIVE OR TEMPERATURE-SENSITIVE DEVICES OF THE ELECTROLYTIC TYPE\"],[1968,825,1.034,\"ELECTRIC SWITCHES; RELAYS; SELECTORS; EMERGENCY PROTECTIVE DEVICES\"],[1968,734,0.92,\"ELECTRIC DISCHARGE TUBES OR DISCHARGE LAMPS\"],[1968,69,0.086,\"ELECTRIC INCANDESCENT LAMPS\"],[1974,191,0.239,\"SEMICONDUCTOR DEVICES NOT COVERED BY CLASS\"],[1974,587,0.735,\"PROCESSES OR MEANS, e.g. BATTERIES, FOR THE DIRECT CONVERSION OF CHEMICAL ENERGY INTO ELECTRICAL ENERGY\"],[1968,90,0.113,\"WAVEGUIDES; RESONATORS, LINES OR OTHER DEVICES OF THE WAVEGUIDE TYPE\"],[1968,195,0.244,\"ANTENNAS, i.e. RADIO AERIALS\"],[1968,394,0.494,\"ELECTRICALLY-CONDUCTIVE CONNECTIONS; STRUCTURAL ASSOCIATIONS OF A PLURALITY OF MUTUALLY-INSULATED ELECTRICAL CONNECTING ELEMENTS; COUPLING DEVICES; CURRENT COLLECTORS\"],[1968,171,0.214,\"DEVICES USING THE PROCESS OF LIGHT AMPLIFICATION BY STIMULATED EMISSION OF RADIATION [LASER] TO AMPLIFY OR GENERATE LIGHT; DEVICES USING STIMULATED EMISSION OF ELECTROMAGNETIC RADIATION IN WAVE RANGES OTHER THAN OPTICAL\"],[1968,74,0.093,\"SPARK GAPS; OVERVOLTAGE ARRESTERS USING SPARK GAPS; SPARKING PLUGS; CORONA DEVICES; GENERATING IONS TO BE INTRODUCED INTO NON-ENCLOSED GASES\"],[1968,1341,1.68,\"GENERATION, CONVERSION, OR DISTRIBUTION OF ELECTRIC POWER\"],[1968,73,0.091,\"BOARDS, SUBSTATIONS OR SWITCHING ARRANGEMENTS FOR THE SUPPLY OR DISTRIBUTION OF ELECTRIC POWER\"],[1968,93,0.117,\"INSTALLATION OF ELECTRIC CABLES OR LINES, OR OF COMBINED OPTICAL AND ELECTRIC CABLES OR LINES\"],[1968,81,0.101,\"EMERGENCY PROTECTIVE CIRCUIT ARRANGEMENTS\"],[1968,81,0.101,\"CIRCUIT ARRANGEMENTS OR SYSTEMS FOR SUPPLYING OR DISTRIBUTING ELECTRIC POWER; SYSTEMS FOR STORING ELECTRIC ENERGY\"],[1968,455,0.57,\"DYNAMO-ELECTRIC MACHINES\"],[1985,201,0.252,\"APPARATUS FOR CONVERSION BETWEEN AC AND AC, BETWEEN AC AND DC, OR BETWEEN DC AND DC, AND FOR USE WITH MAINS OR SIMILAR POWER SUPPLY SYSTEMS; CONVERSION OF DC OR AC INPUT POWER INTO SURGE OUTPUT POWER; CONTROL OR REGULATION THEREOF\"],[1968,24,0.03,\"ELECTRIC MACHINES NOT OTHERWISE PROVIDED FOR\"],[1985,287,0.36,\"CONTROL OR REGULATION OF ELECTRIC MOTORS, ELECTRIC GENERATORS OR DYNAMO-ELECTRIC CONVERTERS; CONTROLLING TRANSFORMERS, REACTORS OR CHOKE COILS\"],[2014,37,0.046,\"GENERATION OF ELECTRIC POWER BY CONVERSION OF INFRARED RADIATION, VISIBLE LIGHT OR ULTRAVIOLET LIGHT, e.g. USING PHOTOVOLTAIC [PV] MODULES\"],[1968,1107,1.387,\"ELECTRONIC CIRCUITRY\"],[1968,71,0.089,\"GENERATION OF OSCILLATIONS, DIRECTLY OR BY FREQUENCY-CHANGING, BY CIRCUITS EMPLOYING ACTIVE ELEMENTS WHICH OPERATE IN A NON-SWITCHING MANNER; GENERATION OF NOISE BY SUCH CIRCUITS\"],[1968,63,0.079,\"MODULATION\"],[1968,57,0.071,\"DEMODULATION OR TRANSFERENCE OF MODULATION FROM ONE CARRIER TO ANOTHER\"],[1968,103,0.129,\"AMPLIFIERS\"],[1968,63,0.079,\"CONTROL OF AMPLIFICATION\"],[1968,121,0.152,\"IMPEDANCE NETWORKS, e.g. RESONANT CIRCUITS; RESONATORS\"],[1968,67,0.084,\"TUNING RESONANT CIRCUITS; SELECTING RESONANT CIRCUITS\"],[1985,377,0.472,\"PULSE TECHNIQUE\"],[1980,45,0.056,\"AUTOMATIC CONTROL, STARTING, SYNCHRONISATION OR STABILISATION OF GENERATORS OF ELECTRONIC OSCILLATIONS OR PULSES\"],[1985,130,0.163,\"CODING, DECODING OR CODE CONVERSION, IN GENERAL\"],[1968,2914,3.65,\"ELECTRIC COMMUNICATION TECHNIQUE\"],[1985,284,0.356,\"TRANSMISSION\"],[1968,149,0.187,\"BROADCAST COMMUNICATION\"],[1968,47,0.059,\"MULTIPLEX COMMUNICATION\"],[1968,7,0.009,\"SECRET COMMUNICATION; JAMMING OF COMMUNICATION\"],[1985,751,0.941,\"TRANSMISSION OF DIGITAL INFORMATION, e.g. TELEGRAPHIC COMMUNICATION\"],[1968,233,0.292,\"TELEPHONIC COMMUNICATION\"],[1985,866,1.085,\"PICTORIAL COMMUNICATION, e.g. TELEVISION\"],[1968,108,0.135,\"SELECTING\"],[1995,99,0.124,\"LOUDSPEAKERS, MICROPHONES, GRAMOPHONE PICK-UPS OR LIKE ACOUSTIC ELECTROMECHANICAL TRANSDUCERS; DEAF-AID SETS; PUBLIC ADDRESS SYSTEMS\"],[1980,6,0.008,\"STEREOPHONIC SYSTEMS\"],[2009,353,0.442,\"WIRELESS COMMUNICATION NETWORKS\"],[1968,466,0.584,\"ELECTRIC TECHNIQUES NOT OTHERWISE PROVIDED FOR\"],[1968,281,0.352,\"ELECTRIC HEATING; ELECTRIC LIGHT SOURCES NOT OTHERWISE PROVIDED FOR; CIRCUIT ARRANGEMENTS FOR ELECTRIC LIGHT SOURCES, IN GENERAL\"],[1968,5,0.006,\"ELECTRIC CIRCUITS OR APPARATUS SPECIALLY DESIGNED FOR USE IN EQUIPMENT FOR KILLING, STUNNING, ENCLOSING OR GUIDING LIVING BEINGS\"],[1968,7,0.009,\"STATIC ELECTRICITY; NATURALLY-OCCURRING ELECTRICITY\"],[1968,38,0.048,\"X-RAY TECHNIQUE\"],[1968,66,0.083,\"PLASMA TECHNIQUE; PRODUCTION OF ACCELERATED ELECTRICALLY-CHARGED PARTICLES OR OF NEUTRONS; PRODUCTION OR ACCELERATION OF NEUTRAL MOLECULAR OR ATOMIC BEAMS\"],[1968,63,0.079,\"PRINTED CIRCUITS; CASINGS OR CONSTRUCTIONAL DETAILS OF ELECTRIC APPARATUS; MANUFACTURE OF ASSEMBLAGES OF ELECTRICAL COMPONENTS\"],[2023,637,0.798,\"SEMICONDUCTOR DEVICES; ELECTRIC SOLID-STATE DEVICES NOT OTHERWISE PROVIDED FOR\"],[2023,54,0.068,\"ELECTRONIC MEMORY DEVICES\"],[2025,146,0.183,\"INORGANIC ELECTRIC SEMICONDUCTOR DEVICES\"],[2025,99,0.124,\"INORGANIC SEMICONDUCTOR DEVICES SENSITIVE TO INFRARED RADIATION, LIGHT, ELECTROMAGNETIC RADIATION OF SHORTER WAVELENGTH OR CORPUSCULAR RADIATION\"],[2025,60,0.075,\"INORGANIC LIGHT-EMITTING SEMICONDUCTOR DEVICES HAVING POTENTIAL BARRIERS\"],[2023,164,0.205,\"ORGANIC ELECTRIC SOLID-STATE DEVICES\"],[2023,108,0.135,\"ELECTRIC SOLID-STATE DEVICES NOT OTHERWISE PROVIDED FOR\"],[2006,2,0.003,\"SUBJECT MATTER NOT OTHERWISE PROVIDED FOR IN THIS SECTION\"],[2006,1,0.001,\"SUBJECT MATTER NOT OTHERWISE PROVIDED FOR IN THIS SECTION\"]],\"hovertemplate\":\"\\u003cb\\u003e%{label}\\u003c\\u002fb\\u003e\\u003cbr\\u003eCreated: %{customdata[0]}\\u003cbr\\u003eGroups: %{customdata[1]}\\u003cbr\\u003ePercentage: %{customdata[2]:.3f}%\\u003cbr\\u003eTitle: %{customdata[3]}\\u003cextra\\u003e\\u003c\\u002fextra\\u003e\",\"ids\":[\"A\",\"A - A01\",\"A - A01 - A01B\",\"A - A01 - A01C\",\"A - A01 - A01D\",\"A - A01 - A01F\",\"A - A01 - A01G\",\"A - A01 - A01H\",\"A - A01 - A01J\",\"A - A01 - A01K\",\"A - A01 - A01L\",\"A - A01 - A01M\",\"A - A01 - A01N\",\"A - A01 - A01P\",\"A - A21\",\"A - A21 - A21B\",\"A - A21 - A21C\",\"A - A21 - A21D\",\"A - A22\",\"A - A22 - A22B\",\"A - A22 - A22C\",\"A - A23\",\"A - A23 - A23B\",\"A - A23 - A23C\",\"A - A23 - A23D\",\"A - A23 - A23F\",\"A - A23 - A23G\",\"A - A23 - A23J\",\"A - A23 - A23K\",\"A - A23 - A23L\",\"A - A23 - A23N\",\"A - A23 - A23P\",\"A - A24\",\"A - A24 - A24B\",\"A - A24 - A24C\",\"A - A24 - A24D\",\"A - A24 - A24F\",\"A - A41\",\"A - A41 - A41B\",\"A - A41 - A41C\",\"A - A41 - A41D\",\"A - A41 - A41F\",\"A - A41 - A41G\",\"A - A41 - A41H\",\"A - A42\",\"A - A42 - A42B\",\"A - A42 - A42C\",\"A - A43\",\"A - A43 - A43B\",\"A - A43 - A43C\",\"A - A43 - A43D\",\"A - A44\",\"A - A44 - A44B\",\"A - A44 - A44C\",\"A - A45\",\"A - A45 - A45B\",\"A - A45 - A45C\",\"A - A45 - A45D\",\"A - A45 - A45F\",\"A - A46\",\"A - A46 - A46B\",\"A - A46 - A46D\",\"A - A47\",\"A - A47 - A47B\",\"A - A47 - A47C\",\"A - A47 - A47D\",\"A - A47 - A47F\",\"A - A47 - A47G\",\"A - A47 - A47H\",\"A - A47 - A47J\",\"A - A47 - A47K\",\"A - A47 - A47L\",\"A - A61\",\"A - A61 - A61B\",\"A - A61 - A61C\",\"A - A61 - A61D\",\"A - A61 - A61F\",\"A - A61 - A61G\",\"A - A61 - A61H\",\"A - A61 - A61J\",\"A - A61 - A61K\",\"A - A61 - A61L\",\"A - A61 - A61M\",\"A - A61 - A61N\",\"A - A61 - A61P\",\"A - A61 - A61Q\",\"A - A62\",\"A - A62 - A62B\",\"A - A62 - A62C\",\"A - A62 - A62D\",\"A - A63\",\"A - A63 - A63B\",\"A - A63 - A63C\",\"A - A63 - A63D\",\"A - A63 - A63F\",\"A - A63 - A63G\",\"A - A63 - A63H\",\"A - A63 - A63J\",\"A - A63 - A63K\",\"A - A99\",\"A - A99 - A99Z\",\"B\",\"B - B01\",\"B - B01 - B01B\",\"B - B01 - B01D\",\"B - B01 - B01F\",\"B - B01 - B01J\",\"B - B01 - B01L\",\"B - B02\",\"B - B02 - B02B\",\"B - B02 - B02C\",\"B - B03\",\"B - B03 - B03B\",\"B - B03 - B03C\",\"B - B03 - B03D\",\"B - B04\",\"B - B04 - B04B\",\"B - B04 - B04C\",\"B - B05\",\"B - B05 - B05B\",\"B - B05 - B05C\",\"B - B05 - B05D\",\"B - B06\",\"B - B06 - B06B\",\"B - B07\",\"B - B07 - B07B\",\"B - B07 - B07C\",\"B - B08\",\"B - B08 - B08B\",\"B - B09\",\"B - B09 - B09B\",\"B - B09 - B09C\",\"B - B21\",\"B - B21 - B21B\",\"B - B21 - B21C\",\"B - B21 - B21D\",\"B - B21 - B21F\",\"B - B21 - B21G\",\"B - B21 - B21H\",\"B - B21 - B21J\",\"B - B21 - B21K\",\"B - B21 - B21L\",\"B - B22\",\"B - B22 - B22C\",\"B - B22 - B22D\",\"B - B22 - B22F\",\"B - B23\",\"B - B23 - B23B\",\"B - B23 - B23C\",\"B - B23 - B23D\",\"B - B23 - B23F\",\"B - B23 - B23G\",\"B - B23 - B23H\",\"B - B23 - B23K\",\"B - B23 - B23P\",\"B - B23 - B23Q\",\"B - B24\",\"B - B24 - B24B\",\"B - B24 - B24C\",\"B - B24 - B24D\",\"B - B25\",\"B - B25 - B25B\",\"B - B25 - B25C\",\"B - B25 - B25D\",\"B - B25 - B25F\",\"B - B25 - B25G\",\"B - B25 - B25H\",\"B - B25 - B25J\",\"B - B26\",\"B - B26 - B26B\",\"B - B26 - B26D\",\"B - B26 - B26F\",\"B - B27\",\"B - B27 - B27B\",\"B - B27 - B27C\",\"B - B27 - B27D\",\"B - B27 - B27F\",\"B - B27 - B27G\",\"B - B27 - B27H\",\"B - B27 - B27J\",\"B - B27 - B27K\",\"B - B27 - B27L\",\"B - B27 - B27M\",\"B - B27 - B27N\",\"B - B28\",\"B - B28 - B28B\",\"B - B28 - B28C\",\"B - B28 - B28D\",\"B - B29\",\"B - B29 - B29B\",\"B - B29 - B29C\",\"B - B29 - B29D\",\"B - B29 - B29K\",\"B - B29 - B29L\",\"B - B30\",\"B - B30 - B30B\",\"B - B31\",\"B - B31 - B31B\",\"B - B31 - B31C\",\"B - B31 - B31D\",\"B - B31 - B31F\",\"B - B32\",\"B - B32 - B32B\",\"B - B33\",\"B - B33 - B33Y\",\"B - B41\",\"B - B41 - B41B\",\"B - B41 - B41C\",\"B - B41 - B41D\",\"B - B41 - B41F\",\"B - B41 - B41G\",\"B - B41 - B41J\",\"B - B41 - B41K\",\"B - B41 - B41L\",\"B - B41 - B41M\",\"B - B41 - B41N\",\"B - B42\",\"B - B42 - B42B\",\"B - B42 - B42C\",\"B - B42 - B42D\",\"B - B42 - B42F\",\"B - B43\",\"B - B43 - B43K\",\"B - B43 - B43L\",\"B - B43 - B43M\",\"B - B44\",\"B - B44 - B44B\",\"B - B44 - B44C\",\"B - B44 - B44D\",\"B - B44 - B44F\",\"B - B60\",\"B - B60 - B60B\",\"B - B60 - B60C\",\"B - B60 - B60D\",\"B - B60 - B60F\",\"B - B60 - B60G\",\"B - B60 - B60H\",\"B - B60 - B60J\",\"B - B60 - B60K\",\"B - B60 - B60L\",\"B - B60 - B60M\",\"B - B60 - B60N\",\"B - B60 - B60P\",\"B - B60 - B60Q\",\"B - B60 - B60R\",\"B - B60 - B60S\",\"B - B60 - B60T\",\"B - B60 - B60V\",\"B - B60 - B60W\",\"B - B61\",\"B - B61 - B61B\",\"B - B61 - B61C\",\"B - B61 - B61D\",\"B - B61 - B61F\",\"B - B61 - B61G\",\"B - B61 - B61H\",\"B - B61 - B61J\",\"B - B61 - B61K\",\"B - B61 - B61L\",\"B - B62\",\"B - B62 - B62B\",\"B - B62 - B62C\",\"B - B62 - B62D\",\"B - B62 - B62H\",\"B - B62 - B62J\",\"B - B62 - B62K\",\"B - B62 - B62L\",\"B - B62 - B62M\",\"B - B63\",\"B - B63 - B63B\",\"B - B63 - B63C\",\"B - B63 - B63G\",\"B - B63 - B63H\",\"B - B63 - B63J\",\"B - B64\",\"B - B64 - B64B\",\"B - B64 - B64C\",\"B - B64 - B64D\",\"B - B64 - B64F\",\"B - B64 - B64G\",\"B - B64 - B64U\",\"B - B65\",\"B - B65 - B65B\",\"B - B65 - B65C\",\"B - B65 - B65D\",\"B - B65 - B65F\",\"B - B65 - B65G\",\"B - B65 - B65H\",\"B - B66\",\"B - B66 - B66B\",\"B - B66 - B66C\",\"B - B66 - B66D\",\"B - B66 - B66F\",\"B - B67\",\"B - B67 - B67B\",\"B - B67 - B67C\",\"B - B67 - B67D\",\"B - B68\",\"B - B68 - B68B\",\"B - B68 - B68C\",\"B - B68 - B68F\",\"B - B68 - B68G\",\"B - B81\",\"B - B81 - B81B\",\"B - B81 - B81C\",\"B - B82\",\"B - B82 - B82B\",\"B - B82 - B82Y\",\"B - B99\",\"B - B99 - B99Z\",\"C\",\"C - C01\",\"C - C01 - C01B\",\"C - C01 - C01C\",\"C - C01 - C01D\",\"C - C01 - C01F\",\"C - C01 - C01G\",\"C - C02\",\"C - C02 - C02F\",\"C - C03\",\"C - C03 - C03B\",\"C - C03 - C03C\",\"C - C04\",\"C - C04 - C04B\",\"C - C05\",\"C - C05 - C05B\",\"C - C05 - C05C\",\"C - C05 - C05D\",\"C - C05 - C05F\",\"C - C05 - C05G\",\"C - C06\",\"C - C06 - C06B\",\"C - C06 - C06C\",\"C - C06 - C06D\",\"C - C06 - C06F\",\"C - C07\",\"C - C07 - C07B\",\"C - C07 - C07C\",\"C - C07 - C07D\",\"C - C07 - C07F\",\"C - C07 - C07G\",\"C - C07 - C07H\",\"C - C07 - C07J\",\"C - C07 - C07K\",\"C - C08\",\"C - C08 - C08B\",\"C - C08 - C08C\",\"C - C08 - C08F\",\"C - C08 - C08G\",\"C - C08 - C08H\",\"C - C08 - C08J\",\"C - C08 - C08K\",\"C - C08 - C08L\",\"C - C09\",\"C - C09 - C09B\",\"C - C09 - C09C\",\"C - C09 - C09D\",\"C - C09 - C09F\",\"C - C09 - C09G\",\"C - C09 - C09H\",\"C - C09 - C09J\",\"C - C09 - C09K\",\"C - C10\",\"C - C10 - C10B\",\"C - C10 - C10C\",\"C - C10 - C10F\",\"C - C10 - C10G\",\"C - C10 - C10H\",\"C - C10 - C10J\",\"C - C10 - C10K\",\"C - C10 - C10L\",\"C - C10 - C10M\",\"C - C10 - C10N\",\"C - C11\",\"C - C11 - C11B\",\"C - C11 - C11C\",\"C - C11 - C11D\",\"C - C12\",\"C - C12 - C12C\",\"C - C12 - C12F\",\"C - C12 - C12G\",\"C - C12 - C12H\",\"C - C12 - C12J\",\"C - C12 - C12L\",\"C - C12 - C12M\",\"C - C12 - C12N\",\"C - C12 - C12P\",\"C - C12 - C12Q\",\"C - C12 - C12R\",\"C - C13\",\"C - C13 - C13B\",\"C - C13 - C13K\",\"C - C14\",\"C - C14 - C14B\",\"C - C14 - C14C\",\"C - C21\",\"C - C21 - C21B\",\"C - C21 - C21C\",\"C - C21 - C21D\",\"C - C22\",\"C - C22 - C22B\",\"C - C22 - C22C\",\"C - C22 - C22F\",\"C - C23\",\"C - C23 - C23C\",\"C - C23 - C23D\",\"C - C23 - C23F\",\"C - C23 - C23G\",\"C - C25\",\"C - C25 - C25B\",\"C - C25 - C25C\",\"C - C25 - C25D\",\"C - C25 - C25F\",\"C - C30\",\"C - C30 - C30B\",\"C - C40\",\"C - C40 - C40B\",\"C - C99\",\"C - C99 - C99Z\",\"D\",\"D - D01\",\"D - D01 - D01B\",\"D - D01 - D01C\",\"D - D01 - D01D\",\"D - D01 - D01F\",\"D - D01 - D01G\",\"D - D01 - D01H\",\"D - D02\",\"D - D02 - D02G\",\"D - D02 - D02H\",\"D - D02 - D02J\",\"D - D03\",\"D - D03 - D03C\",\"D - D03 - D03D\",\"D - D03 - D03J\",\"D - D04\",\"D - D04 - D04B\",\"D - D04 - D04C\",\"D - D04 - D04D\",\"D - D04 - D04G\",\"D - D04 - D04H\",\"D - D05\",\"D - D05 - D05B\",\"D - D05 - D05C\",\"D - D06\",\"D - D06 - D06B\",\"D - D06 - D06C\",\"D - D06 - D06F\",\"D - D06 - D06G\",\"D - D06 - D06H\",\"D - D06 - D06J\",\"D - D06 - D06L\",\"D - D06 - D06M\",\"D - D06 - D06N\",\"D - D06 - D06P\",\"D - D06 - D06Q\",\"D - D07\",\"D - D07 - D07B\",\"D - D21\",\"D - D21 - D21B\",\"D - D21 - D21C\",\"D - D21 - D21D\",\"D - D21 - D21F\",\"D - D21 - D21G\",\"D - D21 - D21H\",\"D - D21 - D21J\",\"D - D99\",\"D - D99 - D99Z\",\"E\",\"E - E01\",\"E - E01 - E01B\",\"E - E01 - E01C\",\"E - E01 - E01D\",\"E - E01 - E01F\",\"E - E01 - E01H\",\"E - E02\",\"E - E02 - E02B\",\"E - E02 - E02C\",\"E - E02 - E02D\",\"E - E02 - E02F\",\"E - E03\",\"E - E03 - E03B\",\"E - E03 - E03C\",\"E - E03 - E03D\",\"E - E03 - E03F\",\"E - E04\",\"E - E04 - E04B\",\"E - E04 - E04C\",\"E - E04 - E04D\",\"E - E04 - E04F\",\"E - E04 - E04G\",\"E - E04 - E04H\",\"E - E05\",\"E - E05 - E05B\",\"E - E05 - E05C\",\"E - E05 - E05D\",\"E - E05 - E05F\",\"E - E05 - E05G\",\"E - E06\",\"E - E06 - E06B\",\"E - E06 - E06C\",\"E - E21\",\"E - E21 - E21B\",\"E - E21 - E21C\",\"E - E21 - E21D\",\"E - E21 - E21F\",\"E - E99\",\"E - E99 - E99Z\",\"F\",\"F - F01\",\"F - F01 - F01B\",\"F - F01 - F01C\",\"F - F01 - F01D\",\"F - F01 - F01K\",\"F - F01 - F01L\",\"F - F01 - F01M\",\"F - F01 - F01N\",\"F - F01 - F01P\",\"F - F02\",\"F - F02 - F02B\",\"F - F02 - F02C\",\"F - F02 - F02D\",\"F - F02 - F02F\",\"F - F02 - F02G\",\"F - F02 - F02K\",\"F - F02 - F02M\",\"F - F02 - F02N\",\"F - F02 - F02P\",\"F - F03\",\"F - F03 - F03B\",\"F - F03 - F03C\",\"F - F03 - F03D\",\"F - F03 - F03G\",\"F - F03 - F03H\",\"F - F04\",\"F - F04 - F04B\",\"F - F04 - F04C\",\"F - F04 - F04D\",\"F - F04 - F04F\",\"F - F15\",\"F - F15 - F15B\",\"F - F15 - F15C\",\"F - F15 - F15D\",\"F - F16\",\"F - F16 - F16B\",\"F - F16 - F16C\",\"F - F16 - F16D\",\"F - F16 - F16F\",\"F - F16 - F16G\",\"F - F16 - F16H\",\"F - F16 - F16J\",\"F - F16 - F16K\",\"F - F16 - F16L\",\"F - F16 - F16M\",\"F - F16 - F16N\",\"F - F16 - F16P\",\"F - F16 - F16S\",\"F - F16 - F16T\",\"F - F17\",\"F - F17 - F17B\",\"F - F17 - F17C\",\"F - F17 - F17D\",\"F - F21\",\"F - F21 - F21H\",\"F - F21 - F21K\",\"F - F21 - F21L\",\"F - F21 - F21S\",\"F - F21 - F21V\",\"F - F21 - F21W\",\"F - F21 - F21Y\",\"F - F22\",\"F - F22 - F22B\",\"F - F22 - F22D\",\"F - F22 - F22G\",\"F - F23\",\"F - F23 - F23B\",\"F - F23 - F23C\",\"F - F23 - F23D\",\"F - F23 - F23G\",\"F - F23 - F23H\",\"F - F23 - F23J\",\"F - F23 - F23K\",\"F - F23 - F23L\",\"F - F23 - F23M\",\"F - F23 - F23N\",\"F - F23 - F23Q\",\"F - F23 - F23R\",\"F - F24\",\"F - F24 - F24B\",\"F - F24 - F24C\",\"F - F24 - F24D\",\"F - F24 - F24F\",\"F - F24 - F24H\",\"F - F24 - F24S\",\"F - F24 - F24T\",\"F - F24 - F24V\",\"F - F25\",\"F - F25 - F25B\",\"F - F25 - F25C\",\"F - F25 - F25D\",\"F - F25 - F25J\",\"F - F26\",\"F - F26 - F26B\",\"F - F27\",\"F - F27 - F27B\",\"F - F27 - F27D\",\"F - F28\",\"F - F28 - F28B\",\"F - F28 - F28C\",\"F - F28 - F28D\",\"F - F28 - F28F\",\"F - F28 - F28G\",\"F - F41\",\"F - F41 - F41A\",\"F - F41 - F41B\",\"F - F41 - F41C\",\"F - F41 - F41F\",\"F - F41 - F41G\",\"F - F41 - F41H\",\"F - F41 - F41J\",\"F - F42\",\"F - F42 - F42B\",\"F - F42 - F42C\",\"F - F42 - F42D\",\"F - F99\",\"F - F99 - F99Z\",\"G\",\"G - G01\",\"G - G01 - G01B\",\"G - G01 - G01C\",\"G - G01 - G01D\",\"G - G01 - G01F\",\"G - G01 - G01G\",\"G - G01 - G01H\",\"G - G01 - G01J\",\"G - G01 - G01K\",\"G - G01 - G01L\",\"G - G01 - G01M\",\"G - G01 - G01N\",\"G - G01 - G01P\",\"G - G01 - G01Q\",\"G - G01 - G01R\",\"G - G01 - G01S\",\"G - G01 - G01T\",\"G - G01 - G01V\",\"G - G01 - G01W\",\"G - G02\",\"G - G02 - G02B\",\"G - G02 - G02C\",\"G - G02 - G02F\",\"G - G03\",\"G - G03 - G03B\",\"G - G03 - G03C\",\"G - G03 - G03D\",\"G - G03 - G03F\",\"G - G03 - G03G\",\"G - G03 - G03H\",\"G - G04\",\"G - G04 - G04B\",\"G - G04 - G04C\",\"G - G04 - G04D\",\"G - G04 - G04F\",\"G - G04 - G04G\",\"G - G04 - G04R\",\"G - G05\",\"G - G05 - G05B\",\"G - G05 - G05D\",\"G - G05 - G05F\",\"G - G05 - G05G\",\"G - G06\",\"G - G06 - G06C\",\"G - G06 - G06D\",\"G - G06 - G06E\",\"G - G06 - G06F\",\"G - G06 - G06G\",\"G - G06 - G06J\",\"G - G06 - G06K\",\"G - G06 - G06M\",\"G - G06 - G06N\",\"G - G06 - G06Q\",\"G - G06 - G06T\",\"G - G06 - G06V\",\"G - G07\",\"G - G07 - G07B\",\"G - G07 - G07C\",\"G - G07 - G07D\",\"G - G07 - G07F\",\"G - G07 - G07G\",\"G - G08\",\"G - G08 - G08B\",\"G - G08 - G08C\",\"G - G08 - G08G\",\"G - G09\",\"G - G09 - G09B\",\"G - G09 - G09C\",\"G - G09 - G09D\",\"G - G09 - G09F\",\"G - G09 - G09G\",\"G - G10\",\"G - G10 - G10B\",\"G - G10 - G10C\",\"G - G10 - G10D\",\"G - G10 - G10F\",\"G - G10 - G10G\",\"G - G10 - G10H\",\"G - G10 - G10K\",\"G - G10 - G10L\",\"G - G11\",\"G - G11 - G11B\",\"G - G11 - G11C\",\"G - G12\",\"G - G12 - G12B\",\"G - G16\",\"G - G16 - G16B\",\"G - G16 - G16C\",\"G - G16 - G16H\",\"G - G16 - G16Y\",\"G - G16 - G16Z\",\"G - G21\",\"G - G21 - G21B\",\"G - G21 - G21C\",\"G - G21 - G21D\",\"G - G21 - G21F\",\"G - G21 - G21G\",\"G - G21 - G21H\",\"G - G21 - G21J\",\"G - G21 - G21K\",\"G - G99\",\"G - G99 - G99Z\",\"H\",\"H - H01\",\"H - H01 - H01B\",\"H - H01 - H01C\",\"H - H01 - H01F\",\"H - H01 - H01G\",\"H - H01 - H01H\",\"H - H01 - H01J\",\"H - H01 - H01K\",\"H - H01 - H01L\",\"H - H01 - H01M\",\"H - H01 - H01P\",\"H - H01 - H01Q\",\"H - H01 - H01R\",\"H - H01 - H01S\",\"H - H01 - H01T\",\"H - H02\",\"H - H02 - H02B\",\"H - H02 - H02G\",\"H - H02 - H02H\",\"H - H02 - H02J\",\"H - H02 - H02K\",\"H - H02 - H02M\",\"H - H02 - H02N\",\"H - H02 - H02P\",\"H - H02 - H02S\",\"H - H03\",\"H - H03 - H03B\",\"H - H03 - H03C\",\"H - H03 - H03D\",\"H - H03 - H03F\",\"H - H03 - H03G\",\"H - H03 - H03H\",\"H - H03 - H03J\",\"H - H03 - H03K\",\"H - H03 - H03L\",\"H - H03 - H03M\",\"H - H04\",\"H - H04 - H04B\",\"H - H04 - H04H\",\"H - H04 - H04J\",\"H - H04 - H04K\",\"H - H04 - H04L\",\"H - H04 - H04M\",\"H - H04 - H04N\",\"H - H04 - H04Q\",\"H - H04 - H04R\",\"H - H04 - H04S\",\"H - H04 - H04W\",\"H - H05\",\"H - H05 - H05B\",\"H - H05 - H05C\",\"H - H05 - H05F\",\"H - H05 - H05G\",\"H - H05 - H05H\",\"H - H05 - H05K\",\"H - H10\",\"H - H10 - H10B\",\"H - H10 - H10D\",\"H - H10 - H10F\",\"H - H10 - H10H\",\"H - H10 - H10K\",\"H - H10 - H10N\",\"H - H99\",\"H - H99 - H99Z\"],\"labels\":[\"A\",\"A01\",\"A01B\",\"A01C\",\"A01D\",\"A01F\",\"A01G\",\"A01H\",\"A01J\",\"A01K\",\"A01L\",\"A01M\",\"A01N\",\"A01P\",\"A21\",\"A21B\",\"A21C\",\"A21D\",\"A22\",\"A22B\",\"A22C\",\"A23\",\"A23B\",\"A23C\",\"A23D\",\"A23F\",\"A23G\",\"A23J\",\"A23K\",\"A23L\",\"A23N\",\"A23P\",\"A24\",\"A24B\",\"A24C\",\"A24D\",\"A24F\",\"A41\",\"A41B\",\"A41C\",\"A41D\",\"A41F\",\"A41G\",\"A41H\",\"A42\",\"A42B\",\"A42C\",\"A43\",\"A43B\",\"A43C\",\"A43D\",\"A44\",\"A44B\",\"A44C\",\"A45\",\"A45B\",\"A45C\",\"A45D\",\"A45F\",\"A46\",\"A46B\",\"A46D\",\"A47\",\"A47B\",\"A47C\",\"A47D\",\"A47F\",\"A47G\",\"A47H\",\"A47J\",\"A47K\",\"A47L\",\"A61\",\"A61B\",\"A61C\",\"A61D\",\"A61F\",\"A61G\",\"A61H\",\"A61J\",\"A61K\",\"A61L\",\"A61M\",\"A61N\",\"A61P\",\"A61Q\",\"A62\",\"A62B\",\"A62C\",\"A62D\",\"A63\",\"A63B\",\"A63C\",\"A63D\",\"A63F\",\"A63G\",\"A63H\",\"A63J\",\"A63K\",\"A99\",\"A99Z\",\"B\",\"B01\",\"B01B\",\"B01D\",\"B01F\",\"B01J\",\"B01L\",\"B02\",\"B02B\",\"B02C\",\"B03\",\"B03B\",\"B03C\",\"B03D\",\"B04\",\"B04B\",\"B04C\",\"B05\",\"B05B\",\"B05C\",\"B05D\",\"B06\",\"B06B\",\"B07\",\"B07B\",\"B07C\",\"B08\",\"B08B\",\"B09\",\"B09B\",\"B09C\",\"B21\",\"B21B\",\"B21C\",\"B21D\",\"B21F\",\"B21G\",\"B21H\",\"B21J\",\"B21K\",\"B21L\",\"B22\",\"B22C\",\"B22D\",\"B22F\",\"B23\",\"B23B\",\"B23C\",\"B23D\",\"B23F\",\"B23G\",\"B23H\",\"B23K\",\"B23P\",\"B23Q\",\"B24\",\"B24B\",\"B24C\",\"B24D\",\"B25\",\"B25B\",\"B25C\",\"B25D\",\"B25F\",\"B25G\",\"B25H\",\"B25J\",\"B26\",\"B26B\",\"B26D\",\"B26F\",\"B27\",\"B27B\",\"B27C\",\"B27D\",\"B27F\",\"B27G\",\"B27H\",\"B27J\",\"B27K\",\"B27L\",\"B27M\",\"B27N\",\"B28\",\"B28B\",\"B28C\",\"B28D\",\"B29\",\"B29B\",\"B29C\",\"B29D\",\"B29K\",\"B29L\",\"B30\",\"B30B\",\"B31\",\"B31B\",\"B31C\",\"B31D\",\"B31F\",\"B32\",\"B32B\",\"B33\",\"B33Y\",\"B41\",\"B41B\",\"B41C\",\"B41D\",\"B41F\",\"B41G\",\"B41J\",\"B41K\",\"B41L\",\"B41M\",\"B41N\",\"B42\",\"B42B\",\"B42C\",\"B42D\",\"B42F\",\"B43\",\"B43K\",\"B43L\",\"B43M\",\"B44\",\"B44B\",\"B44C\",\"B44D\",\"B44F\",\"B60\",\"B60B\",\"B60C\",\"B60D\",\"B60F\",\"B60G\",\"B60H\",\"B60J\",\"B60K\",\"B60L\",\"B60M\",\"B60N\",\"B60P\",\"B60Q\",\"B60R\",\"B60S\",\"B60T\",\"B60V\",\"B60W\",\"B61\",\"B61B\",\"B61C\",\"B61D\",\"B61F\",\"B61G\",\"B61H\",\"B61J\",\"B61K\",\"B61L\",\"B62\",\"B62B\",\"B62C\",\"B62D\",\"B62H\",\"B62J\",\"B62K\",\"B62L\",\"B62M\",\"B63\",\"B63B\",\"B63C\",\"B63G\",\"B63H\",\"B63J\",\"B64\",\"B64B\",\"B64C\",\"B64D\",\"B64F\",\"B64G\",\"B64U\",\"B65\",\"B65B\",\"B65C\",\"B65D\",\"B65F\",\"B65G\",\"B65H\",\"B66\",\"B66B\",\"B66C\",\"B66D\",\"B66F\",\"B67\",\"B67B\",\"B67C\",\"B67D\",\"B68\",\"B68B\",\"B68C\",\"B68F\",\"B68G\",\"B81\",\"B81B\",\"B81C\",\"B82\",\"B82B\",\"B82Y\",\"B99\",\"B99Z\",\"C\",\"C01\",\"C01B\",\"C01C\",\"C01D\",\"C01F\",\"C01G\",\"C02\",\"C02F\",\"C03\",\"C03B\",\"C03C\",\"C04\",\"C04B\",\"C05\",\"C05B\",\"C05C\",\"C05D\",\"C05F\",\"C05G\",\"C06\",\"C06B\",\"C06C\",\"C06D\",\"C06F\",\"C07\",\"C07B\",\"C07C\",\"C07D\",\"C07F\",\"C07G\",\"C07H\",\"C07J\",\"C07K\",\"C08\",\"C08B\",\"C08C\",\"C08F\",\"C08G\",\"C08H\",\"C08J\",\"C08K\",\"C08L\",\"C09\",\"C09B\",\"C09C\",\"C09D\",\"C09F\",\"C09G\",\"C09H\",\"C09J\",\"C09K\",\"C10\",\"C10B\",\"C10C\",\"C10F\",\"C10G\",\"C10H\",\"C10J\",\"C10K\",\"C10L\",\"C10M\",\"C10N\",\"C11\",\"C11B\",\"C11C\",\"C11D\",\"C12\",\"C12C\",\"C12F\",\"C12G\",\"C12H\",\"C12J\",\"C12L\",\"C12M\",\"C12N\",\"C12P\",\"C12Q\",\"C12R\",\"C13\",\"C13B\",\"C13K\",\"C14\",\"C14B\",\"C14C\",\"C21\",\"C21B\",\"C21C\",\"C21D\",\"C22\",\"C22B\",\"C22C\",\"C22F\",\"C23\",\"C23C\",\"C23D\",\"C23F\",\"C23G\",\"C25\",\"C25B\",\"C25C\",\"C25D\",\"C25F\",\"C30\",\"C30B\",\"C40\",\"C40B\",\"C99\",\"C99Z\",\"D\",\"D01\",\"D01B\",\"D01C\",\"D01D\",\"D01F\",\"D01G\",\"D01H\",\"D02\",\"D02G\",\"D02H\",\"D02J\",\"D03\",\"D03C\",\"D03D\",\"D03J\",\"D04\",\"D04B\",\"D04C\",\"D04D\",\"D04G\",\"D04H\",\"D05\",\"D05B\",\"D05C\",\"D06\",\"D06B\",\"D06C\",\"D06F\",\"D06G\",\"D06H\",\"D06J\",\"D06L\",\"D06M\",\"D06N\",\"D06P\",\"D06Q\",\"D07\",\"D07B\",\"D21\",\"D21B\",\"D21C\",\"D21D\",\"D21F\",\"D21G\",\"D21H\",\"D21J\",\"D99\",\"D99Z\",\"E\",\"E01\",\"E01B\",\"E01C\",\"E01D\",\"E01F\",\"E01H\",\"E02\",\"E02B\",\"E02C\",\"E02D\",\"E02F\",\"E03\",\"E03B\",\"E03C\",\"E03D\",\"E03F\",\"E04\",\"E04B\",\"E04C\",\"E04D\",\"E04F\",\"E04G\",\"E04H\",\"E05\",\"E05B\",\"E05C\",\"E05D\",\"E05F\",\"E05G\",\"E06\",\"E06B\",\"E06C\",\"E21\",\"E21B\",\"E21C\",\"E21D\",\"E21F\",\"E99\",\"E99Z\",\"F\",\"F01\",\"F01B\",\"F01C\",\"F01D\",\"F01K\",\"F01L\",\"F01M\",\"F01N\",\"F01P\",\"F02\",\"F02B\",\"F02C\",\"F02D\",\"F02F\",\"F02G\",\"F02K\",\"F02M\",\"F02N\",\"F02P\",\"F03\",\"F03B\",\"F03C\",\"F03D\",\"F03G\",\"F03H\",\"F04\",\"F04B\",\"F04C\",\"F04D\",\"F04F\",\"F15\",\"F15B\",\"F15C\",\"F15D\",\"F16\",\"F16B\",\"F16C\",\"F16D\",\"F16F\",\"F16G\",\"F16H\",\"F16J\",\"F16K\",\"F16L\",\"F16M\",\"F16N\",\"F16P\",\"F16S\",\"F16T\",\"F17\",\"F17B\",\"F17C\",\"F17D\",\"F21\",\"F21H\",\"F21K\",\"F21L\",\"F21S\",\"F21V\",\"F21W\",\"F21Y\",\"F22\",\"F22B\",\"F22D\",\"F22G\",\"F23\",\"F23B\",\"F23C\",\"F23D\",\"F23G\",\"F23H\",\"F23J\",\"F23K\",\"F23L\",\"F23M\",\"F23N\",\"F23Q\",\"F23R\",\"F24\",\"F24B\",\"F24C\",\"F24D\",\"F24F\",\"F24H\",\"F24S\",\"F24T\",\"F24V\",\"F25\",\"F25B\",\"F25C\",\"F25D\",\"F25J\",\"F26\",\"F26B\",\"F27\",\"F27B\",\"F27D\",\"F28\",\"F28B\",\"F28C\",\"F28D\",\"F28F\",\"F28G\",\"F41\",\"F41A\",\"F41B\",\"F41C\",\"F41F\",\"F41G\",\"F41H\",\"F41J\",\"F42\",\"F42B\",\"F42C\",\"F42D\",\"F99\",\"F99Z\",\"G\",\"G01\",\"G01B\",\"G01C\",\"G01D\",\"G01F\",\"G01G\",\"G01H\",\"G01J\",\"G01K\",\"G01L\",\"G01M\",\"G01N\",\"G01P\",\"G01Q\",\"G01R\",\"G01S\",\"G01T\",\"G01V\",\"G01W\",\"G02\",\"G02B\",\"G02C\",\"G02F\",\"G03\",\"G03B\",\"G03C\",\"G03D\",\"G03F\",\"G03G\",\"G03H\",\"G04\",\"G04B\",\"G04C\",\"G04D\",\"G04F\",\"G04G\",\"G04R\",\"G05\",\"G05B\",\"G05D\",\"G05F\",\"G05G\",\"G06\",\"G06C\",\"G06D\",\"G06E\",\"G06F\",\"G06G\",\"G06J\",\"G06K\",\"G06M\",\"G06N\",\"G06Q\",\"G06T\",\"G06V\",\"G07\",\"G07B\",\"G07C\",\"G07D\",\"G07F\",\"G07G\",\"G08\",\"G08B\",\"G08C\",\"G08G\",\"G09\",\"G09B\",\"G09C\",\"G09D\",\"G09F\",\"G09G\",\"G10\",\"G10B\",\"G10C\",\"G10D\",\"G10F\",\"G10G\",\"G10H\",\"G10K\",\"G10L\",\"G11\",\"G11B\",\"G11C\",\"G12\",\"G12B\",\"G16\",\"G16B\",\"G16C\",\"G16H\",\"G16Y\",\"G16Z\",\"G21\",\"G21B\",\"G21C\",\"G21D\",\"G21F\",\"G21G\",\"G21H\",\"G21J\",\"G21K\",\"G99\",\"G99Z\",\"H\",\"H01\",\"H01B\",\"H01C\",\"H01F\",\"H01G\",\"H01H\",\"H01J\",\"H01K\",\"H01L\",\"H01M\",\"H01P\",\"H01Q\",\"H01R\",\"H01S\",\"H01T\",\"H02\",\"H02B\",\"H02G\",\"H02H\",\"H02J\",\"H02K\",\"H02M\",\"H02N\",\"H02P\",\"H02S\",\"H03\",\"H03B\",\"H03C\",\"H03D\",\"H03F\",\"H03G\",\"H03H\",\"H03J\",\"H03K\",\"H03L\",\"H03M\",\"H04\",\"H04B\",\"H04H\",\"H04J\",\"H04K\",\"H04L\",\"H04M\",\"H04N\",\"H04Q\",\"H04R\",\"H04S\",\"H04W\",\"H05\",\"H05B\",\"H05C\",\"H05F\",\"H05G\",\"H05H\",\"H05K\",\"H10\",\"H10B\",\"H10D\",\"H10F\",\"H10H\",\"H10K\",\"H10N\",\"H99\",\"H99Z\"],\"marker\":{\"cmid\":1996.5,\"colorbar\":{\"title\":{\"text\":\"Creation Year\"}},\"colorscale\":[[0.0,\"rgb(0,104,55)\"],[0.1,\"rgb(26,152,80)\"],[0.2,\"rgb(102,189,99)\"],[0.3,\"rgb(166,217,106)\"],[0.4,\"rgb(217,239,139)\"],[0.5,\"rgb(255,255,191)\"],[0.6,\"rgb(254,224,139)\"],[0.7,\"rgb(253,174,97)\"],[0.8,\"rgb(244,109,67)\"],[0.9,\"rgb(215,48,39)\"],[1.0,\"rgb(165,0,38)\"]]},\"maxdepth\":4,\"parents\":[\"\",\"A\",\"A - A01\",\"A - A01\",\"A - A01\",\"A - A01\",\"A - A01\",\"A - A01\",\"A - A01\",\"A - A01\",\"A - A01\",\"A - A01\",\"A - A01\",\"A - A01\",\"A\",\"A - A21\",\"A - A21\",\"A - A21\",\"A\",\"A - A22\",\"A - A22\",\"A\",\"A - A23\",\"A - A23\",\"A - A23\",\"A - A23\",\"A - A23\",\"A - A23\",\"A - A23\",\"A - A23\",\"A - A23\",\"A - A23\",\"A\",\"A - A24\",\"A - A24\",\"A - A24\",\"A - A24\",\"A\",\"A - A41\",\"A - A41\",\"A - A41\",\"A - A41\",\"A - A41\",\"A - A41\",\"A\",\"A - A42\",\"A - A42\",\"A\",\"A - A43\",\"A - A43\",\"A - A43\",\"A\",\"A - A44\",\"A - A44\",\"A\",\"A - A45\",\"A - A45\",\"A - A45\",\"A - A45\",\"A\",\"A - A46\",\"A - A46\",\"A\",\"A - A47\",\"A - A47\",\"A - A47\",\"A - A47\",\"A - A47\",\"A - A47\",\"A - A47\",\"A - A47\",\"A - A47\",\"A\",\"A - A61\",\"A - A61\",\"A - A61\",\"A - A61\",\"A - A61\",\"A - A61\",\"A - A61\",\"A - A61\",\"A - A61\",\"A - A61\",\"A - A61\",\"A - A61\",\"A - A61\",\"A\",\"A - A62\",\"A - A62\",\"A - A62\",\"A\",\"A - A63\",\"A - A63\",\"A - A63\",\"A - A63\",\"A - A63\",\"A - A63\",\"A - A63\",\"A - A63\",\"A\",\"A - A99\",\"\",\"B\",\"B - B01\",\"B - B01\",\"B - B01\",\"B - B01\",\"B - B01\",\"B\",\"B - B02\",\"B - B02\",\"B\",\"B - B03\",\"B - B03\",\"B - B03\",\"B\",\"B - B04\",\"B - B04\",\"B\",\"B - B05\",\"B - B05\",\"B - B05\",\"B\",\"B - B06\",\"B\",\"B - B07\",\"B - B07\",\"B\",\"B - B08\",\"B\",\"B - B09\",\"B - B09\",\"B\",\"B - B21\",\"B - B21\",\"B - B21\",\"B - B21\",\"B - B21\",\"B - B21\",\"B - B21\",\"B - B21\",\"B - B21\",\"B\",\"B - B22\",\"B - B22\",\"B - B22\",\"B\",\"B - B23\",\"B - B23\",\"B - B23\",\"B - B23\",\"B - B23\",\"B - B23\",\"B - B23\",\"B - B23\",\"B - B23\",\"B\",\"B - B24\",\"B - B24\",\"B - B24\",\"B\",\"B - B25\",\"B - B25\",\"B - B25\",\"B - B25\",\"B - B25\",\"B - B25\",\"B - B25\",\"B\",\"B - B26\",\"B - B26\",\"B - B26\",\"B\",\"B - B27\",\"B - B27\",\"B - B27\",\"B - B27\",\"B - B27\",\"B - B27\",\"B - B27\",\"B - B27\",\"B - B27\",\"B - B27\",\"B - B27\",\"B\",\"B - B28\",\"B - B28\",\"B - B28\",\"B\",\"B - B29\",\"B - B29\",\"B - B29\",\"B - B29\",\"B - B29\",\"B\",\"B - B30\",\"B\",\"B - B31\",\"B - B31\",\"B - B31\",\"B - B31\",\"B\",\"B - B32\",\"B\",\"B - B33\",\"B\",\"B - B41\",\"B - B41\",\"B - B41\",\"B - B41\",\"B - B41\",\"B - B41\",\"B - B41\",\"B - B41\",\"B - B41\",\"B - B41\",\"B\",\"B - B42\",\"B - B42\",\"B - B42\",\"B - B42\",\"B\",\"B - B43\",\"B - B43\",\"B - B43\",\"B\",\"B - B44\",\"B - B44\",\"B - B44\",\"B - B44\",\"B\",\"B - B60\",\"B - B60\",\"B - B60\",\"B - B60\",\"B - B60\",\"B - B60\",\"B - B60\",\"B - B60\",\"B - B60\",\"B - B60\",\"B - B60\",\"B - B60\",\"B - B60\",\"B - B60\",\"B - B60\",\"B - B60\",\"B - B60\",\"B - B60\",\"B\",\"B - B61\",\"B - B61\",\"B - B61\",\"B - B61\",\"B - B61\",\"B - B61\",\"B - B61\",\"B - B61\",\"B - B61\",\"B\",\"B - B62\",\"B - B62\",\"B - B62\",\"B - B62\",\"B - B62\",\"B - B62\",\"B - B62\",\"B - B62\",\"B\",\"B - B63\",\"B - B63\",\"B - B63\",\"B - B63\",\"B - B63\",\"B\",\"B - B64\",\"B - B64\",\"B - B64\",\"B - B64\",\"B - B64\",\"B - B64\",\"B\",\"B - B65\",\"B - B65\",\"B - B65\",\"B - B65\",\"B - B65\",\"B - B65\",\"B\",\"B - B66\",\"B - B66\",\"B - B66\",\"B - B66\",\"B\",\"B - B67\",\"B - B67\",\"B - B67\",\"B\",\"B - B68\",\"B - B68\",\"B - B68\",\"B - B68\",\"B\",\"B - B81\",\"B - B81\",\"B\",\"B - B82\",\"B - B82\",\"B\",\"B - B99\",\"\",\"C\",\"C - C01\",\"C - C01\",\"C - C01\",\"C - C01\",\"C - C01\",\"C\",\"C - C02\",\"C\",\"C - C03\",\"C - C03\",\"C\",\"C - C04\",\"C\",\"C - C05\",\"C - C05\",\"C - C05\",\"C - C05\",\"C - C05\",\"C\",\"C - C06\",\"C - C06\",\"C - C06\",\"C - C06\",\"C\",\"C - C07\",\"C - C07\",\"C - C07\",\"C - C07\",\"C - C07\",\"C - C07\",\"C - C07\",\"C - C07\",\"C\",\"C - C08\",\"C - C08\",\"C - C08\",\"C - C08\",\"C - C08\",\"C - C08\",\"C - C08\",\"C - C08\",\"C\",\"C - C09\",\"C - C09\",\"C - C09\",\"C - C09\",\"C - C09\",\"C - C09\",\"C - C09\",\"C - C09\",\"C\",\"C - C10\",\"C - C10\",\"C - C10\",\"C - C10\",\"C - C10\",\"C - C10\",\"C - C10\",\"C - C10\",\"C - C10\",\"C - C10\",\"C\",\"C - C11\",\"C - C11\",\"C - C11\",\"C\",\"C - C12\",\"C - C12\",\"C - C12\",\"C - C12\",\"C - C12\",\"C - C12\",\"C - C12\",\"C - C12\",\"C - C12\",\"C - C12\",\"C - C12\",\"C\",\"C - C13\",\"C - C13\",\"C\",\"C - C14\",\"C - C14\",\"C\",\"C - C21\",\"C - C21\",\"C - C21\",\"C\",\"C - C22\",\"C - C22\",\"C - C22\",\"C\",\"C - C23\",\"C - C23\",\"C - C23\",\"C - C23\",\"C\",\"C - C25\",\"C - C25\",\"C - C25\",\"C - C25\",\"C\",\"C - C30\",\"C\",\"C - C40\",\"C\",\"C - C99\",\"\",\"D\",\"D - D01\",\"D - D01\",\"D - D01\",\"D - D01\",\"D - D01\",\"D - D01\",\"D\",\"D - D02\",\"D - D02\",\"D - D02\",\"D\",\"D - D03\",\"D - D03\",\"D - D03\",\"D\",\"D - D04\",\"D - D04\",\"D - D04\",\"D - D04\",\"D - D04\",\"D\",\"D - D05\",\"D - D05\",\"D\",\"D - D06\",\"D - D06\",\"D - D06\",\"D - D06\",\"D - D06\",\"D - D06\",\"D - D06\",\"D - D06\",\"D - D06\",\"D - D06\",\"D - D06\",\"D\",\"D - D07\",\"D\",\"D - D21\",\"D - D21\",\"D - D21\",\"D - D21\",\"D - D21\",\"D - D21\",\"D - D21\",\"D\",\"D - D99\",\"\",\"E\",\"E - E01\",\"E - E01\",\"E - E01\",\"E - E01\",\"E - E01\",\"E\",\"E - E02\",\"E - E02\",\"E - E02\",\"E - E02\",\"E\",\"E - E03\",\"E - E03\",\"E - E03\",\"E - E03\",\"E\",\"E - E04\",\"E - E04\",\"E - E04\",\"E - E04\",\"E - E04\",\"E - E04\",\"E\",\"E - E05\",\"E - E05\",\"E - E05\",\"E - E05\",\"E - E05\",\"E\",\"E - E06\",\"E - E06\",\"E\",\"E - E21\",\"E - E21\",\"E - E21\",\"E - E21\",\"E\",\"E - E99\",\"\",\"F\",\"F - F01\",\"F - F01\",\"F - F01\",\"F - F01\",\"F - F01\",\"F - F01\",\"F - F01\",\"F - F01\",\"F\",\"F - F02\",\"F - F02\",\"F - F02\",\"F - F02\",\"F - F02\",\"F - F02\",\"F - F02\",\"F - F02\",\"F - F02\",\"F\",\"F - F03\",\"F - F03\",\"F - F03\",\"F - F03\",\"F - F03\",\"F\",\"F - F04\",\"F - F04\",\"F - F04\",\"F - F04\",\"F\",\"F - F15\",\"F - F15\",\"F - F15\",\"F\",\"F - F16\",\"F - F16\",\"F - F16\",\"F - F16\",\"F - F16\",\"F - F16\",\"F - F16\",\"F - F16\",\"F - F16\",\"F - F16\",\"F - F16\",\"F - F16\",\"F - F16\",\"F - F16\",\"F\",\"F - F17\",\"F - F17\",\"F - F17\",\"F\",\"F - F21\",\"F - F21\",\"F - F21\",\"F - F21\",\"F - F21\",\"F - F21\",\"F - F21\",\"F\",\"F - F22\",\"F - F22\",\"F - F22\",\"F\",\"F - F23\",\"F - F23\",\"F - F23\",\"F - F23\",\"F - F23\",\"F - F23\",\"F - F23\",\"F - F23\",\"F - F23\",\"F - F23\",\"F - F23\",\"F - F23\",\"F\",\"F - F24\",\"F - F24\",\"F - F24\",\"F - F24\",\"F - F24\",\"F - F24\",\"F - F24\",\"F - F24\",\"F\",\"F - F25\",\"F - F25\",\"F - F25\",\"F - F25\",\"F\",\"F - F26\",\"F\",\"F - F27\",\"F - F27\",\"F\",\"F - F28\",\"F - F28\",\"F - F28\",\"F - F28\",\"F - F28\",\"F\",\"F - F41\",\"F - F41\",\"F - F41\",\"F - F41\",\"F - F41\",\"F - F41\",\"F - F41\",\"F\",\"F - F42\",\"F - F42\",\"F - F42\",\"F\",\"F - F99\",\"\",\"G\",\"G - G01\",\"G - G01\",\"G - G01\",\"G - G01\",\"G - G01\",\"G - G01\",\"G - G01\",\"G - G01\",\"G - G01\",\"G - G01\",\"G - G01\",\"G - G01\",\"G - G01\",\"G - G01\",\"G - G01\",\"G - G01\",\"G - G01\",\"G - G01\",\"G\",\"G - G02\",\"G - G02\",\"G - G02\",\"G\",\"G - G03\",\"G - G03\",\"G - G03\",\"G - G03\",\"G - G03\",\"G - G03\",\"G\",\"G - G04\",\"G - G04\",\"G - G04\",\"G - G04\",\"G - G04\",\"G - G04\",\"G\",\"G - G05\",\"G - G05\",\"G - G05\",\"G - G05\",\"G\",\"G - G06\",\"G - G06\",\"G - G06\",\"G - G06\",\"G - G06\",\"G - G06\",\"G - G06\",\"G - G06\",\"G - G06\",\"G - G06\",\"G - G06\",\"G - G06\",\"G\",\"G - G07\",\"G - G07\",\"G - G07\",\"G - G07\",\"G - G07\",\"G\",\"G - G08\",\"G - G08\",\"G - G08\",\"G\",\"G - G09\",\"G - G09\",\"G - G09\",\"G - G09\",\"G - G09\",\"G\",\"G - G10\",\"G - G10\",\"G - G10\",\"G - G10\",\"G - G10\",\"G - G10\",\"G - G10\",\"G - G10\",\"G\",\"G - G11\",\"G - G11\",\"G\",\"G - G12\",\"G\",\"G - G16\",\"G - G16\",\"G - G16\",\"G - G16\",\"G - G16\",\"G\",\"G - G21\",\"G - G21\",\"G - G21\",\"G - G21\",\"G - G21\",\"G - G21\",\"G - G21\",\"G - G21\",\"G\",\"G - G99\",\"\",\"H\",\"H - H01\",\"H - H01\",\"H - H01\",\"H - H01\",\"H - H01\",\"H - H01\",\"H - H01\",\"H - H01\",\"H - H01\",\"H - H01\",\"H - H01\",\"H - H01\",\"H - H01\",\"H - H01\",\"H\",\"H - H02\",\"H - H02\",\"H - H02\",\"H - H02\",\"H - H02\",\"H - H02\",\"H - H02\",\"H - H02\",\"H - H02\",\"H\",\"H - H03\",\"H - H03\",\"H - H03\",\"H - H03\",\"H - H03\",\"H - H03\",\"H - H03\",\"H - H03\",\"H - H03\",\"H - H03\",\"H\",\"H - H04\",\"H - H04\",\"H - H04\",\"H - H04\",\"H - H04\",\"H - H04\",\"H - H04\",\"H - H04\",\"H - H04\",\"H - H04\",\"H - H04\",\"H\",\"H - H05\",\"H - H05\",\"H - H05\",\"H - H05\",\"H - H05\",\"H - H05\",\"H\",\"H - H10\",\"H - H10\",\"H - H10\",\"H - H10\",\"H - H10\",\"H - H10\",\"H\",\"H - H99\"],\"values\":{\"dtype\":\"i2\",\"bdata\":\"hyZ4BuAANgBAAVgAsQBDAEcA9AASAEoAJAEPAKgAJQAwAFAAQQAUACsAQgPXAFQADQAuAGEAHwBGAL8ALwAeABYBOQA\\u002fABYAhAADATgAFABgAB8ACwAnAFUARQAOAKYBvwA3AK0AggBiAB4AmgEzAEYA+QAkAEUALgAVAHcFCwEHARoATQCYAEYAwgBxAOQANwuoAZkAFwDfAFEAKQAlAH4EuAAeATAAqwAlANQANQBsADAA2wNKAYIAGwCgAGEA0wASAAYAAgABAN1HyAUFADgCeAH2ARgAsAARAJ0AwAA4AF8AJgBcADcAIwAdAaEARgAzAA8ADgB6AEcAMQBJAEgAOgAyAAYA2QPDAHgANAFHAB8AJABYAGMAHAC\\u002fAXEAtgCVAL8E3AA2APAASwAyADMAGgE6ALAAigEkASAAQwA\\u002fAXwAGgA5AAYAHAATADQA7gBiAGkAIABvAYAAGgAKACUAHwALAAUAJAAaABkAFQDoAJkAMgAaANYEUwDOAlUAJgE1AFkAWACvAHMAFQALABgAwgDBAAwACwA6BtkAEgAfACIBBgBPAkcA+gBQAB4A2AAUABgAVgBSAOgAfwBTABMAWwAQACAAEQAWAFQHlQCMACUABgB7ABYAZQCiALoAHgBcAGEAXgDuADwAwwATAGsAQAIeAEQAWQBZAEsAJQAPACAAhAA4A0kAEgAeARsApABwABkAbwDmAokBWgArAMUADgDcAiQAAwHHACkAIgCdABoJnwEzAD0DGwDwAfoB5QGMAMEASwBJAJoAQwAYADwAUwAeAA4ABAAfAAsABgADAA0AAgAJAAIAAQArO6oDugEhAFIAtgDCAIgAhwD\\u002fATMBygDBAcABfwAcAAwACwAsABsAngB1AAgACAAVAKsULQCjC5UGnAAIAGkAGQAYAZ8HbQAsAOUCzgEIAF0AxwAfAXIGZAIpAHUBFQALAAoANAEKAa0EsAAXAAkAOwE2ADwAFgBjAHABPQDoABsAEAC6AAEDOAAHACAAGgAGAAMAIQDuAJMAUACCAD0AMAALAGAAPgAgANcAMAAjAIEAYQGbALEAEgCeASsBFAA8AB8AawGIACgAmgAdAKsAqgAqACkAAgABAOQMHQIuAAYANgB6AHIAwQBbACQAHAAYAEIBQwDeAB4AwQHjAC8AEAAJAJEAHwHXAEYALgRWACgAgAEFABoABwAwADsBEAB8AAgAJwAmAOoBFAA0ACUAVgAIAAQBFAACAAEAnA0FAuMAfwAzAEgAIwBpAUoACQC0AF4A4QA8ADkASgAeAM8CoQBOAFUAYgCOAJUAjgJNAV0ATwCDAA0AKQHcAEsAvQJxAYwAigAyAAIAAQCFJccCaQBYAHUAXwCRACkAPgAyAKYE8ABzAGkAKAARAHgArQEqAEkAuwAzACQAPgAeAAMARAIQAYoAcwAzAJYAcwAYAAgAhQqvAM0AAAKuAFEAAwJtAA4BxQEpAFYAFAAOABgAVQAQACMAHwAKAgUAJQAUAI0AxgBPACMAEQGyAD8AHQAlAiQANQBrACcANgAdABsAIAAeABkASAAhAPkCMwA6AD0AEwGbAIsACQAFANUAcAAkADUACACDAIIAwQCHADgAzQATABMAKwBaAB0A4QKSAUkAKwAWAFEAOwAyAJUBHQFXAB4AAgABAFglPwy5ALoAngCzALEAGgB5AIgAkgBcAE4CZgA\\u002fAIoBeQE+AG8ADADBAToBJgBeAD4DXAHFACEAbAB2ABQAjQGrAF8AFQAoACQAHAAMAncA7ABTAFIAAQZBAAoABQDwAkkAAwBZACwAQwB4AJsAjgAsASYAOABYAGgACQD6AH0ALgBMAJUBmgAPAAgAggBdAMoBEgAgAFEAEQAJAD4ATACbAM4CCALEAB8AHgB+ACUADwAjACEAAQB\\u002fAQ0A5gAaADgADwAMAAQAEwACAAEA5SibD6QAbwDeAJoAOQPeAkUAvwBLAloAwwCKAasASgA9BUkAXQBRAFEAxwHJABgAHwElAFMERwA\\u002fADkAZwA\\u002fAHkAQwB5AS0AggBiCxwBlQAvAAcA7wLpAGIDbABjAAYAYQHSARkBBQAHACYAQgA\\u002fAH0CNgCSAGMAPACkAGwAAgABAA==\"},\"type\":\"sunburst\"}],                        {\"template\":{\"data\":{\"histogram2dcontour\":[{\"type\":\"histogram2dcontour\",\"colorbar\":{\"outlinewidth\":0,\"ticks\":\"\"},\"colorscale\":[[0.0,\"#0d0887\"],[0.1111111111111111,\"#46039f\"],[0.2222222222222222,\"#7201a8\"],[0.3333333333333333,\"#9c179e\"],[0.4444444444444444,\"#bd3786\"],[0.5555555555555556,\"#d8576b\"],[0.6666666666666666,\"#ed7953\"],[0.7777777777777778,\"#fb9f3a\"],[0.8888888888888888,\"#fdca26\"],[1.0,\"#f0f921\"]]}],\"choropleth\":[{\"type\":\"choropleth\",\"colorbar\":{\"outlinewidth\":0,\"ticks\":\"\"}}],\"histogram2d\":[{\"type\":\"histogram2d\",\"colorbar\":{\"outlinewidth\":0,\"ticks\":\"\"},\"colorscale\":[[0.0,\"#0d0887\"],[0.1111111111111111,\"#46039f\"],[0.2222222222222222,\"#7201a8\"],[0.3333333333333333,\"#9c179e\"],[0.4444444444444444,\"#bd3786\"],[0.5555555555555556,\"#d8576b\"],[0.6666666666666666,\"#ed7953\"],[0.7777777777777778,\"#fb9f3a\"],[0.8888888888888888,\"#fdca26\"],[1.0,\"#f0f921\"]]}],\"heatmap\":[{\"type\":\"heatmap\",\"colorbar\":{\"outlinewidth\":0,\"ticks\":\"\"},\"colorscale\":[[0.0,\"#0d0887\"],[0.1111111111111111,\"#46039f\"],[0.2222222222222222,\"#7201a8\"],[0.3333333333333333,\"#9c179e\"],[0.4444444444444444,\"#bd3786\"],[0.5555555555555556,\"#d8576b\"],[0.6666666666666666,\"#ed7953\"],[0.7777777777777778,\"#fb9f3a\"],[0.8888888888888888,\"#fdca26\"],[1.0,\"#f0f921\"]]}],\"contourcarpet\":[{\"type\":\"contourcarpet\",\"colorbar\":{\"outlinewidth\":0,\"ticks\":\"\"}}],\"contour\":[{\"type\":\"contour\",\"colorbar\":{\"outlinewidth\":0,\"ticks\":\"\"},\"colorscale\":[[0.0,\"#0d0887\"],[0.1111111111111111,\"#46039f\"],[0.2222222222222222,\"#7201a8\"],[0.3333333333333333,\"#9c179e\"],[0.4444444444444444,\"#bd3786\"],[0.5555555555555556,\"#d8576b\"],[0.6666666666666666,\"#ed7953\"],[0.7777777777777778,\"#fb9f3a\"],[0.8888888888888888,\"#fdca26\"],[1.0,\"#f0f921\"]]}],\"surface\":[{\"type\":\"surface\",\"colorbar\":{\"outlinewidth\":0,\"ticks\":\"\"},\"colorscale\":[[0.0,\"#0d0887\"],[0.1111111111111111,\"#46039f\"],[0.2222222222222222,\"#7201a8\"],[0.3333333333333333,\"#9c179e\"],[0.4444444444444444,\"#bd3786\"],[0.5555555555555556,\"#d8576b\"],[0.6666666666666666,\"#ed7953\"],[0.7777777777777778,\"#fb9f3a\"],[0.8888888888888888,\"#fdca26\"],[1.0,\"#f0f921\"]]}],\"mesh3d\":[{\"type\":\"mesh3d\",\"colorbar\":{\"outlinewidth\":0,\"ticks\":\"\"}}],\"scatter\":[{\"fillpattern\":{\"fillmode\":\"overlay\",\"size\":10,\"solidity\":0.2},\"type\":\"scatter\"}],\"parcoords\":[{\"type\":\"parcoords\",\"line\":{\"colorbar\":{\"outlinewidth\":0,\"ticks\":\"\"}}}],\"scatterpolargl\":[{\"type\":\"scatterpolargl\",\"marker\":{\"colorbar\":{\"outlinewidth\":0,\"ticks\":\"\"}}}],\"bar\":[{\"error_x\":{\"color\":\"#2a3f5f\"},\"error_y\":{\"color\":\"#2a3f5f\"},\"marker\":{\"line\":{\"color\":\"#E5ECF6\",\"width\":0.5},\"pattern\":{\"fillmode\":\"overlay\",\"size\":10,\"solidity\":0.2}},\"type\":\"bar\"}],\"scattergeo\":[{\"type\":\"scattergeo\",\"marker\":{\"colorbar\":{\"outlinewidth\":0,\"ticks\":\"\"}}}],\"scatterpolar\":[{\"type\":\"scatterpolar\",\"marker\":{\"colorbar\":{\"outlinewidth\":0,\"ticks\":\"\"}}}],\"histogram\":[{\"marker\":{\"pattern\":{\"fillmode\":\"overlay\",\"size\":10,\"solidity\":0.2}},\"type\":\"histogram\"}],\"scattergl\":[{\"type\":\"scattergl\",\"marker\":{\"colorbar\":{\"outlinewidth\":0,\"ticks\":\"\"}}}],\"scatter3d\":[{\"type\":\"scatter3d\",\"line\":{\"colorbar\":{\"outlinewidth\":0,\"ticks\":\"\"}},\"marker\":{\"colorbar\":{\"outlinewidth\":0,\"ticks\":\"\"}}}],\"scattermap\":[{\"type\":\"scattermap\",\"marker\":{\"colorbar\":{\"outlinewidth\":0,\"ticks\":\"\"}}}],\"scattermapbox\":[{\"type\":\"scattermapbox\",\"marker\":{\"colorbar\":{\"outlinewidth\":0,\"ticks\":\"\"}}}],\"scatterternary\":[{\"type\":\"scatterternary\",\"marker\":{\"colorbar\":{\"outlinewidth\":0,\"ticks\":\"\"}}}],\"scattercarpet\":[{\"type\":\"scattercarpet\",\"marker\":{\"colorbar\":{\"outlinewidth\":0,\"ticks\":\"\"}}}],\"carpet\":[{\"aaxis\":{\"endlinecolor\":\"#2a3f5f\",\"gridcolor\":\"white\",\"linecolor\":\"white\",\"minorgridcolor\":\"white\",\"startlinecolor\":\"#2a3f5f\"},\"baxis\":{\"endlinecolor\":\"#2a3f5f\",\"gridcolor\":\"white\",\"linecolor\":\"white\",\"minorgridcolor\":\"white\",\"startlinecolor\":\"#2a3f5f\"},\"type\":\"carpet\"}],\"table\":[{\"cells\":{\"fill\":{\"color\":\"#EBF0F8\"},\"line\":{\"color\":\"white\"}},\"header\":{\"fill\":{\"color\":\"#C8D4E3\"},\"line\":{\"color\":\"white\"}},\"type\":\"table\"}],\"barpolar\":[{\"marker\":{\"line\":{\"color\":\"#E5ECF6\",\"width\":0.5},\"pattern\":{\"fillmode\":\"overlay\",\"size\":10,\"solidity\":0.2}},\"type\":\"barpolar\"}],\"pie\":[{\"automargin\":true,\"type\":\"pie\"}]},\"layout\":{\"autotypenumbers\":\"strict\",\"colorway\":[\"#636efa\",\"#EF553B\",\"#00cc96\",\"#ab63fa\",\"#FFA15A\",\"#19d3f3\",\"#FF6692\",\"#B6E880\",\"#FF97FF\",\"#FECB52\"],\"font\":{\"color\":\"#2a3f5f\"},\"hovermode\":\"closest\",\"hoverlabel\":{\"align\":\"left\"},\"paper_bgcolor\":\"white\",\"plot_bgcolor\":\"#E5ECF6\",\"polar\":{\"bgcolor\":\"#E5ECF6\",\"angularaxis\":{\"gridcolor\":\"white\",\"linecolor\":\"white\",\"ticks\":\"\"},\"radialaxis\":{\"gridcolor\":\"white\",\"linecolor\":\"white\",\"ticks\":\"\"}},\"ternary\":{\"bgcolor\":\"#E5ECF6\",\"aaxis\":{\"gridcolor\":\"white\",\"linecolor\":\"white\",\"ticks\":\"\"},\"baxis\":{\"gridcolor\":\"white\",\"linecolor\":\"white\",\"ticks\":\"\"},\"caxis\":{\"gridcolor\":\"white\",\"linecolor\":\"white\",\"ticks\":\"\"}},\"coloraxis\":{\"colorbar\":{\"outlinewidth\":0,\"ticks\":\"\"}},\"colorscale\":{\"sequential\":[[0.0,\"#0d0887\"],[0.1111111111111111,\"#46039f\"],[0.2222222222222222,\"#7201a8\"],[0.3333333333333333,\"#9c179e\"],[0.4444444444444444,\"#bd3786\"],[0.5555555555555556,\"#d8576b\"],[0.6666666666666666,\"#ed7953\"],[0.7777777777777778,\"#fb9f3a\"],[0.8888888888888888,\"#fdca26\"],[1.0,\"#f0f921\"]],\"sequentialminus\":[[0.0,\"#0d0887\"],[0.1111111111111111,\"#46039f\"],[0.2222222222222222,\"#7201a8\"],[0.3333333333333333,\"#9c179e\"],[0.4444444444444444,\"#bd3786\"],[0.5555555555555556,\"#d8576b\"],[0.6666666666666666,\"#ed7953\"],[0.7777777777777778,\"#fb9f3a\"],[0.8888888888888888,\"#fdca26\"],[1.0,\"#f0f921\"]],\"diverging\":[[0,\"#8e0152\"],[0.1,\"#c51b7d\"],[0.2,\"#de77ae\"],[0.3,\"#f1b6da\"],[0.4,\"#fde0ef\"],[0.5,\"#f7f7f7\"],[0.6,\"#e6f5d0\"],[0.7,\"#b8e186\"],[0.8,\"#7fbc41\"],[0.9,\"#4d9221\"],[1,\"#276419\"]]},\"xaxis\":{\"gridcolor\":\"white\",\"linecolor\":\"white\",\"ticks\":\"\",\"title\":{\"standoff\":15},\"zerolinecolor\":\"white\",\"automargin\":true,\"zerolinewidth\":2},\"yaxis\":{\"gridcolor\":\"white\",\"linecolor\":\"white\",\"ticks\":\"\",\"title\":{\"standoff\":15},\"zerolinecolor\":\"white\",\"automargin\":true,\"zerolinewidth\":2},\"scene\":{\"xaxis\":{\"backgroundcolor\":\"#E5ECF6\",\"gridcolor\":\"white\",\"linecolor\":\"white\",\"showbackground\":true,\"ticks\":\"\",\"zerolinecolor\":\"white\",\"gridwidth\":2},\"yaxis\":{\"backgroundcolor\":\"#E5ECF6\",\"gridcolor\":\"white\",\"linecolor\":\"white\",\"showbackground\":true,\"ticks\":\"\",\"zerolinecolor\":\"white\",\"gridwidth\":2},\"zaxis\":{\"backgroundcolor\":\"#E5ECF6\",\"gridcolor\":\"white\",\"linecolor\":\"white\",\"showbackground\":true,\"ticks\":\"\",\"zerolinecolor\":\"white\",\"gridwidth\":2}},\"shapedefaults\":{\"line\":{\"color\":\"#2a3f5f\"}},\"annotationdefaults\":{\"arrowcolor\":\"#2a3f5f\",\"arrowhead\":0,\"arrowwidth\":1},\"geo\":{\"bgcolor\":\"white\",\"landcolor\":\"#E5ECF6\",\"subunitcolor\":\"white\",\"showland\":true,\"showlakes\":true,\"lakecolor\":\"white\"},\"title\":{\"x\":0.05},\"mapbox\":{\"style\":\"light\"}}},\"title\":{\"text\":\"IPC Classification Hierarchy - Sunburst View\",\"x\":0.5},\"font\":{\"size\":12},\"width\":800,\"height\":800},                        {\"responsive\": true}                    ).then(function(){\n",
       "                            \n",
       "var gd = document.getElementById('d181fdb8-e23a-4ab9-9bb4-629a63f3cd60');\n",
       "var x = new MutationObserver(function (mutations, observer) {{\n",
       "        var display = window.getComputedStyle(gd).display;\n",
       "        if (!display || display === 'none') {{\n",
       "            console.log([gd, 'removed!']);\n",
       "            Plotly.purge(gd);\n",
       "            observer.disconnect();\n",
       "        }}\n",
       "}});\n",
       "\n",
       "// Listen for the removal of the full notebook cells\n",
       "var notebookContainer = gd.closest('#notebook-container');\n",
       "if (notebookContainer) {{\n",
       "    x.observe(notebookContainer, {childList: true});\n",
       "}}\n",
       "\n",
       "// Listen for the clearing of the current output cell\n",
       "var outputEl = gd.closest('.output');\n",
       "if (outputEl) {{\n",
       "    x.observe(outputEl, {childList: true});\n",
       "}}\n",
       "\n",
       "                        })                };            </script>        </div>"
      ]
     },
     "metadata": {},
     "output_type": "display_data"
    },
    {
     "name": "stdout",
     "output_type": "stream",
     "text": [
      "✓ Sunburst chart created successfully\n"
     ]
    }
   ],
   "source": [
    "def create_sunburst_chart(self, title=\"IPC Classification Hierarchy - Sunburst View\"):\n",
    "    \"\"\"Create an interactive sunburst chart for IPC classification hierarchy\"\"\"\n",
    "    if self.viz_data is None:\n",
    "        print(\"✗ No visualization data available. Please run prepare_data() first.\")\n",
    "        return None\n",
    "        \n",
    "    try:\n",
    "        # Prepare data for sunburst\n",
    "        sunburst_data = []\n",
    "        \n",
    "        for _, row in self.viz_data.iterrows():\n",
    "            path = row['hierarchy_path']\n",
    "            \n",
    "            # Add each level of the hierarchy\n",
    "            for i in range(len(path)):\n",
    "                current_path = path[:i+1]\n",
    "                parent_path = path[:i] if i > 0 else []\n",
    "                \n",
    "                sunburst_data.append({\n",
    "                    'ids': ' - '.join(current_path),\n",
    "                    'labels': path[i],\n",
    "                    'parents': ' - '.join(parent_path) if parent_path else '',\n",
    "                    'values': row['size'] if i == len(path)-1 else 1,\n",
    "                    'creation_year': row['creation_year'],\n",
    "                    'title': row['title_display'] if i == len(path)-1 else '',\n",
    "                    'level': row['level'] if i == len(path)-1 else i+2,\n",
    "                    'size_percent': row['size_percent'] if i == len(path)-1 else 0\n",
    "                })\n",
    "        \n",
    "        # Remove duplicates\n",
    "        sunburst_df = pd.DataFrame(sunburst_data).drop_duplicates(subset=['ids'])\n",
    "        \n",
    "        # Create color scale based on creation year\n",
    "        min_year = sunburst_df['creation_year'].min()\n",
    "        max_year = sunburst_df['creation_year'].max()\n",
    "        \n",
    "        fig = go.Figure(go.Sunburst(\n",
    "            ids=sunburst_df['ids'],\n",
    "            labels=sunburst_df['labels'],\n",
    "            parents=sunburst_df['parents'],\n",
    "            values=sunburst_df['values'],\n",
    "            branchvalues=\"total\",\n",
    "            hovertemplate='<b>%{label}</b><br>' +\n",
    "                         'Created: %{customdata[0]}<br>' +\n",
    "                         'Groups: %{customdata[1]}<br>' +\n",
    "                         'Percentage: %{customdata[2]:.3f}%<br>' +\n",
    "                         'Title: %{customdata[3]}<extra></extra>',\n",
    "            customdata=np.column_stack((\n",
    "                sunburst_df['creation_year'],\n",
    "                sunburst_df['values'],\n",
    "                sunburst_df['size_percent'],\n",
    "                sunburst_df['title']\n",
    "            )),\n",
    "            marker=dict(\n",
    "                colorscale='RdYlGn_r',  # Brown to Green (similar to original)\n",
    "                cmid=(min_year + max_year) / 2,\n",
    "                colorbar=dict(\n",
    "                    title=\"Creation Year\"\n",
    "                )\n",
    "            ),\n",
    "            maxdepth=4,\n",
    "        ))\n",
    "        \n",
    "        fig.update_layout(\n",
    "            title=title,\n",
    "            title_x=0.5,\n",
    "            width=800,\n",
    "            height=800,\n",
    "            font_size=12\n",
    "        )\n",
    "        \n",
    "        return fig\n",
    "        \n",
    "    except Exception as e:\n",
    "        print(f\"✗ Error creating sunburst chart: {e}\")\n",
    "        return None\n",
    "\n",
    "# Add method to class\n",
    "IPCVisualization.create_sunburst_chart = create_sunburst_chart\n",
    "\n",
    "# Create and display sunburst chart\n",
    "print(\"Creating Sunburst Chart...\")\n",
    "sunburst_fig = viz.create_sunburst_chart()\n",
    "if sunburst_fig:\n",
    "    sunburst_fig.show()\n",
    "    print(\"✓ Sunburst chart created successfully\")"
   ]
  },
  {
   "cell_type": "markdown",
   "metadata": {},
   "source": [
    "## Visualization 2: Treemap\n",
    "\n",
    "Treemap visualization showing the relative sizes of different classification areas."
   ]
  },
  {
   "cell_type": "code",
   "execution_count": 12,
   "metadata": {},
   "outputs": [
    {
     "name": "stdout",
     "output_type": "stream",
     "text": [
      "Creating Treemap Charts...\n"
     ]
    },
    {
     "data": {
      "application/vnd.plotly.v1+json": {
       "config": {
        "plotlyServerURL": "https://plot.ly"
       },
       "data": [
        {
         "customdata": [
          [
           1968,
           23.047,
           "PERFORMING OPERATIONS; TRANSPORTING"
          ],
          [
           1968,
           18.975,
           "CHEMISTRY; METALLURGY"
          ],
          [
           1968,
           13.115,
           "ELECTRICITY"
          ],
          [
           1968,
           12.356,
           "HUMAN NECESSITIES"
          ],
          [
           1968,
           12.033,
           "MECHANICAL ENGINEERING; LIGHTING; HEATING; WEAPONS; BLASTING"
          ],
          [
           1968,
           11.976,
           "PHYSICS"
          ],
          [
           1968,
           4.365,
           "FIXED CONSTRUCTIONS"
          ],
          [
           1968,
           4.134,
           "TEXTILES; PAPER"
          ]
         ],
         "hovertemplate": "<b>%{label}</b><br>Created: %{customdata[0]}<br>Groups: %{value}<br>Percentage: %{customdata[1]:.3f}%<br>Title: %{customdata[2]}<extra></extra>",
         "labels": [
          "B",
          "C",
          "H",
          "A",
          "F",
          "G",
          "E",
          "D"
         ],
         "marker": {
          "colorbar": {
           "title": {
            "text": "Creation Year"
           }
          },
          "colorscale": [
           [
            0,
            "rgb(0,104,55)"
           ],
           [
            0.1,
            "rgb(26,152,80)"
           ],
           [
            0.2,
            "rgb(102,189,99)"
           ],
           [
            0.3,
            "rgb(166,217,106)"
           ],
           [
            0.4,
            "rgb(217,239,139)"
           ],
           [
            0.5,
            "rgb(255,255,191)"
           ],
           [
            0.6,
            "rgb(254,224,139)"
           ],
           [
            0.7,
            "rgb(253,174,97)"
           ],
           [
            0.8,
            "rgb(244,109,67)"
           ],
           [
            0.9,
            "rgb(215,48,39)"
           ],
           [
            1,
            "rgb(165,0,38)"
           ]
          ]
         },
         "parents": [
          "IPC",
          "IPC",
          "IPC",
          "IPC",
          "IPC",
          "IPC",
          "IPC",
          "IPC"
         ],
         "textinfo": "label+value+percent parent",
         "type": "treemap",
         "values": {
          "bdata": "3UcrO+UohyaFJVglnA3kDA==",
          "dtype": "i2"
         }
        }
       ],
       "layout": {
        "font": {
         "size": 12
        },
        "height": 600,
        "template": {
         "data": {
          "bar": [
           {
            "error_x": {
             "color": "#2a3f5f"
            },
            "error_y": {
             "color": "#2a3f5f"
            },
            "marker": {
             "line": {
              "color": "#E5ECF6",
              "width": 0.5
             },
             "pattern": {
              "fillmode": "overlay",
              "size": 10,
              "solidity": 0.2
             }
            },
            "type": "bar"
           }
          ],
          "barpolar": [
           {
            "marker": {
             "line": {
              "color": "#E5ECF6",
              "width": 0.5
             },
             "pattern": {
              "fillmode": "overlay",
              "size": 10,
              "solidity": 0.2
             }
            },
            "type": "barpolar"
           }
          ],
          "carpet": [
           {
            "aaxis": {
             "endlinecolor": "#2a3f5f",
             "gridcolor": "white",
             "linecolor": "white",
             "minorgridcolor": "white",
             "startlinecolor": "#2a3f5f"
            },
            "baxis": {
             "endlinecolor": "#2a3f5f",
             "gridcolor": "white",
             "linecolor": "white",
             "minorgridcolor": "white",
             "startlinecolor": "#2a3f5f"
            },
            "type": "carpet"
           }
          ],
          "choropleth": [
           {
            "colorbar": {
             "outlinewidth": 0,
             "ticks": ""
            },
            "type": "choropleth"
           }
          ],
          "contour": [
           {
            "colorbar": {
             "outlinewidth": 0,
             "ticks": ""
            },
            "colorscale": [
             [
              0,
              "#0d0887"
             ],
             [
              0.1111111111111111,
              "#46039f"
             ],
             [
              0.2222222222222222,
              "#7201a8"
             ],
             [
              0.3333333333333333,
              "#9c179e"
             ],
             [
              0.4444444444444444,
              "#bd3786"
             ],
             [
              0.5555555555555556,
              "#d8576b"
             ],
             [
              0.6666666666666666,
              "#ed7953"
             ],
             [
              0.7777777777777778,
              "#fb9f3a"
             ],
             [
              0.8888888888888888,
              "#fdca26"
             ],
             [
              1,
              "#f0f921"
             ]
            ],
            "type": "contour"
           }
          ],
          "contourcarpet": [
           {
            "colorbar": {
             "outlinewidth": 0,
             "ticks": ""
            },
            "type": "contourcarpet"
           }
          ],
          "heatmap": [
           {
            "colorbar": {
             "outlinewidth": 0,
             "ticks": ""
            },
            "colorscale": [
             [
              0,
              "#0d0887"
             ],
             [
              0.1111111111111111,
              "#46039f"
             ],
             [
              0.2222222222222222,
              "#7201a8"
             ],
             [
              0.3333333333333333,
              "#9c179e"
             ],
             [
              0.4444444444444444,
              "#bd3786"
             ],
             [
              0.5555555555555556,
              "#d8576b"
             ],
             [
              0.6666666666666666,
              "#ed7953"
             ],
             [
              0.7777777777777778,
              "#fb9f3a"
             ],
             [
              0.8888888888888888,
              "#fdca26"
             ],
             [
              1,
              "#f0f921"
             ]
            ],
            "type": "heatmap"
           }
          ],
          "histogram": [
           {
            "marker": {
             "pattern": {
              "fillmode": "overlay",
              "size": 10,
              "solidity": 0.2
             }
            },
            "type": "histogram"
           }
          ],
          "histogram2d": [
           {
            "colorbar": {
             "outlinewidth": 0,
             "ticks": ""
            },
            "colorscale": [
             [
              0,
              "#0d0887"
             ],
             [
              0.1111111111111111,
              "#46039f"
             ],
             [
              0.2222222222222222,
              "#7201a8"
             ],
             [
              0.3333333333333333,
              "#9c179e"
             ],
             [
              0.4444444444444444,
              "#bd3786"
             ],
             [
              0.5555555555555556,
              "#d8576b"
             ],
             [
              0.6666666666666666,
              "#ed7953"
             ],
             [
              0.7777777777777778,
              "#fb9f3a"
             ],
             [
              0.8888888888888888,
              "#fdca26"
             ],
             [
              1,
              "#f0f921"
             ]
            ],
            "type": "histogram2d"
           }
          ],
          "histogram2dcontour": [
           {
            "colorbar": {
             "outlinewidth": 0,
             "ticks": ""
            },
            "colorscale": [
             [
              0,
              "#0d0887"
             ],
             [
              0.1111111111111111,
              "#46039f"
             ],
             [
              0.2222222222222222,
              "#7201a8"
             ],
             [
              0.3333333333333333,
              "#9c179e"
             ],
             [
              0.4444444444444444,
              "#bd3786"
             ],
             [
              0.5555555555555556,
              "#d8576b"
             ],
             [
              0.6666666666666666,
              "#ed7953"
             ],
             [
              0.7777777777777778,
              "#fb9f3a"
             ],
             [
              0.8888888888888888,
              "#fdca26"
             ],
             [
              1,
              "#f0f921"
             ]
            ],
            "type": "histogram2dcontour"
           }
          ],
          "mesh3d": [
           {
            "colorbar": {
             "outlinewidth": 0,
             "ticks": ""
            },
            "type": "mesh3d"
           }
          ],
          "parcoords": [
           {
            "line": {
             "colorbar": {
              "outlinewidth": 0,
              "ticks": ""
             }
            },
            "type": "parcoords"
           }
          ],
          "pie": [
           {
            "automargin": true,
            "type": "pie"
           }
          ],
          "scatter": [
           {
            "fillpattern": {
             "fillmode": "overlay",
             "size": 10,
             "solidity": 0.2
            },
            "type": "scatter"
           }
          ],
          "scatter3d": [
           {
            "line": {
             "colorbar": {
              "outlinewidth": 0,
              "ticks": ""
             }
            },
            "marker": {
             "colorbar": {
              "outlinewidth": 0,
              "ticks": ""
             }
            },
            "type": "scatter3d"
           }
          ],
          "scattercarpet": [
           {
            "marker": {
             "colorbar": {
              "outlinewidth": 0,
              "ticks": ""
             }
            },
            "type": "scattercarpet"
           }
          ],
          "scattergeo": [
           {
            "marker": {
             "colorbar": {
              "outlinewidth": 0,
              "ticks": ""
             }
            },
            "type": "scattergeo"
           }
          ],
          "scattergl": [
           {
            "marker": {
             "colorbar": {
              "outlinewidth": 0,
              "ticks": ""
             }
            },
            "type": "scattergl"
           }
          ],
          "scattermap": [
           {
            "marker": {
             "colorbar": {
              "outlinewidth": 0,
              "ticks": ""
             }
            },
            "type": "scattermap"
           }
          ],
          "scattermapbox": [
           {
            "marker": {
             "colorbar": {
              "outlinewidth": 0,
              "ticks": ""
             }
            },
            "type": "scattermapbox"
           }
          ],
          "scatterpolar": [
           {
            "marker": {
             "colorbar": {
              "outlinewidth": 0,
              "ticks": ""
             }
            },
            "type": "scatterpolar"
           }
          ],
          "scatterpolargl": [
           {
            "marker": {
             "colorbar": {
              "outlinewidth": 0,
              "ticks": ""
             }
            },
            "type": "scatterpolargl"
           }
          ],
          "scatterternary": [
           {
            "marker": {
             "colorbar": {
              "outlinewidth": 0,
              "ticks": ""
             }
            },
            "type": "scatterternary"
           }
          ],
          "surface": [
           {
            "colorbar": {
             "outlinewidth": 0,
             "ticks": ""
            },
            "colorscale": [
             [
              0,
              "#0d0887"
             ],
             [
              0.1111111111111111,
              "#46039f"
             ],
             [
              0.2222222222222222,
              "#7201a8"
             ],
             [
              0.3333333333333333,
              "#9c179e"
             ],
             [
              0.4444444444444444,
              "#bd3786"
             ],
             [
              0.5555555555555556,
              "#d8576b"
             ],
             [
              0.6666666666666666,
              "#ed7953"
             ],
             [
              0.7777777777777778,
              "#fb9f3a"
             ],
             [
              0.8888888888888888,
              "#fdca26"
             ],
             [
              1,
              "#f0f921"
             ]
            ],
            "type": "surface"
           }
          ],
          "table": [
           {
            "cells": {
             "fill": {
              "color": "#EBF0F8"
             },
             "line": {
              "color": "white"
             }
            },
            "header": {
             "fill": {
              "color": "#C8D4E3"
             },
             "line": {
              "color": "white"
             }
            },
            "type": "table"
           }
          ]
         },
         "layout": {
          "annotationdefaults": {
           "arrowcolor": "#2a3f5f",
           "arrowhead": 0,
           "arrowwidth": 1
          },
          "autotypenumbers": "strict",
          "coloraxis": {
           "colorbar": {
            "outlinewidth": 0,
            "ticks": ""
           }
          },
          "colorscale": {
           "diverging": [
            [
             0,
             "#8e0152"
            ],
            [
             0.1,
             "#c51b7d"
            ],
            [
             0.2,
             "#de77ae"
            ],
            [
             0.3,
             "#f1b6da"
            ],
            [
             0.4,
             "#fde0ef"
            ],
            [
             0.5,
             "#f7f7f7"
            ],
            [
             0.6,
             "#e6f5d0"
            ],
            [
             0.7,
             "#b8e186"
            ],
            [
             0.8,
             "#7fbc41"
            ],
            [
             0.9,
             "#4d9221"
            ],
            [
             1,
             "#276419"
            ]
           ],
           "sequential": [
            [
             0,
             "#0d0887"
            ],
            [
             0.1111111111111111,
             "#46039f"
            ],
            [
             0.2222222222222222,
             "#7201a8"
            ],
            [
             0.3333333333333333,
             "#9c179e"
            ],
            [
             0.4444444444444444,
             "#bd3786"
            ],
            [
             0.5555555555555556,
             "#d8576b"
            ],
            [
             0.6666666666666666,
             "#ed7953"
            ],
            [
             0.7777777777777778,
             "#fb9f3a"
            ],
            [
             0.8888888888888888,
             "#fdca26"
            ],
            [
             1,
             "#f0f921"
            ]
           ],
           "sequentialminus": [
            [
             0,
             "#0d0887"
            ],
            [
             0.1111111111111111,
             "#46039f"
            ],
            [
             0.2222222222222222,
             "#7201a8"
            ],
            [
             0.3333333333333333,
             "#9c179e"
            ],
            [
             0.4444444444444444,
             "#bd3786"
            ],
            [
             0.5555555555555556,
             "#d8576b"
            ],
            [
             0.6666666666666666,
             "#ed7953"
            ],
            [
             0.7777777777777778,
             "#fb9f3a"
            ],
            [
             0.8888888888888888,
             "#fdca26"
            ],
            [
             1,
             "#f0f921"
            ]
           ]
          },
          "colorway": [
           "#636efa",
           "#EF553B",
           "#00cc96",
           "#ab63fa",
           "#FFA15A",
           "#19d3f3",
           "#FF6692",
           "#B6E880",
           "#FF97FF",
           "#FECB52"
          ],
          "font": {
           "color": "#2a3f5f"
          },
          "geo": {
           "bgcolor": "white",
           "lakecolor": "white",
           "landcolor": "#E5ECF6",
           "showlakes": true,
           "showland": true,
           "subunitcolor": "white"
          },
          "hoverlabel": {
           "align": "left"
          },
          "hovermode": "closest",
          "mapbox": {
           "style": "light"
          },
          "paper_bgcolor": "white",
          "plot_bgcolor": "#E5ECF6",
          "polar": {
           "angularaxis": {
            "gridcolor": "white",
            "linecolor": "white",
            "ticks": ""
           },
           "bgcolor": "#E5ECF6",
           "radialaxis": {
            "gridcolor": "white",
            "linecolor": "white",
            "ticks": ""
           }
          },
          "scene": {
           "xaxis": {
            "backgroundcolor": "#E5ECF6",
            "gridcolor": "white",
            "gridwidth": 2,
            "linecolor": "white",
            "showbackground": true,
            "ticks": "",
            "zerolinecolor": "white"
           },
           "yaxis": {
            "backgroundcolor": "#E5ECF6",
            "gridcolor": "white",
            "gridwidth": 2,
            "linecolor": "white",
            "showbackground": true,
            "ticks": "",
            "zerolinecolor": "white"
           },
           "zaxis": {
            "backgroundcolor": "#E5ECF6",
            "gridcolor": "white",
            "gridwidth": 2,
            "linecolor": "white",
            "showbackground": true,
            "ticks": "",
            "zerolinecolor": "white"
           }
          },
          "shapedefaults": {
           "line": {
            "color": "#2a3f5f"
           }
          },
          "ternary": {
           "aaxis": {
            "gridcolor": "white",
            "linecolor": "white",
            "ticks": ""
           },
           "baxis": {
            "gridcolor": "white",
            "linecolor": "white",
            "ticks": ""
           },
           "bgcolor": "#E5ECF6",
           "caxis": {
            "gridcolor": "white",
            "linecolor": "white",
            "ticks": ""
           }
          },
          "title": {
           "x": 0.05
          },
          "xaxis": {
           "automargin": true,
           "gridcolor": "white",
           "linecolor": "white",
           "ticks": "",
           "title": {
            "standoff": 15
           },
           "zerolinecolor": "white",
           "zerolinewidth": 2
          },
          "yaxis": {
           "automargin": true,
           "gridcolor": "white",
           "linecolor": "white",
           "ticks": "",
           "title": {
            "standoff": 15
           },
           "zerolinecolor": "white",
           "zerolinewidth": 2
          }
         }
        },
        "title": {
         "text": "IPC Classification Treemap - Level 2 (Sections)",
         "x": 0.5
        },
        "width": 1000
       }
      },
      "text/html": [
       "<div>            <script src=\"https://cdnjs.cloudflare.com/ajax/libs/mathjax/2.7.5/MathJax.js?config=TeX-AMS-MML_SVG\"></script><script type=\"text/javascript\">if (window.MathJax && window.MathJax.Hub && window.MathJax.Hub.Config) {window.MathJax.Hub.Config({SVG: {font: \"STIX-Web\"}});}</script>                <script type=\"text/javascript\">window.PlotlyConfig = {MathJaxConfig: 'local'};</script>\n",
       "        <script charset=\"utf-8\" src=\"https://cdn.plot.ly/plotly-3.0.1.min.js\"></script>                <div id=\"2f34e7ea-1a03-45c7-bb8e-d9ccc1fca660\" class=\"plotly-graph-div\" style=\"height:600px; width:1000px;\"></div>            <script type=\"text/javascript\">                window.PLOTLYENV=window.PLOTLYENV || {};                                if (document.getElementById(\"2f34e7ea-1a03-45c7-bb8e-d9ccc1fca660\")) {                    Plotly.newPlot(                        \"2f34e7ea-1a03-45c7-bb8e-d9ccc1fca660\",                        [{\"customdata\":[[1968,23.047,\"PERFORMING OPERATIONS; TRANSPORTING\"],[1968,18.975,\"CHEMISTRY; METALLURGY\"],[1968,13.115,\"ELECTRICITY\"],[1968,12.356,\"HUMAN NECESSITIES\"],[1968,12.033,\"MECHANICAL ENGINEERING; LIGHTING; HEATING; WEAPONS; BLASTING\"],[1968,11.976,\"PHYSICS\"],[1968,4.365,\"FIXED CONSTRUCTIONS\"],[1968,4.134,\"TEXTILES; PAPER\"]],\"hovertemplate\":\"\\u003cb\\u003e%{label}\\u003c\\u002fb\\u003e\\u003cbr\\u003eCreated: %{customdata[0]}\\u003cbr\\u003eGroups: %{value}\\u003cbr\\u003ePercentage: %{customdata[1]:.3f}%\\u003cbr\\u003eTitle: %{customdata[2]}\\u003cextra\\u003e\\u003c\\u002fextra\\u003e\",\"labels\":[\"B\",\"C\",\"H\",\"A\",\"F\",\"G\",\"E\",\"D\"],\"marker\":{\"colorbar\":{\"title\":{\"text\":\"Creation Year\"}},\"colorscale\":[[0.0,\"rgb(0,104,55)\"],[0.1,\"rgb(26,152,80)\"],[0.2,\"rgb(102,189,99)\"],[0.3,\"rgb(166,217,106)\"],[0.4,\"rgb(217,239,139)\"],[0.5,\"rgb(255,255,191)\"],[0.6,\"rgb(254,224,139)\"],[0.7,\"rgb(253,174,97)\"],[0.8,\"rgb(244,109,67)\"],[0.9,\"rgb(215,48,39)\"],[1.0,\"rgb(165,0,38)\"]]},\"parents\":[\"IPC\",\"IPC\",\"IPC\",\"IPC\",\"IPC\",\"IPC\",\"IPC\",\"IPC\"],\"textinfo\":\"label+value+percent parent\",\"values\":{\"dtype\":\"i2\",\"bdata\":\"3UcrO+UohyaFJVglnA3kDA==\"},\"type\":\"treemap\"}],                        {\"template\":{\"data\":{\"histogram2dcontour\":[{\"type\":\"histogram2dcontour\",\"colorbar\":{\"outlinewidth\":0,\"ticks\":\"\"},\"colorscale\":[[0.0,\"#0d0887\"],[0.1111111111111111,\"#46039f\"],[0.2222222222222222,\"#7201a8\"],[0.3333333333333333,\"#9c179e\"],[0.4444444444444444,\"#bd3786\"],[0.5555555555555556,\"#d8576b\"],[0.6666666666666666,\"#ed7953\"],[0.7777777777777778,\"#fb9f3a\"],[0.8888888888888888,\"#fdca26\"],[1.0,\"#f0f921\"]]}],\"choropleth\":[{\"type\":\"choropleth\",\"colorbar\":{\"outlinewidth\":0,\"ticks\":\"\"}}],\"histogram2d\":[{\"type\":\"histogram2d\",\"colorbar\":{\"outlinewidth\":0,\"ticks\":\"\"},\"colorscale\":[[0.0,\"#0d0887\"],[0.1111111111111111,\"#46039f\"],[0.2222222222222222,\"#7201a8\"],[0.3333333333333333,\"#9c179e\"],[0.4444444444444444,\"#bd3786\"],[0.5555555555555556,\"#d8576b\"],[0.6666666666666666,\"#ed7953\"],[0.7777777777777778,\"#fb9f3a\"],[0.8888888888888888,\"#fdca26\"],[1.0,\"#f0f921\"]]}],\"heatmap\":[{\"type\":\"heatmap\",\"colorbar\":{\"outlinewidth\":0,\"ticks\":\"\"},\"colorscale\":[[0.0,\"#0d0887\"],[0.1111111111111111,\"#46039f\"],[0.2222222222222222,\"#7201a8\"],[0.3333333333333333,\"#9c179e\"],[0.4444444444444444,\"#bd3786\"],[0.5555555555555556,\"#d8576b\"],[0.6666666666666666,\"#ed7953\"],[0.7777777777777778,\"#fb9f3a\"],[0.8888888888888888,\"#fdca26\"],[1.0,\"#f0f921\"]]}],\"contourcarpet\":[{\"type\":\"contourcarpet\",\"colorbar\":{\"outlinewidth\":0,\"ticks\":\"\"}}],\"contour\":[{\"type\":\"contour\",\"colorbar\":{\"outlinewidth\":0,\"ticks\":\"\"},\"colorscale\":[[0.0,\"#0d0887\"],[0.1111111111111111,\"#46039f\"],[0.2222222222222222,\"#7201a8\"],[0.3333333333333333,\"#9c179e\"],[0.4444444444444444,\"#bd3786\"],[0.5555555555555556,\"#d8576b\"],[0.6666666666666666,\"#ed7953\"],[0.7777777777777778,\"#fb9f3a\"],[0.8888888888888888,\"#fdca26\"],[1.0,\"#f0f921\"]]}],\"surface\":[{\"type\":\"surface\",\"colorbar\":{\"outlinewidth\":0,\"ticks\":\"\"},\"colorscale\":[[0.0,\"#0d0887\"],[0.1111111111111111,\"#46039f\"],[0.2222222222222222,\"#7201a8\"],[0.3333333333333333,\"#9c179e\"],[0.4444444444444444,\"#bd3786\"],[0.5555555555555556,\"#d8576b\"],[0.6666666666666666,\"#ed7953\"],[0.7777777777777778,\"#fb9f3a\"],[0.8888888888888888,\"#fdca26\"],[1.0,\"#f0f921\"]]}],\"mesh3d\":[{\"type\":\"mesh3d\",\"colorbar\":{\"outlinewidth\":0,\"ticks\":\"\"}}],\"scatter\":[{\"fillpattern\":{\"fillmode\":\"overlay\",\"size\":10,\"solidity\":0.2},\"type\":\"scatter\"}],\"parcoords\":[{\"type\":\"parcoords\",\"line\":{\"colorbar\":{\"outlinewidth\":0,\"ticks\":\"\"}}}],\"scatterpolargl\":[{\"type\":\"scatterpolargl\",\"marker\":{\"colorbar\":{\"outlinewidth\":0,\"ticks\":\"\"}}}],\"bar\":[{\"error_x\":{\"color\":\"#2a3f5f\"},\"error_y\":{\"color\":\"#2a3f5f\"},\"marker\":{\"line\":{\"color\":\"#E5ECF6\",\"width\":0.5},\"pattern\":{\"fillmode\":\"overlay\",\"size\":10,\"solidity\":0.2}},\"type\":\"bar\"}],\"scattergeo\":[{\"type\":\"scattergeo\",\"marker\":{\"colorbar\":{\"outlinewidth\":0,\"ticks\":\"\"}}}],\"scatterpolar\":[{\"type\":\"scatterpolar\",\"marker\":{\"colorbar\":{\"outlinewidth\":0,\"ticks\":\"\"}}}],\"histogram\":[{\"marker\":{\"pattern\":{\"fillmode\":\"overlay\",\"size\":10,\"solidity\":0.2}},\"type\":\"histogram\"}],\"scattergl\":[{\"type\":\"scattergl\",\"marker\":{\"colorbar\":{\"outlinewidth\":0,\"ticks\":\"\"}}}],\"scatter3d\":[{\"type\":\"scatter3d\",\"line\":{\"colorbar\":{\"outlinewidth\":0,\"ticks\":\"\"}},\"marker\":{\"colorbar\":{\"outlinewidth\":0,\"ticks\":\"\"}}}],\"scattermap\":[{\"type\":\"scattermap\",\"marker\":{\"colorbar\":{\"outlinewidth\":0,\"ticks\":\"\"}}}],\"scattermapbox\":[{\"type\":\"scattermapbox\",\"marker\":{\"colorbar\":{\"outlinewidth\":0,\"ticks\":\"\"}}}],\"scatterternary\":[{\"type\":\"scatterternary\",\"marker\":{\"colorbar\":{\"outlinewidth\":0,\"ticks\":\"\"}}}],\"scattercarpet\":[{\"type\":\"scattercarpet\",\"marker\":{\"colorbar\":{\"outlinewidth\":0,\"ticks\":\"\"}}}],\"carpet\":[{\"aaxis\":{\"endlinecolor\":\"#2a3f5f\",\"gridcolor\":\"white\",\"linecolor\":\"white\",\"minorgridcolor\":\"white\",\"startlinecolor\":\"#2a3f5f\"},\"baxis\":{\"endlinecolor\":\"#2a3f5f\",\"gridcolor\":\"white\",\"linecolor\":\"white\",\"minorgridcolor\":\"white\",\"startlinecolor\":\"#2a3f5f\"},\"type\":\"carpet\"}],\"table\":[{\"cells\":{\"fill\":{\"color\":\"#EBF0F8\"},\"line\":{\"color\":\"white\"}},\"header\":{\"fill\":{\"color\":\"#C8D4E3\"},\"line\":{\"color\":\"white\"}},\"type\":\"table\"}],\"barpolar\":[{\"marker\":{\"line\":{\"color\":\"#E5ECF6\",\"width\":0.5},\"pattern\":{\"fillmode\":\"overlay\",\"size\":10,\"solidity\":0.2}},\"type\":\"barpolar\"}],\"pie\":[{\"automargin\":true,\"type\":\"pie\"}]},\"layout\":{\"autotypenumbers\":\"strict\",\"colorway\":[\"#636efa\",\"#EF553B\",\"#00cc96\",\"#ab63fa\",\"#FFA15A\",\"#19d3f3\",\"#FF6692\",\"#B6E880\",\"#FF97FF\",\"#FECB52\"],\"font\":{\"color\":\"#2a3f5f\"},\"hovermode\":\"closest\",\"hoverlabel\":{\"align\":\"left\"},\"paper_bgcolor\":\"white\",\"plot_bgcolor\":\"#E5ECF6\",\"polar\":{\"bgcolor\":\"#E5ECF6\",\"angularaxis\":{\"gridcolor\":\"white\",\"linecolor\":\"white\",\"ticks\":\"\"},\"radialaxis\":{\"gridcolor\":\"white\",\"linecolor\":\"white\",\"ticks\":\"\"}},\"ternary\":{\"bgcolor\":\"#E5ECF6\",\"aaxis\":{\"gridcolor\":\"white\",\"linecolor\":\"white\",\"ticks\":\"\"},\"baxis\":{\"gridcolor\":\"white\",\"linecolor\":\"white\",\"ticks\":\"\"},\"caxis\":{\"gridcolor\":\"white\",\"linecolor\":\"white\",\"ticks\":\"\"}},\"coloraxis\":{\"colorbar\":{\"outlinewidth\":0,\"ticks\":\"\"}},\"colorscale\":{\"sequential\":[[0.0,\"#0d0887\"],[0.1111111111111111,\"#46039f\"],[0.2222222222222222,\"#7201a8\"],[0.3333333333333333,\"#9c179e\"],[0.4444444444444444,\"#bd3786\"],[0.5555555555555556,\"#d8576b\"],[0.6666666666666666,\"#ed7953\"],[0.7777777777777778,\"#fb9f3a\"],[0.8888888888888888,\"#fdca26\"],[1.0,\"#f0f921\"]],\"sequentialminus\":[[0.0,\"#0d0887\"],[0.1111111111111111,\"#46039f\"],[0.2222222222222222,\"#7201a8\"],[0.3333333333333333,\"#9c179e\"],[0.4444444444444444,\"#bd3786\"],[0.5555555555555556,\"#d8576b\"],[0.6666666666666666,\"#ed7953\"],[0.7777777777777778,\"#fb9f3a\"],[0.8888888888888888,\"#fdca26\"],[1.0,\"#f0f921\"]],\"diverging\":[[0,\"#8e0152\"],[0.1,\"#c51b7d\"],[0.2,\"#de77ae\"],[0.3,\"#f1b6da\"],[0.4,\"#fde0ef\"],[0.5,\"#f7f7f7\"],[0.6,\"#e6f5d0\"],[0.7,\"#b8e186\"],[0.8,\"#7fbc41\"],[0.9,\"#4d9221\"],[1,\"#276419\"]]},\"xaxis\":{\"gridcolor\":\"white\",\"linecolor\":\"white\",\"ticks\":\"\",\"title\":{\"standoff\":15},\"zerolinecolor\":\"white\",\"automargin\":true,\"zerolinewidth\":2},\"yaxis\":{\"gridcolor\":\"white\",\"linecolor\":\"white\",\"ticks\":\"\",\"title\":{\"standoff\":15},\"zerolinecolor\":\"white\",\"automargin\":true,\"zerolinewidth\":2},\"scene\":{\"xaxis\":{\"backgroundcolor\":\"#E5ECF6\",\"gridcolor\":\"white\",\"linecolor\":\"white\",\"showbackground\":true,\"ticks\":\"\",\"zerolinecolor\":\"white\",\"gridwidth\":2},\"yaxis\":{\"backgroundcolor\":\"#E5ECF6\",\"gridcolor\":\"white\",\"linecolor\":\"white\",\"showbackground\":true,\"ticks\":\"\",\"zerolinecolor\":\"white\",\"gridwidth\":2},\"zaxis\":{\"backgroundcolor\":\"#E5ECF6\",\"gridcolor\":\"white\",\"linecolor\":\"white\",\"showbackground\":true,\"ticks\":\"\",\"zerolinecolor\":\"white\",\"gridwidth\":2}},\"shapedefaults\":{\"line\":{\"color\":\"#2a3f5f\"}},\"annotationdefaults\":{\"arrowcolor\":\"#2a3f5f\",\"arrowhead\":0,\"arrowwidth\":1},\"geo\":{\"bgcolor\":\"white\",\"landcolor\":\"#E5ECF6\",\"subunitcolor\":\"white\",\"showland\":true,\"showlakes\":true,\"lakecolor\":\"white\"},\"title\":{\"x\":0.05},\"mapbox\":{\"style\":\"light\"}}},\"title\":{\"text\":\"IPC Classification Treemap - Level 2 (Sections)\",\"x\":0.5},\"font\":{\"size\":12},\"width\":1000,\"height\":600},                        {\"responsive\": true}                    ).then(function(){\n",
       "                            \n",
       "var gd = document.getElementById('2f34e7ea-1a03-45c7-bb8e-d9ccc1fca660');\n",
       "var x = new MutationObserver(function (mutations, observer) {{\n",
       "        var display = window.getComputedStyle(gd).display;\n",
       "        if (!display || display === 'none') {{\n",
       "            console.log([gd, 'removed!']);\n",
       "            Plotly.purge(gd);\n",
       "            observer.disconnect();\n",
       "        }}\n",
       "}});\n",
       "\n",
       "// Listen for the removal of the full notebook cells\n",
       "var notebookContainer = gd.closest('#notebook-container');\n",
       "if (notebookContainer) {{\n",
       "    x.observe(notebookContainer, {childList: true});\n",
       "}}\n",
       "\n",
       "// Listen for the clearing of the current output cell\n",
       "var outputEl = gd.closest('.output');\n",
       "if (outputEl) {{\n",
       "    x.observe(outputEl, {childList: true});\n",
       "}}\n",
       "\n",
       "                        })                };            </script>        </div>"
      ]
     },
     "metadata": {},
     "output_type": "display_data"
    },
    {
     "name": "stdout",
     "output_type": "stream",
     "text": [
      "✓ Treemap for level 2 created successfully\n"
     ]
    }
   ],
   "source": [
    "def create_treemap_chart(self, level=3, title=\"IPC Classification Treemap\"):\n",
    "    \"\"\"Create a treemap visualization for IPC classifications at a specific level\"\"\"\n",
    "    if self.viz_data is None:\n",
    "        print(\"✗ No visualization data available. Please run prepare_data() first.\")\n",
    "        return None\n",
    "        \n",
    "    try:\n",
    "        # Filter to specific level\n",
    "        level_df = self.viz_data[self.viz_data['level'] == level].copy()\n",
    "        \n",
    "        if len(level_df) == 0:\n",
    "            print(f\"✗ No data available for level {level}\")\n",
    "            return None\n",
    "        \n",
    "        # Sort by size for better visualization\n",
    "        level_df = level_df.sort_values('size', ascending=False)\n",
    "        \n",
    "        fig = go.Figure(go.Treemap(\n",
    "            labels=level_df['symbol_display'],\n",
    "            values=level_df['size'],\n",
    "            parents=level_df['parent_short'] if 'parent_short' in level_df.columns else None,\n",
    "            hovertemplate='<b>%{label}</b><br>' +\n",
    "                         'Created: %{customdata[0]}<br>' +\n",
    "                         'Groups: %{value}<br>' +\n",
    "                         'Percentage: %{customdata[1]:.3f}%<br>' +\n",
    "                         'Title: %{customdata[2]}<extra></extra>',\n",
    "            customdata=np.column_stack((\n",
    "                level_df['creation_year'],\n",
    "                level_df['size_percent'],\n",
    "                level_df['title_display']\n",
    "            )),\n",
    "            marker=dict(\n",
    "                colorscale='RdYlGn_r',\n",
    "                colorbar=dict(\n",
    "                    title=\"Creation Year\"\n",
    "                )\n",
    "            ),\n",
    "            textinfo=\"label+value+percent parent\"\n",
    "        ))\n",
    "        \n",
    "        level_names = {2: 'Sections', 3: 'Classes', 4: 'Subclasses', 5: 'Main Groups'}\n",
    "        \n",
    "        fig.update_layout(\n",
    "            title=f\"{title} - Level {level} ({level_names.get(level, 'Unknown')})\",\n",
    "            title_x=0.5,\n",
    "            width=1000,\n",
    "            height=600,\n",
    "            font_size=12\n",
    "        )\n",
    "        \n",
    "        return fig\n",
    "        \n",
    "    except Exception as e:\n",
    "        print(f\"✗ Error creating treemap chart: {e}\")\n",
    "        return None\n",
    "\n",
    "# Add method to class\n",
    "IPCVisualization.create_treemap_chart = create_treemap_chart\n",
    "\n",
    "# Create treemap for different levels\n",
    "print(\"Creating Treemap Charts...\")\n",
    "for level in [2]:\n",
    "    treemap_fig = viz.create_treemap_chart(level=level)\n",
    "    if treemap_fig:\n",
    "        treemap_fig.show()\n",
    "        print(f\"✓ Treemap for level {level} created successfully\")"
   ]
  },
  {
   "cell_type": "markdown",
   "metadata": {},
   "source": [
    "## Visualization 3: Network Tree\n",
    "\n",
    "Interactive network tree visualization similar to the original D3.js implementation."
   ]
  },
  {
   "cell_type": "code",
   "execution_count": 13,
   "metadata": {},
   "outputs": [
    {
     "name": "stdout",
     "output_type": "stream",
     "text": [
      "Creating Network Tree...\n"
     ]
    },
    {
     "data": {
      "application/vnd.plotly.v1+json": {
       "config": {
        "plotlyServerURL": "https://plot.ly"
       },
       "data": [
        {
         "hoverinfo": "none",
         "line": {
          "color": "#888",
          "width": 1
         },
         "mode": "lines",
         "showlegend": false,
         "type": "scatter",
         "x": [
          0,
          400,
          null
         ],
         "y": [
          0,
          0,
          null
         ]
        },
        {
         "hoverinfo": "none",
         "line": {
          "color": "#888",
          "width": 1
         },
         "mode": "lines",
         "showlegend": false,
         "type": "scatter",
         "x": [
          0,
          282.842712474619,
          null
         ],
         "y": [
          0,
          282.84271247461896,
          null
         ]
        },
        {
         "hoverinfo": "none",
         "line": {
          "color": "#888",
          "width": 1
         },
         "mode": "lines",
         "showlegend": false,
         "type": "scatter",
         "x": [
          0,
          2.4492935982947064e-14,
          null
         ],
         "y": [
          0,
          400,
          null
         ]
        },
        {
         "hoverinfo": "none",
         "line": {
          "color": "#888",
          "width": 1
         },
         "mode": "lines",
         "showlegend": false,
         "type": "scatter",
         "x": [
          0,
          -282.84271247461896,
          null
         ],
         "y": [
          0,
          282.842712474619,
          null
         ]
        },
        {
         "hoverinfo": "none",
         "line": {
          "color": "#888",
          "width": 1
         },
         "mode": "lines",
         "showlegend": false,
         "type": "scatter",
         "x": [
          0,
          -400,
          null
         ],
         "y": [
          0,
          4.898587196589413e-14,
          null
         ]
        },
        {
         "hoverinfo": "none",
         "line": {
          "color": "#888",
          "width": 1
         },
         "mode": "lines",
         "showlegend": false,
         "type": "scatter",
         "x": [
          0,
          -282.8427124746191,
          null
         ],
         "y": [
          0,
          -282.84271247461896,
          null
         ]
        },
        {
         "hoverinfo": "none",
         "line": {
          "color": "#888",
          "width": 1
         },
         "mode": "lines",
         "showlegend": false,
         "type": "scatter",
         "x": [
          0,
          -7.347880794884119e-14,
          null
         ],
         "y": [
          0,
          -400,
          null
         ]
        },
        {
         "hoverinfo": "none",
         "line": {
          "color": "#888",
          "width": 1
         },
         "mode": "lines",
         "showlegend": false,
         "type": "scatter",
         "x": [
          0,
          282.84271247461896,
          null
         ],
         "y": [
          0,
          -282.8427124746191,
          null
         ]
        },
        {
         "hoverinfo": "none",
         "line": {
          "color": "#888",
          "width": 1
         },
         "mode": "lines",
         "showlegend": false,
         "type": "scatter",
         "x": [
          282.842712474619,
          600,
          null
         ],
         "y": [
          282.84271247461896,
          0,
          null
         ]
        },
        {
         "hoverinfo": "none",
         "line": {
          "color": "#888",
          "width": 1
         },
         "mode": "lines",
         "showlegend": false,
         "type": "scatter",
         "x": [
          2.4492935982947064e-14,
          593.2984957350772,
          null
         ],
         "y": [
          400,
          89.42535970570466,
          null
         ]
        },
        {
         "hoverinfo": "none",
         "line": {
          "color": "#888",
          "width": 1
         },
         "mode": "lines",
         "showlegend": false,
         "type": "scatter",
         "x": [
          -282.8427124746191,
          573.3436834716844,
          null
         ],
         "y": [
          -282.84271247461896,
          176.85310464654253,
          null
         ]
        },
        {
         "hoverinfo": "none",
         "line": {
          "color": "#888",
          "width": 1
         },
         "mode": "lines",
         "showlegend": false,
         "type": "scatter",
         "x": [
          2.4492935982947064e-14,
          540.5813207414515,
          null
         ],
         "y": [
          400,
          260.33024347053487,
          null
         ]
        },
        {
         "hoverinfo": "none",
         "line": {
          "color": "#888",
          "width": 1
         },
         "mode": "lines",
         "showlegend": false,
         "type": "scatter",
         "x": [
          -282.84271247461896,
          495.74326458959695,
          null
         ],
         "y": [
          282.842712474619,
          337.99203483817325,
          null
         ]
        },
        {
         "hoverinfo": "none",
         "line": {
          "color": "#888",
          "width": 1
         },
         "mode": "lines",
         "showlegend": false,
         "type": "scatter",
         "x": [
          -400,
          439.8311230978958,
          null
         ],
         "y": [
          4.898587196589413e-14,
          408.10364266255164,
          null
         ]
        },
        {
         "hoverinfo": "none",
         "line": {
          "color": "#888",
          "width": 1
         },
         "mode": "lines",
         "showlegend": false,
         "type": "scatter",
         "x": [
          400,
          374.09388111524015,
          null
         ],
         "y": [
          0,
          469.0988894808179,
          null
         ]
        },
        {
         "hoverinfo": "none",
         "line": {
          "color": "#888",
          "width": 1
         },
         "mode": "lines",
         "showlegend": false,
         "type": "scatter",
         "x": [
          282.842712474619,
          300.00000000000006,
          null
         ],
         "y": [
          282.84271247461896,
          519.6152422706632,
          null
         ]
        },
        {
         "hoverinfo": "none",
         "line": {
          "color": "#888",
          "width": 1
         },
         "mode": "lines",
         "showlegend": false,
         "type": "scatter",
         "x": [
          400,
          219.204614619837,
          null
         ],
         "y": [
          0,
          558.5242491865225,
          null
         ]
        },
        {
         "hoverinfo": "none",
         "line": {
          "color": "#888",
          "width": 1
         },
         "mode": "lines",
         "showlegend": false,
         "type": "scatter",
         "x": [
          -282.84271247461896,
          133.51256037378866,
          null
         ],
         "y": [
          282.842712474619,
          584.9567473090942,
          null
         ]
        },
        {
         "hoverinfo": "none",
         "line": {
          "color": "#888",
          "width": 1
         },
         "mode": "lines",
         "showlegend": false,
         "type": "scatter",
         "x": [
          282.842712474619,
          44.83805615185464,
          null
         ],
         "y": [
          282.84271247461896,
          598.3222783087081,
          null
         ]
        },
        {
         "hoverinfo": "none",
         "line": {
          "color": "#888",
          "width": 1
         },
         "mode": "lines",
         "showlegend": false,
         "type": "scatter",
         "x": [
          400,
          -44.838056151854424,
          null
         ],
         "y": [
          0,
          598.3222783087081,
          null
         ]
        },
        {
         "hoverinfo": "none",
         "line": {
          "color": "#888",
          "width": 1
         },
         "mode": "lines",
         "showlegend": false,
         "type": "scatter",
         "x": [
          -282.8427124746191,
          -133.5125603737886,
          null
         ],
         "y": [
          -282.84271247461896,
          584.9567473090942,
          null
         ]
        },
        {
         "hoverinfo": "none",
         "line": {
          "color": "#888",
          "width": 1
         },
         "mode": "lines",
         "showlegend": false,
         "type": "scatter",
         "x": [
          400,
          -219.20461461983706,
          null
         ],
         "y": [
          0,
          558.5242491865225,
          null
         ]
        },
        {
         "hoverinfo": "none",
         "line": {
          "color": "#888",
          "width": 1
         },
         "mode": "lines",
         "showlegend": false,
         "type": "scatter",
         "x": [
          -282.84271247461896,
          -299.9999999999999,
          null
         ],
         "y": [
          282.842712474619,
          519.6152422706632,
          null
         ]
        },
        {
         "hoverinfo": "none",
         "line": {
          "color": "#888",
          "width": 1
         },
         "mode": "lines",
         "showlegend": false,
         "type": "scatter",
         "x": [
          2.4492935982947064e-14,
          -374.0938811152401,
          null
         ],
         "y": [
          400,
          469.09888948081795,
          null
         ]
        },
        {
         "hoverinfo": "none",
         "line": {
          "color": "#888",
          "width": 1
         },
         "mode": "lines",
         "showlegend": false,
         "type": "scatter",
         "x": [
          400,
          -439.8311230978958,
          null
         ],
         "y": [
          0,
          408.10364266255164,
          null
         ]
        },
        {
         "hoverinfo": "none",
         "line": {
          "color": "#888",
          "width": 1
         },
         "mode": "lines",
         "showlegend": false,
         "type": "scatter",
         "x": [
          400,
          -495.743264589597,
          null
         ],
         "y": [
          0,
          337.9920348381731,
          null
         ]
        },
        {
         "hoverinfo": "none",
         "line": {
          "color": "#888",
          "width": 1
         },
         "mode": "lines",
         "showlegend": false,
         "type": "scatter",
         "x": [
          282.842712474619,
          -540.5813207414515,
          null
         ],
         "y": [
          282.84271247461896,
          260.3302434705349,
          null
         ]
        },
        {
         "hoverinfo": "none",
         "line": {
          "color": "#888",
          "width": 1
         },
         "mode": "lines",
         "showlegend": false,
         "type": "scatter",
         "x": [
          -400,
          -573.3436834716844,
          null
         ],
         "y": [
          4.898587196589413e-14,
          176.85310464654276,
          null
         ]
        },
        {
         "hoverinfo": "none",
         "line": {
          "color": "#888",
          "width": 1
         },
         "mode": "lines",
         "showlegend": false,
         "type": "scatter",
         "x": [
          2.4492935982947064e-14,
          -593.2984957350772,
          null
         ],
         "y": [
          400,
          89.42535970570484,
          null
         ]
        },
        {
         "hoverinfo": "none",
         "line": {
          "color": "#888",
          "width": 1
         },
         "mode": "lines",
         "showlegend": false,
         "type": "scatter",
         "x": [
          282.84271247461896,
          -600,
          null
         ],
         "y": [
          -282.8427124746191,
          7.347880794884119e-14,
          null
         ]
        },
        {
         "hoverinfo": "none",
         "line": {
          "color": "#888",
          "width": 1
         },
         "mode": "lines",
         "showlegend": false,
         "type": "scatter",
         "x": [
          -282.84271247461896,
          -593.2984957350772,
          null
         ],
         "y": [
          282.842712474619,
          -89.42535970570441,
          null
         ]
        },
        {
         "hoverinfo": "none",
         "line": {
          "color": "#888",
          "width": 1
         },
         "mode": "lines",
         "showlegend": false,
         "type": "scatter",
         "x": [
          400,
          -573.3436834716845,
          null
         ],
         "y": [
          0,
          -176.85310464654236,
          null
         ]
        },
        {
         "hoverinfo": "none",
         "line": {
          "color": "#888",
          "width": 1
         },
         "mode": "lines",
         "showlegend": false,
         "type": "scatter",
         "x": [
          282.842712474619,
          -540.5813207414515,
          null
         ],
         "y": [
          282.84271247461896,
          -260.3302434705348,
          null
         ]
        },
        {
         "hoverinfo": "none",
         "line": {
          "color": "#888",
          "width": 1
         },
         "mode": "lines",
         "showlegend": false,
         "type": "scatter",
         "x": [
          -282.84271247461896,
          -495.74326458959695,
          null
         ],
         "y": [
          282.842712474619,
          -337.99203483817325,
          null
         ]
        },
        {
         "hoverinfo": "none",
         "line": {
          "color": "#888",
          "width": 1
         },
         "mode": "lines",
         "showlegend": false,
         "type": "scatter",
         "x": [
          -282.8427124746191,
          -439.8311230978957,
          null
         ],
         "y": [
          -282.84271247461896,
          -408.1036426625517,
          null
         ]
        },
        {
         "hoverinfo": "none",
         "line": {
          "color": "#888",
          "width": 1
         },
         "mode": "lines",
         "showlegend": false,
         "type": "scatter",
         "x": [
          400,
          -374.0938811152402,
          null
         ],
         "y": [
          0,
          -469.09888948081783,
          null
         ]
        },
        {
         "hoverinfo": "none",
         "line": {
          "color": "#888",
          "width": 1
         },
         "mode": "lines",
         "showlegend": false,
         "type": "scatter",
         "x": [
          282.842712474619,
          -300.0000000000003,
          null
         ],
         "y": [
          282.84271247461896,
          -519.615242270663,
          null
         ]
        },
        {
         "hoverinfo": "none",
         "line": {
          "color": "#888",
          "width": 1
         },
         "mode": "lines",
         "showlegend": false,
         "type": "scatter",
         "x": [
          -400,
          -219.20461461983692,
          null
         ],
         "y": [
          4.898587196589413e-14,
          -558.5242491865226,
          null
         ]
        },
        {
         "hoverinfo": "none",
         "line": {
          "color": "#888",
          "width": 1
         },
         "mode": "lines",
         "showlegend": false,
         "type": "scatter",
         "x": [
          400,
          -133.51256037378874,
          null
         ],
         "y": [
          0,
          -584.9567473090942,
          null
         ]
        },
        {
         "hoverinfo": "none",
         "line": {
          "color": "#888",
          "width": 1
         },
         "mode": "lines",
         "showlegend": false,
         "type": "scatter",
         "x": [
          -400,
          -44.838056151854836,
          null
         ],
         "y": [
          4.898587196589413e-14,
          -598.3222783087081,
          null
         ]
        },
        {
         "hoverinfo": "none",
         "line": {
          "color": "#888",
          "width": 1
         },
         "mode": "lines",
         "showlegend": false,
         "type": "scatter",
         "x": [
          400,
          44.838056151854616,
          null
         ],
         "y": [
          0,
          -598.3222783087081,
          null
         ]
        },
        {
         "hoverinfo": "none",
         "line": {
          "color": "#888",
          "width": 1
         },
         "mode": "lines",
         "showlegend": false,
         "type": "scatter",
         "x": [
          -7.347880794884119e-14,
          133.51256037378855,
          null
         ],
         "y": [
          -400,
          -584.9567473090942,
          null
         ]
        },
        {
         "hoverinfo": "none",
         "line": {
          "color": "#888",
          "width": 1
         },
         "mode": "lines",
         "showlegend": false,
         "type": "scatter",
         "x": [
          -282.8427124746191,
          219.20461461983723,
          null
         ],
         "y": [
          -282.84271247461896,
          -558.5242491865225,
          null
         ]
        },
        {
         "hoverinfo": "none",
         "line": {
          "color": "#888",
          "width": 1
         },
         "mode": "lines",
         "showlegend": false,
         "type": "scatter",
         "x": [
          -400,
          299.9999999999996,
          null
         ],
         "y": [
          4.898587196589413e-14,
          -519.6152422706634,
          null
         ]
        },
        {
         "hoverinfo": "none",
         "line": {
          "color": "#888",
          "width": 1
         },
         "mode": "lines",
         "showlegend": false,
         "type": "scatter",
         "x": [
          -7.347880794884119e-14,
          374.09388111524004,
          null
         ],
         "y": [
          -400,
          -469.09888948081795,
          null
         ]
        },
        {
         "hoverinfo": "none",
         "line": {
          "color": "#888",
          "width": 1
         },
         "mode": "lines",
         "showlegend": false,
         "type": "scatter",
         "x": [
          -7.347880794884119e-14,
          439.83112309789595,
          null
         ],
         "y": [
          -400,
          -408.10364266255147,
          null
         ]
        },
        {
         "hoverinfo": "none",
         "line": {
          "color": "#888",
          "width": 1
         },
         "mode": "lines",
         "showlegend": false,
         "type": "scatter",
         "x": [
          2.4492935982947064e-14,
          495.74326458959666,
          null
         ],
         "y": [
          400,
          -337.99203483817365,
          null
         ]
        },
        {
         "hoverinfo": "none",
         "line": {
          "color": "#888",
          "width": 1
         },
         "mode": "lines",
         "showlegend": false,
         "type": "scatter",
         "x": [
          -400,
          540.5813207414515,
          null
         ],
         "y": [
          4.898587196589413e-14,
          -260.330243470535,
          null
         ]
        },
        {
         "hoverinfo": "none",
         "line": {
          "color": "#888",
          "width": 1
         },
         "mode": "lines",
         "showlegend": false,
         "type": "scatter",
         "x": [
          400,
          573.3436834716844,
          null
         ],
         "y": [
          0,
          -176.85310464654282,
          null
         ]
        },
        {
         "hoverinfo": "none",
         "line": {
          "color": "#888",
          "width": 1
         },
         "mode": "lines",
         "showlegend": false,
         "type": "scatter",
         "x": [
          -400,
          593.298495735077,
          null
         ],
         "y": [
          4.898587196589413e-14,
          -89.42535970570516,
          null
         ]
        },
        {
         "customdata": [
          [
           "IPC",
           1968,
           100,
           null,
           "International Patent Classification"
          ],
          [
           "B",
           1968,
           18397,
           23.047,
           "PERFORMING OPERATIONS; TRANSPORTING"
          ],
          [
           "C",
           1968,
           15147,
           18.975,
           "CHEMISTRY; METALLURGY"
          ],
          [
           "H",
           1968,
           10469,
           13.115,
           "ELECTRICITY"
          ],
          [
           "A",
           1968,
           9863,
           12.356,
           "HUMAN NECESSITIES"
          ],
          [
           "F",
           1968,
           9605,
           12.033,
           "MECHANICAL ENGINEERING; LIGHTING; HEATING; WEAPONS..."
          ],
          [
           "G",
           1968,
           9560,
           11.976,
           "PHYSICS"
          ],
          [
           "E",
           1968,
           3484,
           4.365,
           "FIXED CONSTRUCTIONS"
          ],
          [
           "D",
           1968,
           3300,
           4.134,
           "TEXTILES; PAPER"
          ],
          [
           "C07",
           1974,
           5291,
           6.628,
           "ORGANIC CHEMISTRY"
          ],
          [
           "H01",
           1968,
           3995,
           5.005,
           "ELECTRIC ELEMENTS"
          ],
          [
           "G01",
           1968,
           3135,
           3.927,
           "MEASURING; TESTING"
          ],
          [
           "H04",
           1968,
           2914,
           3.65,
           "ELECTRIC COMMUNICATION TECHNIQUE"
          ],
          [
           "A61",
           1968,
           2871,
           3.597,
           "MEDICAL OR VETERINARY SCIENCE; HYGIENE"
          ],
          [
           "F16",
           1968,
           2693,
           3.374,
           "ENGINEERING ELEMENTS OR UNITS; GENERAL MEASURES FO..."
          ],
          [
           "B65",
           1968,
           2330,
           2.919,
           "CONVEYING; PACKING; STORING; HANDLING THIN OR FILA..."
          ],
          [
           "C08",
           1968,
           1951,
           2.444,
           "ORGANIC MACROMOLECULAR COMPOUNDS; THEIR PREPARATIO..."
          ],
          [
           "B60",
           1968,
           1876,
           2.35,
           "VEHICLES IN GENERAL"
          ],
          [
           "A01",
           1968,
           1656,
           2.075,
           "AGRICULTURE; FORESTRY; ANIMAL HUSBANDRY; HUNTING; ..."
          ],
          [
           "C09",
           1968,
           1650,
           2.067,
           "DYES; PAINTS; POLISHES; NATURAL RESINS; ADHESIVES;..."
          ],
          [
           "B41",
           1985,
           1594,
           1.997,
           "PRINTING; LINING MACHINES; TYPEWRITERS; STAMPS"
          ],
          [
           "G06",
           1968,
           1537,
           1.925,
           "COMPUTING; CALCULATING OR COUNTING"
          ],
          [
           "B01",
           1968,
           1480,
           1.854,
           "PHYSICAL OR CHEMICAL PROCESSES OR APPARATUS IN GEN..."
          ],
          [
           "A47",
           1968,
           1399,
           1.753,
           "FURNITURE; DOMESTIC ARTICLES OR APPLIANCES; COFFEE..."
          ],
          [
           "H02",
           1968,
           1341,
           1.68,
           "GENERATION, CONVERSION, OR DISTRIBUTION OF ELECTRI..."
          ],
          [
           "B29",
           1968,
           1238,
           1.551,
           "WORKING OF PLASTICS; WORKING OF SUBSTANCES IN A PL..."
          ],
          [
           "B23",
           1968,
           1215,
           1.522,
           "MACHINE TOOLS; METAL-WORKING NOT OTHERWISE PROVIDE..."
          ],
          [
           "C10",
           1968,
           1197,
           1.5,
           "PETROLEUM, GAS OR COKE INDUSTRIES; TECHNICAL GASES..."
          ],
          [
           "F02",
           1968,
           1190,
           1.491,
           "COMBUSTION ENGINES; HOT-GAS OR COMBUSTION-PRODUCT ..."
          ],
          [
           "H03",
           1968,
           1107,
           1.387,
           "ELECTRONIC CIRCUITRY"
          ],
          [
           "D06",
           1968,
           1070,
           1.34,
           "TREATMENT OF TEXTILES OR THE LIKE; LAUNDERING; FLE..."
          ],
          [
           "A63",
           1968,
           987,
           1.236,
           "SPORTS; GAMES; AMUSEMENTS"
          ],
          [
           "B21",
           1968,
           985,
           1.234,
           "MECHANICAL METAL-WORKING WITHOUT ESSENTIALLY REMOV..."
          ],
          [
           "C01",
           1968,
           938,
           1.175,
           "INORGANIC CHEMISTRY"
          ],
          [
           "A23",
           1968,
           834,
           1.045,
           "FOODS, FOODSTUFFS OR NON-ALCOHOLIC BEVERAGES; PREP..."
          ],
          [
           "G03",
           1985,
           830,
           1.04,
           "PHOTOGRAPHY; CINEMATOGRAPHY; ANALOGOUS TECHNIQUES ..."
          ],
          [
           "B62",
           1968,
           824,
           1.032,
           "LAND VEHICLES FOR TRAVELLING OTHERWISE THAN ON RAI..."
          ],
          [
           "C12",
           1968,
           769,
           0.963,
           "BIOCHEMISTRY; BEER; SPIRITS; WINE; VINEGAR; MICROB..."
          ],
          [
           "F24",
           1968,
           761,
           0.953,
           "HEATING; RANGES; VENTILATING"
          ],
          [
           "B63",
           1968,
           742,
           0.93,
           "SHIPS OR OTHER WATERBORNE VESSELS; RELATED EQUIPME..."
          ],
          [
           "F41",
           1968,
           737,
           0.923,
           "WEAPONS"
          ],
          [
           "B64",
           1968,
           732,
           0.917,
           "AIRCRAFT; AVIATION; COSMONAUTICS"
          ],
          [
           "E04",
           1968,
           719,
           0.901,
           "BUILDING"
          ],
          [
           "G11",
           1968,
           718,
           0.899,
           "INFORMATION STORAGE"
          ],
          [
           "F01",
           1968,
           711,
           0.891,
           "MACHINES OR ENGINES IN GENERAL; ENGINE PLANTS IN G..."
          ],
          [
           "E21",
           1968,
           701,
           0.878,
           "EARTH OR ROCK DRILLING; MINING"
          ],
          [
           "E05",
           1968,
           654,
           0.819,
           "LOCKS; KEYS; WINDOW OR DOOR FITTINGS; SAFES"
          ],
          [
           "H10",
           2023,
           637,
           0.798,
           "SEMICONDUCTOR DEVICES; ELECTRIC SOLID-STATE DEVICE..."
          ],
          [
           "F04",
           1968,
           580,
           0.727,
           "POSITIVE-DISPLACEMENT MACHINES FOR LIQUIDS; PUMPS ..."
          ],
          [
           "B61",
           1968,
           576,
           0.722,
           "RAILWAYS"
          ],
          [
           "F23",
           1968,
           549,
           0.688,
           "COMBUSTION APPARATUS; COMBUSTION PROCESSES"
          ]
         ],
         "hovertemplate": "<b>%{customdata[0]}</b><br>Created: %{customdata[1]}<br>Groups: %{customdata[2]}<br>Percentage: %{customdata[3]:.3f}%<br>Title: %{customdata[4]}<extra></extra>",
         "marker": {
          "color": {
           "bdata": "sAewB7AHsAewB7AHsAewB7AHtgewB7AHsAewB7AHsAewB7AHsAewB8EHsAewB7AHsAewB7AHsAewB7AHsAewB7AHsAewB8EHsAewB7AHsAewB7AHsAewB7AHsAewB+cHsAewB7AH",
           "dtype": "i2"
          },
          "colorbar": {
           "title": {
            "text": "Creation Year"
           }
          },
          "colorscale": [
           [
            0,
            "rgb(0,104,55)"
           ],
           [
            0.1,
            "rgb(26,152,80)"
           ],
           [
            0.2,
            "rgb(102,189,99)"
           ],
           [
            0.3,
            "rgb(166,217,106)"
           ],
           [
            0.4,
            "rgb(217,239,139)"
           ],
           [
            0.5,
            "rgb(255,255,191)"
           ],
           [
            0.6,
            "rgb(254,224,139)"
           ],
           [
            0.7,
            "rgb(253,174,97)"
           ],
           [
            0.8,
            "rgb(244,109,67)"
           ],
           [
            0.9,
            "rgb(215,48,39)"
           ],
           [
            1,
            "rgb(165,0,38)"
           ]
          ],
          "line": {
           "color": "white",
           "width": 2
          },
          "size": {
           "bdata": "AAAAAAAANEB2MDdaVvRwQFfZD3muxG5A0YKIQ1yUaUBTx2hBAtRoQAQE9JZTgGhAs4KhvJ1xaECpvcPnQINdQCyFu0kKuVxAuC/AClAvYkDcrAidXppfQLMTvmfb/ltAZP3CFKH9WkC9TNSUdcpaQJytMZ9y8llA+MIYxZEiWEBbBGWtxhVWQNHX6FcKqFVAGpxUVdRYVEAPZsRzYk9UQNmsdxdk9lNAbmx2DjCaU0DJ4D4hQjxTQICHXVWcs1JAdZJFPlFPUkDPjPdstZdRQFqcvEOtbVFApcaGCIFMUUAgieVEiT9RQA4vyRnEolBAGUN5R/1aUEAo6Gpso2pPQKvg8VR8Yk9A/d1wBnWgTkAs95D0CeFMQB2gGdlJz0xAF41VG5W0TED8R7HvGLtLQCNLTRETlktAqAXbd1s9S0DS3KyL0iVLQPU4myY1DktAGXHNy23QSkAvKKlUp8tKQKiUxCAiqkpALqG0pvV5SkCUG1zly5JJQLUu1dslPUlAJjV34ksVSEAAAAAAAABIQE7XepFFbkdA",
           "dtype": "f8"
          }
         },
         "mode": "markers+text",
         "showlegend": false,
         "text": [
          "IPC",
          "B",
          "C",
          "H",
          "A",
          "F",
          "G",
          "E",
          "D",
          "C07",
          "H01",
          "G01",
          "H04",
          "A61",
          "F16",
          "B65",
          "C08",
          "B60",
          "A01",
          "C09",
          "B41",
          "G06",
          "B01",
          "A47",
          "H02",
          "B29",
          "B23",
          "C10",
          "F02",
          "H03",
          "D06",
          "A63",
          "B21",
          "C01",
          "A23",
          "G03",
          "B62",
          "C12",
          "F24",
          "B63",
          "F41",
          "B64",
          "E04",
          "G11",
          "F01",
          "E21",
          "E05",
          "H10",
          "F04",
          "B61",
          "F23"
         ],
         "textposition": "middle center",
         "type": "scatter",
         "x": {
          "bdata": "AAAAAAAAAAAAAAAAAAB5QLhmE8B7rXFAy8/Pr5uTGz23ZhPAe61xwAAAAAAAAHnAuWYTwHutccDY29vDtK40vbdmE8B7rXFAAAAAAADAgkA3YbtRY4qCQHu4Ht2/6oFAKih9i6bkgECACWlp5Pt+QJrGu0dMfXtAsvp7iYBhd0ABAAAAAMByQHiP9TOMZmtAu1QD5WawYECxNopsRWtGQJM2imxFa0bAuVQD5WawYMB6j/UzjGZrwP7/////v3LAsfp7iYBhd8CaxrtHTH17wIEJaWnk+37AKih9i6bkgMB7uB7dv+qBwDdhu1FjioLAAAAAAADAgsA3YbtRY4qCwHy4Ht2/6oHAKih9i6bkgMCACWlp5Pt+wJnGu0dMfXvAs/p7iYBhd8AFAAAAAMBywHWP9TOMZmvAvlQD5WawYMDNNopsRWtGwK42imxFa0ZAt1QD5WawYECAj/UzjGZrQPn/////v3JAsPp7iYBhd0CdxrtHTH17QHsJaWnk+35AKih9i6bkgEB7uB7dv+qBQDZhu1FjioJA",
          "dtype": "f8"
         },
         "y": {
          "bdata": "AAAAAAAAAAAAAAAAAAAAALdmE8B7rXFAAAAAAAAAeUC4ZhPAe61xQMvPz6+bkys9t2YTwHutccAAAAAAAAB5wLlmE8B7rXHAAAAAAAAAAABqQuoXOVtWQOieHaJMG2ZAo5pgrUhFcEAmJ+xf3x91QBNiNYWogXlAgOAiDZVRfUDsvCME7DyAQI24jqkxdIFAxBgia6dHgkDkYKYGlLKCQORgpgaUsoJAxBgia6dHgkCNuI6pMXSBQOy8IwTsPIBAgeAiDZVRfUATYjWFqIF5QCMn7F/fH3VApJpgrUhFcEDwnh2iTBtmQHZC6hc5W1ZA2Nvbw7SuND1YQuoXOVtWwOKeHaJMG2bAoppgrUhFcMAmJ+xf3x91wBRiNYWogXnAf+AiDZVRfcDqvCME7DyAwI64jqkxdIHAxBgia6dHgsDkYKYGlLKCwORgpgaUsoLAxBgia6dHgsCNuI6pMXSBwO68IwTsPIDAgeAiDZVRfcAQYjWFqIF5wC0n7F/fH3XApZpgrUhFcMDynh2iTBtmwI1C6hc5W1bA",
          "dtype": "f8"
         }
        }
       ],
       "layout": {
        "annotations": [
         {
          "font": {
           "size": 12
          },
          "showarrow": false,
          "text": "Interactive Patent Classification Network<br>Click and drag to explore",
          "x": 0.005,
          "xanchor": "left",
          "xref": "paper",
          "y": -0.002,
          "yanchor": "bottom",
          "yref": "paper"
         }
        ],
        "height": 800,
        "hovermode": "closest",
        "margin": {
         "b": 20,
         "l": 5,
         "r": 5,
         "t": 40
        },
        "showlegend": false,
        "template": {
         "data": {
          "bar": [
           {
            "error_x": {
             "color": "#2a3f5f"
            },
            "error_y": {
             "color": "#2a3f5f"
            },
            "marker": {
             "line": {
              "color": "#E5ECF6",
              "width": 0.5
             },
             "pattern": {
              "fillmode": "overlay",
              "size": 10,
              "solidity": 0.2
             }
            },
            "type": "bar"
           }
          ],
          "barpolar": [
           {
            "marker": {
             "line": {
              "color": "#E5ECF6",
              "width": 0.5
             },
             "pattern": {
              "fillmode": "overlay",
              "size": 10,
              "solidity": 0.2
             }
            },
            "type": "barpolar"
           }
          ],
          "carpet": [
           {
            "aaxis": {
             "endlinecolor": "#2a3f5f",
             "gridcolor": "white",
             "linecolor": "white",
             "minorgridcolor": "white",
             "startlinecolor": "#2a3f5f"
            },
            "baxis": {
             "endlinecolor": "#2a3f5f",
             "gridcolor": "white",
             "linecolor": "white",
             "minorgridcolor": "white",
             "startlinecolor": "#2a3f5f"
            },
            "type": "carpet"
           }
          ],
          "choropleth": [
           {
            "colorbar": {
             "outlinewidth": 0,
             "ticks": ""
            },
            "type": "choropleth"
           }
          ],
          "contour": [
           {
            "colorbar": {
             "outlinewidth": 0,
             "ticks": ""
            },
            "colorscale": [
             [
              0,
              "#0d0887"
             ],
             [
              0.1111111111111111,
              "#46039f"
             ],
             [
              0.2222222222222222,
              "#7201a8"
             ],
             [
              0.3333333333333333,
              "#9c179e"
             ],
             [
              0.4444444444444444,
              "#bd3786"
             ],
             [
              0.5555555555555556,
              "#d8576b"
             ],
             [
              0.6666666666666666,
              "#ed7953"
             ],
             [
              0.7777777777777778,
              "#fb9f3a"
             ],
             [
              0.8888888888888888,
              "#fdca26"
             ],
             [
              1,
              "#f0f921"
             ]
            ],
            "type": "contour"
           }
          ],
          "contourcarpet": [
           {
            "colorbar": {
             "outlinewidth": 0,
             "ticks": ""
            },
            "type": "contourcarpet"
           }
          ],
          "heatmap": [
           {
            "colorbar": {
             "outlinewidth": 0,
             "ticks": ""
            },
            "colorscale": [
             [
              0,
              "#0d0887"
             ],
             [
              0.1111111111111111,
              "#46039f"
             ],
             [
              0.2222222222222222,
              "#7201a8"
             ],
             [
              0.3333333333333333,
              "#9c179e"
             ],
             [
              0.4444444444444444,
              "#bd3786"
             ],
             [
              0.5555555555555556,
              "#d8576b"
             ],
             [
              0.6666666666666666,
              "#ed7953"
             ],
             [
              0.7777777777777778,
              "#fb9f3a"
             ],
             [
              0.8888888888888888,
              "#fdca26"
             ],
             [
              1,
              "#f0f921"
             ]
            ],
            "type": "heatmap"
           }
          ],
          "histogram": [
           {
            "marker": {
             "pattern": {
              "fillmode": "overlay",
              "size": 10,
              "solidity": 0.2
             }
            },
            "type": "histogram"
           }
          ],
          "histogram2d": [
           {
            "colorbar": {
             "outlinewidth": 0,
             "ticks": ""
            },
            "colorscale": [
             [
              0,
              "#0d0887"
             ],
             [
              0.1111111111111111,
              "#46039f"
             ],
             [
              0.2222222222222222,
              "#7201a8"
             ],
             [
              0.3333333333333333,
              "#9c179e"
             ],
             [
              0.4444444444444444,
              "#bd3786"
             ],
             [
              0.5555555555555556,
              "#d8576b"
             ],
             [
              0.6666666666666666,
              "#ed7953"
             ],
             [
              0.7777777777777778,
              "#fb9f3a"
             ],
             [
              0.8888888888888888,
              "#fdca26"
             ],
             [
              1,
              "#f0f921"
             ]
            ],
            "type": "histogram2d"
           }
          ],
          "histogram2dcontour": [
           {
            "colorbar": {
             "outlinewidth": 0,
             "ticks": ""
            },
            "colorscale": [
             [
              0,
              "#0d0887"
             ],
             [
              0.1111111111111111,
              "#46039f"
             ],
             [
              0.2222222222222222,
              "#7201a8"
             ],
             [
              0.3333333333333333,
              "#9c179e"
             ],
             [
              0.4444444444444444,
              "#bd3786"
             ],
             [
              0.5555555555555556,
              "#d8576b"
             ],
             [
              0.6666666666666666,
              "#ed7953"
             ],
             [
              0.7777777777777778,
              "#fb9f3a"
             ],
             [
              0.8888888888888888,
              "#fdca26"
             ],
             [
              1,
              "#f0f921"
             ]
            ],
            "type": "histogram2dcontour"
           }
          ],
          "mesh3d": [
           {
            "colorbar": {
             "outlinewidth": 0,
             "ticks": ""
            },
            "type": "mesh3d"
           }
          ],
          "parcoords": [
           {
            "line": {
             "colorbar": {
              "outlinewidth": 0,
              "ticks": ""
             }
            },
            "type": "parcoords"
           }
          ],
          "pie": [
           {
            "automargin": true,
            "type": "pie"
           }
          ],
          "scatter": [
           {
            "fillpattern": {
             "fillmode": "overlay",
             "size": 10,
             "solidity": 0.2
            },
            "type": "scatter"
           }
          ],
          "scatter3d": [
           {
            "line": {
             "colorbar": {
              "outlinewidth": 0,
              "ticks": ""
             }
            },
            "marker": {
             "colorbar": {
              "outlinewidth": 0,
              "ticks": ""
             }
            },
            "type": "scatter3d"
           }
          ],
          "scattercarpet": [
           {
            "marker": {
             "colorbar": {
              "outlinewidth": 0,
              "ticks": ""
             }
            },
            "type": "scattercarpet"
           }
          ],
          "scattergeo": [
           {
            "marker": {
             "colorbar": {
              "outlinewidth": 0,
              "ticks": ""
             }
            },
            "type": "scattergeo"
           }
          ],
          "scattergl": [
           {
            "marker": {
             "colorbar": {
              "outlinewidth": 0,
              "ticks": ""
             }
            },
            "type": "scattergl"
           }
          ],
          "scattermap": [
           {
            "marker": {
             "colorbar": {
              "outlinewidth": 0,
              "ticks": ""
             }
            },
            "type": "scattermap"
           }
          ],
          "scattermapbox": [
           {
            "marker": {
             "colorbar": {
              "outlinewidth": 0,
              "ticks": ""
             }
            },
            "type": "scattermapbox"
           }
          ],
          "scatterpolar": [
           {
            "marker": {
             "colorbar": {
              "outlinewidth": 0,
              "ticks": ""
             }
            },
            "type": "scatterpolar"
           }
          ],
          "scatterpolargl": [
           {
            "marker": {
             "colorbar": {
              "outlinewidth": 0,
              "ticks": ""
             }
            },
            "type": "scatterpolargl"
           }
          ],
          "scatterternary": [
           {
            "marker": {
             "colorbar": {
              "outlinewidth": 0,
              "ticks": ""
             }
            },
            "type": "scatterternary"
           }
          ],
          "surface": [
           {
            "colorbar": {
             "outlinewidth": 0,
             "ticks": ""
            },
            "colorscale": [
             [
              0,
              "#0d0887"
             ],
             [
              0.1111111111111111,
              "#46039f"
             ],
             [
              0.2222222222222222,
              "#7201a8"
             ],
             [
              0.3333333333333333,
              "#9c179e"
             ],
             [
              0.4444444444444444,
              "#bd3786"
             ],
             [
              0.5555555555555556,
              "#d8576b"
             ],
             [
              0.6666666666666666,
              "#ed7953"
             ],
             [
              0.7777777777777778,
              "#fb9f3a"
             ],
             [
              0.8888888888888888,
              "#fdca26"
             ],
             [
              1,
              "#f0f921"
             ]
            ],
            "type": "surface"
           }
          ],
          "table": [
           {
            "cells": {
             "fill": {
              "color": "#EBF0F8"
             },
             "line": {
              "color": "white"
             }
            },
            "header": {
             "fill": {
              "color": "#C8D4E3"
             },
             "line": {
              "color": "white"
             }
            },
            "type": "table"
           }
          ]
         },
         "layout": {
          "annotationdefaults": {
           "arrowcolor": "#2a3f5f",
           "arrowhead": 0,
           "arrowwidth": 1
          },
          "autotypenumbers": "strict",
          "coloraxis": {
           "colorbar": {
            "outlinewidth": 0,
            "ticks": ""
           }
          },
          "colorscale": {
           "diverging": [
            [
             0,
             "#8e0152"
            ],
            [
             0.1,
             "#c51b7d"
            ],
            [
             0.2,
             "#de77ae"
            ],
            [
             0.3,
             "#f1b6da"
            ],
            [
             0.4,
             "#fde0ef"
            ],
            [
             0.5,
             "#f7f7f7"
            ],
            [
             0.6,
             "#e6f5d0"
            ],
            [
             0.7,
             "#b8e186"
            ],
            [
             0.8,
             "#7fbc41"
            ],
            [
             0.9,
             "#4d9221"
            ],
            [
             1,
             "#276419"
            ]
           ],
           "sequential": [
            [
             0,
             "#0d0887"
            ],
            [
             0.1111111111111111,
             "#46039f"
            ],
            [
             0.2222222222222222,
             "#7201a8"
            ],
            [
             0.3333333333333333,
             "#9c179e"
            ],
            [
             0.4444444444444444,
             "#bd3786"
            ],
            [
             0.5555555555555556,
             "#d8576b"
            ],
            [
             0.6666666666666666,
             "#ed7953"
            ],
            [
             0.7777777777777778,
             "#fb9f3a"
            ],
            [
             0.8888888888888888,
             "#fdca26"
            ],
            [
             1,
             "#f0f921"
            ]
           ],
           "sequentialminus": [
            [
             0,
             "#0d0887"
            ],
            [
             0.1111111111111111,
             "#46039f"
            ],
            [
             0.2222222222222222,
             "#7201a8"
            ],
            [
             0.3333333333333333,
             "#9c179e"
            ],
            [
             0.4444444444444444,
             "#bd3786"
            ],
            [
             0.5555555555555556,
             "#d8576b"
            ],
            [
             0.6666666666666666,
             "#ed7953"
            ],
            [
             0.7777777777777778,
             "#fb9f3a"
            ],
            [
             0.8888888888888888,
             "#fdca26"
            ],
            [
             1,
             "#f0f921"
            ]
           ]
          },
          "colorway": [
           "#636efa",
           "#EF553B",
           "#00cc96",
           "#ab63fa",
           "#FFA15A",
           "#19d3f3",
           "#FF6692",
           "#B6E880",
           "#FF97FF",
           "#FECB52"
          ],
          "font": {
           "color": "#2a3f5f"
          },
          "geo": {
           "bgcolor": "white",
           "lakecolor": "white",
           "landcolor": "#E5ECF6",
           "showlakes": true,
           "showland": true,
           "subunitcolor": "white"
          },
          "hoverlabel": {
           "align": "left"
          },
          "hovermode": "closest",
          "mapbox": {
           "style": "light"
          },
          "paper_bgcolor": "white",
          "plot_bgcolor": "#E5ECF6",
          "polar": {
           "angularaxis": {
            "gridcolor": "white",
            "linecolor": "white",
            "ticks": ""
           },
           "bgcolor": "#E5ECF6",
           "radialaxis": {
            "gridcolor": "white",
            "linecolor": "white",
            "ticks": ""
           }
          },
          "scene": {
           "xaxis": {
            "backgroundcolor": "#E5ECF6",
            "gridcolor": "white",
            "gridwidth": 2,
            "linecolor": "white",
            "showbackground": true,
            "ticks": "",
            "zerolinecolor": "white"
           },
           "yaxis": {
            "backgroundcolor": "#E5ECF6",
            "gridcolor": "white",
            "gridwidth": 2,
            "linecolor": "white",
            "showbackground": true,
            "ticks": "",
            "zerolinecolor": "white"
           },
           "zaxis": {
            "backgroundcolor": "#E5ECF6",
            "gridcolor": "white",
            "gridwidth": 2,
            "linecolor": "white",
            "showbackground": true,
            "ticks": "",
            "zerolinecolor": "white"
           }
          },
          "shapedefaults": {
           "line": {
            "color": "#2a3f5f"
           }
          },
          "ternary": {
           "aaxis": {
            "gridcolor": "white",
            "linecolor": "white",
            "ticks": ""
           },
           "baxis": {
            "gridcolor": "white",
            "linecolor": "white",
            "ticks": ""
           },
           "bgcolor": "#E5ECF6",
           "caxis": {
            "gridcolor": "white",
            "linecolor": "white",
            "ticks": ""
           }
          },
          "title": {
           "x": 0.05
          },
          "xaxis": {
           "automargin": true,
           "gridcolor": "white",
           "linecolor": "white",
           "ticks": "",
           "title": {
            "standoff": 15
           },
           "zerolinecolor": "white",
           "zerolinewidth": 2
          },
          "yaxis": {
           "automargin": true,
           "gridcolor": "white",
           "linecolor": "white",
           "ticks": "",
           "title": {
            "standoff": 15
           },
           "zerolinecolor": "white",
           "zerolinewidth": 2
          }
         }
        },
        "title": {
         "text": "IPC Classification Network Tree",
         "x": 0.5
        },
        "width": 1000,
        "xaxis": {
         "showgrid": false,
         "showticklabels": false,
         "zeroline": false
        },
        "yaxis": {
         "showgrid": false,
         "showticklabels": false,
         "zeroline": false
        }
       }
      },
      "text/html": [
       "<div>            <script src=\"https://cdnjs.cloudflare.com/ajax/libs/mathjax/2.7.5/MathJax.js?config=TeX-AMS-MML_SVG\"></script><script type=\"text/javascript\">if (window.MathJax && window.MathJax.Hub && window.MathJax.Hub.Config) {window.MathJax.Hub.Config({SVG: {font: \"STIX-Web\"}});}</script>                <script type=\"text/javascript\">window.PlotlyConfig = {MathJaxConfig: 'local'};</script>\n",
       "        <script charset=\"utf-8\" src=\"https://cdn.plot.ly/plotly-3.0.1.min.js\"></script>                <div id=\"740a4cb1-a216-4709-b060-ac70bec463b7\" class=\"plotly-graph-div\" style=\"height:800px; width:1000px;\"></div>            <script type=\"text/javascript\">                window.PLOTLYENV=window.PLOTLYENV || {};                                if (document.getElementById(\"740a4cb1-a216-4709-b060-ac70bec463b7\")) {                    Plotly.newPlot(                        \"740a4cb1-a216-4709-b060-ac70bec463b7\",                        [{\"hoverinfo\":\"none\",\"line\":{\"color\":\"#888\",\"width\":1},\"mode\":\"lines\",\"showlegend\":false,\"x\":[0.0,400.0,null],\"y\":[0.0,0.0,null],\"type\":\"scatter\"},{\"hoverinfo\":\"none\",\"line\":{\"color\":\"#888\",\"width\":1},\"mode\":\"lines\",\"showlegend\":false,\"x\":[0.0,282.842712474619,null],\"y\":[0.0,282.84271247461896,null],\"type\":\"scatter\"},{\"hoverinfo\":\"none\",\"line\":{\"color\":\"#888\",\"width\":1},\"mode\":\"lines\",\"showlegend\":false,\"x\":[0.0,2.4492935982947064e-14,null],\"y\":[0.0,400.0,null],\"type\":\"scatter\"},{\"hoverinfo\":\"none\",\"line\":{\"color\":\"#888\",\"width\":1},\"mode\":\"lines\",\"showlegend\":false,\"x\":[0.0,-282.84271247461896,null],\"y\":[0.0,282.842712474619,null],\"type\":\"scatter\"},{\"hoverinfo\":\"none\",\"line\":{\"color\":\"#888\",\"width\":1},\"mode\":\"lines\",\"showlegend\":false,\"x\":[0.0,-400.0,null],\"y\":[0.0,4.898587196589413e-14,null],\"type\":\"scatter\"},{\"hoverinfo\":\"none\",\"line\":{\"color\":\"#888\",\"width\":1},\"mode\":\"lines\",\"showlegend\":false,\"x\":[0.0,-282.8427124746191,null],\"y\":[0.0,-282.84271247461896,null],\"type\":\"scatter\"},{\"hoverinfo\":\"none\",\"line\":{\"color\":\"#888\",\"width\":1},\"mode\":\"lines\",\"showlegend\":false,\"x\":[0.0,-7.347880794884119e-14,null],\"y\":[0.0,-400.0,null],\"type\":\"scatter\"},{\"hoverinfo\":\"none\",\"line\":{\"color\":\"#888\",\"width\":1},\"mode\":\"lines\",\"showlegend\":false,\"x\":[0.0,282.84271247461896,null],\"y\":[0.0,-282.8427124746191,null],\"type\":\"scatter\"},{\"hoverinfo\":\"none\",\"line\":{\"color\":\"#888\",\"width\":1},\"mode\":\"lines\",\"showlegend\":false,\"x\":[282.842712474619,600.0,null],\"y\":[282.84271247461896,0.0,null],\"type\":\"scatter\"},{\"hoverinfo\":\"none\",\"line\":{\"color\":\"#888\",\"width\":1},\"mode\":\"lines\",\"showlegend\":false,\"x\":[2.4492935982947064e-14,593.2984957350772,null],\"y\":[400.0,89.42535970570466,null],\"type\":\"scatter\"},{\"hoverinfo\":\"none\",\"line\":{\"color\":\"#888\",\"width\":1},\"mode\":\"lines\",\"showlegend\":false,\"x\":[-282.8427124746191,573.3436834716844,null],\"y\":[-282.84271247461896,176.85310464654253,null],\"type\":\"scatter\"},{\"hoverinfo\":\"none\",\"line\":{\"color\":\"#888\",\"width\":1},\"mode\":\"lines\",\"showlegend\":false,\"x\":[2.4492935982947064e-14,540.5813207414515,null],\"y\":[400.0,260.33024347053487,null],\"type\":\"scatter\"},{\"hoverinfo\":\"none\",\"line\":{\"color\":\"#888\",\"width\":1},\"mode\":\"lines\",\"showlegend\":false,\"x\":[-282.84271247461896,495.74326458959695,null],\"y\":[282.842712474619,337.99203483817325,null],\"type\":\"scatter\"},{\"hoverinfo\":\"none\",\"line\":{\"color\":\"#888\",\"width\":1},\"mode\":\"lines\",\"showlegend\":false,\"x\":[-400.0,439.8311230978958,null],\"y\":[4.898587196589413e-14,408.10364266255164,null],\"type\":\"scatter\"},{\"hoverinfo\":\"none\",\"line\":{\"color\":\"#888\",\"width\":1},\"mode\":\"lines\",\"showlegend\":false,\"x\":[400.0,374.09388111524015,null],\"y\":[0.0,469.0988894808179,null],\"type\":\"scatter\"},{\"hoverinfo\":\"none\",\"line\":{\"color\":\"#888\",\"width\":1},\"mode\":\"lines\",\"showlegend\":false,\"x\":[282.842712474619,300.00000000000006,null],\"y\":[282.84271247461896,519.6152422706632,null],\"type\":\"scatter\"},{\"hoverinfo\":\"none\",\"line\":{\"color\":\"#888\",\"width\":1},\"mode\":\"lines\",\"showlegend\":false,\"x\":[400.0,219.204614619837,null],\"y\":[0.0,558.5242491865225,null],\"type\":\"scatter\"},{\"hoverinfo\":\"none\",\"line\":{\"color\":\"#888\",\"width\":1},\"mode\":\"lines\",\"showlegend\":false,\"x\":[-282.84271247461896,133.51256037378866,null],\"y\":[282.842712474619,584.9567473090942,null],\"type\":\"scatter\"},{\"hoverinfo\":\"none\",\"line\":{\"color\":\"#888\",\"width\":1},\"mode\":\"lines\",\"showlegend\":false,\"x\":[282.842712474619,44.83805615185464,null],\"y\":[282.84271247461896,598.3222783087081,null],\"type\":\"scatter\"},{\"hoverinfo\":\"none\",\"line\":{\"color\":\"#888\",\"width\":1},\"mode\":\"lines\",\"showlegend\":false,\"x\":[400.0,-44.838056151854424,null],\"y\":[0.0,598.3222783087081,null],\"type\":\"scatter\"},{\"hoverinfo\":\"none\",\"line\":{\"color\":\"#888\",\"width\":1},\"mode\":\"lines\",\"showlegend\":false,\"x\":[-282.8427124746191,-133.5125603737886,null],\"y\":[-282.84271247461896,584.9567473090942,null],\"type\":\"scatter\"},{\"hoverinfo\":\"none\",\"line\":{\"color\":\"#888\",\"width\":1},\"mode\":\"lines\",\"showlegend\":false,\"x\":[400.0,-219.20461461983706,null],\"y\":[0.0,558.5242491865225,null],\"type\":\"scatter\"},{\"hoverinfo\":\"none\",\"line\":{\"color\":\"#888\",\"width\":1},\"mode\":\"lines\",\"showlegend\":false,\"x\":[-282.84271247461896,-299.9999999999999,null],\"y\":[282.842712474619,519.6152422706632,null],\"type\":\"scatter\"},{\"hoverinfo\":\"none\",\"line\":{\"color\":\"#888\",\"width\":1},\"mode\":\"lines\",\"showlegend\":false,\"x\":[2.4492935982947064e-14,-374.0938811152401,null],\"y\":[400.0,469.09888948081795,null],\"type\":\"scatter\"},{\"hoverinfo\":\"none\",\"line\":{\"color\":\"#888\",\"width\":1},\"mode\":\"lines\",\"showlegend\":false,\"x\":[400.0,-439.8311230978958,null],\"y\":[0.0,408.10364266255164,null],\"type\":\"scatter\"},{\"hoverinfo\":\"none\",\"line\":{\"color\":\"#888\",\"width\":1},\"mode\":\"lines\",\"showlegend\":false,\"x\":[400.0,-495.743264589597,null],\"y\":[0.0,337.9920348381731,null],\"type\":\"scatter\"},{\"hoverinfo\":\"none\",\"line\":{\"color\":\"#888\",\"width\":1},\"mode\":\"lines\",\"showlegend\":false,\"x\":[282.842712474619,-540.5813207414515,null],\"y\":[282.84271247461896,260.3302434705349,null],\"type\":\"scatter\"},{\"hoverinfo\":\"none\",\"line\":{\"color\":\"#888\",\"width\":1},\"mode\":\"lines\",\"showlegend\":false,\"x\":[-400.0,-573.3436834716844,null],\"y\":[4.898587196589413e-14,176.85310464654276,null],\"type\":\"scatter\"},{\"hoverinfo\":\"none\",\"line\":{\"color\":\"#888\",\"width\":1},\"mode\":\"lines\",\"showlegend\":false,\"x\":[2.4492935982947064e-14,-593.2984957350772,null],\"y\":[400.0,89.42535970570484,null],\"type\":\"scatter\"},{\"hoverinfo\":\"none\",\"line\":{\"color\":\"#888\",\"width\":1},\"mode\":\"lines\",\"showlegend\":false,\"x\":[282.84271247461896,-600.0,null],\"y\":[-282.8427124746191,7.347880794884119e-14,null],\"type\":\"scatter\"},{\"hoverinfo\":\"none\",\"line\":{\"color\":\"#888\",\"width\":1},\"mode\":\"lines\",\"showlegend\":false,\"x\":[-282.84271247461896,-593.2984957350772,null],\"y\":[282.842712474619,-89.42535970570441,null],\"type\":\"scatter\"},{\"hoverinfo\":\"none\",\"line\":{\"color\":\"#888\",\"width\":1},\"mode\":\"lines\",\"showlegend\":false,\"x\":[400.0,-573.3436834716845,null],\"y\":[0.0,-176.85310464654236,null],\"type\":\"scatter\"},{\"hoverinfo\":\"none\",\"line\":{\"color\":\"#888\",\"width\":1},\"mode\":\"lines\",\"showlegend\":false,\"x\":[282.842712474619,-540.5813207414515,null],\"y\":[282.84271247461896,-260.3302434705348,null],\"type\":\"scatter\"},{\"hoverinfo\":\"none\",\"line\":{\"color\":\"#888\",\"width\":1},\"mode\":\"lines\",\"showlegend\":false,\"x\":[-282.84271247461896,-495.74326458959695,null],\"y\":[282.842712474619,-337.99203483817325,null],\"type\":\"scatter\"},{\"hoverinfo\":\"none\",\"line\":{\"color\":\"#888\",\"width\":1},\"mode\":\"lines\",\"showlegend\":false,\"x\":[-282.8427124746191,-439.8311230978957,null],\"y\":[-282.84271247461896,-408.1036426625517,null],\"type\":\"scatter\"},{\"hoverinfo\":\"none\",\"line\":{\"color\":\"#888\",\"width\":1},\"mode\":\"lines\",\"showlegend\":false,\"x\":[400.0,-374.0938811152402,null],\"y\":[0.0,-469.09888948081783,null],\"type\":\"scatter\"},{\"hoverinfo\":\"none\",\"line\":{\"color\":\"#888\",\"width\":1},\"mode\":\"lines\",\"showlegend\":false,\"x\":[282.842712474619,-300.0000000000003,null],\"y\":[282.84271247461896,-519.615242270663,null],\"type\":\"scatter\"},{\"hoverinfo\":\"none\",\"line\":{\"color\":\"#888\",\"width\":1},\"mode\":\"lines\",\"showlegend\":false,\"x\":[-400.0,-219.20461461983692,null],\"y\":[4.898587196589413e-14,-558.5242491865226,null],\"type\":\"scatter\"},{\"hoverinfo\":\"none\",\"line\":{\"color\":\"#888\",\"width\":1},\"mode\":\"lines\",\"showlegend\":false,\"x\":[400.0,-133.51256037378874,null],\"y\":[0.0,-584.9567473090942,null],\"type\":\"scatter\"},{\"hoverinfo\":\"none\",\"line\":{\"color\":\"#888\",\"width\":1},\"mode\":\"lines\",\"showlegend\":false,\"x\":[-400.0,-44.838056151854836,null],\"y\":[4.898587196589413e-14,-598.3222783087081,null],\"type\":\"scatter\"},{\"hoverinfo\":\"none\",\"line\":{\"color\":\"#888\",\"width\":1},\"mode\":\"lines\",\"showlegend\":false,\"x\":[400.0,44.838056151854616,null],\"y\":[0.0,-598.3222783087081,null],\"type\":\"scatter\"},{\"hoverinfo\":\"none\",\"line\":{\"color\":\"#888\",\"width\":1},\"mode\":\"lines\",\"showlegend\":false,\"x\":[-7.347880794884119e-14,133.51256037378855,null],\"y\":[-400.0,-584.9567473090942,null],\"type\":\"scatter\"},{\"hoverinfo\":\"none\",\"line\":{\"color\":\"#888\",\"width\":1},\"mode\":\"lines\",\"showlegend\":false,\"x\":[-282.8427124746191,219.20461461983723,null],\"y\":[-282.84271247461896,-558.5242491865225,null],\"type\":\"scatter\"},{\"hoverinfo\":\"none\",\"line\":{\"color\":\"#888\",\"width\":1},\"mode\":\"lines\",\"showlegend\":false,\"x\":[-400.0,299.9999999999996,null],\"y\":[4.898587196589413e-14,-519.6152422706634,null],\"type\":\"scatter\"},{\"hoverinfo\":\"none\",\"line\":{\"color\":\"#888\",\"width\":1},\"mode\":\"lines\",\"showlegend\":false,\"x\":[-7.347880794884119e-14,374.09388111524004,null],\"y\":[-400.0,-469.09888948081795,null],\"type\":\"scatter\"},{\"hoverinfo\":\"none\",\"line\":{\"color\":\"#888\",\"width\":1},\"mode\":\"lines\",\"showlegend\":false,\"x\":[-7.347880794884119e-14,439.83112309789595,null],\"y\":[-400.0,-408.10364266255147,null],\"type\":\"scatter\"},{\"hoverinfo\":\"none\",\"line\":{\"color\":\"#888\",\"width\":1},\"mode\":\"lines\",\"showlegend\":false,\"x\":[2.4492935982947064e-14,495.74326458959666,null],\"y\":[400.0,-337.99203483817365,null],\"type\":\"scatter\"},{\"hoverinfo\":\"none\",\"line\":{\"color\":\"#888\",\"width\":1},\"mode\":\"lines\",\"showlegend\":false,\"x\":[-400.0,540.5813207414515,null],\"y\":[4.898587196589413e-14,-260.330243470535,null],\"type\":\"scatter\"},{\"hoverinfo\":\"none\",\"line\":{\"color\":\"#888\",\"width\":1},\"mode\":\"lines\",\"showlegend\":false,\"x\":[400.0,573.3436834716844,null],\"y\":[0.0,-176.85310464654282,null],\"type\":\"scatter\"},{\"hoverinfo\":\"none\",\"line\":{\"color\":\"#888\",\"width\":1},\"mode\":\"lines\",\"showlegend\":false,\"x\":[-400.0,593.298495735077,null],\"y\":[4.898587196589413e-14,-89.42535970570516,null],\"type\":\"scatter\"},{\"customdata\":[[\"IPC\",1968,100,null,\"International Patent Classification\"],[\"B\",1968,18397,23.047,\"PERFORMING OPERATIONS; TRANSPORTING\"],[\"C\",1968,15147,18.975,\"CHEMISTRY; METALLURGY\"],[\"H\",1968,10469,13.115,\"ELECTRICITY\"],[\"A\",1968,9863,12.356,\"HUMAN NECESSITIES\"],[\"F\",1968,9605,12.033,\"MECHANICAL ENGINEERING; LIGHTING; HEATING; WEAPONS...\"],[\"G\",1968,9560,11.976,\"PHYSICS\"],[\"E\",1968,3484,4.365,\"FIXED CONSTRUCTIONS\"],[\"D\",1968,3300,4.134,\"TEXTILES; PAPER\"],[\"C07\",1974,5291,6.628,\"ORGANIC CHEMISTRY\"],[\"H01\",1968,3995,5.005,\"ELECTRIC ELEMENTS\"],[\"G01\",1968,3135,3.927,\"MEASURING; TESTING\"],[\"H04\",1968,2914,3.65,\"ELECTRIC COMMUNICATION TECHNIQUE\"],[\"A61\",1968,2871,3.597,\"MEDICAL OR VETERINARY SCIENCE; HYGIENE\"],[\"F16\",1968,2693,3.374,\"ENGINEERING ELEMENTS OR UNITS; GENERAL MEASURES FO...\"],[\"B65\",1968,2330,2.919,\"CONVEYING; PACKING; STORING; HANDLING THIN OR FILA...\"],[\"C08\",1968,1951,2.444,\"ORGANIC MACROMOLECULAR COMPOUNDS; THEIR PREPARATIO...\"],[\"B60\",1968,1876,2.35,\"VEHICLES IN GENERAL\"],[\"A01\",1968,1656,2.075,\"AGRICULTURE; FORESTRY; ANIMAL HUSBANDRY; HUNTING; ...\"],[\"C09\",1968,1650,2.067,\"DYES; PAINTS; POLISHES; NATURAL RESINS; ADHESIVES;...\"],[\"B41\",1985,1594,1.997,\"PRINTING; LINING MACHINES; TYPEWRITERS; STAMPS\"],[\"G06\",1968,1537,1.925,\"COMPUTING; CALCULATING OR COUNTING\"],[\"B01\",1968,1480,1.854,\"PHYSICAL OR CHEMICAL PROCESSES OR APPARATUS IN GEN...\"],[\"A47\",1968,1399,1.753,\"FURNITURE; DOMESTIC ARTICLES OR APPLIANCES; COFFEE...\"],[\"H02\",1968,1341,1.68,\"GENERATION, CONVERSION, OR DISTRIBUTION OF ELECTRI...\"],[\"B29\",1968,1238,1.551,\"WORKING OF PLASTICS; WORKING OF SUBSTANCES IN A PL...\"],[\"B23\",1968,1215,1.522,\"MACHINE TOOLS; METAL-WORKING NOT OTHERWISE PROVIDE...\"],[\"C10\",1968,1197,1.5,\"PETROLEUM, GAS OR COKE INDUSTRIES; TECHNICAL GASES...\"],[\"F02\",1968,1190,1.491,\"COMBUSTION ENGINES; HOT-GAS OR COMBUSTION-PRODUCT ...\"],[\"H03\",1968,1107,1.387,\"ELECTRONIC CIRCUITRY\"],[\"D06\",1968,1070,1.34,\"TREATMENT OF TEXTILES OR THE LIKE; LAUNDERING; FLE...\"],[\"A63\",1968,987,1.236,\"SPORTS; GAMES; AMUSEMENTS\"],[\"B21\",1968,985,1.234,\"MECHANICAL METAL-WORKING WITHOUT ESSENTIALLY REMOV...\"],[\"C01\",1968,938,1.175,\"INORGANIC CHEMISTRY\"],[\"A23\",1968,834,1.045,\"FOODS, FOODSTUFFS OR NON-ALCOHOLIC BEVERAGES; PREP...\"],[\"G03\",1985,830,1.04,\"PHOTOGRAPHY; CINEMATOGRAPHY; ANALOGOUS TECHNIQUES ...\"],[\"B62\",1968,824,1.032,\"LAND VEHICLES FOR TRAVELLING OTHERWISE THAN ON RAI...\"],[\"C12\",1968,769,0.963,\"BIOCHEMISTRY; BEER; SPIRITS; WINE; VINEGAR; MICROB...\"],[\"F24\",1968,761,0.953,\"HEATING; RANGES; VENTILATING\"],[\"B63\",1968,742,0.93,\"SHIPS OR OTHER WATERBORNE VESSELS; RELATED EQUIPME...\"],[\"F41\",1968,737,0.923,\"WEAPONS\"],[\"B64\",1968,732,0.917,\"AIRCRAFT; AVIATION; COSMONAUTICS\"],[\"E04\",1968,719,0.901,\"BUILDING\"],[\"G11\",1968,718,0.899,\"INFORMATION STORAGE\"],[\"F01\",1968,711,0.891,\"MACHINES OR ENGINES IN GENERAL; ENGINE PLANTS IN G...\"],[\"E21\",1968,701,0.878,\"EARTH OR ROCK DRILLING; MINING\"],[\"E05\",1968,654,0.819,\"LOCKS; KEYS; WINDOW OR DOOR FITTINGS; SAFES\"],[\"H10\",2023,637,0.798,\"SEMICONDUCTOR DEVICES; ELECTRIC SOLID-STATE DEVICE...\"],[\"F04\",1968,580,0.727,\"POSITIVE-DISPLACEMENT MACHINES FOR LIQUIDS; PUMPS ...\"],[\"B61\",1968,576,0.722,\"RAILWAYS\"],[\"F23\",1968,549,0.688,\"COMBUSTION APPARATUS; COMBUSTION PROCESSES\"]],\"hovertemplate\":\"\\u003cb\\u003e%{customdata[0]}\\u003c\\u002fb\\u003e\\u003cbr\\u003eCreated: %{customdata[1]}\\u003cbr\\u003eGroups: %{customdata[2]}\\u003cbr\\u003ePercentage: %{customdata[3]:.3f}%\\u003cbr\\u003eTitle: %{customdata[4]}\\u003cextra\\u003e\\u003c\\u002fextra\\u003e\",\"marker\":{\"color\":{\"dtype\":\"i2\",\"bdata\":\"sAewB7AHsAewB7AHsAewB7AHtgewB7AHsAewB7AHsAewB7AHsAewB8EHsAewB7AHsAewB7AHsAewB7AHsAewB7AHsAewB8EHsAewB7AHsAewB7AHsAewB7AHsAewB+cHsAewB7AH\"},\"colorbar\":{\"title\":{\"text\":\"Creation Year\"}},\"colorscale\":[[0.0,\"rgb(0,104,55)\"],[0.1,\"rgb(26,152,80)\"],[0.2,\"rgb(102,189,99)\"],[0.3,\"rgb(166,217,106)\"],[0.4,\"rgb(217,239,139)\"],[0.5,\"rgb(255,255,191)\"],[0.6,\"rgb(254,224,139)\"],[0.7,\"rgb(253,174,97)\"],[0.8,\"rgb(244,109,67)\"],[0.9,\"rgb(215,48,39)\"],[1.0,\"rgb(165,0,38)\"]],\"line\":{\"color\":\"white\",\"width\":2},\"size\":{\"dtype\":\"f8\",\"bdata\":\"AAAAAAAANEB2MDdaVvRwQFfZD3muxG5A0YKIQ1yUaUBTx2hBAtRoQAQE9JZTgGhAs4KhvJ1xaECpvcPnQINdQCyFu0kKuVxAuC\\u002fAClAvYkDcrAidXppfQLMTvmfb\\u002fltAZP3CFKH9WkC9TNSUdcpaQJytMZ9y8llA+MIYxZEiWEBbBGWtxhVWQNHX6FcKqFVAGpxUVdRYVEAPZsRzYk9UQNmsdxdk9lNAbmx2DjCaU0DJ4D4hQjxTQICHXVWcs1JAdZJFPlFPUkDPjPdstZdRQFqcvEOtbVFApcaGCIFMUUAgieVEiT9RQA4vyRnEolBAGUN5R\\u002f1aUEAo6Gpso2pPQKvg8VR8Yk9A\\u002fd1wBnWgTkAs95D0CeFMQB2gGdlJz0xAF41VG5W0TED8R7HvGLtLQCNLTRETlktAqAXbd1s9S0DS3KyL0iVLQPU4myY1DktAGXHNy23QSkAvKKlUp8tKQKiUxCAiqkpALqG0pvV5SkCUG1zly5JJQLUu1dslPUlAJjV34ksVSEAAAAAAAABIQE7XepFFbkdA\"}},\"mode\":\"markers+text\",\"showlegend\":false,\"text\":[\"IPC\",\"B\",\"C\",\"H\",\"A\",\"F\",\"G\",\"E\",\"D\",\"C07\",\"H01\",\"G01\",\"H04\",\"A61\",\"F16\",\"B65\",\"C08\",\"B60\",\"A01\",\"C09\",\"B41\",\"G06\",\"B01\",\"A47\",\"H02\",\"B29\",\"B23\",\"C10\",\"F02\",\"H03\",\"D06\",\"A63\",\"B21\",\"C01\",\"A23\",\"G03\",\"B62\",\"C12\",\"F24\",\"B63\",\"F41\",\"B64\",\"E04\",\"G11\",\"F01\",\"E21\",\"E05\",\"H10\",\"F04\",\"B61\",\"F23\"],\"textposition\":\"middle center\",\"x\":{\"dtype\":\"f8\",\"bdata\":\"AAAAAAAAAAAAAAAAAAB5QLhmE8B7rXFAy8\\u002fPr5uTGz23ZhPAe61xwAAAAAAAAHnAuWYTwHutccDY29vDtK40vbdmE8B7rXFAAAAAAADAgkA3YbtRY4qCQHu4Ht2\\u002f6oFAKih9i6bkgECACWlp5Pt+QJrGu0dMfXtAsvp7iYBhd0ABAAAAAMByQHiP9TOMZmtAu1QD5WawYECxNopsRWtGQJM2imxFa0bAuVQD5WawYMB6j\\u002fUzjGZrwP7\\u002f\\u002f\\u002f\\u002f\\u002fv3LAsfp7iYBhd8CaxrtHTH17wIEJaWnk+37AKih9i6bkgMB7uB7dv+qBwDdhu1FjioLAAAAAAADAgsA3YbtRY4qCwHy4Ht2\\u002f6oHAKih9i6bkgMCACWlp5Pt+wJnGu0dMfXvAs\\u002fp7iYBhd8AFAAAAAMBywHWP9TOMZmvAvlQD5WawYMDNNopsRWtGwK42imxFa0ZAt1QD5WawYECAj\\u002fUzjGZrQPn\\u002f\\u002f\\u002f\\u002f\\u002fv3JAsPp7iYBhd0CdxrtHTH17QHsJaWnk+35AKih9i6bkgEB7uB7dv+qBQDZhu1FjioJA\"},\"y\":{\"dtype\":\"f8\",\"bdata\":\"AAAAAAAAAAAAAAAAAAAAALdmE8B7rXFAAAAAAAAAeUC4ZhPAe61xQMvPz6+bkys9t2YTwHutccAAAAAAAAB5wLlmE8B7rXHAAAAAAAAAAABqQuoXOVtWQOieHaJMG2ZAo5pgrUhFcEAmJ+xf3x91QBNiNYWogXlAgOAiDZVRfUDsvCME7DyAQI24jqkxdIFAxBgia6dHgkDkYKYGlLKCQORgpgaUsoJAxBgia6dHgkCNuI6pMXSBQOy8IwTsPIBAgeAiDZVRfUATYjWFqIF5QCMn7F\\u002ffH3VApJpgrUhFcEDwnh2iTBtmQHZC6hc5W1ZA2Nvbw7SuND1YQuoXOVtWwOKeHaJMG2bAoppgrUhFcMAmJ+xf3x91wBRiNYWogXnAf+AiDZVRfcDqvCME7DyAwI64jqkxdIHAxBgia6dHgsDkYKYGlLKCwORgpgaUsoLAxBgia6dHgsCNuI6pMXSBwO68IwTsPIDAgeAiDZVRfcAQYjWFqIF5wC0n7F\\u002ffH3XApZpgrUhFcMDynh2iTBtmwI1C6hc5W1bA\"},\"type\":\"scatter\"}],                        {\"template\":{\"data\":{\"histogram2dcontour\":[{\"type\":\"histogram2dcontour\",\"colorbar\":{\"outlinewidth\":0,\"ticks\":\"\"},\"colorscale\":[[0.0,\"#0d0887\"],[0.1111111111111111,\"#46039f\"],[0.2222222222222222,\"#7201a8\"],[0.3333333333333333,\"#9c179e\"],[0.4444444444444444,\"#bd3786\"],[0.5555555555555556,\"#d8576b\"],[0.6666666666666666,\"#ed7953\"],[0.7777777777777778,\"#fb9f3a\"],[0.8888888888888888,\"#fdca26\"],[1.0,\"#f0f921\"]]}],\"choropleth\":[{\"type\":\"choropleth\",\"colorbar\":{\"outlinewidth\":0,\"ticks\":\"\"}}],\"histogram2d\":[{\"type\":\"histogram2d\",\"colorbar\":{\"outlinewidth\":0,\"ticks\":\"\"},\"colorscale\":[[0.0,\"#0d0887\"],[0.1111111111111111,\"#46039f\"],[0.2222222222222222,\"#7201a8\"],[0.3333333333333333,\"#9c179e\"],[0.4444444444444444,\"#bd3786\"],[0.5555555555555556,\"#d8576b\"],[0.6666666666666666,\"#ed7953\"],[0.7777777777777778,\"#fb9f3a\"],[0.8888888888888888,\"#fdca26\"],[1.0,\"#f0f921\"]]}],\"heatmap\":[{\"type\":\"heatmap\",\"colorbar\":{\"outlinewidth\":0,\"ticks\":\"\"},\"colorscale\":[[0.0,\"#0d0887\"],[0.1111111111111111,\"#46039f\"],[0.2222222222222222,\"#7201a8\"],[0.3333333333333333,\"#9c179e\"],[0.4444444444444444,\"#bd3786\"],[0.5555555555555556,\"#d8576b\"],[0.6666666666666666,\"#ed7953\"],[0.7777777777777778,\"#fb9f3a\"],[0.8888888888888888,\"#fdca26\"],[1.0,\"#f0f921\"]]}],\"contourcarpet\":[{\"type\":\"contourcarpet\",\"colorbar\":{\"outlinewidth\":0,\"ticks\":\"\"}}],\"contour\":[{\"type\":\"contour\",\"colorbar\":{\"outlinewidth\":0,\"ticks\":\"\"},\"colorscale\":[[0.0,\"#0d0887\"],[0.1111111111111111,\"#46039f\"],[0.2222222222222222,\"#7201a8\"],[0.3333333333333333,\"#9c179e\"],[0.4444444444444444,\"#bd3786\"],[0.5555555555555556,\"#d8576b\"],[0.6666666666666666,\"#ed7953\"],[0.7777777777777778,\"#fb9f3a\"],[0.8888888888888888,\"#fdca26\"],[1.0,\"#f0f921\"]]}],\"surface\":[{\"type\":\"surface\",\"colorbar\":{\"outlinewidth\":0,\"ticks\":\"\"},\"colorscale\":[[0.0,\"#0d0887\"],[0.1111111111111111,\"#46039f\"],[0.2222222222222222,\"#7201a8\"],[0.3333333333333333,\"#9c179e\"],[0.4444444444444444,\"#bd3786\"],[0.5555555555555556,\"#d8576b\"],[0.6666666666666666,\"#ed7953\"],[0.7777777777777778,\"#fb9f3a\"],[0.8888888888888888,\"#fdca26\"],[1.0,\"#f0f921\"]]}],\"mesh3d\":[{\"type\":\"mesh3d\",\"colorbar\":{\"outlinewidth\":0,\"ticks\":\"\"}}],\"scatter\":[{\"fillpattern\":{\"fillmode\":\"overlay\",\"size\":10,\"solidity\":0.2},\"type\":\"scatter\"}],\"parcoords\":[{\"type\":\"parcoords\",\"line\":{\"colorbar\":{\"outlinewidth\":0,\"ticks\":\"\"}}}],\"scatterpolargl\":[{\"type\":\"scatterpolargl\",\"marker\":{\"colorbar\":{\"outlinewidth\":0,\"ticks\":\"\"}}}],\"bar\":[{\"error_x\":{\"color\":\"#2a3f5f\"},\"error_y\":{\"color\":\"#2a3f5f\"},\"marker\":{\"line\":{\"color\":\"#E5ECF6\",\"width\":0.5},\"pattern\":{\"fillmode\":\"overlay\",\"size\":10,\"solidity\":0.2}},\"type\":\"bar\"}],\"scattergeo\":[{\"type\":\"scattergeo\",\"marker\":{\"colorbar\":{\"outlinewidth\":0,\"ticks\":\"\"}}}],\"scatterpolar\":[{\"type\":\"scatterpolar\",\"marker\":{\"colorbar\":{\"outlinewidth\":0,\"ticks\":\"\"}}}],\"histogram\":[{\"marker\":{\"pattern\":{\"fillmode\":\"overlay\",\"size\":10,\"solidity\":0.2}},\"type\":\"histogram\"}],\"scattergl\":[{\"type\":\"scattergl\",\"marker\":{\"colorbar\":{\"outlinewidth\":0,\"ticks\":\"\"}}}],\"scatter3d\":[{\"type\":\"scatter3d\",\"line\":{\"colorbar\":{\"outlinewidth\":0,\"ticks\":\"\"}},\"marker\":{\"colorbar\":{\"outlinewidth\":0,\"ticks\":\"\"}}}],\"scattermap\":[{\"type\":\"scattermap\",\"marker\":{\"colorbar\":{\"outlinewidth\":0,\"ticks\":\"\"}}}],\"scattermapbox\":[{\"type\":\"scattermapbox\",\"marker\":{\"colorbar\":{\"outlinewidth\":0,\"ticks\":\"\"}}}],\"scatterternary\":[{\"type\":\"scatterternary\",\"marker\":{\"colorbar\":{\"outlinewidth\":0,\"ticks\":\"\"}}}],\"scattercarpet\":[{\"type\":\"scattercarpet\",\"marker\":{\"colorbar\":{\"outlinewidth\":0,\"ticks\":\"\"}}}],\"carpet\":[{\"aaxis\":{\"endlinecolor\":\"#2a3f5f\",\"gridcolor\":\"white\",\"linecolor\":\"white\",\"minorgridcolor\":\"white\",\"startlinecolor\":\"#2a3f5f\"},\"baxis\":{\"endlinecolor\":\"#2a3f5f\",\"gridcolor\":\"white\",\"linecolor\":\"white\",\"minorgridcolor\":\"white\",\"startlinecolor\":\"#2a3f5f\"},\"type\":\"carpet\"}],\"table\":[{\"cells\":{\"fill\":{\"color\":\"#EBF0F8\"},\"line\":{\"color\":\"white\"}},\"header\":{\"fill\":{\"color\":\"#C8D4E3\"},\"line\":{\"color\":\"white\"}},\"type\":\"table\"}],\"barpolar\":[{\"marker\":{\"line\":{\"color\":\"#E5ECF6\",\"width\":0.5},\"pattern\":{\"fillmode\":\"overlay\",\"size\":10,\"solidity\":0.2}},\"type\":\"barpolar\"}],\"pie\":[{\"automargin\":true,\"type\":\"pie\"}]},\"layout\":{\"autotypenumbers\":\"strict\",\"colorway\":[\"#636efa\",\"#EF553B\",\"#00cc96\",\"#ab63fa\",\"#FFA15A\",\"#19d3f3\",\"#FF6692\",\"#B6E880\",\"#FF97FF\",\"#FECB52\"],\"font\":{\"color\":\"#2a3f5f\"},\"hovermode\":\"closest\",\"hoverlabel\":{\"align\":\"left\"},\"paper_bgcolor\":\"white\",\"plot_bgcolor\":\"#E5ECF6\",\"polar\":{\"bgcolor\":\"#E5ECF6\",\"angularaxis\":{\"gridcolor\":\"white\",\"linecolor\":\"white\",\"ticks\":\"\"},\"radialaxis\":{\"gridcolor\":\"white\",\"linecolor\":\"white\",\"ticks\":\"\"}},\"ternary\":{\"bgcolor\":\"#E5ECF6\",\"aaxis\":{\"gridcolor\":\"white\",\"linecolor\":\"white\",\"ticks\":\"\"},\"baxis\":{\"gridcolor\":\"white\",\"linecolor\":\"white\",\"ticks\":\"\"},\"caxis\":{\"gridcolor\":\"white\",\"linecolor\":\"white\",\"ticks\":\"\"}},\"coloraxis\":{\"colorbar\":{\"outlinewidth\":0,\"ticks\":\"\"}},\"colorscale\":{\"sequential\":[[0.0,\"#0d0887\"],[0.1111111111111111,\"#46039f\"],[0.2222222222222222,\"#7201a8\"],[0.3333333333333333,\"#9c179e\"],[0.4444444444444444,\"#bd3786\"],[0.5555555555555556,\"#d8576b\"],[0.6666666666666666,\"#ed7953\"],[0.7777777777777778,\"#fb9f3a\"],[0.8888888888888888,\"#fdca26\"],[1.0,\"#f0f921\"]],\"sequentialminus\":[[0.0,\"#0d0887\"],[0.1111111111111111,\"#46039f\"],[0.2222222222222222,\"#7201a8\"],[0.3333333333333333,\"#9c179e\"],[0.4444444444444444,\"#bd3786\"],[0.5555555555555556,\"#d8576b\"],[0.6666666666666666,\"#ed7953\"],[0.7777777777777778,\"#fb9f3a\"],[0.8888888888888888,\"#fdca26\"],[1.0,\"#f0f921\"]],\"diverging\":[[0,\"#8e0152\"],[0.1,\"#c51b7d\"],[0.2,\"#de77ae\"],[0.3,\"#f1b6da\"],[0.4,\"#fde0ef\"],[0.5,\"#f7f7f7\"],[0.6,\"#e6f5d0\"],[0.7,\"#b8e186\"],[0.8,\"#7fbc41\"],[0.9,\"#4d9221\"],[1,\"#276419\"]]},\"xaxis\":{\"gridcolor\":\"white\",\"linecolor\":\"white\",\"ticks\":\"\",\"title\":{\"standoff\":15},\"zerolinecolor\":\"white\",\"automargin\":true,\"zerolinewidth\":2},\"yaxis\":{\"gridcolor\":\"white\",\"linecolor\":\"white\",\"ticks\":\"\",\"title\":{\"standoff\":15},\"zerolinecolor\":\"white\",\"automargin\":true,\"zerolinewidth\":2},\"scene\":{\"xaxis\":{\"backgroundcolor\":\"#E5ECF6\",\"gridcolor\":\"white\",\"linecolor\":\"white\",\"showbackground\":true,\"ticks\":\"\",\"zerolinecolor\":\"white\",\"gridwidth\":2},\"yaxis\":{\"backgroundcolor\":\"#E5ECF6\",\"gridcolor\":\"white\",\"linecolor\":\"white\",\"showbackground\":true,\"ticks\":\"\",\"zerolinecolor\":\"white\",\"gridwidth\":2},\"zaxis\":{\"backgroundcolor\":\"#E5ECF6\",\"gridcolor\":\"white\",\"linecolor\":\"white\",\"showbackground\":true,\"ticks\":\"\",\"zerolinecolor\":\"white\",\"gridwidth\":2}},\"shapedefaults\":{\"line\":{\"color\":\"#2a3f5f\"}},\"annotationdefaults\":{\"arrowcolor\":\"#2a3f5f\",\"arrowhead\":0,\"arrowwidth\":1},\"geo\":{\"bgcolor\":\"white\",\"landcolor\":\"#E5ECF6\",\"subunitcolor\":\"white\",\"showland\":true,\"showlakes\":true,\"lakecolor\":\"white\"},\"title\":{\"x\":0.05},\"mapbox\":{\"style\":\"light\"}}},\"title\":{\"text\":\"IPC Classification Network Tree\",\"x\":0.5},\"margin\":{\"b\":20,\"l\":5,\"r\":5,\"t\":40},\"xaxis\":{\"showgrid\":false,\"zeroline\":false,\"showticklabels\":false},\"yaxis\":{\"showgrid\":false,\"zeroline\":false,\"showticklabels\":false},\"showlegend\":false,\"hovermode\":\"closest\",\"annotations\":[{\"font\":{\"size\":12},\"showarrow\":false,\"text\":\"Interactive Patent Classification Network\\u003cbr\\u003eClick and drag to explore\",\"x\":0.005,\"xanchor\":\"left\",\"xref\":\"paper\",\"y\":-0.002,\"yanchor\":\"bottom\",\"yref\":\"paper\"}],\"width\":1000,\"height\":800},                        {\"responsive\": true}                    ).then(function(){\n",
       "                            \n",
       "var gd = document.getElementById('740a4cb1-a216-4709-b060-ac70bec463b7');\n",
       "var x = new MutationObserver(function (mutations, observer) {{\n",
       "        var display = window.getComputedStyle(gd).display;\n",
       "        if (!display || display === 'none') {{\n",
       "            console.log([gd, 'removed!']);\n",
       "            Plotly.purge(gd);\n",
       "            observer.disconnect();\n",
       "        }}\n",
       "}});\n",
       "\n",
       "// Listen for the removal of the full notebook cells\n",
       "var notebookContainer = gd.closest('#notebook-container');\n",
       "if (notebookContainer) {{\n",
       "    x.observe(notebookContainer, {childList: true});\n",
       "}}\n",
       "\n",
       "// Listen for the clearing of the current output cell\n",
       "var outputEl = gd.closest('.output');\n",
       "if (outputEl) {{\n",
       "    x.observe(outputEl, {childList: true});\n",
       "}}\n",
       "\n",
       "                        })                };            </script>        </div>"
      ]
     },
     "metadata": {},
     "output_type": "display_data"
    },
    {
     "name": "stdout",
     "output_type": "stream",
     "text": [
      "✓ Network tree created successfully\n"
     ]
    }
   ],
   "source": [
    "def create_network_tree(self, max_nodes=100):\n",
    "    \"\"\"Create an interactive network tree visualization\"\"\"\n",
    "    if self.viz_data is None:\n",
    "        print(\"✗ No visualization data available. Please run prepare_data() first.\")\n",
    "        return None\n",
    "        \n",
    "    try:\n",
    "        # Start with sections and top-level classes\n",
    "        tree_df = self.viz_data[self.viz_data['level'].isin([2, 3])].copy()\n",
    "        \n",
    "        # Limit to avoid overcrowding\n",
    "        if len(tree_df) > max_nodes:\n",
    "            tree_df = tree_df.nlargest(max_nodes, 'size')\n",
    "        \n",
    "        # Create network data\n",
    "        nodes = []\n",
    "        edges = []\n",
    "        \n",
    "        # Add root node\n",
    "        nodes.append({\n",
    "            'id': 'IPC',\n",
    "            'symbol': 'IPC',\n",
    "            'title': 'International Patent Classification',\n",
    "            'level': 1,\n",
    "            'size': 100,\n",
    "            'creation_year': 1968,\n",
    "            'x': 0,\n",
    "            'y': 0\n",
    "        })\n",
    "        \n",
    "        # Position nodes in a circular layout by level\n",
    "        for level in [2, 3]:\n",
    "            level_nodes = tree_df[tree_df['level'] == level]\n",
    "            n_nodes = len(level_nodes)\n",
    "            \n",
    "            if n_nodes == 0:\n",
    "                continue\n",
    "                \n",
    "            radius = level * 200\n",
    "            \n",
    "            for i, (_, row) in enumerate(level_nodes.iterrows()):\n",
    "                angle = 2 * math.pi * i / n_nodes\n",
    "                x = radius * math.cos(angle)\n",
    "                y = radius * math.sin(angle)\n",
    "                \n",
    "                nodes.append({\n",
    "                    'id': row['symbol'],\n",
    "                    'symbol': row['symbol_display'],\n",
    "                    'title': row['title_display'][:50] + '...' if len(row['title_display']) > 50 else row['title_display'],\n",
    "                    'level': row['level'],\n",
    "                    'size': row['size'],\n",
    "                    'creation_year': row['creation_year'],\n",
    "                    'size_percent': row['size_percent'],\n",
    "                    'x': x,\n",
    "                    'y': y\n",
    "                })\n",
    "                \n",
    "                # Add edge to parent\n",
    "                parent = row['parent'] if row['parent'] != 'IPC' else 'IPC'\n",
    "                edges.append({\n",
    "                    'source': parent,\n",
    "                    'target': row['symbol']\n",
    "                })\n",
    "        \n",
    "        # Create the network plot\n",
    "        node_df = pd.DataFrame(nodes)\n",
    "        edge_df = pd.DataFrame(edges)\n",
    "        \n",
    "        # Create traces for edges\n",
    "        edge_trace = []\n",
    "        for _, edge in edge_df.iterrows():\n",
    "            source_node = node_df[node_df['id'] == edge['source']].iloc[0]\n",
    "            target_node = node_df[node_df['id'] == edge['target']].iloc[0]\n",
    "            \n",
    "            edge_trace.append(go.Scatter(\n",
    "                x=[source_node['x'], target_node['x'], None],\n",
    "                y=[source_node['y'], target_node['y'], None],\n",
    "                mode='lines',\n",
    "                line=dict(width=1, color='#888'),\n",
    "                hoverinfo='none',\n",
    "                showlegend=False\n",
    "            ))\n",
    "        \n",
    "        # Create trace for nodes\n",
    "        node_trace = go.Scatter(\n",
    "            x=node_df['x'],\n",
    "            y=node_df['y'],\n",
    "            mode='markers+text',\n",
    "            marker=dict(\n",
    "                size=np.sqrt(node_df['size']) * 2,  # Scale size\n",
    "                color=node_df['creation_year'],\n",
    "                colorscale='RdYlGn_r',\n",
    "                colorbar=dict(\n",
    "                    title=\"Creation Year\"\n",
    "                ),\n",
    "                line=dict(width=2, color='white')\n",
    "            ),\n",
    "            text=node_df['symbol'],\n",
    "            textposition='middle center',\n",
    "            hovertemplate='<b>%{customdata[0]}</b><br>' +\n",
    "                         'Created: %{customdata[1]}<br>' +\n",
    "                         'Groups: %{customdata[2]}<br>' +\n",
    "                         'Percentage: %{customdata[3]:.3f}%<br>' +\n",
    "                         'Title: %{customdata[4]}<extra></extra>',\n",
    "            customdata=np.column_stack((\n",
    "                node_df['symbol'],\n",
    "                node_df['creation_year'],\n",
    "                node_df['size'],\n",
    "                node_df.get('size_percent', 0),\n",
    "                node_df['title']\n",
    "            )),\n",
    "            showlegend=False\n",
    "        )\n",
    "        \n",
    "        # Create figure\n",
    "        fig = go.Figure(data=edge_trace + [node_trace])\n",
    "        \n",
    "        fig.update_layout(\n",
    "            title='IPC Classification Network Tree',\n",
    "            title_x=0.5,\n",
    "            showlegend=False,\n",
    "            hovermode='closest',\n",
    "            margin=dict(b=20,l=5,r=5,t=40),\n",
    "            annotations=[\n",
    "                dict(\n",
    "                    text=\"Interactive Patent Classification Network<br>Click and drag to explore\",\n",
    "                    showarrow=False,\n",
    "                    xref=\"paper\", yref=\"paper\",\n",
    "                    x=0.005, y=-0.002,\n",
    "                    xanchor=\"left\", yanchor=\"bottom\",\n",
    "                    font=dict(size=12)\n",
    "                )\n",
    "            ],\n",
    "            xaxis=dict(showgrid=False, zeroline=False, showticklabels=False),\n",
    "            yaxis=dict(showgrid=False, zeroline=False, showticklabels=False),\n",
    "            width=1000,\n",
    "            height=800\n",
    "        )\n",
    "        \n",
    "        return fig\n",
    "        \n",
    "    except Exception as e:\n",
    "        print(f\"✗ Error creating network tree: {e}\")\n",
    "        return None\n",
    "\n",
    "# Add method to class\n",
    "IPCVisualization.create_network_tree = create_network_tree\n",
    "\n",
    "# Create and display network tree\n",
    "print(\"Creating Network Tree...\")\n",
    "network_fig = viz.create_network_tree(max_nodes=50)\n",
    "if network_fig:\n",
    "    network_fig.show()\n",
    "    print(\"✓ Network tree created successfully\")"
   ]
  },
  {
   "cell_type": "markdown",
   "metadata": {},
   "source": [
    "## Visualization 4: Statistics Dashboard\n",
    "\n",
    "Overview dashboard showing key statistics and trends in IPC classification data."
   ]
  },
  {
   "cell_type": "code",
   "execution_count": 14,
   "metadata": {},
   "outputs": [
    {
     "name": "stdout",
     "output_type": "stream",
     "text": [
      "Creating Statistics Dashboard...\n"
     ]
    },
    {
     "data": {
      "application/vnd.plotly.v1+json": {
       "config": {
        "plotlyServerURL": "https://plot.ly"
       },
       "data": [
        {
         "marker": {
          "color": "lightblue"
         },
         "name": "Count by Level",
         "type": "bar",
         "x": [
          "Sections",
          "Classes",
          "Subclasses"
         ],
         "xaxis": "x",
         "y": {
          "bdata": "CACEAI4C",
          "dtype": "i2"
         },
         "yaxis": "y"
        },
        {
         "line": {
          "color": "green"
         },
         "mode": "lines+markers",
         "name": "New Entries",
         "type": "scatter",
         "x": {
          "bdata": "sAe2B7wHwQfGB8sH0AfWB9kH2gfbB90H3gffB+IH4wfkB+YH5wfpBw==",
          "dtype": "i2"
         },
         "xaxis": "x2",
         "y": {
          "bdata": "PAI4AA4ANQAdAA0ACQAWAAEAAQACAAEAAQACAAUAAwABAAEABQADAA==",
          "dtype": "i2"
         },
         "yaxis": "y2"
        },
        {
         "customdata": [
          "ORGANIC CHEMISTRY",
          "ELECTRIC ELEMENTS",
          "MEASURING; TESTING",
          "ELECTRIC COMMUNICATION TECHNIQUE",
          "MEDICAL OR VETERINARY SCIENCE; HYGIENE",
          "ENGINEERING ELEMENTS OR UNITS; GENERAL MEASURES FOR PRODUCING AND MAINTAINING EFFECTIVE FUNCTIONING OF MACHINES OR INSTALLATIONS; THERMAL INSULATION IN GENERAL",
          "CONVEYING; PACKING; STORING; HANDLING THIN OR FILAMENTARY MATERIAL",
          "ORGANIC MACROMOLECULAR COMPOUNDS; THEIR PREPARATION OR CHEMICAL WORKING-UP; COMPOSITIONS BASED THEREON",
          "VEHICLES IN GENERAL",
          "AGRICULTURE; FORESTRY; ANIMAL HUSBANDRY; HUNTING; TRAPPING; FISHING"
         ],
         "hovertemplate": "<b>%{x}</b><br>Groups: %{y}<br>Title: %{customdata}<extra></extra>",
         "marker": {
          "color": "orange"
         },
         "name": "Groups Count",
         "type": "bar",
         "x": [
          "C07",
          "H01",
          "G01",
          "H04",
          "A61",
          "F16",
          "B65",
          "C08",
          "B60",
          "A01"
         ],
         "xaxis": "x3",
         "y": {
          "bdata": "qxSbDz8MYgs3C4UKGgmfB1QHeAY=",
          "dtype": "i2"
         },
         "yaxis": "y3"
        },
        {
         "boxpoints": "outliers",
         "name": "1960s",
         "type": "box",
         "xaxis": "x4",
         "y": {
          "bdata": "hyZ4BuAANgBAAVgAsQBHAPQAEgBKACQBqAAlADAAUABBABQAKwBCA9cAVAANAC4AYQBGAC8AHgAWATkAPwAWAIQAAwE4ABQAYAAfAAsAJwBVAEUADgCmAb8ANwCCAGIAHgCaATMARgD5ACQARQAuABUAdwULAQcBGgBNAJgARgBxAOQANwuoAZkAFwBRACkAJQB+BNQANQBsADAA2wNKARsAYQDTABIABgDdR8gFBQB4ARgAsAARAJ0AOAAmAFwANwAjAA8AegBHADEASQBIANkDwwB4ADQBRwAfACQAWABjABwAvwFxALYAlQC/BNwANgDwAEsAMgAaAToAsACKASAAQwA/AXwAGgAcABMA7gBiAG8BGgAKACUAHwALAAUAGgAZAOgAmQAyABoA1gRZAK8AcwAVAAsAGADCAMEA2QASAB8ABgBPAkcA+gBQAB4A2AAUABgAVgBSAOgAfwBTABMAWwAQABYAVAeVACUABgAWAGUAogAeAFwAYQDuADwAwwATAEACRABZAFkASwAlAA8AIACEADgDSQASAB4BGwCkAHAAGQBvAOYCWgArAMUADgDcAiQAAwHHACkAIgAaCZ8BMwA9AxsA8AH6AeUBwQBLAEkAmgBDABgAUwAeAA4ABAAfACs7qgO6ASEAUgC2AMIAiAD/ATMBygAcAAwACwAsAJ4AFQAtAKMLnAAIAJ8HLAAIAHIGZAIVAAsACgAKAa0EFwAWAOgAGwAQALoAAQM4ACAABgADAAsAYAA+ACAA1wAwACMAgQBhAZsAsQASABQAHwDkDB0CLgAGADYAcgDBAFsAJAAcABgAQgFDAN4AHgDBAeMALwAQAAkAkQAfAdcARgAuBIABBQAaAAcAMAA7ARAAfAAnACYA6gEUADQAVgAIABQAnA0FAuMAfwAzAEgAaQFKAAkAXgDhADwAOQBKAB4AzwKhAE4AVQBiAI4AjgJNAV0ATwCDACkB3AC9AowAhSXHAmkAWAB1AF8AkQA+ADIApgTwAHMAEQB4AK0BKgBJALsAMwAkAD4AHgADAEQCEAGKAHMAlgBzABgACACFCq8ArgBRAAMCbQAOAcUBKQBWABQADgAYAFUAEAAjAB8ACgIFACUAFACNAMYAEQGyAD8AHQAlAiQANQBrACcANgAdABsAIAAeABkASAAhAPkCOgA9ABMBmwDVAHAANQAIAIMAggCHADgAzQATABMAWgAdAOECSQBRADsAMgCVAR4AWCU/DLkAugCeALEAiABcAE4CZgCKAXkBPgAMAMEBOgEmAMUAIQBsAHYAjQGrAF8AFQAMAncA7ABSAAEGCgDwAkkAAwBZACwALAEmADgAaAD6AH0AlQGaAA8ACACCAMoBEgAgAFEAEQAJAD4AzgIIAsQAHwAeAH8BDQDmABoAOAAMAAQA5SibD6QAbwCaADkD3gJFAFoAwwCKAasASgA9BUkAXQBRAFEAxwEYAFMERwA/ADkAZwA/AHkAQwBiC5UALwAHAOkAbADSARkBBQAHACYAQgA/AA==",
          "dtype": "i2"
         },
         "yaxis": "y4"
        },
        {
         "boxpoints": "outliers",
         "name": "1970s",
         "type": "box",
         "xaxis": "x4",
         "y": {
          "bdata": "9gEdAaEARgAzAA4AJAE5AGkAIAAkAFgAIAARAIkBdQAIAAgAqxSVBmkAGQDlAs4BXQDHAB8BngGIACgAmgAdAHoAVgAoAA0AigAyACkAKAAzAAACJAAdAbMAeQBeABQAKABYAEwADwATAN4AvwBLAg==",
          "dtype": "i2"
         },
         "yaxis": "y4"
        },
        {
         "boxpoints": "outliers",
         "name": "1980s",
         "type": "box",
         "xaxis": "x4",
         "y": {
          "bdata": "HwC/ALgAHgE6ADIAMwAGABUAUwDOAlUAJgE1ADoGIgG6AF4AHgCMAIcAwQHAAX8AGwAYAW0AKQBwAT0AIQDuAJMAUACCAD0AKwE8AGsBqwCqACMAlQBpAMEAKwAaAJIAbwA+A1wBJABTAEEACQAuAF0AmwDJAB8BeQEtAIIAHAHvAmIDBgA=",
          "dtype": "i2"
         },
         "yaxis": "y4"
        },
        {
         "boxpoints": "outliers",
         "name": "1990s",
         "type": "box",
         "xaxis": "x4",
         "y": {
          "bdata": "QwCtAMIA3wAwAIIAoAA4AsAAXwAGADQAgACMAHsAPAB1ATQBsAAJADsBNgA8AGMABwAaAAgAJQAEAbQASwBxAc0AMwCSASsAFgBXAAUAmwBMAGMA",
          "dtype": "i2"
         },
         "yaxis": "y4"
        },
        {
         "boxpoints": "outliers",
         "name": "2000s",
         "type": "box",
         "xaxis": "x4",
         "y": {
          "bdata": "DwCrACUAAgABAGsACwAGAAMADQACAAIAAQAqACkAAgABAAIAAQACAAEATwAjAAIAAQBDAHgAAgABAGEBAgABAA==",
          "dtype": "i2"
         },
         "yaxis": "y4"
        },
        {
         "boxpoints": "outliers",
         "name": "2010s",
         "type": "box",
         "xaxis": "x4",
         "y": {
          "bdata": "DAALAAkAMACLAAkABQA/ABwAfgAlAA8AIwABACUA",
          "dtype": "i2"
         },
         "yaxis": "y4"
        },
        {
         "boxpoints": "outliers",
         "name": "2020s",
         "type": "box",
         "xaxis": "x4",
         "y": {
          "bdata": "nQCOACEAfQI2AJIAYwA8AKQAbAA=",
          "dtype": "i2"
         },
         "yaxis": "y4"
        }
       ],
       "layout": {
        "annotations": [
         {
          "font": {
           "size": 16
          },
          "showarrow": false,
          "text": "Classification Entries by Level",
          "x": 0.225,
          "xanchor": "center",
          "xref": "paper",
          "y": 1,
          "yanchor": "bottom",
          "yref": "paper"
         },
         {
          "font": {
           "size": 16
          },
          "showarrow": false,
          "text": "Technology Evolution Over Time",
          "x": 0.775,
          "xanchor": "center",
          "xref": "paper",
          "y": 1,
          "yanchor": "bottom",
          "yref": "paper"
         },
         {
          "font": {
           "size": 16
          },
          "showarrow": false,
          "text": "Top 10 Largest Classification Areas",
          "x": 0.225,
          "xanchor": "center",
          "xref": "paper",
          "y": 0.375,
          "yanchor": "bottom",
          "yref": "paper"
         },
         {
          "font": {
           "size": 16
          },
          "showarrow": false,
          "text": "Size Distribution by Creation Year",
          "x": 0.775,
          "xanchor": "center",
          "xref": "paper",
          "y": 0.375,
          "yanchor": "bottom",
          "yref": "paper"
         }
        ],
        "height": 800,
        "showlegend": false,
        "template": {
         "data": {
          "bar": [
           {
            "error_x": {
             "color": "#2a3f5f"
            },
            "error_y": {
             "color": "#2a3f5f"
            },
            "marker": {
             "line": {
              "color": "#E5ECF6",
              "width": 0.5
             },
             "pattern": {
              "fillmode": "overlay",
              "size": 10,
              "solidity": 0.2
             }
            },
            "type": "bar"
           }
          ],
          "barpolar": [
           {
            "marker": {
             "line": {
              "color": "#E5ECF6",
              "width": 0.5
             },
             "pattern": {
              "fillmode": "overlay",
              "size": 10,
              "solidity": 0.2
             }
            },
            "type": "barpolar"
           }
          ],
          "carpet": [
           {
            "aaxis": {
             "endlinecolor": "#2a3f5f",
             "gridcolor": "white",
             "linecolor": "white",
             "minorgridcolor": "white",
             "startlinecolor": "#2a3f5f"
            },
            "baxis": {
             "endlinecolor": "#2a3f5f",
             "gridcolor": "white",
             "linecolor": "white",
             "minorgridcolor": "white",
             "startlinecolor": "#2a3f5f"
            },
            "type": "carpet"
           }
          ],
          "choropleth": [
           {
            "colorbar": {
             "outlinewidth": 0,
             "ticks": ""
            },
            "type": "choropleth"
           }
          ],
          "contour": [
           {
            "colorbar": {
             "outlinewidth": 0,
             "ticks": ""
            },
            "colorscale": [
             [
              0,
              "#0d0887"
             ],
             [
              0.1111111111111111,
              "#46039f"
             ],
             [
              0.2222222222222222,
              "#7201a8"
             ],
             [
              0.3333333333333333,
              "#9c179e"
             ],
             [
              0.4444444444444444,
              "#bd3786"
             ],
             [
              0.5555555555555556,
              "#d8576b"
             ],
             [
              0.6666666666666666,
              "#ed7953"
             ],
             [
              0.7777777777777778,
              "#fb9f3a"
             ],
             [
              0.8888888888888888,
              "#fdca26"
             ],
             [
              1,
              "#f0f921"
             ]
            ],
            "type": "contour"
           }
          ],
          "contourcarpet": [
           {
            "colorbar": {
             "outlinewidth": 0,
             "ticks": ""
            },
            "type": "contourcarpet"
           }
          ],
          "heatmap": [
           {
            "colorbar": {
             "outlinewidth": 0,
             "ticks": ""
            },
            "colorscale": [
             [
              0,
              "#0d0887"
             ],
             [
              0.1111111111111111,
              "#46039f"
             ],
             [
              0.2222222222222222,
              "#7201a8"
             ],
             [
              0.3333333333333333,
              "#9c179e"
             ],
             [
              0.4444444444444444,
              "#bd3786"
             ],
             [
              0.5555555555555556,
              "#d8576b"
             ],
             [
              0.6666666666666666,
              "#ed7953"
             ],
             [
              0.7777777777777778,
              "#fb9f3a"
             ],
             [
              0.8888888888888888,
              "#fdca26"
             ],
             [
              1,
              "#f0f921"
             ]
            ],
            "type": "heatmap"
           }
          ],
          "histogram": [
           {
            "marker": {
             "pattern": {
              "fillmode": "overlay",
              "size": 10,
              "solidity": 0.2
             }
            },
            "type": "histogram"
           }
          ],
          "histogram2d": [
           {
            "colorbar": {
             "outlinewidth": 0,
             "ticks": ""
            },
            "colorscale": [
             [
              0,
              "#0d0887"
             ],
             [
              0.1111111111111111,
              "#46039f"
             ],
             [
              0.2222222222222222,
              "#7201a8"
             ],
             [
              0.3333333333333333,
              "#9c179e"
             ],
             [
              0.4444444444444444,
              "#bd3786"
             ],
             [
              0.5555555555555556,
              "#d8576b"
             ],
             [
              0.6666666666666666,
              "#ed7953"
             ],
             [
              0.7777777777777778,
              "#fb9f3a"
             ],
             [
              0.8888888888888888,
              "#fdca26"
             ],
             [
              1,
              "#f0f921"
             ]
            ],
            "type": "histogram2d"
           }
          ],
          "histogram2dcontour": [
           {
            "colorbar": {
             "outlinewidth": 0,
             "ticks": ""
            },
            "colorscale": [
             [
              0,
              "#0d0887"
             ],
             [
              0.1111111111111111,
              "#46039f"
             ],
             [
              0.2222222222222222,
              "#7201a8"
             ],
             [
              0.3333333333333333,
              "#9c179e"
             ],
             [
              0.4444444444444444,
              "#bd3786"
             ],
             [
              0.5555555555555556,
              "#d8576b"
             ],
             [
              0.6666666666666666,
              "#ed7953"
             ],
             [
              0.7777777777777778,
              "#fb9f3a"
             ],
             [
              0.8888888888888888,
              "#fdca26"
             ],
             [
              1,
              "#f0f921"
             ]
            ],
            "type": "histogram2dcontour"
           }
          ],
          "mesh3d": [
           {
            "colorbar": {
             "outlinewidth": 0,
             "ticks": ""
            },
            "type": "mesh3d"
           }
          ],
          "parcoords": [
           {
            "line": {
             "colorbar": {
              "outlinewidth": 0,
              "ticks": ""
             }
            },
            "type": "parcoords"
           }
          ],
          "pie": [
           {
            "automargin": true,
            "type": "pie"
           }
          ],
          "scatter": [
           {
            "fillpattern": {
             "fillmode": "overlay",
             "size": 10,
             "solidity": 0.2
            },
            "type": "scatter"
           }
          ],
          "scatter3d": [
           {
            "line": {
             "colorbar": {
              "outlinewidth": 0,
              "ticks": ""
             }
            },
            "marker": {
             "colorbar": {
              "outlinewidth": 0,
              "ticks": ""
             }
            },
            "type": "scatter3d"
           }
          ],
          "scattercarpet": [
           {
            "marker": {
             "colorbar": {
              "outlinewidth": 0,
              "ticks": ""
             }
            },
            "type": "scattercarpet"
           }
          ],
          "scattergeo": [
           {
            "marker": {
             "colorbar": {
              "outlinewidth": 0,
              "ticks": ""
             }
            },
            "type": "scattergeo"
           }
          ],
          "scattergl": [
           {
            "marker": {
             "colorbar": {
              "outlinewidth": 0,
              "ticks": ""
             }
            },
            "type": "scattergl"
           }
          ],
          "scattermap": [
           {
            "marker": {
             "colorbar": {
              "outlinewidth": 0,
              "ticks": ""
             }
            },
            "type": "scattermap"
           }
          ],
          "scattermapbox": [
           {
            "marker": {
             "colorbar": {
              "outlinewidth": 0,
              "ticks": ""
             }
            },
            "type": "scattermapbox"
           }
          ],
          "scatterpolar": [
           {
            "marker": {
             "colorbar": {
              "outlinewidth": 0,
              "ticks": ""
             }
            },
            "type": "scatterpolar"
           }
          ],
          "scatterpolargl": [
           {
            "marker": {
             "colorbar": {
              "outlinewidth": 0,
              "ticks": ""
             }
            },
            "type": "scatterpolargl"
           }
          ],
          "scatterternary": [
           {
            "marker": {
             "colorbar": {
              "outlinewidth": 0,
              "ticks": ""
             }
            },
            "type": "scatterternary"
           }
          ],
          "surface": [
           {
            "colorbar": {
             "outlinewidth": 0,
             "ticks": ""
            },
            "colorscale": [
             [
              0,
              "#0d0887"
             ],
             [
              0.1111111111111111,
              "#46039f"
             ],
             [
              0.2222222222222222,
              "#7201a8"
             ],
             [
              0.3333333333333333,
              "#9c179e"
             ],
             [
              0.4444444444444444,
              "#bd3786"
             ],
             [
              0.5555555555555556,
              "#d8576b"
             ],
             [
              0.6666666666666666,
              "#ed7953"
             ],
             [
              0.7777777777777778,
              "#fb9f3a"
             ],
             [
              0.8888888888888888,
              "#fdca26"
             ],
             [
              1,
              "#f0f921"
             ]
            ],
            "type": "surface"
           }
          ],
          "table": [
           {
            "cells": {
             "fill": {
              "color": "#EBF0F8"
             },
             "line": {
              "color": "white"
             }
            },
            "header": {
             "fill": {
              "color": "#C8D4E3"
             },
             "line": {
              "color": "white"
             }
            },
            "type": "table"
           }
          ]
         },
         "layout": {
          "annotationdefaults": {
           "arrowcolor": "#2a3f5f",
           "arrowhead": 0,
           "arrowwidth": 1
          },
          "autotypenumbers": "strict",
          "coloraxis": {
           "colorbar": {
            "outlinewidth": 0,
            "ticks": ""
           }
          },
          "colorscale": {
           "diverging": [
            [
             0,
             "#8e0152"
            ],
            [
             0.1,
             "#c51b7d"
            ],
            [
             0.2,
             "#de77ae"
            ],
            [
             0.3,
             "#f1b6da"
            ],
            [
             0.4,
             "#fde0ef"
            ],
            [
             0.5,
             "#f7f7f7"
            ],
            [
             0.6,
             "#e6f5d0"
            ],
            [
             0.7,
             "#b8e186"
            ],
            [
             0.8,
             "#7fbc41"
            ],
            [
             0.9,
             "#4d9221"
            ],
            [
             1,
             "#276419"
            ]
           ],
           "sequential": [
            [
             0,
             "#0d0887"
            ],
            [
             0.1111111111111111,
             "#46039f"
            ],
            [
             0.2222222222222222,
             "#7201a8"
            ],
            [
             0.3333333333333333,
             "#9c179e"
            ],
            [
             0.4444444444444444,
             "#bd3786"
            ],
            [
             0.5555555555555556,
             "#d8576b"
            ],
            [
             0.6666666666666666,
             "#ed7953"
            ],
            [
             0.7777777777777778,
             "#fb9f3a"
            ],
            [
             0.8888888888888888,
             "#fdca26"
            ],
            [
             1,
             "#f0f921"
            ]
           ],
           "sequentialminus": [
            [
             0,
             "#0d0887"
            ],
            [
             0.1111111111111111,
             "#46039f"
            ],
            [
             0.2222222222222222,
             "#7201a8"
            ],
            [
             0.3333333333333333,
             "#9c179e"
            ],
            [
             0.4444444444444444,
             "#bd3786"
            ],
            [
             0.5555555555555556,
             "#d8576b"
            ],
            [
             0.6666666666666666,
             "#ed7953"
            ],
            [
             0.7777777777777778,
             "#fb9f3a"
            ],
            [
             0.8888888888888888,
             "#fdca26"
            ],
            [
             1,
             "#f0f921"
            ]
           ]
          },
          "colorway": [
           "#636efa",
           "#EF553B",
           "#00cc96",
           "#ab63fa",
           "#FFA15A",
           "#19d3f3",
           "#FF6692",
           "#B6E880",
           "#FF97FF",
           "#FECB52"
          ],
          "font": {
           "color": "#2a3f5f"
          },
          "geo": {
           "bgcolor": "white",
           "lakecolor": "white",
           "landcolor": "#E5ECF6",
           "showlakes": true,
           "showland": true,
           "subunitcolor": "white"
          },
          "hoverlabel": {
           "align": "left"
          },
          "hovermode": "closest",
          "mapbox": {
           "style": "light"
          },
          "paper_bgcolor": "white",
          "plot_bgcolor": "#E5ECF6",
          "polar": {
           "angularaxis": {
            "gridcolor": "white",
            "linecolor": "white",
            "ticks": ""
           },
           "bgcolor": "#E5ECF6",
           "radialaxis": {
            "gridcolor": "white",
            "linecolor": "white",
            "ticks": ""
           }
          },
          "scene": {
           "xaxis": {
            "backgroundcolor": "#E5ECF6",
            "gridcolor": "white",
            "gridwidth": 2,
            "linecolor": "white",
            "showbackground": true,
            "ticks": "",
            "zerolinecolor": "white"
           },
           "yaxis": {
            "backgroundcolor": "#E5ECF6",
            "gridcolor": "white",
            "gridwidth": 2,
            "linecolor": "white",
            "showbackground": true,
            "ticks": "",
            "zerolinecolor": "white"
           },
           "zaxis": {
            "backgroundcolor": "#E5ECF6",
            "gridcolor": "white",
            "gridwidth": 2,
            "linecolor": "white",
            "showbackground": true,
            "ticks": "",
            "zerolinecolor": "white"
           }
          },
          "shapedefaults": {
           "line": {
            "color": "#2a3f5f"
           }
          },
          "ternary": {
           "aaxis": {
            "gridcolor": "white",
            "linecolor": "white",
            "ticks": ""
           },
           "baxis": {
            "gridcolor": "white",
            "linecolor": "white",
            "ticks": ""
           },
           "bgcolor": "#E5ECF6",
           "caxis": {
            "gridcolor": "white",
            "linecolor": "white",
            "ticks": ""
           }
          },
          "title": {
           "x": 0.05
          },
          "xaxis": {
           "automargin": true,
           "gridcolor": "white",
           "linecolor": "white",
           "ticks": "",
           "title": {
            "standoff": 15
           },
           "zerolinecolor": "white",
           "zerolinewidth": 2
          },
          "yaxis": {
           "automargin": true,
           "gridcolor": "white",
           "linecolor": "white",
           "ticks": "",
           "title": {
            "standoff": 15
           },
           "zerolinecolor": "white",
           "zerolinewidth": 2
          }
         }
        },
        "title": {
         "text": "IPC Classification Statistics Dashboard",
         "x": 0.5
        },
        "xaxis": {
         "anchor": "y",
         "domain": [
          0,
          0.45
         ],
         "title": {
          "text": "Classification Level"
         }
        },
        "xaxis2": {
         "anchor": "y2",
         "domain": [
          0.55,
          1
         ],
         "title": {
          "text": "Year"
         }
        },
        "xaxis3": {
         "anchor": "y3",
         "domain": [
          0,
          0.45
         ],
         "title": {
          "text": "Classification Code"
         }
        },
        "xaxis4": {
         "anchor": "y4",
         "domain": [
          0.55,
          1
         ],
         "title": {
          "text": "Creation Decade"
         }
        },
        "yaxis": {
         "anchor": "x",
         "domain": [
          0.625,
          1
         ],
         "title": {
          "text": "Number of Entries"
         }
        },
        "yaxis2": {
         "anchor": "x2",
         "domain": [
          0.625,
          1
         ],
         "title": {
          "text": "New Entries"
         }
        },
        "yaxis3": {
         "anchor": "x3",
         "domain": [
          0,
          0.375
         ],
         "title": {
          "text": "Number of Groups"
         }
        },
        "yaxis4": {
         "anchor": "x4",
         "domain": [
          0,
          0.375
         ],
         "title": {
          "text": "Group Size"
         }
        }
       }
      },
      "text/html": [
       "<div>            <script src=\"https://cdnjs.cloudflare.com/ajax/libs/mathjax/2.7.5/MathJax.js?config=TeX-AMS-MML_SVG\"></script><script type=\"text/javascript\">if (window.MathJax && window.MathJax.Hub && window.MathJax.Hub.Config) {window.MathJax.Hub.Config({SVG: {font: \"STIX-Web\"}});}</script>                <script type=\"text/javascript\">window.PlotlyConfig = {MathJaxConfig: 'local'};</script>\n",
       "        <script charset=\"utf-8\" src=\"https://cdn.plot.ly/plotly-3.0.1.min.js\"></script>                <div id=\"b935487e-3752-4194-ac7d-c44a5495f32d\" class=\"plotly-graph-div\" style=\"height:800px; width:100%;\"></div>            <script type=\"text/javascript\">                window.PLOTLYENV=window.PLOTLYENV || {};                                if (document.getElementById(\"b935487e-3752-4194-ac7d-c44a5495f32d\")) {                    Plotly.newPlot(                        \"b935487e-3752-4194-ac7d-c44a5495f32d\",                        [{\"marker\":{\"color\":\"lightblue\"},\"name\":\"Count by Level\",\"x\":[\"Sections\",\"Classes\",\"Subclasses\"],\"y\":{\"dtype\":\"i2\",\"bdata\":\"CACEAI4C\"},\"type\":\"bar\",\"xaxis\":\"x\",\"yaxis\":\"y\"},{\"line\":{\"color\":\"green\"},\"mode\":\"lines+markers\",\"name\":\"New Entries\",\"x\":{\"dtype\":\"i2\",\"bdata\":\"sAe2B7wHwQfGB8sH0AfWB9kH2gfbB90H3gffB+IH4wfkB+YH5wfpBw==\"},\"y\":{\"dtype\":\"i2\",\"bdata\":\"PAI4AA4ANQAdAA0ACQAWAAEAAQACAAEAAQACAAUAAwABAAEABQADAA==\"},\"type\":\"scatter\",\"xaxis\":\"x2\",\"yaxis\":\"y2\"},{\"customdata\":[\"ORGANIC CHEMISTRY\",\"ELECTRIC ELEMENTS\",\"MEASURING; TESTING\",\"ELECTRIC COMMUNICATION TECHNIQUE\",\"MEDICAL OR VETERINARY SCIENCE; HYGIENE\",\"ENGINEERING ELEMENTS OR UNITS; GENERAL MEASURES FOR PRODUCING AND MAINTAINING EFFECTIVE FUNCTIONING OF MACHINES OR INSTALLATIONS; THERMAL INSULATION IN GENERAL\",\"CONVEYING; PACKING; STORING; HANDLING THIN OR FILAMENTARY MATERIAL\",\"ORGANIC MACROMOLECULAR COMPOUNDS; THEIR PREPARATION OR CHEMICAL WORKING-UP; COMPOSITIONS BASED THEREON\",\"VEHICLES IN GENERAL\",\"AGRICULTURE; FORESTRY; ANIMAL HUSBANDRY; HUNTING; TRAPPING; FISHING\"],\"hovertemplate\":\"\\u003cb\\u003e%{x}\\u003c\\u002fb\\u003e\\u003cbr\\u003eGroups: %{y}\\u003cbr\\u003eTitle: %{customdata}\\u003cextra\\u003e\\u003c\\u002fextra\\u003e\",\"marker\":{\"color\":\"orange\"},\"name\":\"Groups Count\",\"x\":[\"C07\",\"H01\",\"G01\",\"H04\",\"A61\",\"F16\",\"B65\",\"C08\",\"B60\",\"A01\"],\"y\":{\"dtype\":\"i2\",\"bdata\":\"qxSbDz8MYgs3C4UKGgmfB1QHeAY=\"},\"type\":\"bar\",\"xaxis\":\"x3\",\"yaxis\":\"y3\"},{\"boxpoints\":\"outliers\",\"name\":\"1960s\",\"y\":{\"dtype\":\"i2\",\"bdata\":\"hyZ4BuAANgBAAVgAsQBHAPQAEgBKACQBqAAlADAAUABBABQAKwBCA9cAVAANAC4AYQBGAC8AHgAWATkAPwAWAIQAAwE4ABQAYAAfAAsAJwBVAEUADgCmAb8ANwCCAGIAHgCaATMARgD5ACQARQAuABUAdwULAQcBGgBNAJgARgBxAOQANwuoAZkAFwBRACkAJQB+BNQANQBsADAA2wNKARsAYQDTABIABgDdR8gFBQB4ARgAsAARAJ0AOAAmAFwANwAjAA8AegBHADEASQBIANkDwwB4ADQBRwAfACQAWABjABwAvwFxALYAlQC\\u002fBNwANgDwAEsAMgAaAToAsACKASAAQwA\\u002fAXwAGgAcABMA7gBiAG8BGgAKACUAHwALAAUAGgAZAOgAmQAyABoA1gRZAK8AcwAVAAsAGADCAMEA2QASAB8ABgBPAkcA+gBQAB4A2AAUABgAVgBSAOgAfwBTABMAWwAQABYAVAeVACUABgAWAGUAogAeAFwAYQDuADwAwwATAEACRABZAFkASwAlAA8AIACEADgDSQASAB4BGwCkAHAAGQBvAOYCWgArAMUADgDcAiQAAwHHACkAIgAaCZ8BMwA9AxsA8AH6AeUBwQBLAEkAmgBDABgAUwAeAA4ABAAfACs7qgO6ASEAUgC2AMIAiAD\\u002fATMBygAcAAwACwAsAJ4AFQAtAKMLnAAIAJ8HLAAIAHIGZAIVAAsACgAKAa0EFwAWAOgAGwAQALoAAQM4ACAABgADAAsAYAA+ACAA1wAwACMAgQBhAZsAsQASABQAHwDkDB0CLgAGADYAcgDBAFsAJAAcABgAQgFDAN4AHgDBAeMALwAQAAkAkQAfAdcARgAuBIABBQAaAAcAMAA7ARAAfAAnACYA6gEUADQAVgAIABQAnA0FAuMAfwAzAEgAaQFKAAkAXgDhADwAOQBKAB4AzwKhAE4AVQBiAI4AjgJNAV0ATwCDACkB3AC9AowAhSXHAmkAWAB1AF8AkQA+ADIApgTwAHMAEQB4AK0BKgBJALsAMwAkAD4AHgADAEQCEAGKAHMAlgBzABgACACFCq8ArgBRAAMCbQAOAcUBKQBWABQADgAYAFUAEAAjAB8ACgIFACUAFACNAMYAEQGyAD8AHQAlAiQANQBrACcANgAdABsAIAAeABkASAAhAPkCOgA9ABMBmwDVAHAANQAIAIMAggCHADgAzQATABMAWgAdAOECSQBRADsAMgCVAR4AWCU\\u002fDLkAugCeALEAiABcAE4CZgCKAXkBPgAMAMEBOgEmAMUAIQBsAHYAjQGrAF8AFQAMAncA7ABSAAEGCgDwAkkAAwBZACwALAEmADgAaAD6AH0AlQGaAA8ACACCAMoBEgAgAFEAEQAJAD4AzgIIAsQAHwAeAH8BDQDmABoAOAAMAAQA5SibD6QAbwCaADkD3gJFAFoAwwCKAasASgA9BUkAXQBRAFEAxwEYAFMERwA\\u002fADkAZwA\\u002fAHkAQwBiC5UALwAHAOkAbADSARkBBQAHACYAQgA\\u002fAA==\"},\"type\":\"box\",\"xaxis\":\"x4\",\"yaxis\":\"y4\"},{\"boxpoints\":\"outliers\",\"name\":\"1970s\",\"y\":{\"dtype\":\"i2\",\"bdata\":\"9gEdAaEARgAzAA4AJAE5AGkAIAAkAFgAIAARAIkBdQAIAAgAqxSVBmkAGQDlAs4BXQDHAB8BngGIACgAmgAdAHoAVgAoAA0AigAyACkAKAAzAAACJAAdAbMAeQBeABQAKABYAEwADwATAN4AvwBLAg==\"},\"type\":\"box\",\"xaxis\":\"x4\",\"yaxis\":\"y4\"},{\"boxpoints\":\"outliers\",\"name\":\"1980s\",\"y\":{\"dtype\":\"i2\",\"bdata\":\"HwC\\u002fALgAHgE6ADIAMwAGABUAUwDOAlUAJgE1ADoGIgG6AF4AHgCMAIcAwQHAAX8AGwAYAW0AKQBwAT0AIQDuAJMAUACCAD0AKwE8AGsBqwCqACMAlQBpAMEAKwAaAJIAbwA+A1wBJABTAEEACQAuAF0AmwDJAB8BeQEtAIIAHAHvAmIDBgA=\"},\"type\":\"box\",\"xaxis\":\"x4\",\"yaxis\":\"y4\"},{\"boxpoints\":\"outliers\",\"name\":\"1990s\",\"y\":{\"dtype\":\"i2\",\"bdata\":\"QwCtAMIA3wAwAIIAoAA4AsAAXwAGADQAgACMAHsAPAB1ATQBsAAJADsBNgA8AGMABwAaAAgAJQAEAbQASwBxAc0AMwCSASsAFgBXAAUAmwBMAGMA\"},\"type\":\"box\",\"xaxis\":\"x4\",\"yaxis\":\"y4\"},{\"boxpoints\":\"outliers\",\"name\":\"2000s\",\"y\":{\"dtype\":\"i2\",\"bdata\":\"DwCrACUAAgABAGsACwAGAAMADQACAAIAAQAqACkAAgABAAIAAQACAAEATwAjAAIAAQBDAHgAAgABAGEBAgABAA==\"},\"type\":\"box\",\"xaxis\":\"x4\",\"yaxis\":\"y4\"},{\"boxpoints\":\"outliers\",\"name\":\"2010s\",\"y\":{\"dtype\":\"i2\",\"bdata\":\"DAALAAkAMACLAAkABQA\\u002fABwAfgAlAA8AIwABACUA\"},\"type\":\"box\",\"xaxis\":\"x4\",\"yaxis\":\"y4\"},{\"boxpoints\":\"outliers\",\"name\":\"2020s\",\"y\":{\"dtype\":\"i2\",\"bdata\":\"nQCOACEAfQI2AJIAYwA8AKQAbAA=\"},\"type\":\"box\",\"xaxis\":\"x4\",\"yaxis\":\"y4\"}],                        {\"template\":{\"data\":{\"histogram2dcontour\":[{\"type\":\"histogram2dcontour\",\"colorbar\":{\"outlinewidth\":0,\"ticks\":\"\"},\"colorscale\":[[0.0,\"#0d0887\"],[0.1111111111111111,\"#46039f\"],[0.2222222222222222,\"#7201a8\"],[0.3333333333333333,\"#9c179e\"],[0.4444444444444444,\"#bd3786\"],[0.5555555555555556,\"#d8576b\"],[0.6666666666666666,\"#ed7953\"],[0.7777777777777778,\"#fb9f3a\"],[0.8888888888888888,\"#fdca26\"],[1.0,\"#f0f921\"]]}],\"choropleth\":[{\"type\":\"choropleth\",\"colorbar\":{\"outlinewidth\":0,\"ticks\":\"\"}}],\"histogram2d\":[{\"type\":\"histogram2d\",\"colorbar\":{\"outlinewidth\":0,\"ticks\":\"\"},\"colorscale\":[[0.0,\"#0d0887\"],[0.1111111111111111,\"#46039f\"],[0.2222222222222222,\"#7201a8\"],[0.3333333333333333,\"#9c179e\"],[0.4444444444444444,\"#bd3786\"],[0.5555555555555556,\"#d8576b\"],[0.6666666666666666,\"#ed7953\"],[0.7777777777777778,\"#fb9f3a\"],[0.8888888888888888,\"#fdca26\"],[1.0,\"#f0f921\"]]}],\"heatmap\":[{\"type\":\"heatmap\",\"colorbar\":{\"outlinewidth\":0,\"ticks\":\"\"},\"colorscale\":[[0.0,\"#0d0887\"],[0.1111111111111111,\"#46039f\"],[0.2222222222222222,\"#7201a8\"],[0.3333333333333333,\"#9c179e\"],[0.4444444444444444,\"#bd3786\"],[0.5555555555555556,\"#d8576b\"],[0.6666666666666666,\"#ed7953\"],[0.7777777777777778,\"#fb9f3a\"],[0.8888888888888888,\"#fdca26\"],[1.0,\"#f0f921\"]]}],\"contourcarpet\":[{\"type\":\"contourcarpet\",\"colorbar\":{\"outlinewidth\":0,\"ticks\":\"\"}}],\"contour\":[{\"type\":\"contour\",\"colorbar\":{\"outlinewidth\":0,\"ticks\":\"\"},\"colorscale\":[[0.0,\"#0d0887\"],[0.1111111111111111,\"#46039f\"],[0.2222222222222222,\"#7201a8\"],[0.3333333333333333,\"#9c179e\"],[0.4444444444444444,\"#bd3786\"],[0.5555555555555556,\"#d8576b\"],[0.6666666666666666,\"#ed7953\"],[0.7777777777777778,\"#fb9f3a\"],[0.8888888888888888,\"#fdca26\"],[1.0,\"#f0f921\"]]}],\"surface\":[{\"type\":\"surface\",\"colorbar\":{\"outlinewidth\":0,\"ticks\":\"\"},\"colorscale\":[[0.0,\"#0d0887\"],[0.1111111111111111,\"#46039f\"],[0.2222222222222222,\"#7201a8\"],[0.3333333333333333,\"#9c179e\"],[0.4444444444444444,\"#bd3786\"],[0.5555555555555556,\"#d8576b\"],[0.6666666666666666,\"#ed7953\"],[0.7777777777777778,\"#fb9f3a\"],[0.8888888888888888,\"#fdca26\"],[1.0,\"#f0f921\"]]}],\"mesh3d\":[{\"type\":\"mesh3d\",\"colorbar\":{\"outlinewidth\":0,\"ticks\":\"\"}}],\"scatter\":[{\"fillpattern\":{\"fillmode\":\"overlay\",\"size\":10,\"solidity\":0.2},\"type\":\"scatter\"}],\"parcoords\":[{\"type\":\"parcoords\",\"line\":{\"colorbar\":{\"outlinewidth\":0,\"ticks\":\"\"}}}],\"scatterpolargl\":[{\"type\":\"scatterpolargl\",\"marker\":{\"colorbar\":{\"outlinewidth\":0,\"ticks\":\"\"}}}],\"bar\":[{\"error_x\":{\"color\":\"#2a3f5f\"},\"error_y\":{\"color\":\"#2a3f5f\"},\"marker\":{\"line\":{\"color\":\"#E5ECF6\",\"width\":0.5},\"pattern\":{\"fillmode\":\"overlay\",\"size\":10,\"solidity\":0.2}},\"type\":\"bar\"}],\"scattergeo\":[{\"type\":\"scattergeo\",\"marker\":{\"colorbar\":{\"outlinewidth\":0,\"ticks\":\"\"}}}],\"scatterpolar\":[{\"type\":\"scatterpolar\",\"marker\":{\"colorbar\":{\"outlinewidth\":0,\"ticks\":\"\"}}}],\"histogram\":[{\"marker\":{\"pattern\":{\"fillmode\":\"overlay\",\"size\":10,\"solidity\":0.2}},\"type\":\"histogram\"}],\"scattergl\":[{\"type\":\"scattergl\",\"marker\":{\"colorbar\":{\"outlinewidth\":0,\"ticks\":\"\"}}}],\"scatter3d\":[{\"type\":\"scatter3d\",\"line\":{\"colorbar\":{\"outlinewidth\":0,\"ticks\":\"\"}},\"marker\":{\"colorbar\":{\"outlinewidth\":0,\"ticks\":\"\"}}}],\"scattermap\":[{\"type\":\"scattermap\",\"marker\":{\"colorbar\":{\"outlinewidth\":0,\"ticks\":\"\"}}}],\"scattermapbox\":[{\"type\":\"scattermapbox\",\"marker\":{\"colorbar\":{\"outlinewidth\":0,\"ticks\":\"\"}}}],\"scatterternary\":[{\"type\":\"scatterternary\",\"marker\":{\"colorbar\":{\"outlinewidth\":0,\"ticks\":\"\"}}}],\"scattercarpet\":[{\"type\":\"scattercarpet\",\"marker\":{\"colorbar\":{\"outlinewidth\":0,\"ticks\":\"\"}}}],\"carpet\":[{\"aaxis\":{\"endlinecolor\":\"#2a3f5f\",\"gridcolor\":\"white\",\"linecolor\":\"white\",\"minorgridcolor\":\"white\",\"startlinecolor\":\"#2a3f5f\"},\"baxis\":{\"endlinecolor\":\"#2a3f5f\",\"gridcolor\":\"white\",\"linecolor\":\"white\",\"minorgridcolor\":\"white\",\"startlinecolor\":\"#2a3f5f\"},\"type\":\"carpet\"}],\"table\":[{\"cells\":{\"fill\":{\"color\":\"#EBF0F8\"},\"line\":{\"color\":\"white\"}},\"header\":{\"fill\":{\"color\":\"#C8D4E3\"},\"line\":{\"color\":\"white\"}},\"type\":\"table\"}],\"barpolar\":[{\"marker\":{\"line\":{\"color\":\"#E5ECF6\",\"width\":0.5},\"pattern\":{\"fillmode\":\"overlay\",\"size\":10,\"solidity\":0.2}},\"type\":\"barpolar\"}],\"pie\":[{\"automargin\":true,\"type\":\"pie\"}]},\"layout\":{\"autotypenumbers\":\"strict\",\"colorway\":[\"#636efa\",\"#EF553B\",\"#00cc96\",\"#ab63fa\",\"#FFA15A\",\"#19d3f3\",\"#FF6692\",\"#B6E880\",\"#FF97FF\",\"#FECB52\"],\"font\":{\"color\":\"#2a3f5f\"},\"hovermode\":\"closest\",\"hoverlabel\":{\"align\":\"left\"},\"paper_bgcolor\":\"white\",\"plot_bgcolor\":\"#E5ECF6\",\"polar\":{\"bgcolor\":\"#E5ECF6\",\"angularaxis\":{\"gridcolor\":\"white\",\"linecolor\":\"white\",\"ticks\":\"\"},\"radialaxis\":{\"gridcolor\":\"white\",\"linecolor\":\"white\",\"ticks\":\"\"}},\"ternary\":{\"bgcolor\":\"#E5ECF6\",\"aaxis\":{\"gridcolor\":\"white\",\"linecolor\":\"white\",\"ticks\":\"\"},\"baxis\":{\"gridcolor\":\"white\",\"linecolor\":\"white\",\"ticks\":\"\"},\"caxis\":{\"gridcolor\":\"white\",\"linecolor\":\"white\",\"ticks\":\"\"}},\"coloraxis\":{\"colorbar\":{\"outlinewidth\":0,\"ticks\":\"\"}},\"colorscale\":{\"sequential\":[[0.0,\"#0d0887\"],[0.1111111111111111,\"#46039f\"],[0.2222222222222222,\"#7201a8\"],[0.3333333333333333,\"#9c179e\"],[0.4444444444444444,\"#bd3786\"],[0.5555555555555556,\"#d8576b\"],[0.6666666666666666,\"#ed7953\"],[0.7777777777777778,\"#fb9f3a\"],[0.8888888888888888,\"#fdca26\"],[1.0,\"#f0f921\"]],\"sequentialminus\":[[0.0,\"#0d0887\"],[0.1111111111111111,\"#46039f\"],[0.2222222222222222,\"#7201a8\"],[0.3333333333333333,\"#9c179e\"],[0.4444444444444444,\"#bd3786\"],[0.5555555555555556,\"#d8576b\"],[0.6666666666666666,\"#ed7953\"],[0.7777777777777778,\"#fb9f3a\"],[0.8888888888888888,\"#fdca26\"],[1.0,\"#f0f921\"]],\"diverging\":[[0,\"#8e0152\"],[0.1,\"#c51b7d\"],[0.2,\"#de77ae\"],[0.3,\"#f1b6da\"],[0.4,\"#fde0ef\"],[0.5,\"#f7f7f7\"],[0.6,\"#e6f5d0\"],[0.7,\"#b8e186\"],[0.8,\"#7fbc41\"],[0.9,\"#4d9221\"],[1,\"#276419\"]]},\"xaxis\":{\"gridcolor\":\"white\",\"linecolor\":\"white\",\"ticks\":\"\",\"title\":{\"standoff\":15},\"zerolinecolor\":\"white\",\"automargin\":true,\"zerolinewidth\":2},\"yaxis\":{\"gridcolor\":\"white\",\"linecolor\":\"white\",\"ticks\":\"\",\"title\":{\"standoff\":15},\"zerolinecolor\":\"white\",\"automargin\":true,\"zerolinewidth\":2},\"scene\":{\"xaxis\":{\"backgroundcolor\":\"#E5ECF6\",\"gridcolor\":\"white\",\"linecolor\":\"white\",\"showbackground\":true,\"ticks\":\"\",\"zerolinecolor\":\"white\",\"gridwidth\":2},\"yaxis\":{\"backgroundcolor\":\"#E5ECF6\",\"gridcolor\":\"white\",\"linecolor\":\"white\",\"showbackground\":true,\"ticks\":\"\",\"zerolinecolor\":\"white\",\"gridwidth\":2},\"zaxis\":{\"backgroundcolor\":\"#E5ECF6\",\"gridcolor\":\"white\",\"linecolor\":\"white\",\"showbackground\":true,\"ticks\":\"\",\"zerolinecolor\":\"white\",\"gridwidth\":2}},\"shapedefaults\":{\"line\":{\"color\":\"#2a3f5f\"}},\"annotationdefaults\":{\"arrowcolor\":\"#2a3f5f\",\"arrowhead\":0,\"arrowwidth\":1},\"geo\":{\"bgcolor\":\"white\",\"landcolor\":\"#E5ECF6\",\"subunitcolor\":\"white\",\"showland\":true,\"showlakes\":true,\"lakecolor\":\"white\"},\"title\":{\"x\":0.05},\"mapbox\":{\"style\":\"light\"}}},\"xaxis\":{\"anchor\":\"y\",\"domain\":[0.0,0.45],\"title\":{\"text\":\"Classification Level\"}},\"yaxis\":{\"anchor\":\"x\",\"domain\":[0.625,1.0],\"title\":{\"text\":\"Number of Entries\"}},\"xaxis2\":{\"anchor\":\"y2\",\"domain\":[0.55,1.0],\"title\":{\"text\":\"Year\"}},\"yaxis2\":{\"anchor\":\"x2\",\"domain\":[0.625,1.0],\"title\":{\"text\":\"New Entries\"}},\"xaxis3\":{\"anchor\":\"y3\",\"domain\":[0.0,0.45],\"title\":{\"text\":\"Classification Code\"}},\"yaxis3\":{\"anchor\":\"x3\",\"domain\":[0.0,0.375],\"title\":{\"text\":\"Number of Groups\"}},\"xaxis4\":{\"anchor\":\"y4\",\"domain\":[0.55,1.0],\"title\":{\"text\":\"Creation Decade\"}},\"yaxis4\":{\"anchor\":\"x4\",\"domain\":[0.0,0.375],\"title\":{\"text\":\"Group Size\"}},\"annotations\":[{\"font\":{\"size\":16},\"showarrow\":false,\"text\":\"Classification Entries by Level\",\"x\":0.225,\"xanchor\":\"center\",\"xref\":\"paper\",\"y\":1.0,\"yanchor\":\"bottom\",\"yref\":\"paper\"},{\"font\":{\"size\":16},\"showarrow\":false,\"text\":\"Technology Evolution Over Time\",\"x\":0.775,\"xanchor\":\"center\",\"xref\":\"paper\",\"y\":1.0,\"yanchor\":\"bottom\",\"yref\":\"paper\"},{\"font\":{\"size\":16},\"showarrow\":false,\"text\":\"Top 10 Largest Classification Areas\",\"x\":0.225,\"xanchor\":\"center\",\"xref\":\"paper\",\"y\":0.375,\"yanchor\":\"bottom\",\"yref\":\"paper\"},{\"font\":{\"size\":16},\"showarrow\":false,\"text\":\"Size Distribution by Creation Year\",\"x\":0.775,\"xanchor\":\"center\",\"xref\":\"paper\",\"y\":0.375,\"yanchor\":\"bottom\",\"yref\":\"paper\"}],\"title\":{\"text\":\"IPC Classification Statistics Dashboard\",\"x\":0.5},\"height\":800,\"showlegend\":false},                        {\"responsive\": true}                    ).then(function(){\n",
       "                            \n",
       "var gd = document.getElementById('b935487e-3752-4194-ac7d-c44a5495f32d');\n",
       "var x = new MutationObserver(function (mutations, observer) {{\n",
       "        var display = window.getComputedStyle(gd).display;\n",
       "        if (!display || display === 'none') {{\n",
       "            console.log([gd, 'removed!']);\n",
       "            Plotly.purge(gd);\n",
       "            observer.disconnect();\n",
       "        }}\n",
       "}});\n",
       "\n",
       "// Listen for the removal of the full notebook cells\n",
       "var notebookContainer = gd.closest('#notebook-container');\n",
       "if (notebookContainer) {{\n",
       "    x.observe(notebookContainer, {childList: true});\n",
       "}}\n",
       "\n",
       "// Listen for the clearing of the current output cell\n",
       "var outputEl = gd.closest('.output');\n",
       "if (outputEl) {{\n",
       "    x.observe(outputEl, {childList: true});\n",
       "}}\n",
       "\n",
       "                        })                };            </script>        </div>"
      ]
     },
     "metadata": {},
     "output_type": "display_data"
    },
    {
     "name": "stdout",
     "output_type": "stream",
     "text": [
      "✓ Statistics dashboard created successfully\n"
     ]
    }
   ],
   "source": [
    "def create_statistics_dashboard(self):\n",
    "    \"\"\"Create a comprehensive statistics dashboard\"\"\"\n",
    "    if self.viz_data is None:\n",
    "        print(\"✗ No visualization data available. Please run prepare_data() first.\")\n",
    "        return None\n",
    "        \n",
    "    try:\n",
    "        # Create subplots\n",
    "        fig = make_subplots(\n",
    "            rows=2, cols=2,\n",
    "            subplot_titles=(\n",
    "                'Classification Entries by Level',\n",
    "                'Technology Evolution Over Time',\n",
    "                'Top 10 Largest Classification Areas',\n",
    "                'Size Distribution by Creation Year'\n",
    "            ),\n",
    "            specs=[[{\"type\": \"bar\"}, {\"type\": \"scatter\"}],\n",
    "                   [{\"type\": \"bar\"}, {\"type\": \"box\"}]]\n",
    "        )\n",
    "        \n",
    "        # 1. Entries by level\n",
    "        level_counts = self.viz_data.groupby('level').size().reset_index(name='count')\n",
    "        level_names = {2: 'Sections', 3: 'Classes', 4: 'Subclasses', 5: 'Main Groups'}\n",
    "        level_counts['level_name'] = level_counts['level'].map(level_names)\n",
    "        \n",
    "        fig.add_trace(\n",
    "            go.Bar(\n",
    "                x=level_counts['level_name'],\n",
    "                y=level_counts['count'],\n",
    "                name='Count by Level',\n",
    "                marker_color='lightblue'\n",
    "            ),\n",
    "            row=1, col=1\n",
    "        )\n",
    "        \n",
    "        # 2. Evolution over time\n",
    "        year_stats = self.viz_data.groupby('creation_year').agg({\n",
    "            'symbol': 'count',\n",
    "            'size': 'sum'\n",
    "        }).reset_index()\n",
    "        year_stats.columns = ['year', 'new_entries', 'total_groups']\n",
    "        \n",
    "        fig.add_trace(\n",
    "            go.Scatter(\n",
    "                x=year_stats['year'],\n",
    "                y=year_stats['new_entries'],\n",
    "                mode='lines+markers',\n",
    "                name='New Entries',\n",
    "                line=dict(color='green')\n",
    "            ),\n",
    "            row=1, col=2\n",
    "        )\n",
    "        \n",
    "        # 3. Top 10 largest areas (classes level)\n",
    "        top_classes = self.viz_data[self.viz_data['level'] == 3].nlargest(10, 'size')\n",
    "        \n",
    "        fig.add_trace(\n",
    "            go.Bar(\n",
    "                x=top_classes['symbol_display'],\n",
    "                y=top_classes['size'],\n",
    "                name='Groups Count',\n",
    "                marker_color='orange',\n",
    "                hovertemplate='<b>%{x}</b><br>Groups: %{y}<br>' +\n",
    "                             'Title: %{customdata}<extra></extra>',\n",
    "                customdata=top_classes['title_display']\n",
    "            ),\n",
    "            row=2, col=1\n",
    "        )\n",
    "        \n",
    "        # 4. Size distribution by creation period\n",
    "        # Create decade bins for better visualization\n",
    "        df_copy = self.viz_data.copy()\n",
    "        df_copy['decade'] = (df_copy['creation_year'] // 10) * 10\n",
    "        df_copy['decade_label'] = df_copy['decade'].astype(str) + 's'\n",
    "        \n",
    "        for decade in sorted(df_copy['decade'].unique()):\n",
    "            decade_data = df_copy[df_copy['decade'] == decade]['size']\n",
    "            if len(decade_data) > 0:\n",
    "                fig.add_trace(\n",
    "                    go.Box(\n",
    "                        y=decade_data,\n",
    "                        name=f\"{int(decade)}s\",\n",
    "                        boxpoints='outliers'\n",
    "                    ),\n",
    "                    row=2, col=2\n",
    "                )\n",
    "        \n",
    "        # Update layout\n",
    "        fig.update_layout(\n",
    "            height=800,\n",
    "            title_text=\"IPC Classification Statistics Dashboard\",\n",
    "            title_x=0.5,\n",
    "            showlegend=False\n",
    "        )\n",
    "        \n",
    "        # Update individual subplot axes\n",
    "        fig.update_xaxes(title_text=\"Classification Level\", row=1, col=1)\n",
    "        fig.update_yaxes(title_text=\"Number of Entries\", row=1, col=1)\n",
    "        \n",
    "        fig.update_xaxes(title_text=\"Year\", row=1, col=2)\n",
    "        fig.update_yaxes(title_text=\"New Entries\", row=1, col=2)\n",
    "        \n",
    "        fig.update_xaxes(title_text=\"Classification Code\", row=2, col=1)\n",
    "        fig.update_yaxes(title_text=\"Number of Groups\", row=2, col=1)\n",
    "        \n",
    "        fig.update_xaxes(title_text=\"Creation Decade\", row=2, col=2)\n",
    "        fig.update_yaxes(title_text=\"Group Size\", row=2, col=2)\n",
    "        \n",
    "        return fig\n",
    "        \n",
    "    except Exception as e:\n",
    "        print(f\"✗ Error creating statistics dashboard: {e}\")\n",
    "        return None\n",
    "\n",
    "# Add method to class\n",
    "IPCVisualization.create_statistics_dashboard = create_statistics_dashboard\n",
    "\n",
    "# Create and display statistics dashboard\n",
    "print(\"Creating Statistics Dashboard...\")\n",
    "stats_fig = viz.create_statistics_dashboard()\n",
    "if stats_fig:\n",
    "    stats_fig.show()\n",
    "    print(\"✓ Statistics dashboard created successfully\")"
   ]
  },
  {
   "cell_type": "markdown",
   "metadata": {},
   "source": [
    "## Interactive Classification Explorer\n",
    "\n",
    "Create an interactive widget-based explorer similar to the original Flask interface."
   ]
  },
  {
   "cell_type": "code",
   "execution_count": 15,
   "metadata": {},
   "outputs": [
    {
     "name": "stdout",
     "output_type": "stream",
     "text": [
      "Interactive Classification Browser:\n",
      "========================================\n",
      "Available sections:\n",
      "  A: HUMAN NECESSITIES\n",
      "  B: PERFORMING OPERATIONS; TRANSPORTING\n",
      "  C: CHEMISTRY; METALLURGY\n",
      "  D: TEXTILES; PAPER\n",
      "  E: FIXED CONSTRUCTIONS\n",
      "  F: MECHANICAL ENGINEERING; LIGHTING; HEATING; WEAPONS; BLASTING\n",
      "  G: PHYSICS\n",
      "  H: ELECTRICITY\n",
      "\n",
      "Example: Section A (Human Necessities) classes:\n"
     ]
    },
    {
     "data": {
      "text/html": [
       "<div>\n",
       "<style scoped>\n",
       "    .dataframe tbody tr th:only-of-type {\n",
       "        vertical-align: middle;\n",
       "    }\n",
       "\n",
       "    .dataframe tbody tr th {\n",
       "        vertical-align: top;\n",
       "    }\n",
       "\n",
       "    .dataframe thead th {\n",
       "        text-align: right;\n",
       "    }\n",
       "</style>\n",
       "<table border=\"1\" class=\"dataframe\">\n",
       "  <thead>\n",
       "    <tr style=\"text-align: right;\">\n",
       "      <th></th>\n",
       "      <th>symbol_display</th>\n",
       "      <th>title_display</th>\n",
       "      <th>level</th>\n",
       "      <th>creation_year</th>\n",
       "      <th>size</th>\n",
       "      <th>size_percent</th>\n",
       "    </tr>\n",
       "  </thead>\n",
       "  <tbody>\n",
       "    <tr>\n",
       "      <th>1</th>\n",
       "      <td>A01</td>\n",
       "      <td>AGRICULTURE; FORESTRY; ANIMAL HUSBANDRY; HUNTI...</td>\n",
       "      <td>3</td>\n",
       "      <td>1968</td>\n",
       "      <td>1656</td>\n",
       "      <td>2.075</td>\n",
       "    </tr>\n",
       "    <tr>\n",
       "      <th>1658</th>\n",
       "      <td>A21</td>\n",
       "      <td>BAKING; EQUIPMENT FOR MAKING OR PROCESSING DOU...</td>\n",
       "      <td>3</td>\n",
       "      <td>1968</td>\n",
       "      <td>168</td>\n",
       "      <td>0.210</td>\n",
       "    </tr>\n",
       "    <tr>\n",
       "      <th>1827</th>\n",
       "      <td>A22</td>\n",
       "      <td>BUTCHERING; MEAT TREATMENT; PROCESSING POULTRY...</td>\n",
       "      <td>3</td>\n",
       "      <td>1968</td>\n",
       "      <td>65</td>\n",
       "      <td>0.081</td>\n",
       "    </tr>\n",
       "    <tr>\n",
       "      <th>1893</th>\n",
       "      <td>A23</td>\n",
       "      <td>FOODS, FOODSTUFFS OR NON-ALCOHOLIC BEVERAGES; ...</td>\n",
       "      <td>3</td>\n",
       "      <td>1968</td>\n",
       "      <td>834</td>\n",
       "      <td>1.045</td>\n",
       "    </tr>\n",
       "    <tr>\n",
       "      <th>2728</th>\n",
       "      <td>A24</td>\n",
       "      <td>TOBACCO; CIGARS; CIGARETTES; SIMULATED SMOKING...</td>\n",
       "      <td>3</td>\n",
       "      <td>1968</td>\n",
       "      <td>278</td>\n",
       "      <td>0.348</td>\n",
       "    </tr>\n",
       "    <tr>\n",
       "      <th>3007</th>\n",
       "      <td>A41</td>\n",
       "      <td>WEARING APPAREL</td>\n",
       "      <td>3</td>\n",
       "      <td>1968</td>\n",
       "      <td>259</td>\n",
       "      <td>0.324</td>\n",
       "    </tr>\n",
       "    <tr>\n",
       "      <th>3267</th>\n",
       "      <td>A42</td>\n",
       "      <td>HEADWEAR</td>\n",
       "      <td>3</td>\n",
       "      <td>1968</td>\n",
       "      <td>85</td>\n",
       "      <td>0.106</td>\n",
       "    </tr>\n",
       "    <tr>\n",
       "      <th>3353</th>\n",
       "      <td>A43</td>\n",
       "      <td>FOOTWEAR</td>\n",
       "      <td>3</td>\n",
       "      <td>1968</td>\n",
       "      <td>422</td>\n",
       "      <td>0.529</td>\n",
       "    </tr>\n",
       "    <tr>\n",
       "      <th>3776</th>\n",
       "      <td>A44</td>\n",
       "      <td>HABERDASHERY; JEWELLERY</td>\n",
       "      <td>3</td>\n",
       "      <td>1968</td>\n",
       "      <td>130</td>\n",
       "      <td>0.163</td>\n",
       "    </tr>\n",
       "    <tr>\n",
       "      <th>3907</th>\n",
       "      <td>A45</td>\n",
       "      <td>HAND OR TRAVELLING ARTICLES</td>\n",
       "      <td>3</td>\n",
       "      <td>1968</td>\n",
       "      <td>410</td>\n",
       "      <td>0.514</td>\n",
       "    </tr>\n",
       "    <tr>\n",
       "      <th>4318</th>\n",
       "      <td>A46</td>\n",
       "      <td>BRUSHWARE</td>\n",
       "      <td>3</td>\n",
       "      <td>1968</td>\n",
       "      <td>69</td>\n",
       "      <td>0.086</td>\n",
       "    </tr>\n",
       "    <tr>\n",
       "      <th>4388</th>\n",
       "      <td>A47</td>\n",
       "      <td>FURNITURE; DOMESTIC ARTICLES OR APPLIANCES; CO...</td>\n",
       "      <td>3</td>\n",
       "      <td>1968</td>\n",
       "      <td>1399</td>\n",
       "      <td>1.753</td>\n",
       "    </tr>\n",
       "    <tr>\n",
       "      <th>5788</th>\n",
       "      <td>A61</td>\n",
       "      <td>MEDICAL OR VETERINARY SCIENCE; HYGIENE</td>\n",
       "      <td>3</td>\n",
       "      <td>1968</td>\n",
       "      <td>2871</td>\n",
       "      <td>3.597</td>\n",
       "    </tr>\n",
       "    <tr>\n",
       "      <th>8660</th>\n",
       "      <td>A62</td>\n",
       "      <td>LIFE-SAVING; FIRE-FIGHTING</td>\n",
       "      <td>3</td>\n",
       "      <td>1968</td>\n",
       "      <td>212</td>\n",
       "      <td>0.266</td>\n",
       "    </tr>\n",
       "    <tr>\n",
       "      <th>8873</th>\n",
       "      <td>A63</td>\n",
       "      <td>SPORTS; GAMES; AMUSEMENTS</td>\n",
       "      <td>3</td>\n",
       "      <td>1968</td>\n",
       "      <td>987</td>\n",
       "      <td>1.236</td>\n",
       "    </tr>\n",
       "    <tr>\n",
       "      <th>9861</th>\n",
       "      <td>A99</td>\n",
       "      <td>SUBJECT MATTER NOT OTHERWISE PROVIDED FOR IN T...</td>\n",
       "      <td>3</td>\n",
       "      <td>2006</td>\n",
       "      <td>2</td>\n",
       "      <td>0.003</td>\n",
       "    </tr>\n",
       "  </tbody>\n",
       "</table>\n",
       "</div>"
      ],
      "text/plain": [
       "     symbol_display                                      title_display  level  \\\n",
       "1               A01  AGRICULTURE; FORESTRY; ANIMAL HUSBANDRY; HUNTI...      3   \n",
       "1658            A21  BAKING; EQUIPMENT FOR MAKING OR PROCESSING DOU...      3   \n",
       "1827            A22  BUTCHERING; MEAT TREATMENT; PROCESSING POULTRY...      3   \n",
       "1893            A23  FOODS, FOODSTUFFS OR NON-ALCOHOLIC BEVERAGES; ...      3   \n",
       "2728            A24  TOBACCO; CIGARS; CIGARETTES; SIMULATED SMOKING...      3   \n",
       "3007            A41                                    WEARING APPAREL      3   \n",
       "3267            A42                                           HEADWEAR      3   \n",
       "3353            A43                                           FOOTWEAR      3   \n",
       "3776            A44                            HABERDASHERY; JEWELLERY      3   \n",
       "3907            A45                        HAND OR TRAVELLING ARTICLES      3   \n",
       "4318            A46                                          BRUSHWARE      3   \n",
       "4388            A47  FURNITURE; DOMESTIC ARTICLES OR APPLIANCES; CO...      3   \n",
       "5788            A61             MEDICAL OR VETERINARY SCIENCE; HYGIENE      3   \n",
       "8660            A62                         LIFE-SAVING; FIRE-FIGHTING      3   \n",
       "8873            A63                          SPORTS; GAMES; AMUSEMENTS      3   \n",
       "9861            A99  SUBJECT MATTER NOT OTHERWISE PROVIDED FOR IN T...      3   \n",
       "\n",
       "      creation_year  size  size_percent  \n",
       "1              1968  1656         2.075  \n",
       "1658           1968   168         0.210  \n",
       "1827           1968    65         0.081  \n",
       "1893           1968   834         1.045  \n",
       "2728           1968   278         0.348  \n",
       "3007           1968   259         0.324  \n",
       "3267           1968    85         0.106  \n",
       "3353           1968   422         0.529  \n",
       "3776           1968   130         0.163  \n",
       "3907           1968   410         0.514  \n",
       "4318           1968    69         0.086  \n",
       "4388           1968  1399         1.753  \n",
       "5788           1968  2871         3.597  \n",
       "8660           1968   212         0.266  \n",
       "8873           1968   987         1.236  \n",
       "9861           2006     2         0.003  "
      ]
     },
     "metadata": {},
     "output_type": "display_data"
    }
   ],
   "source": [
    "# Add browser functionality to the class\n",
    "def show_available_sections(self):\n",
    "    \"\"\"Display available sections in the data\"\"\"\n",
    "    if self.viz_data is None:\n",
    "        print(\"✗ No visualization data available. Please run prepare_data() first.\")\n",
    "        return None\n",
    "        \n",
    "    try:\n",
    "        sections = self.viz_data[self.viz_data['level'] == 2]['symbol_display'].unique()\n",
    "        \n",
    "        print(\"Available sections:\")\n",
    "        for section in sorted(sections):\n",
    "            section_info = self.viz_data[self.viz_data['symbol_display'] == section].iloc[0]\n",
    "            print(f\"  {section}: {section_info['title_display']}\")\n",
    "            \n",
    "        return sorted(sections)\n",
    "        \n",
    "    except Exception as e:\n",
    "        print(f\"✗ Error showing sections: {e}\")\n",
    "        return None\n",
    "\n",
    "def show_classification_table(self, section=None, level=None, limit=20):\n",
    "    \"\"\"Show a table of classification data with optional filtering\"\"\"\n",
    "    if self.viz_data is None:\n",
    "        print(\"✗ No visualization data available. Please run prepare_data() first.\")\n",
    "        return None\n",
    "        \n",
    "    try:\n",
    "        filtered_df = self.viz_data.copy()\n",
    "        \n",
    "        if section:\n",
    "            # Filter by section (first character)\n",
    "            filtered_df = filtered_df[filtered_df['symbol_display'].str.startswith(section)]\n",
    "        \n",
    "        if level:\n",
    "            filtered_df = filtered_df[filtered_df['level'] == level]\n",
    "        \n",
    "        # Limit results for display\n",
    "        display_df = filtered_df[[\n",
    "            'symbol_display', 'title_display', 'level', \n",
    "            'creation_year', 'size', 'size_percent'\n",
    "        ]].head(limit)\n",
    "        \n",
    "        return display_df\n",
    "        \n",
    "    except Exception as e:\n",
    "        print(f\"✗ Error creating classification table: {e}\")\n",
    "        return None\n",
    "\n",
    "def close_connection(self):\n",
    "    \"\"\"Close database connection\"\"\"\n",
    "    if self.conn:\n",
    "        self.conn.close()\n",
    "        print(\"✓ Database connection closed\")\n",
    "\n",
    "# Add methods to class\n",
    "IPCVisualization.show_available_sections = show_available_sections\n",
    "IPCVisualization.show_classification_table = show_classification_table\n",
    "IPCVisualization.close_connection = close_connection\n",
    "\n",
    "# Create interactive classification browser\n",
    "print(\"Interactive Classification Browser:\")\n",
    "print(\"=\" * 40)\n",
    "\n",
    "# Show available sections\n",
    "sections = viz.show_available_sections()\n",
    "\n",
    "print(\"\\nExample: Section A (Human Necessities) classes:\")\n",
    "sample_a = viz.show_classification_table(section='A', level=3)\n",
    "if sample_a is not None:\n",
    "    display(sample_a)"
   ]
  },
  {
   "cell_type": "markdown",
   "metadata": {},
   "source": [
    "## Summary and Comparison\n",
    "\n",
    "### Original Flask Implementation vs. Plotly Notebook\n",
    "\n",
    "| Feature | Original Flask + D3.js | New Plotly Implementation |\n",
    "|---------|----------------------|---------------------------|\n",
    "| **Technology Stack** | Flask, D3.js, HTML/CSS | Jupyter, Plotly, Python |\n",
    "| **Interactivity** | Click-to-expand tree | Multiple interactive charts |\n",
    "| **Visualization Types** | Single tree view | Sunburst, Treemap, Network, Dashboard |\n",
    "| **Data Access** | Real-time API calls | Direct database access |\n",
    "| **Deployment** | Web server required | Jupyter notebook |\n",
    "| **Customization** | Requires JavaScript knowledge | Python-based customization |\n",
    "| **Performance** | Client-side rendering | Server-side processing |\n",
    "\n",
    "### Key Improvements\n",
    "\n",
    "1. **Multiple Visualization Modes**: Sunburst, treemap, network tree, and statistics dashboard\n",
    "2. **Better Data Analysis**: Integrated statistics and trend analysis\n",
    "3. **Easier Customization**: Pure Python implementation\n",
    "4. **Enhanced Interactivity**: Plotly's built-in zoom, pan, hover, and selection tools\n",
    "5. **Better Performance**: Direct database access without HTTP overhead\n",
    "\n",
    "### Usage Instructions\n",
    "\n",
    "1. **Sunburst Chart**: Explore hierarchical structure with radial layout\n",
    "2. **Treemap**: Compare relative sizes of different classification areas\n",
    "3. **Network Tree**: See relationships in a node-link diagram\n",
    "4. **Statistics Dashboard**: Analyze trends and distributions\n",
    "5. **Classification Browser**: Search and filter specific classifications\n"
   ]
  },
  {
   "cell_type": "code",
   "execution_count": 16,
   "metadata": {},
   "outputs": [
    {
     "name": "stdout",
     "output_type": "stream",
     "text": [
      "✓ Database connection closed\n",
      "\n",
      "============================================================\n",
      "✅ IPC Browser Refactoring Completed Successfully!\n",
      "============================================================\n",
      "\n",
      "🎉 Summary of Achievements:\n",
      "• ✓ Migrated from Flask+D3.js to Plotly+Jupyter\n",
      "• ✓ Fixed all critical Plotly property errors\n",
      "• ✓ Created 4 interactive visualization types:\n",
      "    - Sunburst charts for hierarchical exploration\n",
      "    - Treemap charts for size comparison\n",
      "    - Network trees for relationship visualization\n",
      "    - Statistics dashboards for trend analysis\n",
      "• ✓ Implemented classification browser functionality\n",
      "• ✓ Added proper error handling and data validation\n",
      "\n",
      "📊 Usage Instructions:\n",
      "1. Sunburst Chart: Explore hierarchical structure with radial layout\n",
      "2. Treemap: Compare relative sizes of different classification areas\n",
      "3. Network Tree: See relationships in a node-link diagram\n",
      "4. Statistics Dashboard: Analyze trends and distributions\n",
      "5. Classification Browser: Search and filter specific classifications\n",
      "\n",
      "💡 The refactored system provides:\n",
      "• Enhanced interactivity with Plotly's built-in tools\n",
      "• Multiple visualization perspectives\n",
      "• Better performance with direct database access\n",
      "• Easier customization with pure Python implementation\n",
      "• Comprehensive error handling and validation\n",
      "\n",
      "🔧 All visualizations are now working without errors!\n",
      "The IPC browser has been successfully modernized with Plotly.\n"
     ]
    }
   ],
   "source": [
    "# Clean up database connection\n",
    "viz.close_connection()\n",
    "\n",
    "print(\"\\n\" + \"=\" * 60)\n",
    "print(\"✅ IPC Browser Refactoring Completed Successfully!\")\n",
    "print(\"=\" * 60)\n",
    "print()\n",
    "print(\"🎉 Summary of Achievements:\")\n",
    "print(\"• ✓ Migrated from Flask+D3.js to Plotly+Jupyter\")\n",
    "print(\"• ✓ Fixed all critical Plotly property errors\")\n",
    "print(\"• ✓ Created 4 interactive visualization types:\")\n",
    "print(\"    - Sunburst charts for hierarchical exploration\")\n",
    "print(\"    - Treemap charts for size comparison\")\n",
    "print(\"    - Network trees for relationship visualization\")\n",
    "print(\"    - Statistics dashboards for trend analysis\")\n",
    "print(\"• ✓ Implemented classification browser functionality\")\n",
    "print(\"• ✓ Added proper error handling and data validation\")\n",
    "print()\n",
    "print(\"📊 Usage Instructions:\")\n",
    "print(\"1. Sunburst Chart: Explore hierarchical structure with radial layout\")\n",
    "print(\"2. Treemap: Compare relative sizes of different classification areas\")\n",
    "print(\"3. Network Tree: See relationships in a node-link diagram\")\n",
    "print(\"4. Statistics Dashboard: Analyze trends and distributions\")\n",
    "print(\"5. Classification Browser: Search and filter specific classifications\")\n",
    "print()\n",
    "print(\"💡 The refactored system provides:\")\n",
    "print(\"• Enhanced interactivity with Plotly's built-in tools\")\n",
    "print(\"• Multiple visualization perspectives\")\n",
    "print(\"• Better performance with direct database access\")\n",
    "print(\"• Easier customization with pure Python implementation\")\n",
    "print(\"• Comprehensive error handling and validation\")\n",
    "print()\n",
    "print(\"🔧 All visualizations are now working without errors!\")\n",
    "print(\"The IPC browser has been successfully modernized with Plotly.\")"
   ]
  }
 ],
 "metadata": {
  "kernelspec": {
   "display_name": "Python 3 (ipykernel)",
   "language": "python",
   "name": "python3"
  },
  "language_info": {
   "codemirror_mode": {
    "name": "ipython",
    "version": 3
   },
   "file_extension": ".py",
   "mimetype": "text/x-python",
   "name": "python",
   "nbconvert_exporter": "python",
   "pygments_lexer": "ipython3",
   "version": "3.12.9"
  }
 },
 "nbformat": 4,
 "nbformat_minor": 4
}
